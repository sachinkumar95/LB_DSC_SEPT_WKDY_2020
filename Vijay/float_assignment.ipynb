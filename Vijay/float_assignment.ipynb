{
  "nbformat": 4,
  "nbformat_minor": 0,
  "metadata": {
    "colab": {
      "name": "float_assignment.ipynb",
      "provenance": []
    },
    "kernelspec": {
      "name": "python3",
      "display_name": "Python 3"
    }
  },
  "cells": [
    {
      "cell_type": "code",
      "metadata": {
        "id": "dlrMB-Qy2taV",
        "colab_type": "code",
        "colab": {
          "base_uri": "https://localhost:8080/",
          "height": 34
        },
        "outputId": "bb52f625-ac58-415d-bbae-a3463a8004fa"
      },
      "source": [
        "#Declare a float value and store it in a variable. \n",
        "\n",
        "\n",
        "\n",
        "\n",
        "\n",
        "#Check the type and print the id of the same.\n",
        "\n",
        "\n",
        "a = 10.0\n",
        "print(a, type(a), id(a))"
      ],
      "execution_count": 2,
      "outputs": [
        {
          "output_type": "stream",
          "text": [
            "10.0 <class 'float'> 139807274115288\n"
          ],
          "name": "stdout"
        }
      ]
    },
    {
      "cell_type": "code",
      "metadata": {
        "id": "IL4fVDHg2wbI",
        "colab_type": "code",
        "colab": {}
      },
      "source": [
        "#Arithmatic Operations on float\n",
        "#Take two different float values.\n",
        "#Store them in two different variables.\n",
        "\n",
        "#Do below operations on them:-\n",
        "    #Find sum of both numbers\n",
        "\n",
        "    #Find differce between them\n",
        "    #Find the product of both numbers.\n",
        "\n",
        "    #Find value after dividing first num with second number\n",
        "\n",
        "    #Find the remainder after dividing first number with second number\n",
        "\n",
        "    #Find the quotient after dividing first number with second number\n",
        "\n",
        "    #Find the result of first num to the power of second number."
      ],
      "execution_count": null,
      "outputs": []
    },
    {
      "cell_type": "code",
      "metadata": {
        "id": "DJZj4QgGn_J_",
        "colab_type": "code",
        "colab": {
          "base_uri": "https://localhost:8080/",
          "height": 136
        },
        "outputId": "d719bf0b-48bb-47a0-fca4-769a9557704b"
      },
      "source": [
        "a = 100.4\n",
        "b = 2.5\n",
        "print('The sum of two numbers is ', a + b)\n",
        "print('The difference of two numbers is ', a - b)\n",
        "print('The product of two numbers is ', a * b)\n",
        "print('The division of two numbers is ', a / b)\n",
        "print('The remainder after dividing two numbers is ', a % b)\n",
        "print('The quotient after dividing 1st num with 2nd num is ', a // b)\n",
        "print('The result of 1st to the power of 2nd num is ', a ** b)"
      ],
      "execution_count": 3,
      "outputs": [
        {
          "output_type": "stream",
          "text": [
            "The sum of two numbers is  102.9\n",
            "The difference of two numbers is  97.9\n",
            "The product of two numbers is  251.0\n",
            "The division of two numbers is  40.160000000000004\n",
            "The remainder after dividing two numbers is  0.4000000000000057\n",
            "The quotient after dividing 1st num with 2nd num is  40.0\n",
            "The result of 1st to the power of 2nd num is  101003.00199900121\n"
          ],
          "name": "stdout"
        }
      ]
    },
    {
      "cell_type": "code",
      "metadata": {
        "id": "atCFaH6c2492",
        "colab_type": "code",
        "colab": {
          "base_uri": "https://localhost:8080/",
          "height": 85
        },
        "outputId": "1dff245b-ea36-4285-8f7c-5eb3e126fa59"
      },
      "source": [
        "#Comparison Operators on float\n",
        "#Take two different float values.\n",
        "#Store them in two different variables.\n",
        "\n",
        "#Do below operations on them:-\n",
        "    #Compare these two numbers with below operator:-\n",
        "        #Greater than, '>'\n",
        "\n",
        "        #Smaller than, '<'\n",
        "\n",
        "        #Greater than or equal to, '>='\n",
        "\n",
        "        #Less than or equal to, '<='\n",
        "\n",
        "#Observe their output(return type should be boolean)\n",
        "\n",
        "r = 30.3\n",
        "v = 3.30\n",
        "print(r > v)\n",
        "print(r < v)\n",
        "print(r >= v)\n",
        "print(r <= v)\n",
        "\n",
        "\n"
      ],
      "execution_count": 4,
      "outputs": [
        {
          "output_type": "stream",
          "text": [
            "True\n",
            "False\n",
            "True\n",
            "False\n"
          ],
          "name": "stdout"
        }
      ]
    },
    {
      "cell_type": "code",
      "metadata": {
        "id": "agi3U3863A5i",
        "colab_type": "code",
        "colab": {
          "base_uri": "https://localhost:8080/",
          "height": 51
        },
        "outputId": "0cb1973e-789f-4b13-fda8-5e3821cddb86"
      },
      "source": [
        "#Equality Operator\n",
        "#Take two different float values.\n",
        "#Store them in two different variables.\n",
        "\n",
        "#Equuate them using equality operator (==, !=)\n",
        "\n",
        "#Observe the output(return type should be boolean)\n",
        "\n",
        "x = 2.11\n",
        "y = 2.04\n",
        "print(x == y)\n",
        "print(x !=y)\n",
        "\n",
        "\n",
        "\n",
        "\n"
      ],
      "execution_count": 5,
      "outputs": [
        {
          "output_type": "stream",
          "text": [
            "False\n",
            "True\n"
          ],
          "name": "stdout"
        }
      ]
    },
    {
      "cell_type": "code",
      "metadata": {
        "id": "3HLlgaEt3EnJ",
        "colab_type": "code",
        "colab": {}
      },
      "source": [
        "#Logical operators\n",
        "#Observe the output of below code\n",
        "#Cross check the output manually\n",
        "\n",
        "print(10.20 and 20.30)       #both are true and second value taken >Output is 20.3\n",
        "print(0.0 and 20.30)         #First is false so first value taken->Output is 0.0\n",
        "print(20.30 and 0.0)         #Goes to till second and second value is false so second is taken>Output is 0.0\n",
        "print(0.0 and 0.0)           #First is false so first value is taken->Output is 0.0\n",
        "\n",
        "print(10.20 or 20.30)        #First is True so first value is taken>Output is 10.2\n",
        "print(0.0 or 20.30)          #Goes to till second and second is true second value is taken->Output is 20.3\n",
        "print(20.30 or 0.0)          #First is True so first value is taken->Output is 20.3\n",
        "print(0.0 or 0.0)            #Goes to till second and secod is also false and second value is taken>Output is 0.0\n",
        "\n",
        "print(not 10.20)             #-Not of true is false->Output is False\n",
        "print(not 0.0)               #Not of false is True>Output is True"
      ],
      "execution_count": null,
      "outputs": []
    },
    {
      "cell_type": "code",
      "metadata": {
        "id": "n0Dy-bDBoi4Z",
        "colab_type": "code",
        "colab": {
          "base_uri": "https://localhost:8080/",
          "height": 187
        },
        "outputId": "0b903883-96d9-4a96-dcf9-222ad865d1ac"
      },
      "source": [
        "print(10.20 and 20.30)    \n",
        "print(0.0 and 20.30)     \n",
        "print(20.30and 0.0)     \n",
        "print(0.0 and 0.0)\n",
        "\n",
        "print(10.20 or 20.30)\n",
        "print(0.0 or 20.0) \n",
        "print(20.0 or 0.0) \n",
        "print(0.0 or 0.0)  \n",
        "\n",
        "print(not 10.20)  \n",
        "print(not 0.0)  "
      ],
      "execution_count": 6,
      "outputs": [
        {
          "output_type": "stream",
          "text": [
            "20.3\n",
            "0.0\n",
            "0.0\n",
            "0.0\n",
            "10.2\n",
            "20.0\n",
            "20.0\n",
            "0.0\n",
            "False\n",
            "True\n"
          ],
          "name": "stdout"
        }
      ]
    },
    {
      "cell_type": "code",
      "metadata": {
        "id": "7YdyRNtk3UZd",
        "colab_type": "code",
        "colab": {}
      },
      "source": [
        "#What is the output of expression inside print statement. Cross check before running the program.\n",
        "a = 10.20\n",
        "b - 10.20\n",
        "print(a is b)          #True or False? True 10.20<256\n",
        "print(a is not b)      #True or False? False\n",
        "\n",
        "\n",
        "# Why the Id of float values are different when the same value is assigned to two different variables\n",
        "# ex: a = 10.5 b=10.5. but id will be same if I assign the variable having float i.e. a=c then both a anc c's\n",
        "# Id are same\n"
      ],
      "execution_count": null,
      "outputs": []
    },
    {
      "cell_type": "code",
      "metadata": {
        "id": "sGq_vUQUo-gq",
        "colab_type": "code",
        "colab": {
          "base_uri": "https://localhost:8080/",
          "height": 68
        },
        "outputId": "b6204857-140a-43e0-ef29-cb1f815d8c8c"
      },
      "source": [
        "a = 10.20\n",
        "b = 10.20\n",
        "print(a is b)\n",
        "print(a is not b)\n",
        "\n",
        "a = 10.5\n",
        "b = 10.5\n",
        "c = a\n",
        "print(id(a), id(b), id(c))"
      ],
      "execution_count": 8,
      "outputs": [
        {
          "output_type": "stream",
          "text": [
            "False\n",
            "True\n",
            "139807135383960 139807274115216 139807135383960\n"
          ],
          "name": "stdout"
        }
      ]
    },
    {
      "cell_type": "code",
      "metadata": {
        "id": "iTvnIMLd3VLW",
        "colab_type": "code",
        "colab": {}
      },
      "source": [
        "#Bitwise operation is not applicable between instances of float.\n",
        "## Why the Id of float values are different when the same value is assigned to two different variables\n",
        "## ex: a = 10.5 b=10.5. but id will be same if I assign the variable having float i.e. a=c then both a anc c's\n",
        "## Id are same\n",
        "#Object reusability concept is not applicable on float values."
      ],
      "execution_count": null,
      "outputs": []
    },
    {
      "cell_type": "code",
      "metadata": {
        "id": "29AVJHpx3YUo",
        "colab_type": "code",
        "colab": {}
      },
      "source": [
        "#Membership operation\n",
        "#in, not in are two membership operators and it returns boolean value\n",
        "\n",
        "print('2.7' in 'Python2.7.8')              #True\n",
        "print(10.20 in [10,10.20,10+20j,'Python']) #True\n",
        "print(10.20 in (10,10.20,10+20j,'Python')) # True\n",
        "print(20.30 in {1,20.30,30+40j})           # True\n",
        "print(2.3 in {1:100, 2.3:200, 30+40j:300}) # True\n",
        "print(10 in range(20))                     # True"
      ],
      "execution_count": null,
      "outputs": []
    },
    {
      "cell_type": "code",
      "metadata": {
        "id": "TKSEF2Wkpexr",
        "colab_type": "code",
        "colab": {
          "base_uri": "https://localhost:8080/",
          "height": 119
        },
        "outputId": "7ec49c45-6728-4b80-c9d4-92a437037afe"
      },
      "source": [
        "\n",
        "print('2.7' in 'Python2.7.8')              \n",
        "print(10.20 in [10,10.20,10+20j,'Python']) \n",
        "print(10.20 in (10,10.20,10+20j,'Python')) \n",
        "print(20.30 in {1,20.30,30+40j})           \n",
        "print(2.3 in {1:100, 2.3:200, 30+40j:300}) \n",
        "print(10.0 in range(20)) "
      ],
      "execution_count": 13,
      "outputs": [
        {
          "output_type": "stream",
          "text": [
            "True\n",
            "True\n",
            "True\n",
            "True\n",
            "True\n",
            "True\n"
          ],
          "name": "stdout"
        }
      ]
    }
  ]
}