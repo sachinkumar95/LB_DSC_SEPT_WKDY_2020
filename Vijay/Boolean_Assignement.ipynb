{
  "nbformat": 4,
  "nbformat_minor": 0,
  "metadata": {
    "colab": {
      "name": "Boolean_Assignement.ipynb",
      "provenance": []
    },
    "kernelspec": {
      "name": "python3",
      "display_name": "Python 3"
    }
  },
  "cells": [
    {
      "cell_type": "code",
      "metadata": {
        "id": "7JIFn6BP4M0R",
        "colab_type": "code",
        "colab": {
          "base_uri": "https://localhost:8080/",
          "height": 34
        },
        "outputId": "0d1484ff-ba31-4017-d9a4-dac63cda1569"
      },
      "source": [
        "#Declare a boolean value and store it in a variable. \n",
        "\n",
        "#Check the type and print the id of the same.\n",
        "\n",
        "t = True\n",
        "print(type(t), id(t))"
      ],
      "execution_count": 3,
      "outputs": [
        {
          "output_type": "stream",
          "text": [
            "<class 'bool'> 10302848\n"
          ],
          "name": "stdout"
        }
      ]
    },
    {
      "cell_type": "code",
      "metadata": {
        "id": "o9bjjhN64kAP",
        "colab_type": "code",
        "colab": {
          "base_uri": "https://localhost:8080/",
          "height": 34
        },
        "outputId": "c9fcb413-778f-4f0b-a438-addaedd1c93c"
      },
      "source": [
        "#Take one boolean value between 0 - 256.\n",
        "#Assign it to two different variables.\n",
        "\n",
        "#Check the id of both the variables. It should come same. Check why?\n",
        "\n",
        "a = True\n",
        "b = a\n",
        "print(id(a), id(b))"
      ],
      "execution_count": 14,
      "outputs": [
        {
          "output_type": "stream",
          "text": [
            "10302848 10302848\n"
          ],
          "name": "stdout"
        }
      ]
    },
    {
      "cell_type": "code",
      "metadata": {
        "id": "yr4ETGSf4l5y",
        "colab_type": "code",
        "colab": {
          "base_uri": "https://localhost:8080/",
          "height": 136
        },
        "outputId": "5f6de284-c1e9-414a-b275-e27af0746cb1"
      },
      "source": [
        "#Arithmetic Operations on boolean data\n",
        "#Take two different boolean values.\n",
        "#Store them in two different variables.\n",
        "\n",
        "#Do below operations on them:-\n",
        "    #Find sum of both values\n",
        "\n",
        "    #Find differce between them\n",
        "\n",
        "    #Find the product of both.\n",
        "\n",
        "    #Find value after dividing first value with second value   \n",
        "\n",
        "    \n",
        "    #Find the remainder after dividing first value with second value\n",
        "    \n",
        "    #Find the quotient after dividing first value with second value  \n",
        " \n",
        "    #Find the result of first value to the power of second value.\n",
        "\n",
        "a = False\n",
        "b = True\n",
        "print(a + b)\n",
        "print(a - b)\n",
        "print(a * b)\n",
        "print(a / b)\n",
        "print(a % b)\n",
        "print(a // b)\n",
        "print(a ** b)    "
      ],
      "execution_count": 25,
      "outputs": [
        {
          "output_type": "stream",
          "text": [
            "1\n",
            "-1\n",
            "0\n",
            "0.0\n",
            "0\n",
            "0\n",
            "0\n"
          ],
          "name": "stdout"
        }
      ]
    },
    {
      "cell_type": "code",
      "metadata": {
        "id": "xG4mX84E4n2O",
        "colab_type": "code",
        "colab": {
          "base_uri": "https://localhost:8080/",
          "height": 85
        },
        "outputId": "4edfcfa7-047a-417c-e115-60c28cfc93b4"
      },
      "source": [
        "#Comparison Operators on boolean values\n",
        "#Take two different boolean values.\n",
        "#Store them in two different variables.\n",
        "\n",
        "\n",
        "\n",
        "#Do below operations on them:-\n",
        "    #Compare these two values with below operator:-\n",
        "        \n",
        "        #Greater than, '>'\n",
        "\n",
        "        #less than, '<'    \n",
        "\n",
        "        #Greater than or equal to, '>='\n",
        "\n",
        "        #Less than or equal to, '<='   \n",
        "\n",
        "#Observe their output(return type should be boolean)\n",
        "\n",
        "a = True\n",
        "b = False\n",
        "print(a > b)\n",
        "print(a < b)\n",
        "print(a >= b)\n",
        "print(a <= b)\n",
        "\n",
        "\n"
      ],
      "execution_count": 16,
      "outputs": [
        {
          "output_type": "stream",
          "text": [
            "True\n",
            "False\n",
            "True\n",
            "False\n"
          ],
          "name": "stdout"
        }
      ]
    },
    {
      "cell_type": "code",
      "metadata": {
        "id": "TUIo2Z9V4qBJ",
        "colab_type": "code",
        "colab": {
          "base_uri": "https://localhost:8080/",
          "height": 51
        },
        "outputId": "fda68116-88fd-4d82-8684-da4b9e2fd699"
      },
      "source": [
        "#Equality Operator\n",
        "#Take two different boolean values.\n",
        "#Store them in two different variables.\n",
        "\n",
        "#Equuate them using equality operator (==, !=)\n",
        "\n",
        "#Observe the output(return type should be boolean)\n",
        "\n",
        "a = True\n",
        "b = False\n",
        "print(a==b)\n",
        "print(a!=b)\n"
      ],
      "execution_count": 20,
      "outputs": [
        {
          "output_type": "stream",
          "text": [
            "False\n",
            "True\n"
          ],
          "name": "stdout"
        }
      ]
    },
    {
      "cell_type": "code",
      "metadata": {
        "id": "XukEq5E44rxv",
        "colab_type": "code",
        "colab": {
          "base_uri": "https://localhost:8080/",
          "height": 187
        },
        "outputId": "a95fe68c-70b8-4510-a0dc-9c46675d4b95"
      },
      "source": [
        "#Logical operators\n",
        "#Observe the output of below code\n",
        "#Cross check the output manually\n",
        "\n",
        "print(True and True)        #----------------------------------------->Output is True\n",
        "print(False and True)        #----------------------------------------->Output is False\n",
        "print(True and False)        #----------------------------------------->Output is False\n",
        "print(False and False)       #----------------------------------------->Output is False\n",
        "\n",
        "print(True or True)          #----------------------------------------->Output is True\n",
        "print(False or True)         #----------------------------------------->Output is True\n",
        "print(True or False)         #----------------------------------------->Output is True\n",
        "print(False or False)        #----------------------------------------->Output is False\n",
        "\n",
        "print(not True)              #----------------------------------------->Output is False\n",
        "print(not False)             #----------------------------------------->Output is True"
      ],
      "execution_count": 9,
      "outputs": [
        {
          "output_type": "stream",
          "text": [
            "True\n",
            "False\n",
            "False\n",
            "False\n",
            "True\n",
            "True\n",
            "True\n",
            "False\n",
            "False\n",
            "True\n"
          ],
          "name": "stdout"
        }
      ]
    },
    {
      "cell_type": "code",
      "metadata": {
        "id": "02jPgt094vK-",
        "colab_type": "code",
        "colab": {
          "base_uri": "https://localhost:8080/",
          "height": 153
        },
        "outputId": "3dcc3f59-d2f3-446e-b23e-1f556b24d640"
      },
      "source": [
        "#Bitwise Operators\n",
        "#Do below operations on the values provided below:-\n",
        "    #Bitwise and(&) -----------------------------------------> True, True    -------> Output is True\n",
        "    \n",
        "\n",
        "\n",
        "    #Bitwise or(|)  -----------------------------------------> True, False   -------> Output is True\n",
        "\n",
        "\n",
        "\n",
        "    #Bitwise(^)     -----------------------------------------> True, False   -------> Output is True\n",
        "\n",
        "  \n",
        "\n",
        "    #Bitwise negation(~) ------------------------------------> True          -------> Output is -2\n",
        "\n",
        "   \n",
        "\n",
        "    #Bitwise left shift  ------------------------------------> True,2        -------> Output is 4\n",
        "\n",
        "\n",
        "\n",
        "    #Bitwise right shift ------------------------------------> True,2        -------> Output is 0\n",
        "\n",
        "\n",
        "\n",
        "#Cross check the output manually\n",
        "\n",
        "print(True & True)\n",
        "print(True & False)\n",
        "print(True | True)\n",
        "print(True | False)\n",
        "print(True ^ False)\n",
        "print(~True)\n",
        "print(True<<2)\n",
        "print(True>>2)\n",
        "\n",
        "\n",
        "\n",
        "\n",
        "\n",
        "\n",
        "\n"
      ],
      "execution_count": 26,
      "outputs": [
        {
          "output_type": "stream",
          "text": [
            "True\n",
            "False\n",
            "True\n",
            "True\n",
            "True\n",
            "-2\n",
            "4\n",
            "0\n"
          ],
          "name": "stdout"
        }
      ]
    },
    {
      "cell_type": "code",
      "metadata": {
        "id": "cy5i7sWz4v_c",
        "colab_type": "code",
        "colab": {
          "base_uri": "https://localhost:8080/",
          "height": 85
        },
        "outputId": "d817880a-56f5-4e3d-9728-25564d6ad33c"
      },
      "source": [
        "#What is the output of expression inside print statement. Cross check before running the program.\n",
        "a = True\n",
        "b = True\n",
        "print(a is b)          #True or False?   #\n",
        "print(a is not b)      #True or False?\n",
        "\n",
        "a = False\n",
        "b = False\n",
        "print(a is b)          #True or False?\n",
        "print(a is not b)      #True or False?\n"
      ],
      "execution_count": 11,
      "outputs": [
        {
          "output_type": "stream",
          "text": [
            "True\n",
            "False\n",
            "True\n",
            "False\n"
          ],
          "name": "stdout"
        }
      ]
    },
    {
      "cell_type": "code",
      "metadata": {
        "id": "AOcPQi8544M-",
        "colab_type": "code",
        "colab": {
          "base_uri": "https://localhost:8080/",
          "height": 102
        },
        "outputId": "32e0bec3-49ac-4479-ca87-79f69921c7a1"
      },
      "source": [
        "#Membership operation\n",
        "#in, not in are two membership operators and it returns boolean value\n",
        "\n",
        "print(True in [10,10.20,10+20j,'Python', True])\n",
        "print(False in (10,10.20,10+20j,'Python', False))\n",
        "print(True in {1,2,3, True})\n",
        "print(True in {True:100, False:200, True:300})\n",
        "print(False in {True:100, False:200, True:300})"
      ],
      "execution_count": 12,
      "outputs": [
        {
          "output_type": "stream",
          "text": [
            "True\n",
            "True\n",
            "True\n",
            "True\n",
            "True\n"
          ],
          "name": "stdout"
        }
      ]
    },
    {
      "cell_type": "code",
      "metadata": {
        "id": "MPa1Lpco46Ja",
        "colab_type": "code",
        "colab": {}
      },
      "source": [
        ""
      ],
      "execution_count": 12,
      "outputs": []
    }
  ]
}