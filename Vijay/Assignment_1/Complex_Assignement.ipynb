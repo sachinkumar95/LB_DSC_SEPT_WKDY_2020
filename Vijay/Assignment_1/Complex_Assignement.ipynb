{
  "nbformat": 4,
  "nbformat_minor": 0,
  "metadata": {
    "colab": {
      "name": "Complex_Assignement.ipynb",
      "provenance": []
    },
    "kernelspec": {
      "name": "python3",
      "display_name": "Python 3"
    }
  },
  "cells": [
    {
      "cell_type": "code",
      "metadata": {
        "id": "JoMbQLjK3uHZ",
        "colab_type": "code",
        "colab": {
          "base_uri": "https://localhost:8080/",
          "height": 34
        },
        "outputId": "16179c7d-7f6f-4770-cf72-12cc24747d7e"
      },
      "source": [
        "#Declare a complex number and store it in a variable. \n",
        "\n",
        "\n",
        "\n",
        "#Check the type and print the id of the same.\n",
        "\n",
        "\n",
        "c = 3 + 30j\n",
        "print(type(c), id(c))"
      ],
      "execution_count": 3,
      "outputs": [
        {
          "output_type": "stream",
          "text": [
            "<class 'complex'> 139950577423024\n"
          ],
          "name": "stdout"
        }
      ]
    },
    {
      "cell_type": "code",
      "metadata": {
        "id": "6N6Ee4BU33jk",
        "colab_type": "code",
        "colab": {
          "base_uri": "https://localhost:8080/",
          "height": 102
        },
        "outputId": "43d9b6aa-1d3b-4966-ab6b-913c4536f9f1"
      },
      "source": [
        "#Arithmatic Operations on complex number\n",
        "#Take two different complex number.\n",
        "#Store them in two different variables.\n",
        "#Do below operations on them:-\n",
        "    #Find sum of both numbers\n",
        "    #Find differce between them\n",
        "    #Find the product of both numbers.\n",
        "    #Find value after dividing first num with second number\n",
        "    #Find the result of first num to the power of second number.\n",
        "\n",
        "c1 = 3 + 30j\n",
        "c2 = 100 - 2j\n",
        "print('The sum is ', c1 + c2)\n",
        "print('The difference is ', c1 - c2)\n",
        "print('The product is ', c1 * c2)\n",
        "print('The division is ', c1 / c2)\n",
        "print('The power is ', c1 ** c2)"
      ],
      "execution_count": 6,
      "outputs": [
        {
          "output_type": "stream",
          "text": [
            "The sum is  (103+28j)\n",
            "The difference is  (-97+32j)\n",
            "The product is  (360+2994j)\n",
            "The division is  (0.02399040383846461+0.3004798080767693j)\n",
            "The power is  (-7.697719191418546e+148+1.4105688660094866e+149j)\n"
          ],
          "name": "stdout"
        }
      ]
    },
    {
      "cell_type": "code",
      "metadata": {
        "id": "xhkdg7LD352y",
        "colab_type": "code",
        "colab": {}
      },
      "source": [
        "#Comparison Operation not applicable between instance of complex values\n",
        "#Object reusability concept is not applicable on complex numebr\n",
        "\n"
      ],
      "execution_count": null,
      "outputs": []
    },
    {
      "cell_type": "code",
      "metadata": {
        "id": "4lzPH2sb38KM",
        "colab_type": "code",
        "colab": {
          "base_uri": "https://localhost:8080/",
          "height": 51
        },
        "outputId": "7866528a-ccd3-40bb-9933-7510f451943f"
      },
      "source": [
        "#Equality Operator\n",
        "#Take two different complex numbers.\n",
        "#Store them in two different variables.\n",
        "#Equate them using equality operator (==, !=)\n",
        "#Observe the output(return type should be boolean\n",
        "\n",
        "r = 30+ 3j\n",
        "v = 30 + 3j\n",
        "print(r == v)\n",
        "print(r != v)\n",
        "\n",
        "\n",
        "\n"
      ],
      "execution_count": 10,
      "outputs": [
        {
          "output_type": "stream",
          "text": [
            "True\n",
            "False\n"
          ],
          "name": "stdout"
        }
      ]
    },
    {
      "cell_type": "code",
      "metadata": {
        "id": "EDEl19UD3_tr",
        "colab_type": "code",
        "colab": {
          "base_uri": "https://localhost:8080/",
          "height": 357
        },
        "outputId": "87d59efc-2754-42e6-8fe9-0febe80fda9c"
      },
      "source": [
        "#Logical operators\n",
        "#Observe the output of below code\n",
        "#Cross check the output manually\n",
        "\n",
        "print(10+20j and 20+30j)    #20+30j    #----------------------------------------->Output is 20+30j\n",
        "print(0+0j and 20+30j)      #0+0j    #----------------------------------------->Output is 0j\n",
        "print(20+30j and 0+0j)      #0+0j   #----------------------------------------->Output is 0j\n",
        "print(0+0j and 0+0j)        #0+0j   #----------------------------------------->Output is 0j\n",
        "\n",
        "print(10+20j or 20+30j)     #10+20j   #----------------------------------------->Output is 10+20j\n",
        "print(0+0j or 20+30j)       #20+30j   #----------------------------------------->Output is 20+30j\n",
        "print(20+30j or 0+0j)       #20+30j  #----------------------------------------->Output is 20+30j\n",
        "print(0+0j or 0+0j)         #0+0j   #----------------------------------------->Output is 0j\n",
        "\n",
        "print(not 10+20j)           #False   #----------------------------------------->Output is False\n",
        "print(not 0+0j)             #True   #----------------------------------------->Output is True\n",
        "\n",
        "print(10+20j and 20+30j)    #20+30j    \n",
        "print(0+0j and 20+30j)      #0+0j   \n",
        "print(20+30j and 0+0j)      #0+0j   \n",
        "print(0+0j and 0+0j)        #0+0j   \n",
        "\n",
        "print(10+20j or 20+30j)     #10+20j  \n",
        "print(0+0j or 20+30j)       #20+30j  \n",
        "print(20+30j or 0+0j)       #20+30j  \n",
        "print(0+0j or 0+0j)         #0+0j   \n",
        "print(not 10+20j)           \n",
        "print(not 0+0j)"
      ],
      "execution_count": 11,
      "outputs": [
        {
          "output_type": "stream",
          "text": [
            "(20+30j)\n",
            "0j\n",
            "0j\n",
            "0j\n",
            "(10+20j)\n",
            "(20+30j)\n",
            "(20+30j)\n",
            "0j\n",
            "False\n",
            "True\n",
            "(20+30j)\n",
            "0j\n",
            "0j\n",
            "0j\n",
            "(10+20j)\n",
            "(20+30j)\n",
            "(20+30j)\n",
            "0j\n",
            "False\n",
            "True\n"
          ],
          "name": "stdout"
        }
      ]
    },
    {
      "cell_type": "code",
      "metadata": {
        "id": "4ifueKbP4Br1",
        "colab_type": "code",
        "colab": {
          "base_uri": "https://localhost:8080/",
          "height": 51
        },
        "outputId": "3fa437e6-0ada-4a30-f037-ba1a3f883e2b"
      },
      "source": [
        "#What is the output of expression inside print statement. Cross check before running the program.\n",
        "a = 10+20j\n",
        "b = 10+20j\n",
        "print(a is b)       #False   #True or False?\n",
        "print(a is not b)   #True   #True or False?\n"
      ],
      "execution_count": 12,
      "outputs": [
        {
          "output_type": "stream",
          "text": [
            "False\n",
            "True\n"
          ],
          "name": "stdout"
        }
      ]
    },
    {
      "cell_type": "code",
      "metadata": {
        "id": "TxMbr5jQ4Dwl",
        "colab_type": "code",
        "colab": {
          "base_uri": "https://localhost:8080/",
          "height": 119
        },
        "outputId": "76abcdd9-a23f-40c0-ed79-a21c39f31d21"
      },
      "source": [
        "#Membership operation\n",
        "#in, not in are two membership operators and it returns boolean value\n",
        "\n",
        "print('2.7' in 'Python2.7.8')                      #True\n",
        "print(10+20j in [10,10.20,10+20j,'Python'])        #True\n",
        "print(10+20j in (10,10.20,10+20j,'Python'))        #True\n",
        "print(30+40j in {1,20.30,30+40j})                  #True\n",
        "print(30+40j in {1:100, 2.3:200, 30+40j:300})      #True\n",
        "print(10 in range(20))                             #True"
      ],
      "execution_count": 13,
      "outputs": [
        {
          "output_type": "stream",
          "text": [
            "True\n",
            "True\n",
            "True\n",
            "True\n",
            "True\n",
            "True\n"
          ],
          "name": "stdout"
        }
      ]
    }
  ]
}