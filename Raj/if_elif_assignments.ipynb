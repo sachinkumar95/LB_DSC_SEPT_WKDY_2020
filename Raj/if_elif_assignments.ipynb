{
 "cells": [
  {
   "cell_type": "code",
   "execution_count": 2,
   "metadata": {},
   "outputs": [
    {
     "name": "stdout",
     "output_type": "stream",
     "text": [
      "enter a first number:10\n",
      "enter a second number:20\n",
      "enter a third number:25\n",
      "max number is: 25\n"
     ]
    }
   ],
   "source": [
    "inta = int(input('enter a first number:'))\n",
    "intb = int(input('enter a second number:'))\n",
    "intc = int(input('enter a third number:'))\n",
    "if inta>intb and inta>intc:\n",
    "    print('max numer is:', inta)\n",
    "elif intb > intc:\n",
    "    print('max numer is:', intb)\n",
    "else:\n",
    "    print('max number is:', intc)"
   ]
  },
  {
   "cell_type": "code",
   "execution_count": 7,
   "metadata": {},
   "outputs": [
    {
     "name": "stdout",
     "output_type": "stream",
     "text": [
      "enter a first number:67\n",
      "enter a second number:87\n",
      "enter a operation code(1-add,2-subraction,3-multiply,4-division):4\n",
      "division of two numbers: 0.7701149425287356\n"
     ]
    }
   ],
   "source": [
    "inta = int(input('enter a first number:'))\n",
    "intb = int(input('enter a second number:'))\n",
    "intc = int(input('enter a operation code(1-add,2-subraction,3-multiply,4-division):'))\n",
    "if intc==1:\n",
    "    print('addition of two numbers:', inta+intb)\n",
    "elif intc==2:\n",
    "    print('subraction of two numbers:', inta-intb)\n",
    "elif intc==3:\n",
    "    print('multiplication of two numbers:', inta*intb)\n",
    "elif intc==4:\n",
    "    print('division of two numbers:', inta/intb)\n",
    "else:\n",
    "    print('invalid operation code')"
   ]
  },
  {
   "cell_type": "code",
   "execution_count": 10,
   "metadata": {},
   "outputs": [
    {
     "name": "stdout",
     "output_type": "stream",
     "text": [
      "enter a year:1900\n",
      "this is not a leap year\n"
     ]
    }
   ],
   "source": [
    "inta = int(input('enter a year:'))\n",
    "\n",
    "if inta%4==0:\n",
    "    if inta%100==0:\n",
    "        if inta%400==0:\n",
    "            print('this is a leap year')\n",
    "        else:\n",
    "            print('this is not a leap year')\n",
    "    else:\n",
    "        print('this is a leap year')\n",
    "else:\n",
    "    print('it is not a leap year')"
   ]
  },
  {
   "cell_type": "code",
   "execution_count": 14,
   "metadata": {},
   "outputs": [
    {
     "name": "stdout",
     "output_type": "stream",
     "text": [
      "enter a numbertenet\n",
      "['tenet']\n",
      "it a palindrome\n"
     ]
    }
   ],
   "source": [
    "my_str = input('enter a number')\n",
    "my_list = my_str.split()\n",
    "my_templist = my_list\n",
    "my_templist.reverse()\n",
    "if \"\".join(my_templist) == my_str:\n",
    "    print('it a palindrome')\n",
    "else:\n",
    "    print('it is not a palindrome')"
   ]
  },
  {
   "cell_type": "code",
   "execution_count": 31,
   "metadata": {},
   "outputs": [
    {
     "name": "stdout",
     "output_type": "stream",
     "text": [
      "['peter', 'piper', 'picked', 'a', 'peck', 'of', 'pickled', 'peppers.']\n"
     ]
    }
   ],
   "source": [
    "#Write a python program to find below output using loop:-\n",
    "\n",
    "#Input:- 'peter piper picked a peck of pickled peppers.'\n",
    "#Output:- ['peter', 'piper', 'picked', 'a', 'peck', 'of', 'pickled', 'peppers']\n",
    "\n",
    "my_str = 'peter piper picked a peck of pickled peppers.'\n",
    "temp_str = \"\"\n",
    "my_list = []\n",
    "for i in my_str:\n",
    "    if i == \" \":\n",
    "        my_list.append(temp_str)\n",
    "        temp_str=\"\"\n",
    "        continue\n",
    "    temp_str = temp_str + i\n",
    "my_list.append(temp_str)\n",
    "print(my_list)"
   ]
  },
  {
   "cell_type": "code",
   "execution_count": 33,
   "metadata": {},
   "outputs": [
    {
     "name": "stdout",
     "output_type": "stream",
     "text": [
      " peppers. pickled of peck a picked piper peter\n"
     ]
    }
   ],
   "source": [
    "#Write a python program to find below output using loop:-\n",
    "\n",
    "#Input:- 'peter piper picked a peck of pickled peppers.'\n",
    "#Output:- ['peter', 'piper', 'picked', 'a', 'peck', 'of', 'pickled', 'peppers']\n",
    "\n",
    "my_str = 'peter piper picked a peck of pickled peppers.'\n",
    "temp_str = \"\"\n",
    "my_list = []\n",
    "for i in my_str:\n",
    "    if i == \" \":\n",
    "        my_list.append(temp_str)\n",
    "        temp_str=\"\"\n",
    "        continue\n",
    "    temp_str = temp_str + i\n",
    "my_list.append(temp_str)\n",
    "my_list.reverse()\n",
    "out_str = \"\"\n",
    "for i in my_list:\n",
    "    out_str = out_str + \" \" + i\n",
    "print(out_str)"
   ]
  },
  {
   "cell_type": "code",
   "execution_count": null,
   "metadata": {},
   "outputs": [],
   "source": []
  },
  {
   "cell_type": "code",
   "execution_count": null,
   "metadata": {},
   "outputs": [],
   "source": []
  },
  {
   "cell_type": "code",
   "execution_count": null,
   "metadata": {},
   "outputs": [],
   "source": []
  },
  {
   "cell_type": "code",
   "execution_count": null,
   "metadata": {},
   "outputs": [],
   "source": []
  },
  {
   "cell_type": "code",
   "execution_count": null,
   "metadata": {},
   "outputs": [],
   "source": []
  },
  {
   "cell_type": "code",
   "execution_count": null,
   "metadata": {},
   "outputs": [],
   "source": []
  },
  {
   "cell_type": "code",
   "execution_count": null,
   "metadata": {},
   "outputs": [],
   "source": []
  },
  {
   "cell_type": "code",
   "execution_count": null,
   "metadata": {},
   "outputs": [],
   "source": []
  },
  {
   "cell_type": "code",
   "execution_count": null,
   "metadata": {},
   "outputs": [],
   "source": []
  },
  {
   "cell_type": "code",
   "execution_count": null,
   "metadata": {},
   "outputs": [],
   "source": []
  },
  {
   "cell_type": "code",
   "execution_count": null,
   "metadata": {},
   "outputs": [],
   "source": []
  },
  {
   "cell_type": "code",
   "execution_count": null,
   "metadata": {},
   "outputs": [],
   "source": []
  },
  {
   "cell_type": "code",
   "execution_count": null,
   "metadata": {},
   "outputs": [],
   "source": []
  },
  {
   "cell_type": "code",
   "execution_count": null,
   "metadata": {},
   "outputs": [],
   "source": []
  },
  {
   "cell_type": "code",
   "execution_count": null,
   "metadata": {},
   "outputs": [],
   "source": []
  }
 ],
 "metadata": {
  "kernelspec": {
   "display_name": "Python 3",
   "language": "python",
   "name": "python3"
  },
  "language_info": {
   "codemirror_mode": {
    "name": "ipython",
    "version": 3
   },
   "file_extension": ".py",
   "mimetype": "text/x-python",
   "name": "python",
   "nbconvert_exporter": "python",
   "pygments_lexer": "ipython3",
   "version": "3.6.10"
  }
 },
 "nbformat": 4,
 "nbformat_minor": 4
}
