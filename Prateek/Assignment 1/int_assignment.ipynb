{
 "cells": [
  {
   "cell_type": "code",
   "execution_count": 3,
   "metadata": {
    "colab": {},
    "colab_type": "code",
    "id": "8A5Jw5NR1iEI"
   },
   "outputs": [
    {
     "name": "stdout",
     "output_type": "stream",
     "text": [
      "Declare a value:10\n",
      "4351945344 <class 'int'>\n"
     ]
    }
   ],
   "source": [
    "#Declare an int value and store it in a variable. \n",
    "\n",
    "a = int(input('Declare a value:'))\n",
    "\n",
    "#Check the type and print the id of the same.\n",
    "\n",
    "print(id(a), type(a))"
   ]
  },
  {
   "cell_type": "code",
   "execution_count": 34,
   "metadata": {
    "colab": {},
    "colab_type": "code",
    "id": "0YU8LFTn1rAX"
   },
   "outputs": [
    {
     "name": "stdout",
     "output_type": "stream",
     "text": [
      "4351953024 4351953024\n",
      "140688719497200 140688719497520\n"
     ]
    }
   ],
   "source": [
    "#Take one int value between 0 - 256.\n",
    "#Assign it to two different variables.\n",
    "#Check the id of both the variables. It should come same. Check why?\n",
    "\n",
    "b = 250\n",
    "c = 250\n",
    "print(id(b), id(c))\n",
    "\n",
    "# This is due to the concept of Object Reusability, which applies for all int values ranging between 0-256.\n",
    "\n",
    "#Take one int value either less than -5 or greater than 256.\n",
    "#Assign it to two different variables.\n",
    "#Check the id of both the variables. It should come different.Check why?\n",
    "\n",
    "d = 260\n",
    "e = 260\n",
    "print(id(d), id(e))\n",
    "\n",
    "# Different ids are due to the concept of Object Reusability, which is not applied to numbers above 256, and below -5."
   ]
  },
  {
   "cell_type": "code",
   "execution_count": 10,
   "metadata": {
    "colab": {},
    "colab_type": "code",
    "id": "YzEIG0ZZ1tSK"
   },
   "outputs": [
    {
     "name": "stdout",
     "output_type": "stream",
     "text": [
      "Enter a number:8\n",
      "Enter another number:2\n",
      "Sum is 10\n",
      "Difference is 6\n",
      "Product is 16\n",
      "Value after division is 4.0\n",
      "Remainder is 0\n",
      "Quotient is 4\n",
      "Power of first to second is 64\n"
     ]
    }
   ],
   "source": [
    "#Arithmatic Operations on integers\n",
    "#Take two different intger values.\n",
    "#Store them in two different variables.\n",
    "#Do below operations on them:-\n",
    "    #Find sum of both numbers\n",
    "    #Find differce between them\n",
    "    #Find the product of both numbers.\n",
    "    #Find value after dividing first num with second number\n",
    "    #Find the remainder after dividing first number with second number\n",
    "    #Find the quotient after dividing first number with second number\n",
    "    #Find the result of first num to the power of second number.\n",
    "    \n",
    "    \n",
    "a = int(input('Enter a number:'))\n",
    "b = int(input('Enter another number:'))\n",
    "\n",
    "print('Sum is', a + b)\n",
    "print('Difference is', a - b)\n",
    "print('Product is', a * b)\n",
    "print('Value after division is', a / b)\n",
    "print('Remainder is', a % b)\n",
    "print('Quotient is', a // b)\n",
    "print('Power of first to second is', a ** b)"
   ]
  },
  {
   "cell_type": "code",
   "execution_count": 12,
   "metadata": {
    "colab": {},
    "colab_type": "code",
    "id": "GGM7CdzA1wGn"
   },
   "outputs": [
    {
     "name": "stdout",
     "output_type": "stream",
     "text": [
      "False\n",
      "True\n",
      "True\n",
      "False\n"
     ]
    }
   ],
   "source": [
    "#Comparison Operators on integers\n",
    "#Take two different intger values.\n",
    "#Store them in two different variables.\n",
    "#Do below operations on them:-\n",
    "    #Compare se two numbers with below operator:-\n",
    "        #Greater than, '>'\n",
    "        #Smaller than, '<'\n",
    "        #Greater than or equal to, '>='\n",
    "        #Less than or equal to, '<='\n",
    "#Observe their output(return type should be boolean)\n",
    "\n",
    "a = 10\n",
    "b = 15\n",
    "\n",
    "print(a>b)\n",
    "print(a<b)\n",
    "print(a<=b)\n",
    "print(a>=b)"
   ]
  },
  {
   "cell_type": "code",
   "execution_count": 14,
   "metadata": {
    "colab": {},
    "colab_type": "code",
    "id": "9x904sUE1y9t"
   },
   "outputs": [
    {
     "name": "stdout",
     "output_type": "stream",
     "text": [
      "False\n",
      "True\n"
     ]
    }
   ],
   "source": [
    "#Equality Operator\n",
    "#Take two different intger values.\n",
    "#Store them in two different variables.\n",
    "#Equuate them using equality operator (==, !=)\n",
    "#Observe the output(return type should be boolean)\n",
    "\n",
    "x = 10\n",
    "y = 15\n",
    "\n",
    "print(x == y)\n",
    "print(x != y)"
   ]
  },
  {
   "cell_type": "code",
   "execution_count": 15,
   "metadata": {
    "colab": {},
    "colab_type": "code",
    "id": "JmQFHUwc11S-"
   },
   "outputs": [
    {
     "name": "stdout",
     "output_type": "stream",
     "text": [
      "20\n",
      "0\n",
      "0\n",
      "0\n",
      "10\n",
      "20\n",
      "20\n",
      "0\n",
      "False\n",
      "True\n"
     ]
    }
   ],
   "source": [
    "#Logical operators\n",
    "#Observe the output of below code\n",
    "#Cross check the output manually\n",
    "\n",
    "print(10 and 20)       #----------------------------------------->Output is 20\n",
    "print(0 and 20)        #----------------------------------------->Output is 0\n",
    "print(20 and 0)        #----------------------------------------->Output is 0\n",
    "print(0 and 0)         #----------------------------------------->Output is 0\n",
    "\n",
    "print(10 or 20)        #----------------------------------------->Output is 10\n",
    "print(0 or 20)         #----------------------------------------->Output is 20\n",
    "print(20 or 0)         #----------------------------------------->Output is 20\n",
    "print(0 or 0)          #----------------------------------------->Output is 0\n",
    "\n",
    "print(not 10)          #----------------------------------------->Output is False\n",
    "print(not 0)           #----------------------------------------->Output is True\n",
    "\n"
   ]
  },
  {
   "cell_type": "code",
   "execution_count": 25,
   "metadata": {
    "colab": {},
    "colab_type": "code",
    "id": "-0tvoulX14Hi"
   },
   "outputs": [
    {
     "name": "stdout",
     "output_type": "stream",
     "text": [
      "0\n",
      "30\n",
      "30\n",
      "-11\n",
      "40\n",
      "2\n"
     ]
    }
   ],
   "source": [
    "#Bitwise Operators\n",
    "#Do below operations on the values provided below:-\n",
    "    #Bitwise and(&) -----------------------------------------> 10, 20   -------> Output is 0\n",
    "    #Bitwise or(|)  -----------------------------------------> 10, 20   -------> Output is 30\n",
    "    #Bitwise(^)     -----------------------------------------> 10, 20   -------> Output is 30\n",
    "    #Bitwise negation(~) ------------------------------------> 10       -------> Output is -11\n",
    "    #Bitwise left shift  ------------------------------------> 10,2     -------> Output is 40\n",
    "    #Bitwise right shift ------------------------------------> 10,2     -------> Output is 2\n",
    "#Cross check the output manually\n",
    "\n",
    "\n",
    "print(10 & 20)\n",
    "print(10 | 20)\n",
    "print(10 ^ 20)\n",
    "print(~10)\n",
    "print(10<<2)\n",
    "print(10>>2)"
   ]
  },
  {
   "cell_type": "code",
   "execution_count": 26,
   "metadata": {
    "colab": {},
    "colab_type": "code",
    "id": "YCcx-Qx016hg"
   },
   "outputs": [
    {
     "name": "stdout",
     "output_type": "stream",
     "text": [
      "True\n",
      "False\n",
      "False\n",
      "True\n"
     ]
    }
   ],
   "source": [
    "#What is the output of expression inside print statement. Cross check before running the program.\n",
    "a = 10\n",
    "b = 10\n",
    "print(a is b)          #True or False?\n",
    "print(a is not b)      #True or False?\n",
    "\n",
    "a = 1000\n",
    "b = 1000\n",
    "print(a is b)          #True or False?\n",
    "print(a is not b)      #True or False?"
   ]
  },
  {
   "cell_type": "code",
   "execution_count": 35,
   "metadata": {
    "colab": {},
    "colab_type": "code",
    "id": "Un2To3XN1_Il"
   },
   "outputs": [
    {
     "name": "stdout",
     "output_type": "stream",
     "text": [
      "20\n"
     ]
    }
   ],
   "source": [
    "#What is the output of expression inside print statement. Cross check before running the program.\n",
    "print(10+(10*32)//2**5&20+(~(-10))<<2)"
   ]
  },
  {
   "cell_type": "code",
   "execution_count": 36,
   "metadata": {
    "colab": {},
    "colab_type": "code",
    "id": "kGRb5RMd1_1I"
   },
   "outputs": [
    {
     "name": "stdout",
     "output_type": "stream",
     "text": [
      "True\n",
      "True\n",
      "True\n",
      "True\n",
      "True\n",
      "True\n"
     ]
    }
   ],
   "source": [
    "#Membership operation\n",
    "#in, not in are two membership operators and it returns boolean value\n",
    "\n",
    "print('2' in 'Python2.7.8')\n",
    "print(10 in [10,10.20,10+20j,'Python'])\n",
    "print(10 in (10,10.20,10+20j,'Python'))\n",
    "print(2 in {1,2,3})\n",
    "print(3 in {1:100, 2:200, 3:300})\n",
    "print(10 in range(20))"
   ]
  },
  {
   "cell_type": "code",
   "execution_count": 47,
   "metadata": {
    "colab": {},
    "colab_type": "code",
    "id": "Es7iSvL92B9W"
   },
   "outputs": [
    {
     "name": "stdout",
     "output_type": "stream",
     "text": [
      "0b10011010010100\n",
      "0o23224\n",
      "0x2694\n"
     ]
    }
   ],
   "source": [
    "#An integer can be represented in binary, octal or hexadecimal form.\n",
    "#Declare one binary, one octal and one hexadecimal value and store them in three different variables.\n",
    "#Convert 9876 to its binary, octal and hexadecimal equivalent and print their corresponding value.\n",
    "\n",
    "a = 0b101010\n",
    "b = 0o123\n",
    "c = 0xaD45\n",
    "\n",
    "print(bin(9876))\n",
    "print(oct(9876))\n",
    "print(hex(9876))"
   ]
  },
  {
   "cell_type": "code",
   "execution_count": 48,
   "metadata": {
    "colab": {},
    "colab_type": "code",
    "id": "Hm0r03lH2E0i"
   },
   "outputs": [
    {
     "name": "stdout",
     "output_type": "stream",
     "text": [
      "80\n",
      "3870\n",
      "64222\n",
      "0b1010000\n",
      "0o7436\n",
      "0xfade\n",
      "0b1010000\n",
      "0b1111101011011110\n",
      "0o175336\n",
      "0o7436\n",
      "0x50\n",
      "0xfade\n"
     ]
    }
   ],
   "source": [
    "#What will be the outut of following:-\n",
    "a = 0b1010000\n",
    "print(a)\n",
    "\n",
    "b = 0o7436\n",
    "print(b)\n",
    "\n",
    "c = 0xfade\n",
    "print(c)\n",
    "\n",
    "print(bin(80))\n",
    "\n",
    "print(oct(3870))\n",
    "\n",
    "print(hex(64222))\n",
    "\n",
    "print(bin(0b1010000))\n",
    "\n",
    "print(bin(0xfade))\n",
    "\n",
    "print(oct(0xfade))\n",
    "\n",
    "print(oct(0o7436))\n",
    "\n",
    "print(hex(0b1010000))\n",
    "\n",
    "print(hex(0xfade))"
   ]
  }
 ],
 "metadata": {
  "colab": {
   "name": "int_assignment.ipynb",
   "provenance": []
  },
  "kernelspec": {
   "display_name": "Python 3",
   "language": "python",
   "name": "python3"
  },
  "language_info": {
   "codemirror_mode": {
    "name": "ipython",
    "version": 3
   },
   "file_extension": ".py",
   "mimetype": "text/x-python",
   "name": "python",
   "nbconvert_exporter": "python",
   "pygments_lexer": "ipython3",
   "version": "3.8.3"
  }
 },
 "nbformat": 4,
 "nbformat_minor": 1
}
