{
 "cells": [
  {
   "cell_type": "markdown",
   "metadata": {
    "colab_type": "text",
    "id": "wNRNTbrsc53d"
   },
   "source": [
    "# If - elif - else statement"
   ]
  },
  {
   "cell_type": "code",
   "execution_count": 2,
   "metadata": {
    "colab": {},
    "colab_type": "code",
    "id": "MiPfTnBycxNa"
   },
   "outputs": [
    {
     "name": "stdout",
     "output_type": "stream",
     "text": [
      "Enter a number betwen 0 and 9  6\n",
      "Six\n"
     ]
    }
   ],
   "source": [
    "#W. A P. which takes one number from 0 to 9 from the user and prints it in the word. And if the word is not from 0 to 9 then\n",
    "#it should print that number is outside of the range and program should exit.\n",
    "# For exapmple:- \n",
    "# input = 1\n",
    "# output = one\n",
    "\n",
    "num=int(input('Enter a number betwen 0 and 9  '))\n",
    "if num ==0:\n",
    "    print('Zero')\n",
    "elif num == 1:\n",
    "    print('One')\n",
    "elif num ==2:\n",
    "    print('Two')\n",
    "elif num == 3:\n",
    "    print('Three')\n",
    "elif num ==4 :\n",
    "    print('Four')\n",
    "elif num == 5:\n",
    "    print('Five')\n",
    "elif num ==6 :\n",
    "    print('Six')\n",
    "elif num == 7:\n",
    "    print('Seven')\n",
    "elif num ==8 :\n",
    "    print('Eight')\n",
    "elif num == 9:\n",
    "    print('Nine')\n",
    "else:\n",
    "    print('number is outside of the range')\n",
    "\n",
    "\n"
   ]
  },
  {
   "cell_type": "code",
   "execution_count": 8,
   "metadata": {
    "colab": {},
    "colab_type": "code",
    "id": "vEMNOv9zdA39"
   },
   "outputs": [
    {
     "name": "stdout",
     "output_type": "stream",
     "text": [
      "Enter 1st number : 89\n",
      "Enter 2nd number : 9\n",
      "Please select any one operation from below:-\n",
      "         * To add enter 1\n",
      "         * to subtract enter 2\n",
      "         * To multiply enter 3\n",
      "         * To divide enter 4\n",
      "         * To divide and find quotient enter 5\n",
      "         * To divide and find remainder enter 6\n",
      "         * To divide and find num1 to the power of num2 enter 7\n",
      "         * To Come out of the program enter 8 45\n",
      "Exit !!\n"
     ]
    }
   ],
   "source": [
    "#W. A P. to implement calculator but the operation to be done and two numbers will be taken as input from user:-\n",
    "#Operation console should show below:-\n",
    "#     Please select any one operation from below:-\n",
    "#         * To add enter 1\n",
    "#         * to subtract enter 2\n",
    "#         * To multiply enter 3\n",
    "#         * To divide enter 4\n",
    "#         * To divide and find quotient enter 5\n",
    "#         * To divide and find remainder enter 6\n",
    "#         * To divide and find num1 to the power of num2 enter 7\n",
    "#         * To Come out of the program enter 8\n",
    "\n",
    "\n",
    "a = int(input('Enter 1st number : '))\n",
    "b = int(input('Enter 2nd number : '))\n",
    "c = int(input('''Please select any one operation from below:-\n",
    "         * To add enter 1\n",
    "         * to subtract enter 2\n",
    "         * To multiply enter 3\n",
    "         * To divide enter 4\n",
    "         * To divide and find quotient enter 5\n",
    "         * To divide and find remainder enter 6\n",
    "         * To divide and find num1 to the power of num2 enter 7\n",
    "         * To Come out of the program enter 8 '''))\n",
    "if c == 1:\n",
    "    print('Sum :',a+b)\n",
    "elif c == 2:\n",
    "    print('Difference : ',a-b)\n",
    "elif c == 3:\n",
    "    print('Product : ',a*b)\n",
    "elif c == 4:\n",
    "    print ('Division : ',a/b)\n",
    "elif c == 5:\n",
    "    print ('Quotient : ',a//b)\n",
    "elif c == 6:\n",
    "    print ('Remainder : ',a%b)\n",
    "elif c == 7:\n",
    "    print ('Power : ',a**b)\n",
    "else:\n",
    "    print('Exit !!')\n",
    "\n"
   ]
  },
  {
   "cell_type": "code",
   "execution_count": 12,
   "metadata": {
    "colab": {},
    "colab_type": "code",
    "id": "1e2gwYLqdC1s"
   },
   "outputs": [
    {
     "name": "stdout",
     "output_type": "stream",
     "text": [
      "Enter year : 1600\n",
      "Leap Year !!!\n"
     ]
    }
   ],
   "source": [
    "#W A P to check whether a year entered by user is an leap year or not?\n",
    "#Check with below input:-\n",
    "    #leap year:- 2012, 1968, 2004, 1200, 1600,2400\n",
    "    #Non-lear year:- 1971, 2006, 1700,1800,1900\n",
    "    \n",
    "\n",
    "a =int(input('Enter year : '))\n",
    "if a%4== 0:\n",
    "    if a%100 == 0:\n",
    "        if a%400 ==0:\n",
    "            print ('Leap Year !!!')\n",
    "        else:\n",
    "            print('Not a leap year !!')\n",
    "    else:\n",
    "        print ('Leap Year !!!')\n",
    "else:\n",
    "    print ('Not a Leap Year !!!')"
   ]
  },
  {
   "cell_type": "code",
   "execution_count": 13,
   "metadata": {
    "colab": {},
    "colab_type": "code",
    "id": "_tpXv1EtdEre"
   },
   "outputs": [
    {
     "name": "stdout",
     "output_type": "stream",
     "text": [
      "Enter the number : 25\n",
      "Number is odd !\n"
     ]
    }
   ],
   "source": [
    "#W A P which takes one number from the user and checks whether it is an even or odd number?, If it even then prints number is \n",
    "#even number else prints that number is odd number.\n",
    "\n",
    "num  = int(input('Enter the number : '))\n",
    "if num%2 == 0:\n",
    "    print('Number is even !')\n",
    "else:\n",
    "    print('Number is odd !')"
   ]
  },
  {
   "cell_type": "code",
   "execution_count": 15,
   "metadata": {
    "colab": {},
    "colab_type": "code",
    "id": "Q1HumymCdG6i"
   },
   "outputs": [
    {
     "name": "stdout",
     "output_type": "stream",
     "text": [
      "Enter the 1st number : 12\n",
      "Enter the 2nd number : 45\n",
      "num1 is smaller than num2\n",
      "Enter the 1st number : 45\n",
      "Enter the 2nd number : 4\n",
      "num1 is greater than num2\n"
     ]
    }
   ],
   "source": [
    "#W A P which takes two numbers from the user and prints below output:-\n",
    "#     1. num1 is greater than num2 if num1 is greater than num2\n",
    "#     2. num1 is smaller than num2 if num1 is smaller than num2\n",
    "#     3. num1 is equal to num2 if num1 and num2 are equal\n",
    "\n",
    "#Note:- 1. Do this problem using if - else \n",
    "#       2. Do this using ternary operator\n",
    "\n",
    "#1. Do this problem using if - else \n",
    "\n",
    "num1  = int(input('Enter the 1st number : '))\n",
    "num2  = int(input('Enter the 2nd number : '))\n",
    "if num1 > num2:\n",
    "    print('num1 is greater than num2' )\n",
    "elif num1 < num2 :\n",
    "    print('num1 is smaller than num2') \n",
    "else :\n",
    "    print('num1 is equal to num2')\n",
    "    \n",
    "#2. Do this using ternary operator\n",
    "\n",
    "num1  = int(input('Enter the 1st number : '))\n",
    "num2  = int(input('Enter the 2nd number : '))   \n",
    "\n",
    "a = 'num1 is greater than num2' if num1>num2 else 'num1 is smaller than num2' if num1<num2 else 'num1 is equal to num2'\n",
    "print(a)"
   ]
  },
  {
   "cell_type": "code",
   "execution_count": 16,
   "metadata": {
    "colab": {},
    "colab_type": "code",
    "id": "LR6TVB-DdOPf"
   },
   "outputs": [
    {
     "name": "stdout",
     "output_type": "stream",
     "text": [
      "Enter the 1st number : 10\n",
      "Enter the 2nd number : 12\n",
      "Enter the 3rd number : 11\n",
      " num2 is greater than num1 and num3\n",
      "Enter the 1st number : 47\n",
      "Enter the 2nd number : 40\n",
      "Enter the 3rd number : 50\n",
      "num3 is greater than num1 and num2\n"
     ]
    }
   ],
   "source": [
    "#W A P which takes three numbers from the user and prints below output:-\n",
    "#     1. num1 is greater than num2 and num3 if num1 is greater than num2 and num3\n",
    "#     2. num2 is greater than num1 and num3 if num2 is greater than num1 and num3\n",
    "#     3. num3 is greater than num1 and num2 if num3 is greater than num1 and num2\n",
    "\n",
    "#Note:- 1. Do this problem using if - elif - else \n",
    "#       2. Do this using ternary operator\n",
    "\n",
    "#1. Do this problem using if - else \n",
    "\n",
    "num1  = int(input('Enter the 1st number : '))\n",
    "num2  = int(input('Enter the 2nd number : '))\n",
    "num3  = int(input('Enter the 3rd number : '))\n",
    "if num1 > num2 and num1 > num3:\n",
    "    print(' num1 is greater than num2 and num3' )\n",
    "elif num2 > num1 and num2 > num3 :\n",
    "    print(' num2 is greater than num1 and num3') \n",
    "elif num3 > num1 and num3 >num2:\n",
    "    print(' num3 is greater than num1 and num2')\n",
    "    \n",
    "#2. Do this using ternary operator\n",
    "\n",
    "num1  = int(input('Enter the 1st number : '))\n",
    "num2  = int(input('Enter the 2nd number : '))   \n",
    "num3  = int(input('Enter the 3rd number : '))\n",
    "\n",
    "a = 'num1 is greater than num2 and num3' if num1>num2 and num1>num3 else 'num2 is greater than num1 and num3' if num2 > num1 and num2 >num3 else 'num3 is greater than num1 and num2'\n",
    "print(a)\n",
    "\n",
    "\n",
    "\n"
   ]
  },
  {
   "cell_type": "markdown",
   "metadata": {
    "colab_type": "text",
    "id": "IoOLQMUGdSox"
   },
   "source": [
    "# Loops - for loop, while loop"
   ]
  },
  {
   "cell_type": "code",
   "execution_count": 17,
   "metadata": {
    "colab": {},
    "colab_type": "code",
    "id": "9K23Uld8dQfA"
   },
   "outputs": [
    {
     "name": "stdout",
     "output_type": "stream",
     "text": [
      "55\n"
     ]
    }
   ],
   "source": [
    "#Write a Python program to find the length of the my_str using loop:-\n",
    "\n",
    "#Input:- 'Write a Python program to find the length of the my_str'\n",
    "#Outpu:- 55\n",
    "\n",
    "my_str = 'Write a Python program to find the length of the my_str'\n",
    "count = 0\n",
    "for i in my_str:\n",
    "    count+=1\n",
    "print (count)\n",
    "\n"
   ]
  },
  {
   "cell_type": "code",
   "execution_count": 31,
   "metadata": {
    "colab": {},
    "colab_type": "code",
    "id": "bp6AcqTsdYxy"
   },
   "outputs": [
    {
     "name": "stdout",
     "output_type": "stream",
     "text": [
      "9\n"
     ]
    }
   ],
   "source": [
    "#Write a Python program to find the total number of times letter 'p' is appeared in the below string using loop:-\n",
    "    \n",
    "#Input:- 'peter piper picked a peck of pickled peppers.\\n'\n",
    "#Output:- 9\n",
    "\n",
    "my_str = 'peter piper picked a peck of pickled peppers.\\n'\n",
    "count = 0\n",
    "for i in my_str:\n",
    "    if i == 'p':\n",
    "        count+=1\n",
    "print(count)"
   ]
  },
  {
   "cell_type": "code",
   "execution_count": 57,
   "metadata": {
    "colab": {},
    "colab_type": "code",
    "id": "xvxSBhTJdav1"
   },
   "outputs": [
    {
     "name": "stdout",
     "output_type": "stream",
     "text": [
      "0\n",
      "6\n",
      "8\n",
      "12\n",
      "21\n",
      "29\n",
      "37\n",
      "39\n",
      "40\n"
     ]
    }
   ],
   "source": [
    "#Write a Python Program, to print all the indexes of all occurences of letter 'p' appeared in the string using loop:-\n",
    "    \n",
    "#Input:- 'peter piper picked a peck of pickled peppers.'\n",
    "#Output:- \n",
    "# 0\n",
    "# 6\n",
    "# 8\n",
    "# 12\n",
    "# 21\n",
    "# 29\n",
    "# 37\n",
    "# 39\n",
    "# 40\n",
    "\n",
    "my_str = 'peter piper picked a peck of pickled peppers'\n",
    "for i in range(0,len(my_str)):\n",
    "    if my_str[i] == 'p':\n",
    "        print(i)"
   ]
  },
  {
   "cell_type": "code",
   "execution_count": 2,
   "metadata": {
    "colab": {},
    "colab_type": "code",
    "id": "79L_feMadbmw"
   },
   "outputs": [
    {
     "name": "stdout",
     "output_type": "stream",
     "text": [
      "['peter', 'piper', 'picked', 'a', 'peck', 'of', 'pickled', 'peppers.']\n"
     ]
    }
   ],
   "source": [
    "#Write a python program to find below output using loop:-\n",
    "\n",
    "#Input:- 'peter piper picked a peck of pickled peppers.'\n",
    "#Output:- ['peter', 'piper', 'picked', 'a', 'peck', 'of', 'pickled', 'peppers']\n",
    "\n",
    "my_str_split = 'peter piper picked a peck of pickled peppers.'\n",
    "lst = []\n",
    "sub= ''\n",
    "for i in my_str_split:\n",
    "    if i != ' ':\n",
    "        sub+=i\n",
    "    else:\n",
    "        lst.append(sub)\n",
    "        sub=''\n",
    "lst.append(sub)\n",
    "print(lst)"
   ]
  },
  {
   "cell_type": "code",
   "execution_count": 53,
   "metadata": {
    "colab": {},
    "colab_type": "code",
    "id": "vzs5AJ53deVS"
   },
   "outputs": [
    {
     "name": "stdout",
     "output_type": "stream",
     "text": [
      "peppers. pickled of peck a picked piper peter\n"
     ]
    }
   ],
   "source": [
    "#Write a python program to find below output using loop:-\n",
    "\n",
    "#Input:- 'peter piper picked a peck of pickled peppers.'\n",
    "#Output:- 'peppers pickled of peck a picked piper peter'\n",
    "\n",
    "my_str = 'peter piper picked a peck of pickled peppers.'\n",
    "sub = ''\n",
    "my_str1 = ''\n",
    "for i in range(-1,-len(my_str)-1,-1):\n",
    "    if my_str[i] != ' ':\n",
    "        sub+=my_str[i]\n",
    "    else:\n",
    "        my_str1+=sub[::-1]+' '\n",
    "        sub=''\n",
    "my_str1+=sub[::-1]\n",
    "print(my_str1)"
   ]
  },
  {
   "cell_type": "code",
   "execution_count": 56,
   "metadata": {
    "colab": {},
    "colab_type": "code",
    "id": "i-HP7DrCdhwS"
   },
   "outputs": [
    {
     "name": "stdout",
     "output_type": "stream",
     "text": [
      ".sreppep delkcip fo kcep a dekcip repip retep\n",
      ".sreppep delkcip fo kcep a dekcip repip retep\n"
     ]
    }
   ],
   "source": [
    "#Write a python program to find below output using loop:-\n",
    "\n",
    "#Input:- 'peter piper picked a peck of pickled peppers.'\n",
    "#Output:- '.sreppep delkcip fo kcep a dekcip repip retep'\n",
    "\n",
    "my_str = 'peter piper picked a peck of pickled peppers.'\n",
    "my_str1 = ''\n",
    "for i in range(-1,-len(my_str)-1,-1):\n",
    "    my_str1+=my_str[i]\n",
    "print(my_str1)"
   ]
  },
  {
   "cell_type": "code",
   "execution_count": 1,
   "metadata": {
    "colab": {},
    "colab_type": "code",
    "id": "3rt6p0ytdkq0"
   },
   "outputs": [
    {
     "name": "stdout",
     "output_type": "stream",
     "text": [
      "retep repip dekcip a kcep fo delkcip .sreppep\n"
     ]
    }
   ],
   "source": [
    "#Write a python program to find below output using loop:-\n",
    "\n",
    "#Input:- 'peter piper picked a peck of pickled peppers.'\n",
    "#Output:- 'retep repip dekcip a kcep fo delkcip sreppep'\n",
    "\n",
    "my_str = 'peter piper picked a peck of pickled peppers.'\n",
    "my_str1 = ''\n",
    "sub= ''\n",
    "for i in my_str:\n",
    "    if i != ' ':\n",
    "        sub+=i\n",
    "    else:\n",
    "        my_str1+=sub[::-1]+' '\n",
    "        sub=''\n",
    "my_str1+=sub[::-1]\n",
    "print(my_str1)\n"
   ]
  },
  {
   "cell_type": "code",
   "execution_count": 5,
   "metadata": {
    "colab": {},
    "colab_type": "code",
    "id": "HdlAWgT2dnKO"
   },
   "outputs": [
    {
     "name": "stdout",
     "output_type": "stream",
     "text": [
      "Peter Piper Picked A Peck Of Pickled Peppers.\n"
     ]
    }
   ],
   "source": [
    "#Write a python program to find below output using loop:-\n",
    "\n",
    "#Input:- 'peter piper picked a peck of pickled peppers.'\n",
    "#Output:- 'Peter Piper Picked A Peck Of Pickled Peppers'\n",
    "\n",
    "\n",
    "my_str = 'peter piper picked a peck of pickled peppers.'\n",
    "my_str1 = ''\n",
    "sub= ''\n",
    "for i in range (0,len(my_str)-1):\n",
    "    if i ==0:\n",
    "        my_str1=my_str[0].upper()\n",
    "    if my_str[i] == ' ':\n",
    "        my_str1+=my_str[i+1].upper()\n",
    "    else:\n",
    "        my_str1+=my_str[i+1]\n",
    "print(my_str1)"
   ]
  },
  {
   "cell_type": "code",
   "execution_count": 4,
   "metadata": {
    "colab": {},
    "colab_type": "code",
    "id": "OthUuacodrNl"
   },
   "outputs": [
    {
     "name": "stdout",
     "output_type": "stream",
     "text": [
      "peter piper picked a peck of pickled peppers.\n"
     ]
    }
   ],
   "source": [
    "#Write a python program to find below output using loop:-\n",
    "\n",
    "#Input:- 'Peter Piper Picked A Peck Of Pickled Peppers.'\n",
    "#Output:- 'Peter piper picked a peck of pickled peppers'\n",
    "\n",
    "my_str = 'Peter Piper Picked A Peck Of Pickled Peppers.'\n",
    "my_str1 = ''\n",
    "for i in range (0,len(my_str)-1):\n",
    "    if i ==0:\n",
    "        my_str1=my_str[0].lower()\n",
    "    if my_str[i] == ' ':\n",
    "        my_str1+=my_str[i+1].lower()\n",
    "    else:\n",
    "        my_str1+=my_str[i+1]\n",
    "print(my_str1)"
   ]
  },
  {
   "cell_type": "code",
   "execution_count": 53,
   "metadata": {
    "colab": {
     "base_uri": "https://localhost:8080/",
     "height": 34
    },
    "colab_type": "code",
    "id": "scmDJE-ldsI9",
    "outputId": "4b1d1979-9f4a-4bc6-c505-b88b1bbd4d5d"
   },
   "outputs": [
    {
     "name": "stdout",
     "output_type": "stream",
     "text": [
      "6\n"
     ]
    }
   ],
   "source": [
    "#Write a python program to implement index method using loop. If sub_str is found in my_str then it will print the index\n",
    "# of first occurrence of first character of matching string in my_str:-\n",
    "\n",
    "#Input:- my_str = 'Peter Piper Picked A Peck Of Pickled Peppers.', sub_str = 'Pickl'\n",
    "#Output:- 29\n",
    "\n",
    "my_str = 'Peter Piper Picked A Peck Of Pickled Peppers.'\n",
    "sub_str = 'Pi'\n",
    "sub = 0\n",
    "if sub_str in my_str:\n",
    "    for i in range (len(my_str)-1,0,-1):\n",
    "        sub = my_str[0:i]\n",
    "        if sub_str in sub:\n",
    "            continue\n",
    "        else:\n",
    "            ind = len(sub)-len(sub_str)+1\n",
    "            break\n",
    "print(ind)\n",
    "    \n",
    "\n",
    "            \n"
   ]
  },
  {
   "cell_type": "code",
   "execution_count": 41,
   "metadata": {
    "colab": {},
    "colab_type": "code",
    "id": "Kq_fwdb_dvYE"
   },
   "outputs": [
    {
     "name": "stdout",
     "output_type": "stream",
     "text": [
      "Peter Piper Picked A Pack Of Pickled Peppers.\n"
     ]
    }
   ],
   "source": [
    "#Write a python program to implement replace method using loop. If sub_str is found in my_str then it will replace the first \n",
    "#occurrence of sub_str with new_str else it will will print sub_str not found:-\n",
    "\n",
    "#Input:- my_str = 'Peter Piper Picked A Peck Of Pickled Peppers.', sub_str = 'Peck', new_str = 'Pack'\n",
    "#Output:- 'Peter Piper Picked A Pack Of Pickled Peppers.'\n",
    "\n",
    "my_str = 'Peter Piper Picked A Peck Of Pickled Peppers.'\n",
    "sub_str = 'Peck'\n",
    "new_str = 'Pack'\n",
    "my_str1 = ''\n",
    "\n",
    "if sub_str in my_str:\n",
    "    for i in range (len(my_str)-1,0,-1):\n",
    "        sub = my_str[0:i]\n",
    "        if sub_str in sub:\n",
    "            continue\n",
    "        else:\n",
    "            ind = len(sub)-len(sub_str)+1\n",
    "            break\n",
    "    my_str1+=my_str[0:ind]+new_str+my_str[ind+len(sub_str):len(my_str)]\n",
    "    print(my_str1)\n",
    "else:\n",
    "    print('sub_str not found')"
   ]
  },
  {
   "cell_type": "code",
   "execution_count": 48,
   "metadata": {
    "colab": {},
    "colab_type": "code",
    "id": "4Qes5D0cdyd1"
   },
   "outputs": [
    {
     "name": "stdout",
     "output_type": "stream",
     "text": [
      "*********************Peck********************\n"
     ]
    }
   ],
   "source": [
    "#Write a python program to find below output (implements rjust and ljust) using loop:-\n",
    "\n",
    "#Input:- 'Peter Piper Picked A Peck Of Pickled Peppers.', sub_str = 'Peck', \n",
    "#Output:- '*********************Peck********************'\n",
    "\n",
    "my_str ='Peter Piper Picked A Peck Of Pickled Peppers.'\n",
    "sub_str = 'Peck'\n",
    "new_str = ''\n",
    "if sub_str in my_str:\n",
    "    for i in range (len(my_str)-1,0,-1):\n",
    "        sub = my_str[0:i]\n",
    "        if sub_str in sub:\n",
    "            continue\n",
    "        else:\n",
    "            ind = len(sub)-len(sub_str)+1\n",
    "            break  \n",
    "    new_str = '*'*ind+sub_str+'*'*(len(my_str)-ind-len(sub_str))\n",
    "print(new_str)"
   ]
  },
  {
   "cell_type": "code",
   "execution_count": 17,
   "metadata": {
    "colab": {},
    "colab_type": "code",
    "id": "DsOrb07Od0lR"
   },
   "outputs": [
    {
     "name": "stdout",
     "output_type": "stream",
     "text": [
      "['This', 'is', 'Python class']\n"
     ]
    }
   ],
   "source": [
    "#Write a python program to find below output using loop:-\n",
    "\n",
    "#Input:- 'This is Python class', sep = 'is', \n",
    "#Output:- ['This', 'is', 'Python class']\n",
    "\n",
    "my_str = 'This is Python class'\n",
    "sep = 'is'\n",
    "lst =[]\n",
    "for i in range (0,len(my_str)):\n",
    "    sub = my_str[i:len(my_str)]\n",
    "    if sep in sub:\n",
    "        continue\n",
    "    else:\n",
    "        ind = len(sub)-len(sep)-i-1\n",
    "        break \n",
    "lst.append(my_str[0:ind].strip())\n",
    "lst.append(sep)\n",
    "lst.append(my_str[ind+len(sep):len(my_str)].strip())\n",
    "print(lst)"
   ]
  },
  {
   "cell_type": "code",
   "execution_count": 36,
   "metadata": {
    "colab": {},
    "colab_type": "code",
    "id": "jRnBVufmd2Ay"
   },
   "outputs": [
    {
     "name": "stdout",
     "output_type": "stream",
     "text": [
      "Enter the string to be encoded: Python\n",
      "R{vjqp\n",
      "Enter the string to be encoded: Python\n",
      "Rwvfql\n",
      "Enter the string to be encoded: Python\n",
      "R{vkfml\n"
     ]
    }
   ],
   "source": [
    "#Write a python program which takes one input string from user and encode it in below format:-\n",
    "    # 1. #Input:- 'Python'\n",
    "       #Output:- 'R{vjqp'\n",
    "        \n",
    "my_str = input('Enter the string to be encoded: ')\n",
    "my_str1= ''\n",
    "for i in my_str:\n",
    "    my_str1 +=chr(ord(i)+2)\n",
    "print(my_str1)   \n",
    "        \n",
    "        \n",
    "        \n",
    "\n",
    "    # 2. #Input:- 'Python'\n",
    "       #Output:- 'Rwvfql'\n",
    "my_str = input('Enter the string to be encoded: ')\n",
    "my_str1= ''\n",
    "for i in range(0,len(my_str)):\n",
    "    if i%2 == 0:\n",
    "        my_str1 +=chr(ord(my_str[i])+2)\n",
    "    else:\n",
    "        my_str1 +=chr(ord(my_str[i])-2)        \n",
    "print(my_str1)        \n",
    "        \n",
    "        \n",
    "        \n",
    "        \n",
    "    # 3. #Input:- 'Python'\n",
    "       #Output:- 'R{vkfml'\n",
    "\n",
    "\n",
    "my_str = input('Enter the string to be encoded: ')\n",
    "my_str1= ''\n",
    "for i in range(0,len(my_str)):\n",
    "    if i< len(my_str)/2:\n",
    "        my_str1 +=chr(ord(my_str[i])+2)\n",
    "    elif i> len(my_str)/2:\n",
    "        my_str1 +=chr(ord(my_str[i])-2)\n",
    "    else:\n",
    "        my_str1 +=chr(ord(my_str[i])+3)+chr(ord(my_str[i])-2) \n",
    "print(my_str1)        \n",
    "    "
   ]
  }
 ],
 "metadata": {
  "colab": {
   "name": "Conditional_and_loop_assignment.ipynb",
   "provenance": []
  },
  "kernelspec": {
   "display_name": "Python 3",
   "language": "python",
   "name": "python3"
  },
  "language_info": {
   "codemirror_mode": {
    "name": "ipython",
    "version": 3
   },
   "file_extension": ".py",
   "mimetype": "text/x-python",
   "name": "python",
   "nbconvert_exporter": "python",
   "pygments_lexer": "ipython3",
   "version": "3.8.3"
  }
 },
 "nbformat": 4,
 "nbformat_minor": 1
}
