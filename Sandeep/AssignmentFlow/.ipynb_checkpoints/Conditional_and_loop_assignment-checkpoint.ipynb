{
 "cells": [
  {
   "cell_type": "markdown",
   "metadata": {
    "colab_type": "text",
    "id": "wNRNTbrsc53d"
   },
   "source": [
    "# If - elif - else statement"
   ]
  },
  {
   "cell_type": "code",
   "execution_count": 1,
   "metadata": {
    "colab": {},
    "colab_type": "code",
    "id": "MiPfTnBycxNa"
   },
   "outputs": [
    {
     "name": "stdout",
     "output_type": "stream",
     "text": [
      "Enter a number: 5\n",
      "Five\n"
     ]
    }
   ],
   "source": [
    "#W. A P. which takes one number from 0 to 9 from the user and prints it in the word. And if the word is not from 0 to 9 then\n",
    "#it should print that number is outside of the range and program should exit.\n",
    "# For exapmple:- \n",
    "# input = 1\n",
    "# output = one\n",
    "\n",
    "input1 = int(input(\"Enter a number: \"))\n",
    "if input1 == 1:\n",
    "    print(\"One\")\n",
    "elif input1 == 2:\n",
    "    print(\"Two\")\n",
    "elif input1 == 3:\n",
    "    print(\"Three\")\n",
    "elif input1 == 4:\n",
    "    print(\"Four\")\n",
    "elif input1 == 5:\n",
    "    print(\"Five\")\n",
    "elif input1 == 6:\n",
    "    print(\"Six\")\n",
    "elif input1 == 7:\n",
    "    print(\"Seven\")\n",
    "elif input1 == 8:\n",
    "    print(\"Eight\")\n",
    "elif input1 == 9:\n",
    "    print(\"Nine\")\n",
    "else:\n",
    "    print(\"Number is outside of range\")"
   ]
  },
  {
   "cell_type": "code",
   "execution_count": 2,
   "metadata": {
    "colab": {},
    "colab_type": "code",
    "id": "vEMNOv9zdA39"
   },
   "outputs": [
    {
     "name": "stdout",
     "output_type": "stream",
     "text": [
      "Enter 1st number: 20\n",
      "Enter 2nd number: 4\n",
      "Please select any one operation from below:- \n",
      "             To add enter 1\n",
      "             to subtract enter 2\n",
      "             To multiply enter 3\n",
      "             To divide enter 4\n",
      "             To divide and find quotient enter 5\n",
      "             To divide and find remainder enter 6\n",
      "             To find num1 to the power of num2 enter 7\n",
      "             To Come out of the program enter 8\n",
      "             4\n",
      "Output of Division is 5.0\n"
     ]
    }
   ],
   "source": [
    "#W. A P. to implement calculator but the operation to be done and two numbers will be taken as input from user:-\n",
    "#Operation console should show below:-\n",
    "#     Please select any one operation from below:-\n",
    "#         * To add enter 1\n",
    "#         * to subtract enter 2\n",
    "#         * To multiply enter 3\n",
    "#         * To divide enter 4\n",
    "#         * To divide and find quotient enter 5\n",
    "#         * To divide and find remainder enter 6\n",
    "#         * To divide and find num1 to the power of num2 enter 7\n",
    "#         * To Come out of the program enter 8\n",
    "\n",
    "num1 = int(input(\"Enter 1st number: \"))\n",
    "num2 = int(input(\"Enter 2nd number: \"))\n",
    "num3 = input(\"\"\"Please select any one operation from below:- \n",
    "             To add enter 1\n",
    "             to subtract enter 2\n",
    "             To multiply enter 3\n",
    "             To divide enter 4\n",
    "             To divide and find quotient enter 5\n",
    "             To divide and find remainder enter 6\n",
    "             To find num1 to the power of num2 enter 7\n",
    "             To Come out of the program enter 8\n",
    "             \"\"\")\n",
    "if num3 == '1':\n",
    "    print(\"Output of Addition is\",num1+num2)\n",
    "elif num3 == '2':\n",
    "    if num1 > num2:\n",
    "        print(\"Output of Subtraction is\",num1-num2)\n",
    "    else:\n",
    "        print(\"Output of Subtraction is\",num2-num1)\n",
    "elif num3 == '3':\n",
    "    print(\"Output of Multiplication is\",num1*num2)\n",
    "elif num3 == '4':\n",
    "    if num1 > num2:\n",
    "        print(\"Output of Division is\",num1/num2)\n",
    "    else:\n",
    "        print(\"Output of Division is\",num2/num1)\n",
    "elif num3 == '5':\n",
    "    if num1 > num2:\n",
    "        print(\"Quotient is\",num1//num2)\n",
    "    else:\n",
    "        print(\"Quotient is\",num2//num1)\n",
    "elif num3 == '6':\n",
    "    if num1 > num2:\n",
    "        print(\"Remainder is\",num1%num2)\n",
    "    else:\n",
    "        print(\"Remainder is\",num2%num1)\n",
    "elif num3 == '7':\n",
    "    print(\"Num1 to the power num2 is\",num1**num2)\n",
    "else:\n",
    "    print(\"Please enter proper option\")\n",
    "\n"
   ]
  },
  {
   "cell_type": "code",
   "execution_count": null,
   "metadata": {
    "colab": {},
    "colab_type": "code",
    "id": "1e2gwYLqdC1s"
   },
   "outputs": [],
   "source": [
    "#W A P to check whether a year entered by user is an leap year or not?\n",
    "#Check with below input:-\n",
    "    #leap year:- 2012, 1968, 2004, 1200, 1600,2400\n",
    "    #Non-lear year:- 1971, 2006, 1700,1800,1900\n",
    "    \n",
    "year = int(input(\"Enter a year: \"))  \n",
    "if (year % 4) == 0:  \n",
    "   if (year % 100) == 0:  \n",
    "       if (year % 400) == 0:  \n",
    "           print(\"{0} is a leap year\".format(year))  \n",
    "       else:  \n",
    "           print(\"{0} is not a leap year\".format(year))  \n",
    "   else:  \n",
    "       print(\"{0} is a leap year\".format(year))  \n",
    "else:  \n",
    "   print(\"{0} is not a leap year\".format(year))\n",
    "    \n"
   ]
  },
  {
   "cell_type": "code",
   "execution_count": 4,
   "metadata": {
    "colab": {},
    "colab_type": "code",
    "id": "_tpXv1EtdEre"
   },
   "outputs": [
    {
     "name": "stdout",
     "output_type": "stream",
     "text": [
      "Enter a number: 45\n",
      "Number is odd\n"
     ]
    }
   ],
   "source": [
    "#W A P which takes one number from the user and checks whether it is an even or odd number?, If it even then prints number is \n",
    "#even number else prints that number is odd number.\n",
    "\n",
    "num1 = int(input(\"Enter a number: \"))\n",
    "if num1%2 == 0:\n",
    "    print(\"Number is even\")\n",
    "else:\n",
    "    print(\"Number is odd\")\n",
    "\n"
   ]
  },
  {
   "cell_type": "code",
   "execution_count": 9,
   "metadata": {
    "colab": {},
    "colab_type": "code",
    "id": "Q1HumymCdG6i"
   },
   "outputs": [
    {
     "name": "stdout",
     "output_type": "stream",
     "text": [
      "Enter 1st number: 45\n",
      "Enter 2nd number: 32\n",
      "num1 is greater than num2\n"
     ]
    }
   ],
   "source": [
    "#W A P which takes two numbers from the user and prints below output:-\n",
    "#     1. num1 is greater than num2 if num1 is greater than num2\n",
    "#     2. num1 is smaller than num2 if num1 is smaller than num2\n",
    "#     3. num1 is equal to num2 if num1 and num2 are equal\n",
    "\n",
    "#Note:- 1. Do this problem using if - else \n",
    "#       2. Do this using ternary operator\n",
    "\n",
    "num1 = int(input(\"Enter 1st number: \"))\n",
    "num2 = int(input(\"Enter 2nd number: \"))\n",
    "\n",
    "#Using if else\n",
    "\n",
    "if num1 > num2:\n",
    "    print(\"num1 is greater than num2\")\n",
    "elif num1 < num2:\n",
    "    print(\"num1 is smaller than num2\")\n",
    "else:\n",
    "    print(\"num1 is equal to num2\")\n",
    "    \n",
    "#Using Ternary\n",
    "print(\"num1 is greater than num2\" if num1>num2 else \"num1 is smaller than num2\" if num1<num2 else \"num1 is equal to num2\")"
   ]
  },
  {
   "cell_type": "code",
   "execution_count": 11,
   "metadata": {
    "colab": {},
    "colab_type": "code",
    "id": "LR6TVB-DdOPf"
   },
   "outputs": [
    {
     "name": "stdout",
     "output_type": "stream",
     "text": [
      "Enter 1st number: 45\n",
      "Enter 2nd number: 1\n",
      "Enter 3rd number: 2\n",
      "num1 is greater than num2 and num3\n"
     ]
    }
   ],
   "source": [
    "#W A P which takes three numbers from the user and prints below output:-\n",
    "#     1. num1 is greater than num2 and num3 if num1 is greater than num2 and num3\n",
    "#     2. num2 is greater than num1 and num3 if num2 is greater than num1 and num3\n",
    "#     3. num3 is greater than num1 and num2 if num3 is greater than num1 and num2\n",
    "\n",
    "#Note:- 1. Do this problem using if - elif - else \n",
    "#       2. Do this using ternary operator\n",
    "\n",
    "num1 = int(input(\"Enter 1st number: \"))\n",
    "num2 = int(input(\"Enter 2nd number: \"))\n",
    "num3 = int(input(\"Enter 3rd number: \"))\n",
    "\n",
    "#Using if else\n",
    "# if num1 > num2 and num1 > num3:\n",
    "#     print(\"num1 is greater than num2 and num3\")\n",
    "# elif num2 > num3:\n",
    "#     print(\"num2 is greater than num1 and num3\")\n",
    "# else:\n",
    "#     print(\"num3 is greater than num1 and num2\")\n",
    "\n",
    "\n",
    "# a = a if a>b else b\n",
    "#expr if cond1 else expr2 if cond2 else expr3\n",
    "print(\"num1 is greater than num2 and num3\" if num1>num2 and num1>num3 else \"num2 is greater than num1 and num3\" if num2>num3 else \"num3 is greater than num1 and num2\")"
   ]
  },
  {
   "cell_type": "markdown",
   "metadata": {
    "colab_type": "text",
    "id": "IoOLQMUGdSox"
   },
   "source": [
    "# Loops - for loop, while loop"
   ]
  },
  {
   "cell_type": "code",
   "execution_count": 14,
   "metadata": {
    "colab": {},
    "colab_type": "code",
    "id": "9K23Uld8dQfA"
   },
   "outputs": [
    {
     "name": "stdout",
     "output_type": "stream",
     "text": [
      "55\n"
     ]
    }
   ],
   "source": [
    "#Write a Python program to find the length of the my_str using loop:-\n",
    "\n",
    "#Input:- 'Write a Python program to find the length of the my_str'\n",
    "#Output:- 55\n",
    "\n",
    "str1 = 'Write a Python program to find the length of the my_str'\n",
    "count = 0\n",
    "for i in str1:\n",
    "    count += 1\n",
    "print(count)\n"
   ]
  },
  {
   "cell_type": "code",
   "execution_count": 23,
   "metadata": {
    "colab": {},
    "colab_type": "code",
    "id": "bp6AcqTsdYxy"
   },
   "outputs": [
    {
     "name": "stdout",
     "output_type": "stream",
     "text": [
      "Total number of times letter p is appeared - 9\n"
     ]
    }
   ],
   "source": [
    "#Write a Python program to find the total number of times letter 'p' is appeared in the below string using loop:-\n",
    "    \n",
    "#Input:- 'peter piper picked a peck of pickled peppers.\\n'\n",
    "#Output:- 9\n",
    "\n",
    "str1 = 'peter piper picked a peck of pickled peppers.\\n'\n",
    "count = 0\n",
    "for i in range(len(str1)):\n",
    "     if str1[i] == 'p':\n",
    "         count += 1\n",
    "print(\"Total number of times letter p is appeared -\",+count)"
   ]
  },
  {
   "cell_type": "code",
   "execution_count": 24,
   "metadata": {
    "colab": {},
    "colab_type": "code",
    "id": "xvxSBhTJdav1"
   },
   "outputs": [
    {
     "name": "stdout",
     "output_type": "stream",
     "text": [
      "0\n",
      "6\n",
      "8\n",
      "12\n",
      "21\n",
      "29\n",
      "37\n",
      "39\n",
      "40\n"
     ]
    }
   ],
   "source": [
    "#Write a Python Program, to print all the indexes of all occurences of letter 'p' appeared in the string using loop:-\n",
    "    \n",
    "#Input:- 'peter piper picked a peck of pickled peppers.'\n",
    "#Output:- \n",
    "# 0\n",
    "# 6\n",
    "# 8\n",
    "# 12\n",
    "# 21\n",
    "# 29\n",
    "# 37\n",
    "# 39\n",
    "# 40\n",
    "\n",
    "input1 = 'peter piper picked a peck of pickled peppers.'\n",
    "for i in range(len(input1)):\n",
    "    if input1[i] == 'p':\n",
    "        print(i)"
   ]
  },
  {
   "cell_type": "code",
   "execution_count": 71,
   "metadata": {
    "colab": {},
    "colab_type": "code",
    "id": "79L_feMadbmw"
   },
   "outputs": [
    {
     "name": "stdout",
     "output_type": "stream",
     "text": [
      "['peter', 'piper', 'picked', 'a', 'peck', 'of', 'pickled', 'peppers.']\n"
     ]
    }
   ],
   "source": [
    "#Write a python program to find below output using loop:-\n",
    "\n",
    "#Input:- 'peter piper picked a peck of pickled peppers.'\n",
    "#Output:- ['peter', 'piper', 'picked', 'a', 'peck', 'of', 'pickled', 'peppers']\n",
    "\n",
    "str1 = 'peter piper picked a peck of pickled peppers.'\n",
    "lst = []\n",
    "str2 = ''\n",
    "for i in range(len(str1)):\n",
    "    if str1[i] != ' ':\n",
    "        str2 += str1[i]\n",
    "    else:\n",
    "        lst.append(str2)\n",
    "        str2 = ''\n",
    "lst.append(str2)\n",
    "print(lst)"
   ]
  },
  {
   "cell_type": "code",
   "execution_count": 72,
   "metadata": {
    "colab": {},
    "colab_type": "code",
    "id": "vzs5AJ53deVS"
   },
   "outputs": [
    {
     "name": "stdout",
     "output_type": "stream",
     "text": [
      "['peppers.', 'pickled', 'of', 'peck', 'a', 'picked', 'piper']\n"
     ]
    }
   ],
   "source": [
    "#Write a python program to find below output using loop:-\n",
    "\n",
    "#Input:- 'peter piper picked a peck of pickled peppers.'\n",
    "#Output:- 'peppers pickled of peck a picked piper peter'\n",
    "str1 = 'peter piper picked a peck of pickled peppers.'\n",
    "lst = []\n",
    "str2 = ''\n",
    "for i in str1:\n",
    "    if i != ' ':\n",
    "        str2 = str2 + i\n",
    "    else:\n",
    "        lst.append(str2)\n",
    "        str2 = ''\n",
    "lst.append(str2)\n",
    "print(lst[-1:-len(lst):-1])\n"
   ]
  },
  {
   "cell_type": "code",
   "execution_count": 7,
   "metadata": {
    "colab": {},
    "colab_type": "code",
    "id": "i-HP7DrCdhwS"
   },
   "outputs": [
    {
     "name": "stdout",
     "output_type": "stream",
     "text": [
      ".sreppep delkcip fo kcep a dekcip repip retep\n"
     ]
    }
   ],
   "source": [
    "#Write a python program to find below output using loop:-\n",
    "\n",
    "#Input:- 'peter piper picked a peck of pickled peppers.'\n",
    "#Output:- '.sreppep delkcip fo kcep a dekcip repip retep'\n",
    "\n",
    "inp1 = 'peter piper picked a peck of pickled peppers.'\n",
    "op1 = ''\n",
    "for i in range(-1,-(len(inp1)+1),-1):\n",
    "    op1 = op1 + inp1[i]\n",
    "print(op1)\n"
   ]
  },
  {
   "cell_type": "code",
   "execution_count": 135,
   "metadata": {
    "colab": {},
    "colab_type": "code",
    "id": "3rt6p0ytdkq0"
   },
   "outputs": [
    {
     "name": "stdout",
     "output_type": "stream",
     "text": [
      "retep repip dekcip a kcep fo delkcip .sreppep\n"
     ]
    }
   ],
   "source": [
    "#Write a python program to find below output using loop:-\n",
    "\n",
    "#Input:- 'peter piper picked a peck of pickled peppers.'\n",
    "#Output:- 'retep repip dekcip a kcep fo delkcip sreppep'\n",
    "\n",
    "str1 = 'peter piper picked a peck of pickled peppers.'\n",
    "str2 = ''\n",
    "final_op = ''\n",
    "rev = ''\n",
    "for i in str1:\n",
    "    if i != ' ':\n",
    "        str2 += i\n",
    "    else:\n",
    "        \n",
    "        for j in range(-1,-(len(str2)+1),-1):\n",
    "            rev += str2[j]\n",
    "        final_op += rev\n",
    "        str2 = ''\n",
    "        rev = ' '\n",
    "for j in range(-1,-(len(str2)+1),-1):\n",
    "    \n",
    "    rev += str2[j]\n",
    "final_op += rev\n",
    "print(final_op)\n",
    "            \n",
    "\n"
   ]
  },
  {
   "cell_type": "code",
   "execution_count": 103,
   "metadata": {
    "colab": {},
    "colab_type": "code",
    "id": "HdlAWgT2dnKO"
   },
   "outputs": [
    {
     "name": "stdout",
     "output_type": "stream",
     "text": [
      "Peter Piper Picked A Peck Of Pickled Peppers.\n"
     ]
    }
   ],
   "source": [
    "#Write a python program to find below output using loop:-\n",
    "\n",
    "#Input:- 'peter piper picked a peck of pickled peppers.'\n",
    "#Output:- 'Peter Piper Picked A Peck Of Pickled Peppers'\n",
    "\n",
    "input1 = 'peter piper picked a peck of pickled peppers.'\n",
    "str2 = ''\n",
    "final_op = ''\n",
    "count = 0\n",
    "for i in range(len(input1)):\n",
    "    if input1[i] != ' ':\n",
    "        str2 = str2 + input1[i]\n",
    "    else:\n",
    "        count += 1\n",
    "        if count > 1:\n",
    "            str2 = str2.replace(str2[1],str2[1].upper(),1)\n",
    "            \n",
    "        else:\n",
    "            str2 = str2.replace(str2[0],str2[0].upper(),1)\n",
    "        final_op += str2\n",
    "        str2 = ' '\n",
    "final_op += str2.replace(str2[1],str2[1].upper(),1)\n",
    "print(final_op)"
   ]
  },
  {
   "cell_type": "code",
   "execution_count": 90,
   "metadata": {
    "colab": {},
    "colab_type": "code",
    "id": "OthUuacodrNl"
   },
   "outputs": [
    {
     "name": "stdout",
     "output_type": "stream",
     "text": [
      "Peter piper picked a peck of pickled peppers.\n"
     ]
    }
   ],
   "source": [
    "#Write a python program to find below output using loop:-\n",
    "\n",
    "#Input:- 'Peter Piper Picked A Peck Of Pickled Peppers.'\n",
    "#Output:- 'Peter piper picked a peck of pickled peppers'\n",
    "\n",
    "input1 = 'Peter Piper Picked A Peck Of Pickled Peppers.'\n",
    "str2 = ''\n",
    "final_op = ''\n",
    "count = 0\n",
    "for i in range(len(input1)):\n",
    "    if input1[i] != ' ':\n",
    "        \n",
    "        str2 = str2 + input1[i]\n",
    "    else:\n",
    "        count += 1\n",
    "        if count > 1:\n",
    "            str2 = str2.replace(str2,str2.lower())\n",
    "            final_op += str2\n",
    "        else:\n",
    "            final_op += str2\n",
    "        str2 = ' '\n",
    "final_op += str2.lower()\n",
    "print(final_op)"
   ]
  },
  {
   "cell_type": "code",
   "execution_count": 35,
   "metadata": {
    "colab": {
     "base_uri": "https://localhost:8080/",
     "height": 34
    },
    "colab_type": "code",
    "id": "scmDJE-ldsI9",
    "outputId": "4b1d1979-9f4a-4bc6-c505-b88b1bbd4d5d"
   },
   "outputs": [
    {
     "name": "stdout",
     "output_type": "stream",
     "text": [
      "29\n"
     ]
    }
   ],
   "source": [
    "#Write a python program to implement index method using loop. If sub_str is found in my_str then it will print the index\n",
    "# of first occurrence of first character of matching string in my_str:-\n",
    "\n",
    "#Input:- my_str = 'Peter Piper Picked A Peck Of Pickled Peppers.', sub_str = 'Pickl'\n",
    "#Output:- 29\n",
    "\n",
    "inp1 = 'Peter Piper Picked A Peck Of Pickled Peppers.'\n",
    "sub_str = 'Pickl'\n",
    "str2 = ''\n",
    "for i in range(len(inp1)):\n",
    "    if inp1[i] == ' ':\n",
    "        str2 = ''\n",
    "    else:\n",
    "        str2 = str2 + inp1[i]\n",
    "    if(str2 == sub_str):\n",
    "        print(i-(len(sub_str)-1))\n"
   ]
  },
  {
   "cell_type": "code",
   "execution_count": 116,
   "metadata": {
    "colab": {},
    "colab_type": "code",
    "id": "Kq_fwdb_dvYE"
   },
   "outputs": [
    {
     "name": "stdout",
     "output_type": "stream",
     "text": [
      "Peter Piper Picked A Pack Of Pickled Peppers.\n"
     ]
    }
   ],
   "source": [
    "#Write a python program to implement replace method using loop. If sub_str is found in my_str then it will replace the first \n",
    "#occurrence of sub_str with new_str else it will will print sub_str not found:-\n",
    "\n",
    "#Input:- my_str = 'Peter Piper Picked A Peck Of Pickled Peppers.', sub_str = 'Peck', new_str = 'Pack'\n",
    "#Output:- 'Peter Piper Picked A Pack Of Pickled Peppers.'\n",
    "\n",
    "inp1 = 'Peter Piper Picked A Peck Of Pickled Peppers.'\n",
    "str2 = ''\n",
    "final_op = ''\n",
    "for i in inp1:\n",
    "    if i != ' ':\n",
    "        str2 += i\n",
    "    else:\n",
    "        if str2 == ' Peck':\n",
    "            str2 = str2.replace('Peck','Pack',1)\n",
    "        final_op += str2\n",
    "        str2 = ' '\n",
    "final_op += str2\n",
    "print(final_op)\n"
   ]
  },
  {
   "cell_type": "code",
   "execution_count": 117,
   "metadata": {
    "colab": {},
    "colab_type": "code",
    "id": "4Qes5D0cdyd1"
   },
   "outputs": [
    {
     "name": "stdout",
     "output_type": "stream",
     "text": [
      "*******************Peck*******************\n"
     ]
    }
   ],
   "source": [
    "#Write a python program to find below output (implements rjust and ljust) using loop:-\n",
    "\n",
    "#Input:- 'Peter Piper Picked A Peck Of Pickled Peppers.', sub_str = 'Peck', \n",
    "#Output:- '*********************Peck********************'\n",
    "\n",
    "\n",
    "inp1 = 'Peter Piper Picked A Peck Of Pickled Peppers.'\n",
    "sub_str = 'Peck'\n",
    "str2 = ''\n",
    "for i in range(len(inp1)):\n",
    "    if inp1[i] == ' ':\n",
    "        str2 = ''\n",
    "    else:\n",
    "        str2 = str2 + inp1[i]\n",
    "    if(str2 == sub_str):\n",
    "        print(sub_str.center(len(inp1)-(len(sub_str)-1),'*'))\n"
   ]
  },
  {
   "cell_type": "code",
   "execution_count": 16,
   "metadata": {
    "colab": {},
    "colab_type": "code",
    "id": "DsOrb07Od0lR"
   },
   "outputs": [
    {
     "name": "stdout",
     "output_type": "stream",
     "text": [
      "7\n",
      "['This', ' is', ' Python class']\n"
     ]
    }
   ],
   "source": [
    "#Write a python program to find below output using loop:-\n",
    "\n",
    "#Input:- 'This is Python class', sep = 'is', \n",
    "#Output:- ['This', 'is', 'Python class']\n",
    "\n",
    "str1 = 'This is Python class'\n",
    "lst = []\n",
    "sub_str = ' is'\n",
    "    \n",
    "index1 = str1.find(' is')\n",
    "lst.append(str1[0:index1])\n",
    "lst.append(sub_str)\n",
    "lst.append(str1[index1+len(sub_str):len(str1)])\n",
    "print(lst)"
   ]
  },
  {
   "cell_type": "code",
   "execution_count": 5,
   "metadata": {
    "colab": {},
    "colab_type": "code",
    "id": "jRnBVufmd2Ay"
   },
   "outputs": [
    {
     "name": "stdout",
     "output_type": "stream",
     "text": [
      "R{vjqp\n",
      "Rwvfql\n"
     ]
    }
   ],
   "source": [
    "#Write a python program which takes one input string from user and encode it in below format:-\n",
    "    # 1. #Input:- 'Python'\n",
    "       #Output:- 'R{vjqp'\n",
    "        \n",
    "inp1 = 'Python'\n",
    "op1 = ''\n",
    "for i in inp1:\n",
    "    op1 += chr(ord(i)+2)\n",
    "print(op1)\n",
    "        \n",
    "        \n",
    "        \n",
    "\n",
    "    # 2. #Input:- 'Python'\n",
    "       #Output:- 'Rwvfql'\n",
    "inp2 = 'Python'\n",
    "op2 = ''\n",
    "for i in range(len(inp2)):\n",
    "    if i%2 == 0:\n",
    "        op2 += chr(ord(inp2[i])+2)\n",
    "    else:\n",
    "        op2 += chr(ord(inp2[i])-2)\n",
    "    \n",
    "print(op2)\n",
    "        \n",
    "        \n",
    "        \n",
    "        \n",
    "    # 3. #Input:- 'Python'\n",
    "       #Output:- 'R{vkfml'\n"
   ]
  }
 ],
 "metadata": {
  "colab": {
   "name": "Conditional_and_loop_assignment.ipynb",
   "provenance": []
  },
  "kernelspec": {
   "display_name": "Python 3",
   "language": "python",
   "name": "python3"
  },
  "language_info": {
   "codemirror_mode": {
    "name": "ipython",
    "version": 3
   },
   "file_extension": ".py",
   "mimetype": "text/x-python",
   "name": "python",
   "nbconvert_exporter": "python",
   "pygments_lexer": "ipython3",
   "version": "3.8.3"
  }
 },
 "nbformat": 4,
 "nbformat_minor": 1
}
