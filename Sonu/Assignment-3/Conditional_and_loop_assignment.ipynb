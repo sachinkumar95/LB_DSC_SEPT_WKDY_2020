{
 "cells": [
  {
   "cell_type": "markdown",
   "metadata": {
    "colab_type": "text",
    "id": "wNRNTbrsc53d"
   },
   "source": [
    "# If - elif - else statement"
   ]
  },
  {
   "cell_type": "code",
   "execution_count": 12,
   "metadata": {
    "colab": {},
    "colab_type": "code",
    "id": "MiPfTnBycxNa"
   },
   "outputs": [
    {
     "name": "stdout",
     "output_type": "stream",
     "text": [
      "Enter the number between 0-9: 1\n",
      "One\n"
     ]
    }
   ],
   "source": [
    "#W. A P. which takes one number from 0 to 9 from the user and prints it in the word. And if the word is not from 0 to 9 then\n",
    "#it should print that number is outside of the range and program should exit.\n",
    "# For exapmple:- \n",
    "# input = 1\n",
    "# output = one\n",
    "\n",
    "num = int(input('Enter the number between 0-9: '))\n",
    "numwords = {0 : 'Zero', 1: 'One', 2: 'Two', 3: 'Three', 4: 'Four', 5: 'Five', 6: 'Six', 7 : 'Seven', \n",
    "            8: 'Eight', 9: 'Nine'}\n",
    "\n",
    "if (num > 0) and (num < 9):\n",
    "    print(numwords[num])\n",
    "    \n",
    "else:\n",
    "    print('Number is outside of the range')\n",
    "\n"
   ]
  },
  {
   "cell_type": "code",
   "execution_count": 2,
   "metadata": {
    "colab": {},
    "colab_type": "code",
    "id": "vEMNOv9zdA39"
   },
   "outputs": [
    {
     "name": "stdout",
     "output_type": "stream",
     "text": [
      "Enter the first number:90\n",
      "Enter the Second number:40\n",
      "Please select any one operation from below:-\n",
      "         * To add enter 1\n",
      "         * to subtract enter 2\n",
      "         * To multiply enter 3\n",
      "         * To divide enter 4\n",
      "         * To divide and find quotient enter 5\n",
      "         * To divide and find remainder enter 6\n",
      "         * To divide and find num1 to the power of num2 enter 7\n",
      "         * To Come out of the program enter \n",
      "\t3\n",
      "Multiplication: 3600\n"
     ]
    }
   ],
   "source": [
    "#W. A P. to implement calculator but the operation to be done and two numbers will be taken as input from user:-\n",
    "#Operation console should show below:-\n",
    "#     Please select any one operation from below:-\n",
    "#         * To add enter 1\n",
    "#         * to subtract enter 2\n",
    "#         * To multiply enter 3\n",
    "#         * To divide enter 4\n",
    "#         * To divide and find quotient enter 5\n",
    "#         * To divide and find remainder enter 6\n",
    "#         * To divide and find num1 to the power of num2 enter 7\n",
    "#         * To Come out of the program enter 8\n",
    "\n",
    "num1 = int(input('Enter the first number:'))\n",
    "num2 = int(input('Enter the Second number:'))\n",
    "op = int(input('''Please select any one operation from below:-\n",
    "         * To add enter 1\n",
    "         * to subtract enter 2\n",
    "         * To multiply enter 3\n",
    "         * To divide enter 4\n",
    "         * To divide and find quotient enter 5\n",
    "         * To divide and find remainder enter 6\n",
    "         * To divide and find num1 to the power of num2 enter 7\n",
    "         * To Come out of the program enter \\n\\t'''))\n",
    "if op == 1:\n",
    "    print('Addition:',num1+num2)\n",
    "elif op == 2:\n",
    "    if num1 > num2:\n",
    "        print('subtraction:',num1-num2)\n",
    "    else:\n",
    "        print('subtraction:',num2-num1)\n",
    "elif op == 3:\n",
    "    print('Multiplication:',num1*num2)\n",
    "elif op == 4:\n",
    "    if num1 > num2:\n",
    "        print('division:',num1/num2)\n",
    "    else:\n",
    "        print('division:',num2/num1)\n",
    "elif op == 5:\n",
    "    print('To divide and find remainder:',num1%num2)\n",
    "elif op == 6:\n",
    "    if num1 > num2:\n",
    "        print('To divide and find quotient',num1//num2)\n",
    "    else:\n",
    "        print('To divide and find quotient',num2//num1)\n",
    "elif op == 7:\n",
    "    print('To divide and find num1 to the power of num2',num1**num2)\n",
    "else:\n",
    "    exit()\n",
    "\n"
   ]
  },
  {
   "cell_type": "code",
   "execution_count": 13,
   "metadata": {
    "colab": {},
    "colab_type": "code",
    "id": "1e2gwYLqdC1s"
   },
   "outputs": [
    {
     "name": "stdout",
     "output_type": "stream",
     "text": [
      "Enter the year:2012\n",
      "year is leap year\n"
     ]
    }
   ],
   "source": [
    "#W A P to check whether a year entered by user is an leap year or not?\n",
    "#Check with below input:-\n",
    "    #leap year:- 2012, 1968, 2004, 1200, 1600,2400\n",
    "    #Non-lear year:- 1971, 2006, 1700,1800,1900\n",
    "    \n",
    "year = int(input(\"Enter the year:\"))\n",
    "if year%4 == 0:\n",
    "    if year%100 == 0:\n",
    "        if year%400 == 0:\n",
    "            print('year is leap year')\n",
    "        else:\n",
    "            print('year is not leap year')\n",
    "    else:\n",
    "        print('year is leap year')\n",
    "else:\n",
    "    print('year is not leap year')\n",
    "    \n",
    "        \n",
    "    "
   ]
  },
  {
   "cell_type": "code",
   "execution_count": 15,
   "metadata": {
    "colab": {},
    "colab_type": "code",
    "id": "_tpXv1EtdEre"
   },
   "outputs": [
    {
     "name": "stdout",
     "output_type": "stream",
     "text": [
      "Enter the number:64\n",
      "Number is even\n"
     ]
    }
   ],
   "source": [
    "#W A P which takes one number from the user and checks whether it is an even or odd number?, If it even then prints number is \n",
    "#even number else prints that number is odd number.\n",
    "\n",
    "num = int(input('Enter the number:'))\n",
    "if num%2 == 0:\n",
    "    print('Number is even')\n",
    "else:\n",
    "    print('Number is odd')\n",
    "\n",
    "\n"
   ]
  },
  {
   "cell_type": "code",
   "execution_count": 17,
   "metadata": {
    "colab": {},
    "colab_type": "code",
    "id": "Q1HumymCdG6i"
   },
   "outputs": [
    {
     "name": "stdout",
     "output_type": "stream",
     "text": [
      "Enter the first number:200\n",
      "Enter the Second number200\n",
      "num1 is equal to num2\n"
     ]
    }
   ],
   "source": [
    "#W A P which takes two numbers from the user and prints below output:-\n",
    "#     1. num1 is greater than num2 if num1 is greater than num2\n",
    "#     2. num1 is smaller than num2 if num1 is smaller than num2\n",
    "#     3. num1 is equal to num2 if num1 and num2 are equal\n",
    "\n",
    "#Note:- 1. Do this problem using if - else \n",
    "#       2. Do this using ternary operator\n",
    "\n",
    "\n",
    "num1 = input('Enter the first number:')\n",
    "num2 = input('Enter the Second number')\n",
    "\n",
    "if num1 > num2:\n",
    "    print('num1 is greater than num2')\n",
    "elif num1 < num2:\n",
    "    print('num1 is smaller than num2')\n",
    "elif num1 == num2:\n",
    "    print('num1 is equal to num2')\n"
   ]
  },
  {
   "cell_type": "code",
   "execution_count": 19,
   "metadata": {
    "colab": {},
    "colab_type": "code",
    "id": "LR6TVB-DdOPf"
   },
   "outputs": [
    {
     "name": "stdout",
     "output_type": "stream",
     "text": [
      "Enter the first number:30\n",
      "Enter the Second number50\n",
      "Enter the third number:45\n",
      "num2 is greater than num1 and num3\n"
     ]
    }
   ],
   "source": [
    "#W A P which takes three numbers from the user and prints below output:-\n",
    "#     1. num1 is greater than num2 and num3 if num1 is greater than num2 and num3\n",
    "#     2. num2 is greater than num1 and num3 if num2 is greater than num1 and num3\n",
    "#     3. num3 is greater than num1 and num2 if num3 is greater than num1 and num2\n",
    "\n",
    "#Note:- 1. Do this problem using if - elif - else \n",
    "#       2. Do this using ternary operator\n",
    "\n",
    "# a = a if a>b else b\n",
    "# expr if cond1 else expr2 if cond2 else expr3\n",
    "\n",
    "num1 = input('Enter the first number:')\n",
    "num2 = input('Enter the Second number')\n",
    "num3 = input('Enter the third number:')\n",
    "\n",
    "if num1 > num2 and num1 > num3:\n",
    "    print('num1 is greater than num2 and num3')\n",
    "elif num2 > num1 and num2 > num3:\n",
    "    print('num2 is greater than num1 and num3')\n",
    "elif num3 > num1 and num3 > num2:\n",
    "    print('num3 is greater than num1 and num2')\n",
    "    "
   ]
  },
  {
   "cell_type": "markdown",
   "metadata": {
    "colab_type": "text",
    "id": "IoOLQMUGdSox"
   },
   "source": [
    "# Loops - for loop, while loop"
   ]
  },
  {
   "cell_type": "code",
   "execution_count": 3,
   "metadata": {
    "colab": {},
    "colab_type": "code",
    "id": "9K23Uld8dQfA"
   },
   "outputs": [
    {
     "name": "stdout",
     "output_type": "stream",
     "text": [
      "Enter the string: Write a Python program to find the length of the my_str\n",
      "55\n"
     ]
    }
   ],
   "source": [
    "#Write a Python program to find the length of the my_str using loop:-\n",
    "\n",
    "#Input:- 'Write a Python program to find the length of the my_str'\n",
    "#Output:- 55\n",
    "\n",
    "str = input('Enter the string: ')\n",
    "length = 0\n",
    "for i in string:\n",
    "    length += 1\n",
    "print(length)"
   ]
  },
  {
   "cell_type": "code",
   "execution_count": 4,
   "metadata": {
    "colab": {},
    "colab_type": "code",
    "id": "bp6AcqTsdYxy"
   },
   "outputs": [
    {
     "name": "stdout",
     "output_type": "stream",
     "text": [
      "9\n"
     ]
    }
   ],
   "source": [
    "#Write a Python program to find the total number of times letter 'p' is appeared in the below string using loop:-\n",
    "    \n",
    "#Input:- 'peter piper picked a peck of pickled peppers.\\n'\n",
    "#Output:- 9\n",
    "\n",
    "string = 'peter piper picked a peck of pickled peppers.\\n'\n",
    "count = 0\n",
    "for i in string:\n",
    "    if i == 'p':\n",
    "        count += 1\n",
    "print(count)"
   ]
  },
  {
   "cell_type": "code",
   "execution_count": 8,
   "metadata": {
    "colab": {},
    "colab_type": "code",
    "id": "xvxSBhTJdav1"
   },
   "outputs": [
    {
     "name": "stdout",
     "output_type": "stream",
     "text": [
      "0\n",
      "6\n",
      "8\n",
      "12\n",
      "21\n",
      "29\n",
      "37\n",
      "39\n",
      "40\n"
     ]
    }
   ],
   "source": [
    "#Write a Python Program, to print all the indexes of all occurences of letter 'p' appeared in the string using loop:-\n",
    "    \n",
    "#Input:- 'peter piper picked a peck of pickled peppers.'\n",
    "#Output:- \n",
    "# 0\n",
    "# 6\n",
    "# 8\n",
    "# 12\n",
    "# 21\n",
    "# 29\n",
    "# 37\n",
    "# 39\n",
    "# 40\n",
    "\n",
    "string = 'peter piper picked a peck of pickled peppers.'\n",
    "index = 0\n",
    "current_index = -1\n",
    "new_index = 0\n",
    "while new_index >= 0 :\n",
    "    new_index = string.find('p',current_index + 1)\n",
    "    if new_index >= 0:\n",
    "        print(new_index)\n",
    "    current_index = new_index"
   ]
  },
  {
   "cell_type": "code",
   "execution_count": 3,
   "metadata": {
    "colab": {},
    "colab_type": "code",
    "id": "79L_feMadbmw"
   },
   "outputs": [
    {
     "name": "stdout",
     "output_type": "stream",
     "text": [
      "['peter', 'piper', 'picked', 'a', 'peck', 'of', 'pickled', 'peppers.']\n"
     ]
    }
   ],
   "source": [
    "#Write a python program to find below output using loop:-\n",
    "\n",
    "#Input:- 'peter piper picked a peck of pickled peppers.'\n",
    "#Output:- ['peter', 'piper', 'picked', 'a', 'peck', 'of', 'pickled', 'peppers']\n",
    "\n",
    "string = 'peter piper picked a peck of pickled peppers.'\n",
    "lst = []\n",
    "new_str = ''\n",
    "for i in range(len(string)):\n",
    "    if string[i] != ' ':\n",
    "        new_str += string[i]\n",
    "    else:\n",
    "        lst.append(new_str)\n",
    "        new_str = ''\n",
    "lst.append(new_str)\n",
    "\n",
    "print(lst)\n"
   ]
  },
  {
   "cell_type": "code",
   "execution_count": 4,
   "metadata": {
    "colab": {},
    "colab_type": "code",
    "id": "vzs5AJ53deVS"
   },
   "outputs": [
    {
     "name": "stdout",
     "output_type": "stream",
     "text": [
      "peppers. pickled of peck a picked piper peter \n"
     ]
    }
   ],
   "source": [
    "#Write a python program to find below output using loop:-\n",
    "\n",
    "#Input:- 'peter piper picked a peck of pickled peppers.'\n",
    "#Output:- 'peppers pickled of peck a picked piper peter'\n",
    "string = 'peter piper picked a peck of pickled peppers.'\n",
    "lst = []\n",
    "new_str = ''\n",
    "for i in range(len(string)):\n",
    "    if string[i] != ' ':\n",
    "        new_str += string[i]\n",
    "    else:\n",
    "        lst.append(new_str)\n",
    "        new_str = ''\n",
    "lst.append(new_str)\n",
    "\n",
    "new_str = ''\n",
    "\n",
    "for i in range(-1,-len(lst)-1,-1):\n",
    "    new_str += lst[i] + ' '\n",
    "\n",
    "print(new_str)"
   ]
  },
  {
   "cell_type": "code",
   "execution_count": 13,
   "metadata": {
    "colab": {},
    "colab_type": "code",
    "id": "i-HP7DrCdhwS"
   },
   "outputs": [
    {
     "name": "stdout",
     "output_type": "stream",
     "text": [
      ".sreppep delkcip fo kcep a dekcip repip retep\n"
     ]
    }
   ],
   "source": [
    "#Write a python program to find below output using loop:-\n",
    "\n",
    "#Input:- 'peter piper picked a peck of pickled peppers.'\n",
    "#Output:- '.sreppep delkcip fo kcep a dekcip repip retep'\n",
    "\n",
    "string = 'peter piper picked a peck of pickled peppers.'\n",
    "new_str = ''\n",
    "for i in range(len(string)-1,-1,-1):\n",
    "    new_str += string[i]\n",
    "print(new_str)"
   ]
  },
  {
   "cell_type": "code",
   "execution_count": 19,
   "metadata": {
    "colab": {},
    "colab_type": "code",
    "id": "3rt6p0ytdkq0"
   },
   "outputs": [
    {
     "name": "stdout",
     "output_type": "stream",
     "text": [
      "retep repip dekcip a kcep fo delkcip .sreppep\n"
     ]
    }
   ],
   "source": [
    "#Write a python program to find below output using loop:-\n",
    "\n",
    "#Input:- 'peter piper picked a peck of pickled peppers.'\n",
    "#Output:- 'retep repip dekcip a kcep fo delkcip sreppep'\n",
    "\n",
    "string = 'peter piper picked a peck of pickled peppers.'\n",
    "\n",
    "lst = []\n",
    "new_str = ''\n",
    "for i in range(len(string)):\n",
    "    if string[i] == ' ':\n",
    "        lst.append(new_str)\n",
    "        new_str = ''\n",
    "    else:\n",
    "        new_str = string[i] + new_str\n",
    "lst.append(new_str)\n",
    "\n",
    "print(' '.join(lst))"
   ]
  },
  {
   "cell_type": "code",
   "execution_count": 21,
   "metadata": {
    "colab": {},
    "colab_type": "code",
    "id": "HdlAWgT2dnKO"
   },
   "outputs": [
    {
     "name": "stdout",
     "output_type": "stream",
     "text": [
      "Peter Piper Picked A Peck Of Pickled Peppers.\n"
     ]
    }
   ],
   "source": [
    "#Write a python program to find below output using loop:-\n",
    "\n",
    "#Input:- 'peter piper picked a peck of pickled peppers.'\n",
    "#Output:- 'Peter Piper Picked A Peck Of Pickled Peppers'\n",
    "\n",
    "string = 'peter piper picked a peck of pickled peppers.'\n",
    "new_str = ''\n",
    "\n",
    "for i in range(len(string)):\n",
    "    if i == 0 or string[i-1] == ' ':\n",
    "        new_str += string[i].upper()\n",
    "    else:\n",
    "        new_str += string[i]\n",
    "        \n",
    "print(new_str)"
   ]
  },
  {
   "cell_type": "code",
   "execution_count": 22,
   "metadata": {
    "colab": {},
    "colab_type": "code",
    "id": "OthUuacodrNl"
   },
   "outputs": [
    {
     "name": "stdout",
     "output_type": "stream",
     "text": [
      "peter piper picked a peck of pickled peppers.\n"
     ]
    }
   ],
   "source": [
    "#Write a python program to find below output using loop:-\n",
    "\n",
    "#Input:- 'Peter Piper Picked A Peck Of Pickled Peppers.'\n",
    "#Output:- 'Peter piper picked a peck of pickled peppers'\n",
    "\n",
    "string = 'Peter Piper Picked A Peck Of Pickled Peppers.'\n",
    "new_str = ''\n",
    "\n",
    "for i in range(len(string)):\n",
    "    if i == 0 or string[i-1] == ' ':\n",
    "        new_str += string[i].lower()\n",
    "    else:\n",
    "        new_str += string[i]\n",
    "        \n",
    "print(new_str)"
   ]
  },
  {
   "cell_type": "code",
   "execution_count": 26,
   "metadata": {
    "colab": {
     "base_uri": "https://localhost:8080/",
     "height": 34
    },
    "colab_type": "code",
    "id": "scmDJE-ldsI9",
    "outputId": "4b1d1979-9f4a-4bc6-c505-b88b1bbd4d5d"
   },
   "outputs": [
    {
     "name": "stdout",
     "output_type": "stream",
     "text": [
      "29\n"
     ]
    }
   ],
   "source": [
    "#Write a python program to implement index method using loop. If sub_str is found in my_str then it will print the index\n",
    "# of first occurrence of first character of matching string in my_str:-\n",
    "\n",
    "#Input:- my_str = 'Peter Piper Picked A Peck Of Pickled Peppers.', sub_str = 'Pickl'\n",
    "#Output:- 29\n",
    "\n",
    "my_str = 'Peter Piper Picked A Peck Of Pickled Peppers.'\n",
    "sub_str = 'Pickl'\n",
    "length_of_substr = len(sub_str) \n",
    "index = -1\n",
    "\n",
    "for i in range(len(my_str)):\n",
    "    if my_str[i:i+length_of_substr] == sub_str:\n",
    "        index = i\n",
    "    \n",
    "if index > -1:\n",
    "    print(index)\n",
    "else:\n",
    "    print('substring not found')\n"
   ]
  },
  {
   "cell_type": "code",
   "execution_count": 28,
   "metadata": {
    "colab": {},
    "colab_type": "code",
    "id": "Kq_fwdb_dvYE"
   },
   "outputs": [
    {
     "name": "stdout",
     "output_type": "stream",
     "text": [
      "Peter Piper Picked A Pack Of Pickled Peppers.\n"
     ]
    }
   ],
   "source": [
    "#Write a python program to implement replace method using loop. If sub_str is found in my_str then it will replace the first \n",
    "#occurrence of sub_str with new_str else it will will print sub_str not found:-\n",
    "\n",
    "#Input:- my_str = 'Peter Piper Picked A Peck Of Pickled Peppers.', sub_str = 'Peck', new_str = 'Pack'\n",
    "#Output:- 'Peter Piper Picked A Pack Of Pickled Peppers.'\n",
    "\n",
    "my_str = 'Peter Piper Picked A Peck Of Pickled Peppers.'\n",
    "sub_str = 'Peck'\n",
    "new_str = 'Pack'\n",
    "index =-1\n",
    "\n",
    "for i in range(len(my_str)):\n",
    "    if my_str[i:i+len(sub_str)] == sub_str:\n",
    "        index = i\n",
    "    \n",
    "if index > -1:\n",
    "    out_str = my_str[0:index] + new_str + my_str[index+len(sub_str)::]\n",
    "    print(out_str)\n",
    "else:\n",
    "    print('substring not found')\n",
    "        \n",
    "\n"
   ]
  },
  {
   "cell_type": "code",
   "execution_count": 29,
   "metadata": {
    "colab": {},
    "colab_type": "code",
    "id": "4Qes5D0cdyd1"
   },
   "outputs": [
    {
     "name": "stdout",
     "output_type": "stream",
     "text": [
      "**********************Peck********************\n"
     ]
    }
   ],
   "source": [
    "#Write a python program to find below output (implements rjust and ljust) using loop:-\n",
    "\n",
    "#Input:- 'Peter Piper Picked A Peck Of Pickled Peppers.', sub_str = 'Peck', \n",
    "#Output:- '*********************Peck********************'\n",
    "\n",
    "my_str = 'Peter Piper Picked A Peck Of Pickled Peppers.'\n",
    "sub_str = 'Peck'\n",
    "new_str = ''\n",
    "index = -1\n",
    "\n",
    "while index <= len(my_str)-1:\n",
    "    if my_str[index:index+len(sub_str)] == sub_str:\n",
    "        new_str += sub_str\n",
    "        index = index+len(sub_str)\n",
    "    else:\n",
    "        new_str += '*'\n",
    "        index += 1\n",
    "        \n",
    "print(new_str)\n",
    "\n",
    "\n"
   ]
  },
  {
   "cell_type": "code",
   "execution_count": 30,
   "metadata": {
    "colab": {},
    "colab_type": "code",
    "id": "DsOrb07Od0lR"
   },
   "outputs": [
    {
     "name": "stdout",
     "output_type": "stream",
     "text": [
      "['This', 'is', 'Python class']\n"
     ]
    }
   ],
   "source": [
    "#Write a python program to find below output using loop:-\n",
    "\n",
    "#Input:- 'This is Python class', sep = 'is', \n",
    "#Output:- ['This', 'is', 'Python class']\n",
    "\n",
    "\n",
    "my_str = 'This is Python class'\n",
    "sep = 'is'\n",
    "index = 0\n",
    "start = 0\n",
    "my_list = []\n",
    "\n",
    "while index <= len(my_str)-1:\n",
    "    if my_str[index:index+len(sep)] == sep:\n",
    "        my_list.append((my_str[start:index+len(sep)+1]).strip())\n",
    "        index = index+len(sep)\n",
    "        start = index\n",
    "    else:\n",
    "        index += 1\n",
    "\n",
    "my_list.append((my_str[start:]).strip())\n",
    "print(my_list)"
   ]
  },
  {
   "cell_type": "code",
   "execution_count": 31,
   "metadata": {
    "colab": {},
    "colab_type": "code",
    "id": "jRnBVufmd2Ay"
   },
   "outputs": [
    {
     "name": "stdout",
     "output_type": "stream",
     "text": [
      "R{vjqp\n",
      "Rwvfql\n",
      "R{vfml\n"
     ]
    }
   ],
   "source": [
    "#Write a python program which takes one input string from user and encode it in below format:-\n",
    "    # 1. #Input:- 'Python'\n",
    "       #Output:- 'R{vjqp'\n",
    "        \n",
    "        \n",
    "        \n",
    "        \n",
    "        \n",
    "\n",
    "    # 2. #Input:- 'Python'\n",
    "       #Output:- 'Rwvfql'\n",
    "        \n",
    "        \n",
    "        \n",
    "        \n",
    "        \n",
    "    # 3. #Input:- 'Python'\n",
    "       #Output:- 'R{vkfml'\n",
    "\n",
    "inp = 'Python'\n",
    "\n",
    "out1 = ''\n",
    "out2 = ''\n",
    "out3 = ''\n",
    "\n",
    "for char in inp:\n",
    "    out1 += chr(ord(char)+2)\n",
    "    \n",
    "for i in range(len(inp)):\n",
    "    if i % 2 == 0:\n",
    "        out2 += chr(ord(inp[i])+2)\n",
    "    else:\n",
    "        out2 += chr(ord(inp[i])-2)\n",
    "                \n",
    "for i in range(len(inp)):\n",
    "    if i < 3:\n",
    "        out3 += chr(ord(inp[i])+2)\n",
    "    else:\n",
    "        out3 += chr(ord(inp[i])-2)\n",
    "\n",
    "print(out1)\n",
    "print(out2)\n",
    "print(out3)\n"
   ]
  }
 ],
 "metadata": {
  "colab": {
   "name": "Conditional_and_loop_assignment.ipynb",
   "provenance": []
  },
  "kernelspec": {
   "display_name": "Python 3",
   "language": "python",
   "name": "python3"
  },
  "language_info": {
   "codemirror_mode": {
    "name": "ipython",
    "version": 3
   },
   "file_extension": ".py",
   "mimetype": "text/x-python",
   "name": "python",
   "nbconvert_exporter": "python",
   "pygments_lexer": "ipython3",
   "version": "3.8.3"
  }
 },
 "nbformat": 4,
 "nbformat_minor": 1
}
