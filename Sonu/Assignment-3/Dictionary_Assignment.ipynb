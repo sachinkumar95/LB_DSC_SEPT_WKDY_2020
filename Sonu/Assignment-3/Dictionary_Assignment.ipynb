{
 "cells": [
  {
   "cell_type": "code",
   "execution_count": 13,
   "metadata": {
    "colab": {},
    "colab_type": "code",
    "id": "2k4ZB9yltJCa"
   },
   "outputs": [
    {
     "data": {
      "text/plain": [
       "{'email': 'kathy_abram897@gmail.com', 'Phone': 1887654321, 'City': 'New York'}"
      ]
     },
     "execution_count": 13,
     "metadata": {},
     "output_type": "execute_result"
    }
   ],
   "source": [
    "# Initialize a dictionary \"emp_info\" with below details\n",
    "# In - emp_info['Tom']\n",
    "# Out - {'email':'tom_latham019@gmail.com', 'Phone': +1987654321, 'City': 'California'}\n",
    "\n",
    "# In - emp_info['Kathy']\n",
    "# Out - {'email':'kathy_abram897@gmail.com', 'Phone': +1887654321, 'City': 'New York'}\n",
    "\n",
    "emp_info = {'Tom':{'email':'tom_latham019@gmail.com', 'Phone': +1987654321, 'City': 'California'}, \n",
    "            'Kathy':{'email':'kathy_abram897@gmail.com', 'Phone': +1887654321, 'City': 'New York'}}\n",
    "emp_info['Tom']\n",
    "emp_info['Kathy']"
   ]
  },
  {
   "cell_type": "code",
   "execution_count": 2,
   "metadata": {
    "colab": {},
    "colab_type": "code",
    "id": "BAUj-S0fqFWG"
   },
   "outputs": [
    {
     "name": "stdout",
     "output_type": "stream",
     "text": [
      "{'emp1': {'e_name': 'John', 'e_id': 'SG101', 'e_sal': '$10,000'}, 'emp2': {'e_name': 'Smith', 'e_id': 'SG102', 'e_sal': '$9,000'}, 'emp3': {'e_name': 'Peter', 'e_id': 'SG103', 'e_sal': '$9,500'}}\n"
     ]
    }
   ],
   "source": [
    "# Create a dictionary out of below inputs\n",
    "# lst1 = ['emp1', 'emp2', 'emp3']\n",
    "# emp_key = ['e_name', 'e_id', 'e_sal']\n",
    "# emp1_val = ['John', 'SG101', '$10,000']\n",
    "# emp2_val = ['Smith', 'SG102', '$9,000']\n",
    "# emp3_val = ['Peter', 'SG103', '$9,500']\n",
    "\n",
    "# Expected Output:- {'emp1':{'e_name':'John', 'e_id':'SG101', 'e_sal':$10,000}, \n",
    "#                    'emp2':{'e_name':'Smith', 'e_id':'SG102', 'e_sal':$9,000}, \n",
    "#                    'emp3':{'e_name':'Peter', 'e_id':'SG103', 'e_sal':$9,500}}\n",
    "\n",
    "lst1 = ['emp1', 'emp2', 'emp3']\n",
    "emp_key = ['e_name', 'e_id', 'e_sal']\n",
    "emp1_val = ['John', 'SG101', '$10,000']\n",
    "emp2_val = ['Smith', 'SG102', '$9,000']\n",
    "emp3_val = ['Peter', 'SG103', '$9,500']\n",
    "\n",
    "value_list=[emp1_val, emp2_val, emp3_val]\n",
    "\n",
    "my_dict = {}\n",
    "for i in range(3):\n",
    "    val_dict={}\n",
    "    for j in range(3):\n",
    "        val_dict[emp_key[j]] = value_list[i][j]\n",
    "    my_dict[lst1[i]] = val_dict\n",
    "\n",
    "print(my_dict)\n"
   ]
  },
  {
   "cell_type": "code",
   "execution_count": 42,
   "metadata": {
    "colab": {},
    "colab_type": "code",
    "id": "LxGZ3jbjrBkj"
   },
   "outputs": [
    {
     "name": "stdout",
     "output_type": "stream",
     "text": [
      "80\n"
     ]
    }
   ],
   "source": [
    "# Acess the value of key 'history'\n",
    "\n",
    "sampleDict = { \n",
    "   \"class\":{ \n",
    "      \"student\":{ \n",
    "         \"name\":\"Mike\",\n",
    "         \"marks\":{ \n",
    "            \"physics\":70,\n",
    "            \"history\":80\n",
    "         }\n",
    "      }\n",
    "   }\n",
    "}\n",
    "\n",
    "print(sampleDict['class']['student']['marks']['history'])"
   ]
  },
  {
   "cell_type": "code",
   "execution_count": 92,
   "metadata": {
    "colab": {},
    "colab_type": "code",
    "id": "Vm8UZbyNrKID"
   },
   "outputs": [
    {
     "name": "stdout",
     "output_type": "stream",
     "text": [
      "{'Kelly': {'designation': 'Application Developer', 'salary': 8000}, 'Emma': {'designation': 'Application Developer', 'salary': 8000}, 'John': {'designation': 'Application Developer', 'salary': 8000}}\n"
     ]
    }
   ],
   "source": [
    "# Initialize dictionary with default values. Inputs are:-\n",
    "# employees = ['Kelly', 'Emma', 'John']\n",
    "# defaults = {\"designation\": 'Application Developer', \"salary\": 8000}\n",
    "\n",
    "#Expected output:- {'Kelly': {'designation': 'Application Developer', 'salary': 8000}, \n",
    "#                   'Emma': {'designation': 'Application Developer', 'salary': 8000}, \n",
    "#                   'John': {'designation': 'Application Developer', 'salary': 8000}}\n",
    "\n",
    "employees = ['Kelly', 'Emma', 'John']\n",
    "defaults = {\"designation\": 'Application Developer', \"salary\": 8000}\n",
    "\n",
    "Dict = dict.fromkeys(employees, defaults)\n",
    "print(Dict)\n",
    "\n"
   ]
  },
  {
   "cell_type": "code",
   "execution_count": 12,
   "metadata": {
    "colab": {},
    "colab_type": "code",
    "id": "nmFdbaHBrThC"
   },
   "outputs": [
    {
     "name": "stdout",
     "output_type": "stream",
     "text": [
      "UAGC\n"
     ]
    }
   ],
   "source": [
    "# In gene expression, mRNA is transcribed from a DNA template. \n",
    "# The 4 nucleotide bases of A, T, C, G corresponds to the U, A, G, C bases of the mRNA. \n",
    "# Write a function that returns the mRNA transcript given the sequence of a DNA strand.\n",
    "\n",
    "# Use a dictionary to provide the mapping of DNA to RNA bases.\n",
    "\n",
    "def func(dna_template):\n",
    "    dna2rna =  {'A':'U', 'T':'A', 'C':'G', 'G':'C'}\n",
    "    # take every base and translate it to rna and join all rna-bases to a string\n",
    "    return ''.join(dna2rna.get(base) for base in dna_template)\n",
    "\n",
    "f = func('ATCG')"
   ]
  },
  {
   "cell_type": "code",
   "execution_count": 3,
   "metadata": {
    "colab": {},
    "colab_type": "code",
    "id": "rop1A1pQw6Uk"
   },
   "outputs": [
    {
     "data": {
      "text/plain": [
       "{'g': 2, 'o': 3, 'l': 1, 'e': 1, '.': 1, 'c': 1, 'm': 1}"
      ]
     },
     "execution_count": 3,
     "metadata": {},
     "output_type": "execute_result"
    }
   ],
   "source": [
    "# Write a function which takes a word as input and returns a dictionary with letters as key and no of time \n",
    "# letters are repeated as value.\n",
    "# In - count_letter('google.com')\n",
    "# Out - {'g': 2, 'o': 3, 'l': 1, 'e': 1, '.': 1, 'c': 1, 'm': 1}\n",
    "\n",
    "# from collections import Counter \n",
    "# str = 'google.com'\n",
    "# dict = Counter(str)\n",
    "# print (\"Count of all characters in google.com is :\\n \",(dict)) \n",
    "\n",
    "def count_letter(input_string):\n",
    "    count_dict = {i:0 for i in input_string}\n",
    "    for i in input_string:\n",
    "        count_dict[i] += 1\n",
    "    return count_dict\n",
    "        \n",
    "count_letter('google.com')"
   ]
  },
  {
   "cell_type": "code",
   "execution_count": 4,
   "metadata": {
    "colab": {},
    "colab_type": "code",
    "id": "vAwGIoxdw856"
   },
   "outputs": [
    {
     "name": "stdout",
     "output_type": "stream",
     "text": [
      "{'A': 4, 'T': 5, 'C': 8, 'G': 3}\n",
      "{'A': 1, 'T': 1, 'C': 0, 'G': 1}\n"
     ]
    }
   ],
   "source": [
    "# A DNA strand consisting of the 4 nucleotide bases is usually represented with a string of letters: A,T, C, G. \n",
    "# Write a function that computes the base composition of a given DNA sequence.\n",
    "\n",
    "# In - baseComposition(\"CTATCGGCACCCTTTCAGCA\")\n",
    "# Out - {'A': 4, 'C': 8, 'T': 5,  'G': 3 }\n",
    "    \n",
    "# In - baseComposition(\"AGT\")\n",
    "# Out - {'A': 1, 'C': 0, 'T': 1,  'G': 1 }\n",
    "\n",
    "dna_str_list = ['A','T','C','G']\n",
    "\n",
    "def baseComposition(dna_string):\n",
    "    base_composition = {i:0 for i in dna_str_list}\n",
    "    for i in dna_string:\n",
    "        base_composition[i] += 1\n",
    "    return base_composition\n",
    "\n",
    "print(baseComposition(\"CTATCGGCACCCTTTCAGCA\"))\n",
    "print(baseComposition(\"AGT\"))"
   ]
  },
  {
   "cell_type": "code",
   "execution_count": 144,
   "metadata": {
    "colab": {},
    "colab_type": "code",
    "id": "iVNnSsvaxMDo"
   },
   "outputs": [],
   "source": [
    "# [MCQ] Suppose \"d\" is an empty dictionary, which statement does not assign \"d\" with {\"Name\":\"Tom\"}? \n",
    "# 1. d = {\"Name\": \"Tom\" }\n",
    "# 2. d[\"Name\"] = \"Tom\"\n",
    "# 3. d.update({\"Name\": \"Tom\" })\n",
    "# 4. d.setdefault(\"Name\", \"Tom\")\n",
    "# 5. None of the above.\n",
    "\n"
   ]
  },
  {
   "cell_type": "markdown",
   "metadata": {},
   "source": [
    "### Answer: 5. None of the above"
   ]
  },
  {
   "cell_type": "code",
   "execution_count": 153,
   "metadata": {
    "colab": {},
    "colab_type": "code",
    "id": "tOgsXi2axnhF"
   },
   "outputs": [],
   "source": [
    "# [MCQ] d = {\"a\":1, \"b\":2}. Which of the statements returns [1,2]? \n",
    "# 1. d.keys()\n",
    "# 2. d.values()\n",
    "# 3. d.items()\n",
    "# 4. d.popitem()\n",
    "# 5. None of the above."
   ]
  },
  {
   "cell_type": "code",
   "execution_count": 154,
   "metadata": {},
   "outputs": [
    {
     "name": "stdout",
     "output_type": "stream",
     "text": [
      "dict_values([1, 2])\n"
     ]
    }
   ],
   "source": [
    "d = {\"a\":1, \"b\":2}\n",
    "print(d.values())"
   ]
  },
  {
   "cell_type": "markdown",
   "metadata": {},
   "source": [
    "### Answer: 2. d.values()"
   ]
  },
  {
   "cell_type": "code",
   "execution_count": 169,
   "metadata": {
    "colab": {},
    "colab_type": "code",
    "id": "BeNNopkDzK0k"
   },
   "outputs": [],
   "source": [
    "# [MCQ] Which of the following declarations is not valid for 'dict' type?\n",
    "# 1. d = {\"Name\": \"Tom\" }\n",
    "# 2. d = { (1,3,4): 4.5 }\n",
    "# 3. d = { [\"First\", \"Last\"]: (1,3) }\n",
    "# 4. d = { 1: 0.4 }\n",
    "# 5. None of the above\n"
   ]
  },
  {
   "cell_type": "markdown",
   "metadata": {},
   "source": [
    "### Answer: 3. d = { [\"First\", \"Last\"]: (1,3) }"
   ]
  },
  {
   "cell_type": "code",
   "execution_count": 5,
   "metadata": {
    "colab": {},
    "colab_type": "code",
    "id": "7kPbKcfMzTHP"
   },
   "outputs": [
    {
     "name": "stdout",
     "output_type": "stream",
     "text": [
      "['a']\n",
      "['b', 'c']\n",
      "[]\n"
     ]
    }
   ],
   "source": [
    "# Write a function reverseLookup(dictionary, value) that takes in a dictionary \n",
    "# and a value as arguments and returns a sorted list of all keys that contains the value. \n",
    "# The function will return an empty list if no match is found.\n",
    "\n",
    "# In - reverseLookup({'a':1, 'b':2, 'c':2}, 1)\n",
    "# Out - ['a']\n",
    "# In - reverseLookup({'a':1, 'b':2, 'c':2}, 2)\n",
    "# Out - ['b', 'c']\n",
    "# In - reverseLookup({'a':1, 'b':2, 'c':2}, 3)\n",
    "# Out - []\n",
    "\n",
    "\n",
    "def reverseLookup(dictionary, lookup_value):\n",
    "    keys = []\n",
    "    for key, value in dictionary.items():\n",
    "        if value == lookup_value:\n",
    "            keys.append(key)\n",
    "    \n",
    "    return keys\n",
    "\n",
    "print(reverseLookup({'a':1, 'b':2, 'c':2}, 1))\n",
    "print(reverseLookup({'a':1, 'b':2, 'c':2}, 2))\n",
    "print(reverseLookup({'a':1, 'b':2, 'c':2}, 3))\n",
    "\n",
    "# dictionary = eval(input(\"Enter the dictionary:\"))\n",
    "# lookup_value = int(input(\"Enter the lookup value:\"))\n",
    "\n",
    "# keys = []\n",
    "# for key, value in dictionary.items():\n",
    "#     if(value == lookup_value):\n",
    "#          keys.append(key)\n",
    "# print(keys)\n"
   ]
  },
  {
   "cell_type": "code",
   "execution_count": 6,
   "metadata": {
    "colab": {},
    "colab_type": "code",
    "id": "s87Rvg2HDFYp"
   },
   "outputs": [
    {
     "name": "stdout",
     "output_type": "stream",
     "text": [
      "{1: ['a'], 2: ['b', 'd'], 3: ['c']}\n",
      "{3: ['a', 'b', 'c']}\n",
      "{2: ['a', 'c'], 1: ['b', 'd']}\n"
     ]
    }
   ],
   "source": [
    "# Write a function invertDictionary(d) that takes in a dictionary as argument and return a dictionary that inverts the keys and the values of the original dictionary.\n",
    "# In - invertDictionary({'a':1, 'b':2, 'c':3, 'd':2})\n",
    "# Out - {1: ['a'], 2: ['b', 'd'], 3: ['c']}\n",
    "# In - invertDictionary({'a':3, 'b':3, 'c':3})\n",
    "# Out - {3: ['a', 'c', 'b']}\n",
    "# In - invertDictionary({'a':2, 'b':1, 'c':2, 'd':1})\n",
    "# Out - {1: ['b', 'd'], 2: ['a', 'c']}\n",
    "\n",
    "\n",
    "def invertDictionary(dictionary):\n",
    "    inverted_dictionary = {}\n",
    "    for key, value in dictionary.items():\n",
    "        if inverted_dictionary.get(value) == None:\n",
    "            inverted_dictionary[value] = list(key)\n",
    "        else:\n",
    "            inverted_dictionary[value].append(key)\n",
    "        \n",
    "    return inverted_dictionary\n",
    "\n",
    "print(invertDictionary({'a':1, 'b':2, 'c':3, 'd':2}))\n",
    "print(invertDictionary({'a':3, 'b':3, 'c':3}))\n",
    "print(invertDictionary({'a':2, 'b':1, 'c':2, 'd':1}))\n",
    "\n",
    "\n",
    "# dict = eval(input(\"Enter the dictionary:\"))\n",
    "# invert_dict = {}\n",
    "# for i in dict:\n",
    "#     value = dict[i]\n",
    "#     if not(value in invert_dict):\n",
    "#         invert_dict[value] = [i]\n",
    "#     else:\n",
    "#         invert_dict[value].append(i)    \n",
    "# print(invert_dict)\n",
    "    \n",
    "    \n"
   ]
  },
  {
   "cell_type": "code",
   "execution_count": 7,
   "metadata": {
    "colab": {},
    "colab_type": "code",
    "id": "DgYyaZU6Oz7E"
   },
   "outputs": [
    {
     "name": "stdout",
     "output_type": "stream",
     "text": [
      "{0: 1, 3: 2, 7: 3, 12: 4}\n",
      "{0: 1, 2: 1, 4: 2, 6: 1, 9: 1}\n",
      "{}\n"
     ]
    }
   ],
   "source": [
    "# Write a function that converts a sparse vector into a dictionary as described above.\n",
    "# In - convertVector([1, 0, 0, 2, 0, 0, 0, 3, 0, 0, 0, 0, 4])\n",
    "# Out - {0: 1, 3: 2, 7: 3, 12: 4}\n",
    "# In - convertVector([1, 0, 1 , 0, 2, 0, 1, 0, 0, 1, 0])\n",
    "# Out - {0: 1, 2: 1, 4: 2, 6: 1, 9: 1}\n",
    "# In - convertVector([0, 0, 0, 0, 0])\n",
    "# Out - {}\n",
    "\n",
    "def convertVector(sparse_vector):\n",
    "    tuple_list =[]\n",
    "    for i in range(len(sparse_vector)):\n",
    "        a,b = (sparse_vector.index(sparse_vector[i], i), sparse_vector[i])\n",
    "        if b != 0:\n",
    "            tuple_list.append((a,b))\n",
    "    return dict(tuple_list)\n",
    "\n",
    "\n",
    "print(convertVector([1, 0, 0, 2, 0, 0, 0, 3, 0, 0, 0, 0, 4]))\n",
    "print(convertVector([1, 0, 1 , 0, 2, 0, 1, 0, 0, 1, 0]))\n",
    "print(convertVector([0, 0, 0, 0, 0]))\n",
    "\n",
    "# lst = eval(input('Enter the list:'))\n",
    "\n",
    "# print([sparseVector(v) for v in [lst]])\n"
   ]
  },
  {
   "cell_type": "code",
   "execution_count": 8,
   "metadata": {
    "colab": {},
    "colab_type": "code",
    "id": "ETCmEcflTGCI"
   },
   "outputs": [
    {
     "name": "stdout",
     "output_type": "stream",
     "text": [
      "[1, 0, 0, 2, 0, 0, 0, 3, 0, 0, 0, 0, 4]\n",
      "[1, 0, 1, 0, 2, 0, 1, 0, 0, 1]\n",
      "[]\n"
     ]
    }
   ],
   "source": [
    "# Write a function that converts a dictionary back to its sparse vector representation.\n",
    "# In - convertDictionary({0: 1, 3: 2, 7: 3, 12: 4})\n",
    "# Out - [1, 0, 0, 2, 0, 0, 0, 3, 0, 0, 0, 0, 4]\n",
    "# In - convertDictionary({0: 1, 2: 1, 4: 2, 6: 1, 9: 1})\n",
    "# Out - [1, 0, 1, 0, 2, 0, 1, 0, 0, 1]\n",
    "# In - convertDictionary({})\n",
    "# Out - []\n",
    "\n",
    "def convertDictionary(input_dictionary):\n",
    "    max_length = max(input_dictionary.keys()) if len(input_dictionary) > 0 else 0\n",
    "    return [input_dictionary.get(i, 0) for i in range(max_length+1) if max_length > 0]\n",
    "    \n",
    "\n",
    "print(convertDictionary({0: 1, 3: 2, 7: 3, 12: 4}))\n",
    "print(convertDictionary({0: 1, 2: 1, 4: 2, 6: 1, 9: 1}))\n",
    "print(convertDictionary({}))\n",
    "\n",
    "# dictionary = eval(input('Enter the dictionary:'))\n",
    "\n",
    "# #using dictionary comprehension\n",
    "# M = max(dictionary, default=0)\n",
    "# vector = [dictionary.get(i, 0) for i in range(M)]\n",
    "\n",
    "# #using loop\n",
    "# M = max(dictionary, default=0)\n",
    "# vector = []\n",
    "# for i in range(M):\n",
    "#     vector.append(dictionary.get(i, 0))\n",
    "# print(vector)\n"
   ]
  },
  {
   "cell_type": "code",
   "execution_count": 63,
   "metadata": {
    "colab": {},
    "colab_type": "code",
    "id": "tTANm2QKZXh3"
   },
   "outputs": [
    {
     "name": "stdout",
     "output_type": "stream",
     "text": [
      "{'emp1': {'name': 'Jhon', 'salary': 7500}, 'emp2': {'name': 'Emma', 'salary': 8000}, 'emp3': {'name': 'Brad', 'salary': 8500}}\n"
     ]
    }
   ],
   "source": [
    "# Given a Python dictionary, Change Brad’s salary to 8500\n",
    "# sampleDict = {\n",
    "#      'emp1': {'name': 'Jhon', 'salary': 7500},\n",
    "#      'emp2': {'name': 'Emma', 'salary': 8000},\n",
    "#      'emp3': {'name': 'Brad', 'salary': 6500}\n",
    "# }\n",
    "\n",
    "# Expected Output\n",
    "# sampleDict = {\n",
    "#      'emp1': {'name': 'Jhon', 'salary': 7500},\n",
    "#      'emp2': {'name': 'Emma', 'salary': 8000},\n",
    "#      'emp3': {'name': 'Brad', 'salary': 8500}\n",
    "# }\n",
    "\n",
    "sampleDict = {\n",
    "     'emp1': {'name': 'Jhon', 'salary': 7500},\n",
    "     'emp2': {'name': 'Emma', 'salary': 8000},\n",
    "     'emp3': {'name': 'Brad', 'salary': 6500}\n",
    "}\n",
    "\n",
    "sampleDict['emp3']['salary'] = 8500\n",
    "print(sampleDict)\n"
   ]
  },
  {
   "cell_type": "code",
   "execution_count": 73,
   "metadata": {
    "colab": {},
    "colab_type": "code",
    "id": "8dUHXiCVZmUx"
   },
   "outputs": [
    {
     "name": "stdout",
     "output_type": "stream",
     "text": [
      "Math\n"
     ]
    }
   ],
   "source": [
    "# Get the key corresponding to the minimum value from the following dictionary\n",
    "# sampleDict = {\n",
    "#   'Physics': 82,\n",
    "#   'Math': 65,\n",
    "#   'history': 75\n",
    "# }\n",
    "\n",
    "# Expected Output\n",
    "# Math\n",
    "\n",
    "sampleDict = {\n",
    "  'Physics': 82,\n",
    "  'Math': 65,\n",
    "  'history': 75\n",
    "}\n",
    "\n",
    "print(min(sampleDict, key=sampleDict.get))\n"
   ]
  },
  {
   "cell_type": "code",
   "execution_count": 76,
   "metadata": {
    "colab": {},
    "colab_type": "code",
    "id": "AQe5QNGdZ7aJ"
   },
   "outputs": [
    {
     "name": "stdout",
     "output_type": "stream",
     "text": [
      "{'name': 'Kelly', 'age': 25, 'salary': 8000, 'location': 'New york'}\n"
     ]
    }
   ],
   "source": [
    "# Rename key city to location in the following dictionary\n",
    "# sampleDict = {\n",
    "#   \"name\": \"Kelly\",\n",
    "#   \"age\":25,\n",
    "#   \"salary\": 8000,\n",
    "#   \"city\": \"New york\"\n",
    "# }\n",
    "\n",
    "# Expected Output\n",
    "# {\n",
    "#   \"name\": \"Kelly\",\n",
    "#   \"age\":25,\n",
    "#   \"salary\": 8000,\n",
    "#   \"location\": \"New york\"\n",
    "# }\n",
    "\n",
    "sampleDict = {\n",
    "  \"name\": \"Kelly\",\n",
    "  \"age\":25,\n",
    "  \"salary\": 8000,\n",
    "  \"city\": \"New york\"\n",
    "}\n",
    "\n",
    "\n",
    "sampleDict['location'] = sampleDict.pop('city')\n",
    "print(sampleDict)\n"
   ]
  },
  {
   "cell_type": "code",
   "execution_count": 81,
   "metadata": {
    "colab": {},
    "colab_type": "code",
    "id": "e19_ddO9aNNw"
   },
   "outputs": [
    {
     "name": "stdout",
     "output_type": "stream",
     "text": [
      "True\n"
     ]
    }
   ],
   "source": [
    "# Check if a value 200 exists in a dictionary\n",
    "# sampleDict = {'a': 100, 'b': 200, 'c': 300}\n",
    "\n",
    "# Expected Output: True\n",
    "\n",
    "sampleDict = {'a': 100, 'b': 200, 'c': 300}\n",
    "print(200 in sampleDict.values())"
   ]
  },
  {
   "cell_type": "code",
   "execution_count": 77,
   "metadata": {
    "colab": {},
    "colab_type": "code",
    "id": "yphwjc1gabMa"
   },
   "outputs": [
    {
     "name": "stdout",
     "output_type": "stream",
     "text": [
      "{'age': 25, 'city': 'New york'}\n"
     ]
    }
   ],
   "source": [
    "# Delete set of keys from Python Dictionary\n",
    "# sampleDict = {\n",
    "#   \"name\": \"Kelly\",\n",
    "#   \"age\":25,\n",
    "#   \"salary\": 8000,\n",
    "#   \"city\": \"New york\"\n",
    "  \n",
    "# }\n",
    "# keysToRemove = [\"name\", \"salary\"]\n",
    "\n",
    "# Expected Output:\n",
    "# {'city': 'New york', 'age': 25}\n",
    "\n",
    "sampleDict = {\n",
    "  \"name\": \"Kelly\",\n",
    "  \"age\":25,\n",
    "  \"salary\": 8000,\n",
    "  \"city\": \"New york\"\n",
    "}\n",
    "keysToRemove = [\"name\", \"salary\"]\n",
    "\n",
    "sampleDict = {k: sampleDict[k] for k in sampleDict.keys() - keysToRemove}\n",
    "print(sampleDict)"
   ]
  }
 ],
 "metadata": {
  "colab": {
   "name": "Dictionary_Assignment.ipynb",
   "provenance": []
  },
  "kernelspec": {
   "display_name": "Python 3",
   "language": "python",
   "name": "python3"
  },
  "language_info": {
   "codemirror_mode": {
    "name": "ipython",
    "version": 3
   },
   "file_extension": ".py",
   "mimetype": "text/x-python",
   "name": "python",
   "nbconvert_exporter": "python",
   "pygments_lexer": "ipython3",
   "version": "3.8.3"
  }
 },
 "nbformat": 4,
 "nbformat_minor": 1
}
