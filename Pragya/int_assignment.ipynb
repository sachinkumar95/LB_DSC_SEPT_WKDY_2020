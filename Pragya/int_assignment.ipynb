{
 "cells": [
  {
   "cell_type": "code",
   "execution_count": 1,
   "metadata": {
    "colab": {},
    "colab_type": "code",
    "id": "8A5Jw5NR1iEI"
   },
   "outputs": [
    {
     "name": "stdout",
     "output_type": "stream",
     "text": [
      "<class 'int'> 4558703232\n"
     ]
    }
   ],
   "source": [
    "#Declare an int value and store it in a variable. \n",
    "a = 10\n",
    "print(type(a), id(a))\n",
    "\n",
    "#Check the type and print the id of the same.\n",
    "\n"
   ]
  },
  {
   "cell_type": "code",
   "execution_count": 8,
   "metadata": {
    "colab": {},
    "colab_type": "code",
    "id": "0YU8LFTn1rAX"
   },
   "outputs": [
    {
     "name": "stdout",
     "output_type": "stream",
     "text": [
      "id of a =  4558711104\n",
      "id of b =  4558711104\n",
      "id of new_a 140314749505712\n",
      "id of new_b 140314749505616\n"
     ]
    }
   ],
   "source": [
    "#Take one int value between 0 - 256.\n",
    "#Assign it to two different variables.\n",
    "#Check the id of both the variables. It should come same. Check why?\n",
    "a = 256\n",
    "b = 256\n",
    "\n",
    "print('id of a = ', id(a))\n",
    "print('id of b = ', id(b))\n",
    "\n",
    "\n",
    "#Take one int value either less than -5 or greater than 256.\n",
    "#Assign it to two different variables.\n",
    "#Check the id of both the variables. It should come different.Check why?\n",
    "new_a = 257\n",
    "new_b = 257\n",
    "print('id of new_a', id(new_a))\n",
    "print('id of new_b', id(new_b))\n"
   ]
  },
  {
   "cell_type": "code",
   "execution_count": 9,
   "metadata": {
    "colab": {},
    "colab_type": "code",
    "id": "YzEIG0ZZ1tSK"
   },
   "outputs": [
    {
     "name": "stdout",
     "output_type": "stream",
     "text": [
      "Enter 1st integer = 10\n",
      "Enter 2nd integer = 20\n",
      "sum =  30\n",
      "difference =  -10\n",
      "product =  200\n",
      "division =  0.5\n",
      "remainder =  10\n",
      "power =  100000000000000000000\n"
     ]
    }
   ],
   "source": [
    "#Arithmatic Operations on integers\n",
    "#Take two different intger values.\n",
    "#Store them in two different variables.\n",
    "#Do below operations on them:-\n",
    "    #Find sum of both numbers\n",
    "    #Find differce between them\n",
    "    #Find the product of both numbers.\n",
    "    #Find value after dividing first num with second number\n",
    "    #Find the remainder after dividing first number with second number\n",
    "    #Find the quotient after dividing first number with second number\n",
    "    #Find the result of first num to the power of second number.\n",
    "\n",
    "a = int(input('Enter 1st integer = '))\n",
    "b = int(input('Enter 2nd integer = '))\n",
    "print('sum = ', a + b)\n",
    "print('difference = ', a - b)\n",
    "print('product = ', a * b)\n",
    "print('division = ', a / b)\n",
    "print('remainder = ', a % b)\n",
    "print('power = ', a ** b)"
   ]
  },
  {
   "cell_type": "code",
   "execution_count": 10,
   "metadata": {
    "colab": {},
    "colab_type": "code",
    "id": "GGM7CdzA1wGn"
   },
   "outputs": [
    {
     "name": "stdout",
     "output_type": "stream",
     "text": [
      "Enter 1st integer = 10\n",
      "Enter 2nd integer = 10\n",
      "is a > b  False\n",
      "is a < b  False\n",
      "is a >=b  True\n",
      "is a <=b  True\n"
     ]
    }
   ],
   "source": [
    "#Comparison Operators on integers\n",
    "#Take two different intger values.\n",
    "#Store them in two different variables.\n",
    "#Do below operations on them:-\n",
    "    #Compare se two numbers with below operator:-\n",
    "        #Greater than, '>'\n",
    "        #Smaller than, '<'\n",
    "        #Greater than or equal to, '>='\n",
    "        #Less than or equal to, '<='\n",
    "a = int(input('Enter 1st integer = '))\n",
    "b = int(input('Enter 2nd integer = '))\n",
    "print('is a > b ', a > b)\n",
    "print('is a < b ', a < b)\n",
    "print('is a >=b ', a >= b)\n",
    "print('is a <=b ', a <= b)\n",
    "#Observe their output(return type should be boolean)"
   ]
  },
  {
   "cell_type": "code",
   "execution_count": 11,
   "metadata": {
    "colab": {},
    "colab_type": "code",
    "id": "9x904sUE1y9t"
   },
   "outputs": [
    {
     "name": "stdout",
     "output_type": "stream",
     "text": [
      "Enter 1st integer = 10\n",
      "Enter 2nd integer = 10\n",
      "is both numbers equal  True\n",
      "is both numbers different  False\n"
     ]
    }
   ],
   "source": [
    "#Equality Operator\n",
    "#Take two different intger values.\n",
    "#Store them in two different variables.\n",
    "#Equuate them using equality operator (==, !=)\n",
    "#Observe the output(return type should be boolean)\n",
    "a = int(input('Enter 1st integer = '))\n",
    "b = int(input('Enter 2nd integer = '))\n",
    "print('is both numbers equal ', a == b)\n",
    "print('is both numbers different ', a != b)"
   ]
  },
  {
   "cell_type": "code",
   "execution_count": 12,
   "metadata": {
    "colab": {},
    "colab_type": "code",
    "id": "JmQFHUwc11S-"
   },
   "outputs": [
    {
     "name": "stdout",
     "output_type": "stream",
     "text": [
      "20\n",
      "0\n",
      "0\n",
      "0\n",
      "10\n",
      "20\n",
      "20\n",
      "0\n",
      "False\n",
      "True\n"
     ]
    }
   ],
   "source": [
    "#Logical operators\n",
    "#Observe the output of below code\n",
    "#Cross check the output manually\n",
    "\n",
    "print(10 and 20)       #----------------------------------------->Output is 20\n",
    "print(0 and 20)        #----------------------------------------->Output is 0\n",
    "print(20 and 0)        #----------------------------------------->Output is 0\n",
    "print(0 and 0)         #----------------------------------------->Output is 0\n",
    "\n",
    "print(10 or 20)        #----------------------------------------->Output is 10\n",
    "print(0 or 20)         #----------------------------------------->Output is 20\n",
    "print(20 or 0)         #----------------------------------------->Output is 20\n",
    "print(0 or 0)          #----------------------------------------->Output is 0\n",
    "\n",
    "print(not 10)          #----------------------------------------->Output is False\n",
    "print(not 0)           #----------------------------------------->Output is True"
   ]
  },
  {
   "cell_type": "code",
   "execution_count": 15,
   "metadata": {
    "colab": {},
    "colab_type": "code",
    "id": "-0tvoulX14Hi"
   },
   "outputs": [
    {
     "name": "stdout",
     "output_type": "stream",
     "text": [
      "bitwise &  0\n",
      "bitwise or  30\n",
      "bitwise xor  30\n",
      "bitwise negation  -11\n",
      "bitwise right shift  2\n",
      "bitwise left shift  40\n"
     ]
    }
   ],
   "source": [
    "#Bitwise Operators\n",
    "#Do below operations on the values provided below:-\n",
    "    #Bitwise and(&) -----------------------------------------> 10, 20   -------> Output is 0\n",
    "    #Bitwise or(|)  -----------------------------------------> 10, 20   -------> Output is 30\n",
    "    #Bitwise(^)     -----------------------------------------> 10, 20   -------> Output is 30\n",
    "    #Bitwise negation(~) ------------------------------------> 10       -------> Output is -11\n",
    "    #Bitwise left shift  ------------------------------------> 10,2     -------> Output is 40\n",
    "    #Bitwise right shift ------------------------------------> 10,2     -------> Output is 2\n",
    "#Cross check the output manually\n",
    "a = 10\n",
    "b = 20\n",
    "print('bitwise & ', a & b)\n",
    "print('bitwise or ', a | b)\n",
    "print('bitwise xor ', a ^ b)\n",
    "print('bitwise negation ', ~a)\n",
    "print('bitwise right shift ', a >> 2)\n",
    "print('bitwise left shift ', a << 2)"
   ]
  },
  {
   "cell_type": "code",
   "execution_count": 17,
   "metadata": {
    "colab": {},
    "colab_type": "code",
    "id": "YCcx-Qx016hg"
   },
   "outputs": [
    {
     "name": "stdout",
     "output_type": "stream",
     "text": [
      "True\n",
      "False\n",
      "False\n",
      "True\n"
     ]
    }
   ],
   "source": [
    "#What is the output of expression inside print statement. Cross check before running the program.\n",
    "a = 10\n",
    "b = 10\n",
    "print(a is b)          #True\n",
    "print(a is not b)      #False\n",
    "\n",
    "a = 1000\n",
    "b = 1000\n",
    "print(a is b)          #False\n",
    "print(a is not b)      #True"
   ]
  },
  {
   "cell_type": "code",
   "execution_count": 18,
   "metadata": {
    "colab": {},
    "colab_type": "code",
    "id": "Un2To3XN1_Il"
   },
   "outputs": [
    {
     "name": "stdout",
     "output_type": "stream",
     "text": [
      "20\n"
     ]
    }
   ],
   "source": [
    "#What is the output of expression inside print statement. Cross check before running the program.\n",
    "print(10+(10*32)//2**5&20+(~(-10))<<2) \n",
    "\n",
    "#10 + 320 // 32 & 20 + 9 << 2\n",
    "#10 + 10 & 20 + 9 << 2\n",
    "#20 & 29 << 2\n",
    "#20"
   ]
  },
  {
   "cell_type": "code",
   "execution_count": 19,
   "metadata": {
    "colab": {},
    "colab_type": "code",
    "id": "kGRb5RMd1_1I"
   },
   "outputs": [
    {
     "name": "stdout",
     "output_type": "stream",
     "text": [
      "True\n",
      "True\n",
      "True\n",
      "True\n",
      "True\n",
      "True\n"
     ]
    }
   ],
   "source": [
    "#Membership operation\n",
    "#in, not in are two membership operators and it returns boolean value\n",
    "\n",
    "print('2' in 'Python2.7.8')             #True\n",
    "print(10 in [10,10.20,10+20j,'Python']) #True\n",
    "print(10 in (10,10.20,10+20j,'Python')) #True\n",
    "print(2 in {1,2,3})                     #True\n",
    "print(3 in {1:100, 2:200, 3:300})       #True\n",
    "print(10 in range(20))                  #True"
   ]
  },
  {
   "cell_type": "code",
   "execution_count": 21,
   "metadata": {
    "colab": {},
    "colab_type": "code",
    "id": "Es7iSvL92B9W"
   },
   "outputs": [
    {
     "name": "stdout",
     "output_type": "stream",
     "text": [
      "10\n",
      "445\n",
      "44818\n",
      "0b10011010010100\n",
      "0o23224\n",
      "0x2694\n"
     ]
    }
   ],
   "source": [
    "#An integer can be represented in binary, octal or hexadecimal form.\n",
    "#Declare one binary, one octal and one hexadecimal value and store them in three different variables.\n",
    "#Convert 9876 to its binary, octal and hexadecimal equivalent and print their corresponding value.\n",
    "a = 0b1010\n",
    "b = 0o675\n",
    "c = 0xAF12\n",
    "print(a)\n",
    "print(b)\n",
    "print(c)\n",
    "\n",
    "val = 9876\n",
    "print(bin(val))\n",
    "print(oct(val))\n",
    "print(hex(val))\n"
   ]
  },
  {
   "cell_type": "code",
   "execution_count": 22,
   "metadata": {
    "colab": {},
    "colab_type": "code",
    "id": "Hm0r03lH2E0i"
   },
   "outputs": [
    {
     "name": "stdout",
     "output_type": "stream",
     "text": [
      "80\n",
      "3870\n",
      "64222\n",
      "0b1010000\n",
      "0o7436\n",
      "0xfade\n",
      "0b1010000\n",
      "0b1111101011011110\n",
      "0o175336\n",
      "0o7436\n",
      "0x50\n",
      "0xfade\n"
     ]
    }
   ],
   "source": [
    "#What will be the outut of following:-\n",
    "a = 0b1010000\n",
    "print(a) #80\n",
    "\n",
    "b = 0o7436\n",
    "print(b) #3870\n",
    "\n",
    "c = 0xfade\n",
    "print(c) #64222\n",
    "\n",
    "print(bin(80)) #1010000\n",
    "\n",
    "print(oct(3870)) #7436\n",
    "\n",
    "print(hex(64222)) #0xfade\n",
    "\n",
    "print(bin(0b1010000)) #1010000\n",
    "\n",
    "print(bin(0xfade)) #1111101011011110\n",
    "\n",
    "print(oct(0xfade)) #175336\n",
    "\n",
    "print(oct(0o7436)) #7436\n",
    "\n",
    "print(hex(0b1010000)) #50\n",
    "\n",
    "print(hex(0xfade)) #0xfade"
   ]
  }
 ],
 "metadata": {
  "colab": {
   "name": "int_assignment.ipynb",
   "provenance": []
  },
  "kernelspec": {
   "display_name": "Python 3",
   "language": "python",
   "name": "python3"
  },
  "language_info": {
   "codemirror_mode": {
    "name": "ipython",
    "version": 3
   },
   "file_extension": ".py",
   "mimetype": "text/x-python",
   "name": "python",
   "nbconvert_exporter": "python",
   "pygments_lexer": "ipython3",
   "version": "3.8.3"
  }
 },
 "nbformat": 4,
 "nbformat_minor": 1
}
