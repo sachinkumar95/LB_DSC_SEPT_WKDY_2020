{
 "cells": [
  {
   "cell_type": "markdown",
   "metadata": {},
   "source": [
    "# Assignment 2 - 10th September 2020 - List"
   ]
  },
  {
   "cell_type": "code",
   "execution_count": null,
   "metadata": {
    "colab": {},
    "colab_type": "code",
    "id": "gtlAv2oq9yzd"
   },
   "outputs": [],
   "source": [
    "#Write a Python program to find the sum of all elements in a list using loop.\n",
    "#Input:- [10,20,30,40]\n",
    "#Output:- 100"
   ]
  },
  {
   "cell_type": "code",
   "execution_count": 1,
   "metadata": {},
   "outputs": [
    {
     "name": "stdout",
     "output_type": "stream",
     "text": [
      "Solution : \n",
      "\t Sum of all elements in a List\n",
      "Value of the list 'input_list'         :  [10, 20, 30, 40]\n",
      "Sum of all elements in the given list' :  100\n"
     ]
    }
   ],
   "source": [
    "#Solution:\n",
    "#Sum of all elements in a List\n",
    "print(\"Solution : \")\n",
    "print(\"\\t Sum of all elements in a List\")\n",
    "\n",
    "#list value declaration\n",
    "input_list = [10,20,30,40];\n",
    "print(\"Value of the list 'input_list'         : \", input_list)\n",
    "\n",
    "#Sum of all elements in a List\n",
    "sum_value=0\n",
    "for i in input_list :\n",
    "    sum_value += i\n",
    "print(\"Sum of all elements in the given list' : \", sum_value)"
   ]
  },
  {
   "cell_type": "code",
   "execution_count": null,
   "metadata": {
    "colab": {},
    "colab_type": "code",
    "id": "gTbA8psa93Y_"
   },
   "outputs": [],
   "source": [
    "#Write a Python program to find the multiplication of all elements in a list using loop.\n",
    "#Input:- [10,20,30,40]\n",
    "#Output:- 240000"
   ]
  },
  {
   "cell_type": "code",
   "execution_count": 2,
   "metadata": {},
   "outputs": [
    {
     "name": "stdout",
     "output_type": "stream",
     "text": [
      "Solution : \n",
      "\t Multiplication of all elements in a List\n",
      "Value of the list 'input_list'                    :  [10, 20, 30, 40]\n",
      "Multiplication of all elements in the given list' :  240000\n"
     ]
    }
   ],
   "source": [
    "#Solution:\n",
    "#Sum of all elements in a List\n",
    "print(\"Solution : \")\n",
    "print(\"\\t Multiplication of all elements in a List\")\n",
    "\n",
    "#list value declaration\n",
    "input_list = [10,20,30,40];\n",
    "print(\"Value of the list 'input_list'                    : \", input_list)\n",
    "\n",
    "#Multiplication of all elements in a List\n",
    "sum_value=1\n",
    "for i in input_list :\n",
    "    sum_value *= i\n",
    "print(\"Multiplication of all elements in the given list' : \", sum_value)"
   ]
  },
  {
   "cell_type": "code",
   "execution_count": null,
   "metadata": {
    "colab": {},
    "colab_type": "code",
    "id": "XBCrEtLN94Lj"
   },
   "outputs": [],
   "source": [
    "#Write a Python program to find the largest number from a list using loop.\n",
    "#Input:- [10,100,2321, 1,200,2]\n",
    "#Output:- 2321"
   ]
  },
  {
   "cell_type": "code",
   "execution_count": 3,
   "metadata": {},
   "outputs": [
    {
     "name": "stdout",
     "output_type": "stream",
     "text": [
      "Solution : \n",
      "\t Largest number of all elements in a List\n",
      "Value of the list 'input_list'                    :  [10, 100, 2321, 1, 200, 2]\n",
      "Largest number of all elements in the given list  :  2321\n"
     ]
    }
   ],
   "source": [
    "#Solution:\n",
    "#Sum of all elements in a List\n",
    "print(\"Solution : \")\n",
    "print(\"\\t Largest number of all elements in a List\")\n",
    "\n",
    "#list value declaration\n",
    "input_list = [10,100,2321, 1,200,2];\n",
    "print(\"Value of the list 'input_list'                    : \", input_list)\n",
    "\n",
    "#Largest number of all elements in a List\n",
    "max_value=input_list[0]\n",
    "for i in input_list :\n",
    "    if(i>max_value) :\n",
    "        max_value=i\n",
    "print(\"Largest number of all elements in the given list  : \", max_value)"
   ]
  },
  {
   "cell_type": "code",
   "execution_count": null,
   "metadata": {
    "colab": {},
    "colab_type": "code",
    "id": "l3paUtbH94Vw"
   },
   "outputs": [],
   "source": [
    "#Write a Python program to find the smallest number from a list using loop.\n",
    "#Input:- [10,100,2321, 1,200,2]\n",
    "#Output:- 1"
   ]
  },
  {
   "cell_type": "code",
   "execution_count": 4,
   "metadata": {},
   "outputs": [
    {
     "name": "stdout",
     "output_type": "stream",
     "text": [
      "Solution : \n",
      "\t Smallest number of all elements in a List\n",
      "Value of the list 'input_list'                    :  [10, 100, 2321, 1, 200, 2]\n",
      "Smallest number of all elements in the given list  :  1\n"
     ]
    }
   ],
   "source": [
    "#Solution:\n",
    "#Sum of all elements in a List\n",
    "print(\"Solution : \")\n",
    "print(\"\\t Smallest number of all elements in a List\")\n",
    "\n",
    "#list value declaration\n",
    "input_list = [10,100,2321, 1,200,2];\n",
    "print(\"Value of the list 'input_list'                    : \", input_list)\n",
    "\n",
    "#Smallest number of all elements in a List\n",
    "min_value=input_list[0]\n",
    "for i in input_list :\n",
    "    if(i<min_value) :\n",
    "        min_value=i\n",
    "print(\"Smallest number of all elements in the given list  : \", min_value)"
   ]
  },
  {
   "cell_type": "code",
   "execution_count": null,
   "metadata": {
    "colab": {},
    "colab_type": "code",
    "id": "JTVgy5VD94cE"
   },
   "outputs": [],
   "source": [
    "#Write a Python program to count the number of strings having length more than 2 and are palindrome in a list using loop.\n",
    "#Input:- ['ab', 'abc', 'aba', 'xyz', '1991']\n",
    "#Output:- 2"
   ]
  },
  {
   "cell_type": "code",
   "execution_count": 36,
   "metadata": {},
   "outputs": [
    {
     "name": "stdout",
     "output_type": "stream",
     "text": [
      "Solution : \n",
      "\t Number of strings having length more than 2 and are palindrome in a list\n",
      "Value of the list 'input_list'                                                    :  ['ab', 'abc', 'aba', 'xyz', '1991']\n",
      "Number of strings having length more than 2 and palindrome in the given list      :  2\n"
     ]
    }
   ],
   "source": [
    "#Solution:\n",
    "#Sum of all elements in a List\n",
    "print(\"Solution : \")\n",
    "print(\"\\t Number of strings having length more than 2 and are palindrome in a list\")\n",
    "\n",
    "#list value declaration\n",
    "input_list = ['ab', 'abc', 'aba', 'xyz', '1991'];\n",
    "print(\"Value of the list 'input_list'                                                    : \", input_list)\n",
    "\n",
    "#Number of strings having length more than 2 and are palindrome in a list\n",
    "count=0\n",
    "for i in input_list :\n",
    "    value = str(i) == str(i)[::-1]\n",
    "    if(len(i)>2 and value) :\n",
    "        count+=1\n",
    "print(\"Number of strings having length more than 2 and palindrome in the given list      : \", count)"
   ]
  },
  {
   "cell_type": "code",
   "execution_count": null,
   "metadata": {
    "colab": {},
    "colab_type": "code",
    "id": "xs-ZGJbJ94gr"
   },
   "outputs": [],
   "source": [
    "#Write a Python program to sort a list in ascending order using loop.\n",
    "#Input:- [100,10,1,298,65,483,49876,2,80,9,9213]\n",
    "#Output:- [1,2,9,10,65,80,100,298,483,9213,49876]"
   ]
  },
  {
   "cell_type": "code",
   "execution_count": 6,
   "metadata": {},
   "outputs": [
    {
     "name": "stdout",
     "output_type": "stream",
     "text": [
      "Solution : \n",
      "\t Sort a list in ascending order using loop\n",
      "Value of the list 'input_list'             :  [100, 10, 1, 298, 65, 483, 49876, 2, 80, 9, 9213]\n",
      "Sort a list in ascending order using loop  :  [1, 2, 9, 10, 65, 80, 100, 298, 483, 9213, 49876]\n"
     ]
    }
   ],
   "source": [
    "#Solution:\n",
    "#Sort a list in ascending order using loop\n",
    "print(\"Solution : \")\n",
    "print(\"\\t Sort a list in ascending order using loop\")\n",
    "\n",
    "#list value declaration\n",
    "input_list = [100,10,1,298,65,483,49876,2,80,9,9213]\n",
    "print(\"Value of the list 'input_list'             : \", input_list)\n",
    "\n",
    "#Sort a list in ascending order using loop\n",
    "temp_value=0\n",
    "for i in range(0,len(input_list)) :\n",
    "    for j in range(i+1,len(input_list)) :\n",
    "        if(input_list[i]>input_list[j]) :\n",
    "            temp_value = input_list[i]\n",
    "            input_list[i] = input_list[j]\n",
    "            input_list[j] = temp_value\n",
    "print(\"Sort a list in ascending order using loop  : \", input_list)   "
   ]
  },
  {
   "cell_type": "code",
   "execution_count": null,
   "metadata": {
    "colab": {},
    "colab_type": "code",
    "id": "VhKQJizZ94kg"
   },
   "outputs": [],
   "source": [
    "#Write a Python program to get a sorted list in increasing order of last element in each tuple in a given list using loop.\n",
    "#Input:- [(5,4),(9,1),(2,3),(5,9),(7,6),(5,5)]\n",
    "#output:- [(9,1),(2,3),(5,4),(5,5),(7,6),(5,9)]"
   ]
  },
  {
   "cell_type": "code",
   "execution_count": 7,
   "metadata": {},
   "outputs": [
    {
     "name": "stdout",
     "output_type": "stream",
     "text": [
      "Solution : \n",
      "\t Sorted list in increasing order of last element in each tuple in a given list\n",
      "Value of the list 'input_list'             :  [(5, 4), (9, 1), (2, 3), (5, 9), (7, 6), (5, 5)]\n",
      "Sort a list in ascending order using loop  :  [(9, 1), (2, 3), (5, 4), (5, 5), (7, 6), (5, 9)]\n"
     ]
    }
   ],
   "source": [
    "#Solution:\n",
    "#Sorted list in increasing order of last element in each tuple in a given list\n",
    "print(\"Solution : \")\n",
    "print(\"\\t Sorted list in increasing order of last element in each tuple in a given list\")\n",
    "\n",
    "#list value declaration\n",
    "input_list = [(5,4),(9,1),(2,3),(5,9),(7,6),(5,5)]\n",
    "print(\"Value of the list 'input_list'             : \", input_list)\n",
    "\n",
    "#Sorted list in increasing order of last element in each tuple in a given list\n",
    "temp_value=0\n",
    "for i in range(0,len(input_list)) :\n",
    "    for j in range(0,len(input_list)-i-1) :\n",
    "        if(input_list[j][1]>input_list[j+1][1]) :\n",
    "            temp_value = input_list[j]\n",
    "            input_list[j] = input_list[j+1]\n",
    "            input_list[j+1] = temp_value\n",
    "print(\"Sort a list in ascending order using loop  : \", input_list)   "
   ]
  },
  {
   "cell_type": "code",
   "execution_count": null,
   "metadata": {
    "colab": {},
    "colab_type": "code",
    "id": "YJrCLYp694n_"
   },
   "outputs": [],
   "source": [
    "#Write a Python program to remove fuplicate element from a list using loop.\n",
    "#Input:- [10,1,11,1,29,876,768,10,11,1,92,29,876]\n",
    "#Output:- [10,1,11,29,876,768,92]"
   ]
  },
  {
   "cell_type": "code",
   "execution_count": 8,
   "metadata": {},
   "outputs": [
    {
     "name": "stdout",
     "output_type": "stream",
     "text": [
      "Solution : \n",
      "\t Remove duplicate element from a list using loop\n",
      "Value of the list 'input_list'             :  [10, 1, 11, 1, 29, 876, 768, 10, 11, 1, 92, 29, 876]\n",
      "Values in list after removing duplicates   :  [10, 1, 11, 29, 876, 768, 92]\n"
     ]
    }
   ],
   "source": [
    "#Solution:\n",
    "#Remove duplicate element from a list using loop\n",
    "print(\"Solution : \")\n",
    "print(\"\\t Remove duplicate element from a list using loop\")\n",
    "\n",
    "#list value declaration\n",
    "input_list = [10,1,11,1,29,876,768,10,11,1,92,29,876]\n",
    "print(\"Value of the list 'input_list'             : \", input_list)\n",
    "\n",
    "#Remove duplicate element from a list using loop\n",
    "output_list=[]\n",
    "for i in input_list :\n",
    "    if(i not in output_list) :\n",
    "        output_list.append(i)\n",
    "print(\"Values in list after removing duplicates   : \", output_list)   "
   ]
  },
  {
   "cell_type": "code",
   "execution_count": null,
   "metadata": {
    "colab": {},
    "colab_type": "code",
    "id": "koYe4YCu94rh"
   },
   "outputs": [],
   "source": [
    "#Write a Python program to check a list is empty or not?\n",
    "#Input:- []\n",
    "#Output:- List is empty\n",
    "#Input:- [10,20,30]\n",
    "#Output:- List is not empty"
   ]
  },
  {
   "cell_type": "code",
   "execution_count": 9,
   "metadata": {},
   "outputs": [
    {
     "name": "stdout",
     "output_type": "stream",
     "text": [
      "Solution : \n",
      "\t Check a list is empty or not\n",
      "Enter the list : [12,34,65]\n",
      "Value of the list 'input_list'             :  [12,34,65]\n",
      "List is not empty\n"
     ]
    }
   ],
   "source": [
    "#Solution:\n",
    "#Check a list is empty or not\n",
    "print(\"Solution : \")\n",
    "print(\"\\t Check a list is empty or not\")\n",
    "\n",
    "#list value declaration\n",
    "input_list = input(\"Enter the list : \")\n",
    "print(\"Value of the list 'input_list'             : \", input_list)\n",
    "\n",
    "#Check a list is empty or not\n",
    "if(len(input_list)==0) :\n",
    "    print(\"List is empty\")\n",
    "else :\n",
    "    print(\"List is not empty\")"
   ]
  },
  {
   "cell_type": "code",
   "execution_count": null,
   "metadata": {
    "colab": {},
    "colab_type": "code",
    "id": "mES1WANa94u5"
   },
   "outputs": [],
   "source": [
    "#Write a Python program to copy a list using loop.\n",
    "#inp_lst = [10,10.20,10+20j, 'Python', [10,20], (10,20)]\n",
    "#out_lst = [10,10.20,10+20j, 'Python', [10,20], (10,20)]"
   ]
  },
  {
   "cell_type": "code",
   "execution_count": 10,
   "metadata": {},
   "outputs": [
    {
     "name": "stdout",
     "output_type": "stream",
     "text": [
      "Solution : \n",
      "\t Copy a list using loop\n",
      "Value of the list 'input_list'              :  [10, 10.2, (10+20j), 'Python', [10, 20], (10, 20)]\n",
      "Values in output list after copying elments :  [10, 10.2, (10+20j), 'Python', [10, 20], (10, 20)]\n"
     ]
    }
   ],
   "source": [
    "#Solution:\n",
    "#Copy a list using loop\n",
    "print(\"Solution : \")\n",
    "print(\"\\t Copy a list using loop\")\n",
    "\n",
    "#list value declaration\n",
    "input_list = [10,10.20,10+20j, 'Python', [10,20], (10,20)]\n",
    "print(\"Value of the list 'input_list'              : \", input_list)\n",
    "\n",
    "#Copy a list using loop\n",
    "output_list=[]\n",
    "for i in input_list :\n",
    "        output_list.append(i)\n",
    "print(\"Values in output list after copying elments : \", output_list)   "
   ]
  },
  {
   "cell_type": "code",
   "execution_count": null,
   "metadata": {
    "colab": {},
    "colab_type": "code",
    "id": "CpBh31WO94yi"
   },
   "outputs": [],
   "source": [
    "#Write a Python program to find the list of words that are longer than or equal to 4 from a given string.\n",
    "#Input:- 'How much wood would a woodchuck chuck if a woodchuck could chuck wood'\n",
    "#Output:- ['much', 'wood', 'would', 'woodchuck', 'chuck', 'could', 'could']\n",
    "#Note:- Duplicate should be avoided."
   ]
  },
  {
   "cell_type": "code",
   "execution_count": 11,
   "metadata": {},
   "outputs": [
    {
     "name": "stdout",
     "output_type": "stream",
     "text": [
      "Solution : \n",
      "\t List of words that are longer than or equal to 4 from a given string\n",
      "Value of the list 'input_list'                                       :  How much wood would a woodchuck chuck if a woodchuck could chuck wood\n",
      "List values from the given string                                    :  ['How', 'much', 'wood', 'would', 'a', 'woodchuck', 'chuck', 'if', 'a', 'woodchuck', 'could', 'chuck', 'wood']\n",
      "List of words that are longer than or equal to 4 from a given string :  ['much', 'wood', 'would', 'woodchuck', 'chuck', 'could']\n"
     ]
    }
   ],
   "source": [
    "#Solution:\n",
    "#List of words that are longer than or equal to 4 from a given string\n",
    "print(\"Solution : \")\n",
    "print(\"\\t List of words that are longer than or equal to 4 from a given string\")\n",
    "\n",
    "#String value declaration\n",
    "input_string = 'How much wood would a woodchuck chuck if a woodchuck could chuck wood'\n",
    "print(\"Value of the list 'input_list'                                       : \", input_string)\n",
    "\n",
    "#String value to list\n",
    "input_list = input_string.split()\n",
    "print(\"List values from the given string                                    : \", input_list)\n",
    "\n",
    "#List of words that are longer than or equal to 4 from a given string\n",
    "output_list=[]\n",
    "for i in input_list :\n",
    "    if(len(i)>=4 and i not in output_list) :\n",
    "        output_list.append(i)\n",
    "print(\"List of words that are longer than or equal to 4 from a given string : \", output_list)   "
   ]
  },
  {
   "cell_type": "code",
   "execution_count": null,
   "metadata": {
    "colab": {},
    "colab_type": "code",
    "id": "YVfj0fgZ9416"
   },
   "outputs": [],
   "source": [
    "#Write a Python program which takes two list as input and returns True if they have at least 3 common elements.\n",
    "#inp_lst1 = [10,20,'Python', 10.20, 10+20j, [10,20,30], (10,20,30)]\n",
    "#inp_lst2 = [(10,20,30),1,20+3j,100.2, 10+20j, [10,20,30],'Python']\n",
    "#Output:- True"
   ]
  },
  {
   "cell_type": "code",
   "execution_count": 12,
   "metadata": {},
   "outputs": [
    {
     "name": "stdout",
     "output_type": "stream",
     "text": [
      "Solution : \n",
      "\t Two list as input and returns True if they have at least 3 common elements\n",
      "Value of the list 'inp_lst1'                      :  [10, 20, 'Python', 10.2, (10+20j), [10, 20, 30], (10, 20, 30)]\n",
      "Value of the list 'inp_lst2'                      :  [(10, 20, 30), 1, (20+3j), 100.2, (10+20j), [10, 20, 30], 'Python']\n",
      "Two list as input and returns True if they have at least 3 common elements :  True\n"
     ]
    }
   ],
   "source": [
    "#Solution:\n",
    "#Two list as input and returns True if they have at least 3 common elements\n",
    "print(\"Solution : \")\n",
    "print(\"\\t Two list as input and returns True if they have at least 3 common elements\")\n",
    "\n",
    "#List value declaration\n",
    "inp_lst1 = [10,20,'Python', 10.20, 10+20j, [10,20,30], (10,20,30)]\n",
    "print(\"Value of the list 'inp_lst1'                      : \", inp_lst1)\n",
    "inp_lst2 = [(10,20,30),1,20+3j,100.2, 10+20j, [10,20,30],'Python']\n",
    "print(\"Value of the list 'inp_lst2'                      : \", inp_lst2)\n",
    "\n",
    "#Two list as input and returns True if they have at least 3 common elements\n",
    "common_elements=0\n",
    "for i in inp_lst1 :\n",
    "    if(i in inp_lst2) :\n",
    "        common_elements+=1\n",
    "        if(common_elements>=3) :\n",
    "            res=True\n",
    "            break\n",
    "print(\"Two list as input and returns True if they have at least 3 common elements : \", res)   "
   ]
  },
  {
   "cell_type": "code",
   "execution_count": null,
   "metadata": {
    "colab": {},
    "colab_type": "code",
    "id": "7vwc3pjR945O"
   },
   "outputs": [],
   "source": [
    "#Write a Python program to create a 4X4 2D matrix with below elements using loop and list comprehension both.\n",
    "#Output:- [[0,0,0,0],[0,1,2,3],[0,2,4,6],[0,3,6,9]]"
   ]
  },
  {
   "cell_type": "code",
   "execution_count": 37,
   "metadata": {},
   "outputs": [
    {
     "name": "stdout",
     "output_type": "stream",
     "text": [
      "Solution : \n",
      "\t To create a 4X4 2D matrix with loop and list comprehension\n",
      "a. 4X4 2D matrix with loop\n",
      "[[0, 0, 0, 0], [0, 1, 2, 3], [0, 2, 4, 6], [0, 3, 6, 9]]\n",
      "\n",
      "b. 4X4 2D matrix with list comprehension\n",
      "[[0, 0, 0, 0], [0, 1, 2, 3], [0, 2, 4, 6], [0, 3, 6, 9]]\n"
     ]
    }
   ],
   "source": [
    "#Solution:\n",
    "#To create a 4X4 2D matrix with loop and list comprehension\n",
    "print(\"Solution : \")\n",
    "print(\"\\t To create a 4X4 2D matrix with loop and list comprehension\")\n",
    "\n",
    "#4X4 2D matrix with loop\n",
    "print(\"a. 4X4 2D matrix with loop\") \n",
    "output_list=[]\n",
    "for i in range(4) :\n",
    "    matrix_list=[]\n",
    "    for j in range(4) :\n",
    "        matrix_list.append(i*j)\n",
    "    output_list.append(matrix_list)\n",
    "print(output_list)\n",
    "\n",
    "#4X4 2D matrix with list comprehension\n",
    "print()\n",
    "print(\"b. 4X4 2D matrix with list comprehension\")   \n",
    "print([[i*j for j in range(4)] for i in range(4)])"
   ]
  },
  {
   "cell_type": "code",
   "execution_count": null,
   "metadata": {
    "colab": {},
    "colab_type": "code",
    "id": "Pxafor84948b"
   },
   "outputs": [],
   "source": [
    "#Write a Python program to create a 3X4X6 3D matrix wiith below elements using loop\n",
    "#Output:- \n",
    "# [\n",
    "#     [[0,0,0,0,0,0],[0,0,0,0,0,0],[0,0,0,0,0,0],[0,0,0,0,0,0]],\n",
    "#     [[0,0,0,0,0,0],[1,1,1,1,1,1],[2,2,2,2,2,2],[3,3,3,3,3,3]],\n",
    "#     [[0,0,0,0,0,0],[2,2,2,2,2,2],[4,4,4,4,4,4],[6,6,6,6,6,6]]\n",
    "# ]"
   ]
  },
  {
   "cell_type": "code",
   "execution_count": 70,
   "metadata": {},
   "outputs": [
    {
     "name": "stdout",
     "output_type": "stream",
     "text": [
      "Solution : \n",
      "\t To create a 3X4X6 3D matrix using loop\n",
      "a. 3X4X6 3D matrix with loop\n",
      "[[[0, 0, 0, 0, 0, 0],\n",
      "  [0, 0, 0, 0, 0, 0],\n",
      "  [0, 0, 0, 0, 0, 0],\n",
      "  [0, 0, 0, 0, 0, 0]],\n",
      " [[0, 0, 0, 0, 0, 0],\n",
      "  [1, 1, 1, 1, 1, 1],\n",
      "  [2, 2, 2, 2, 2, 2],\n",
      "  [3, 3, 3, 3, 3, 3]],\n",
      " [[0, 0, 0, 0, 0, 0],\n",
      "  [2, 2, 2, 2, 2, 2],\n",
      "  [4, 4, 4, 4, 4, 4],\n",
      "  [6, 6, 6, 6, 6, 6]]]\n",
      "\n",
      "b. 3X4X6 3D matrix with list comprehension\n",
      "[[[0, 0, 0, 0, 0, 0],\n",
      "  [0, 0, 0, 0, 0, 0],\n",
      "  [0, 0, 0, 0, 0, 0],\n",
      "  [0, 0, 0, 0, 0, 0]],\n",
      " [[0, 0, 0, 0, 0, 0],\n",
      "  [1, 1, 1, 1, 1, 1],\n",
      "  [2, 2, 2, 2, 2, 2],\n",
      "  [3, 3, 3, 3, 3, 3]],\n",
      " [[0, 0, 0, 0, 0, 0],\n",
      "  [2, 2, 2, 2, 2, 2],\n",
      "  [4, 4, 4, 4, 4, 4],\n",
      "  [6, 6, 6, 6, 6, 6]]]\n"
     ]
    }
   ],
   "source": [
    "#Solution:\n",
    "#To create a 3X4X6 3D matrix with loop and list comprehension\n",
    "print(\"Solution : \")\n",
    "print(\"\\t To create a 3X4X6 3D matrix using loop\")\n",
    "\n",
    "#3X4X6 3D matrix with loop\n",
    "print(\"a. 3X4X6 3D matrix with loop\") \n",
    "import pprint\n",
    "final_matrix_list=[]\n",
    "for i in range(3) :\n",
    "    column_list=[]\n",
    "    for j in range(4) :\n",
    "        element_list=[]\n",
    "        for k in range(6) :  \n",
    "            element_list.append(i*j)\n",
    "        column_list.append(element_list)\n",
    "    final_matrix_list.append(column_list)\n",
    "pprint.pprint(final_matrix_list)\n",
    "\n",
    "##3X4X6 3D matrix with list comprehension\n",
    "import pprint\n",
    "print()\n",
    "print(\"b. 3X4X6 3D matrix with list comprehension\")   \n",
    "pprint.pprint([[[i*j for k in range(6)] for j in range(4)] for i in range(3)])"
   ]
  },
  {
   "cell_type": "code",
   "execution_count": null,
   "metadata": {
    "colab": {},
    "colab_type": "code",
    "id": "lYNv8gk794_p"
   },
   "outputs": [],
   "source": [
    "#Write a Python program which takes a list of numbers as input and prints a new list after removing even numbers from it.\n",
    "#Input:- [10,21,22,98,87,45,33,1,2,100]\n",
    "#Output:- [21,87,45,33,1]"
   ]
  },
  {
   "cell_type": "code",
   "execution_count": 71,
   "metadata": {},
   "outputs": [
    {
     "name": "stdout",
     "output_type": "stream",
     "text": [
      "Solution : \n",
      "\t List of numbers as input and prints a new list after removing even numbers from it\n",
      "Value of the list 'input_list'                      :  [10, 21, 22, 98, 87, 45, 33, 1, 2, 100]\n",
      "List of words that are longer than or equal to 4 from a given string :  [21, 87, 45, 33, 1]\n"
     ]
    }
   ],
   "source": [
    "#Solution:\n",
    "#list of numbers as input and prints a new list after removing even numbers from it\n",
    "print(\"Solution : \")\n",
    "print(\"\\t List of numbers as input and prints a new list after removing even numbers from it\")\n",
    "\n",
    "#List value declaration\n",
    "input_list = [10,21,22,98,87,45,33,1,2,100]\n",
    "print(\"Value of the list 'input_list'                      : \", input_list)\n",
    "\n",
    "#list of numbers as input and prints a new list after removing even numbers from it\n",
    "output_list=[]\n",
    "for i in input_list :\n",
    "    if(i % 2 != 0) :\n",
    "        output_list.append(i)\n",
    "print(\"List of words that are longer than or equal to 4 from a given string : \", output_list)   "
   ]
  },
  {
   "cell_type": "code",
   "execution_count": null,
   "metadata": {
    "colab": {},
    "colab_type": "code",
    "id": "3BaCb-rB95B7"
   },
   "outputs": [],
   "source": [
    "#Write a Python program which takes a list from the user and prints it after reshuffling the elements of the list.\n",
    "#Input:- [10,21,22,98,87,45,33,1,2,100]\n",
    "#Output:- [1,87,21,10,33,2,100,45,98,22] (It may be any randon list but with same elements)"
   ]
  },
  {
   "cell_type": "code",
   "execution_count": 73,
   "metadata": {},
   "outputs": [
    {
     "name": "stdout",
     "output_type": "stream",
     "text": [
      "Solution : \n",
      "\t List from the user and prints it after reshuffling the elements of the list\n",
      "Enter the values for list : [10,21,22,98,87,45,33,1,2,100]\n",
      "Value of the list 'input_list'                      :  [10, 21, 22, 98, 87, 45, 33, 1, 2, 100]\n",
      "List from the user and prints it after reshuffling the elements of the list :  [100, 21, 10, 98, 1, 22, 33, 45, 87, 2]\n"
     ]
    }
   ],
   "source": [
    "#Solution:\n",
    "#list from the user and prints it after reshuffling the elements of the list\n",
    "print(\"Solution : \")\n",
    "print(\"\\t List from the user and prints it after reshuffling the elements of the list\")\n",
    "\n",
    "#List value declaration\n",
    "input_list = eval(input(\"Enter the values for list : \"))\n",
    "print(\"Value of the list 'input_list'                      : \", input_list)\n",
    "\n",
    "#List from the user and prints it after reshuffling the elements of the list\n",
    "import random\n",
    "output_list=random.sample(input_list,len(input_list))\n",
    "print(\"List from the user and prints it after reshuffling the elements of the list : \", output_list) "
   ]
  }
 ],
 "metadata": {
  "colab": {
   "name": "List_Assignment.ipynb",
   "provenance": []
  },
  "kernelspec": {
   "display_name": "Python 3",
   "language": "python",
   "name": "python3"
  },
  "language_info": {
   "codemirror_mode": {
    "name": "ipython",
    "version": 3
   },
   "file_extension": ".py",
   "mimetype": "text/x-python",
   "name": "python",
   "nbconvert_exporter": "python",
   "pygments_lexer": "ipython3",
   "version": "3.8.3"
  }
 },
 "nbformat": 4,
 "nbformat_minor": 1
}
