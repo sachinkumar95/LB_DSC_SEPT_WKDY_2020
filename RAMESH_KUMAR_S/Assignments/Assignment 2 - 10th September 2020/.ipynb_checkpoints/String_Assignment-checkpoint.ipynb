{
 "cells": [
  {
   "cell_type": "markdown",
   "metadata": {},
   "source": [
    "# Assignment 2 - 10th September 2020 - String"
   ]
  },
  {
   "cell_type": "code",
   "execution_count": null,
   "metadata": {
    "colab": {},
    "colab_type": "code",
    "id": "OG2JlAXx3VoJ"
   },
   "outputs": [],
   "source": [
    "#Declare a string and store it in a variable. \n",
    "#Check the type and print the id of the same."
   ]
  },
  {
   "cell_type": "code",
   "execution_count": 1,
   "metadata": {},
   "outputs": [
    {
     "name": "stdout",
     "output_type": "stream",
     "text": [
      "Solution : \n",
      "\t String Variable Declaration, Type Check and Id\n",
      "Value of variable 'num' :  Python\n",
      "Type of variable 'language'  :  <class 'str'>\n",
      "ID of variable 'language'    :  2893055614256\n"
     ]
    }
   ],
   "source": [
    "#Solution:\n",
    "#String variable declaration\n",
    "print(\"Solution : \")\n",
    "print(\"\\t String Variable Declaration, Type Check and Id\")\n",
    "language = \"Python\";\n",
    "print(\"Value of variable 'num' : \", language)\n",
    "\n",
    "#Type Check\n",
    "print(\"Type of variable 'language'  : \", type(language))\n",
    "\n",
    "#Id of declared integer variable\n",
    "print(\"ID of variable 'language'    : \", id(language))"
   ]
  },
  {
   "cell_type": "code",
   "execution_count": null,
   "metadata": {
    "colab": {},
    "colab_type": "code",
    "id": "wPxm3G8W3dqN"
   },
   "outputs": [],
   "source": [
    "#Which are valid/invalid strings\n",
    "1. 'This is Python class'\n",
    "valid/invalid\n",
    "\n",
    "2. \"This is Python class\"\n",
    "valid/invalid\n",
    "\n",
    "3. '''This is Python class'''\n",
    "valid/invalid\n",
    "\n",
    "4. \"\"\"This is Python class\"\"\"\n",
    "valid/invalid\n",
    "\n",
    "5. 'This is Python's class'\n",
    "valid/invalid\n",
    "\n",
    "6. \"Learnbay provides \"Java\", \"Python\" classes\"\n",
    "valid/invalid\n",
    "\n",
    "7. \"Learnbay provides 'Java', 'Python' classes\"\n",
    "valid/invalid\n",
    "\n",
    "8. \"This is Python's class\"\n",
    "valid/invalid\n",
    "\n",
    "9. \"\"\"Learnbay provides \"Java\", \"Python\" classes\"\"\"\n",
    "valid/invalid\n",
    "\n",
    "10. '''Learnbay provides \"Java\", \"Python\" classes'''\n",
    "valid/invalid   #\n",
    "\n",
    "11. '''Learnbay provides\n",
    "\"Java\", \"Python\" \n",
    "classes'''\n",
    "valid/invalid\n",
    "\n",
    "12. 'This is\n",
    "Python \n",
    "class'\n",
    "valid/invalid"
   ]
  },
  {
   "cell_type": "code",
   "execution_count": 3,
   "metadata": {},
   "outputs": [
    {
     "name": "stdout",
     "output_type": "stream",
     "text": [
      "Solution : \n",
      "\t Valid/Invalid String\n",
      "This is Python class\n",
      "This is Python class\n",
      "This is Python class\n",
      "This is Python class\n",
      "Learnbay provides 'Java', 'Python' classes\n",
      "This is Python's class\n",
      "Learnbay provides \"Java\", \"Python\" classes\n",
      "Learnbay provides \"Java\", \"Python\" classes\n",
      "Learnbay provides\n",
      "\"Java\", \"Python\" \n",
      "classes\n"
     ]
    }
   ],
   "source": [
    "#Solution:\n",
    "#Valid String\n",
    "print(\"Solution : \")\n",
    "print(\"\\t Valid/Invalid String\")\n",
    "print('This is Python class')                          #- Valid String\n",
    "print(\"This is Python class\")                          #- Valid String\n",
    "print('''This is Python class''')                      #- Valid String\n",
    "print(\"\"\"This is Python class\"\"\")                      #- Valid String\n",
    "# print('This is Python's class')  -                   - Invalid String\n",
    "# print(\"Learnbay provides \"Java\", \"Python\" classes\")  - Invalid String\n",
    "print(\"Learnbay provides 'Java', 'Python' classes\")    #- Valid String\n",
    "print(\"This is Python's class\")                        #- Valid String\n",
    "print(\"\"\"Learnbay provides \"Java\", \"Python\" classes\"\"\")#- Valid String\n",
    "print('''Learnbay provides \"Java\", \"Python\" classes''')#- Valid String\n",
    "print('''Learnbay provides\n",
    "\"Java\", \"Python\" \n",
    "classes''')                                            #- Valid String\n",
    "# print('This is\n",
    "# Python \n",
    "# class')                                              - Invalid String"
   ]
  },
  {
   "cell_type": "code",
   "execution_count": null,
   "metadata": {
    "colab": {},
    "colab_type": "code",
    "id": "Drx8fhT23g7a"
   },
   "outputs": [],
   "source": [
    "#Write the code to get the output mentioned below print statement\n",
    "my_str = \"Although that way may not be obvious at first unless you're Dutch.\"\n",
    "my_str1 = \"Although that way may not be obvious at first unless you're Dutch.\"\n",
    "\n",
    "print()\n",
    "#output:- The length of my_str is 66\n",
    "\n",
    "print()\n",
    "#output:- id of my_str and my_str1 is same? - True\n",
    "\n",
    "print()\n",
    "#output:- Type of my_str is: str"
   ]
  },
  {
   "cell_type": "code",
   "execution_count": 4,
   "metadata": {},
   "outputs": [
    {
     "name": "stdout",
     "output_type": "stream",
     "text": [
      "Solution : \n",
      "\t String length and Id Check\n",
      "Value of variable 'my_str'  :  Although that way may not be obvious at first unless you're Dutch.\n",
      "Value of variable 'my_str1' :  Although that way may not be obvious at first unless you're Dutch.\n",
      "Length of my_str            :  66\n",
      "Length of my_str1           :  66\n",
      "Id of 'my_str'              :  2893127644208\n",
      "Id of 'my_str1'             :  2893127644336\n",
      "Id's of my_str and my_str1 are different\n",
      "Reason : Python, will create new object for the values which lies outside the range according to their variable datatype. For String variables outside the range A-Z,a-z,0-9,_ Id's will be different. So, the Id's are different for my_str and my_str1.\n",
      "Type Check of my_str        :  str\n",
      "Type Check of my_str1       :  str\n"
     ]
    }
   ],
   "source": [
    "#Solution:\n",
    "#String length and Id Check\n",
    "print(\"Solution : \")\n",
    "print(\"\\t String length and Id Check\")\n",
    "\n",
    "#String variable declaration\n",
    "my_str = \"Although that way may not be obvious at first unless you're Dutch.\"\n",
    "print(\"Value of variable 'my_str'  : \", my_str)\n",
    "my_str1 = \"Although that way may not be obvious at first unless you're Dutch.\"\n",
    "print(\"Value of variable 'my_str1' : \", my_str1)\n",
    "\n",
    "#Length of declared string\n",
    "print(\"Length of my_str            : \", len(my_str))\n",
    "print(\"Length of my_str1           : \", len(my_str1))\n",
    "\n",
    "#Id of declared string\n",
    "print(\"Id of 'my_str'              : \", id(my_str))\n",
    "print(\"Id of 'my_str1'             : \", id(my_str1))\n",
    "print(\"Id's of my_str and my_str1 are different\")\n",
    "print(\"Reason : Python, will create new object for the values which lies outside the range according to their variable datatype. For String variables outside the range A-Z,a-z,0-9,_ Id's will be different. So, the Id's are different for my_str and my_str1.\")\n",
    "\n",
    "#Type Check of declared string\n",
    "print(\"Type Check of my_str        : \", str(type(my_str))[8:11])\n",
    "print(\"Type Check of my_str1       : \", str(type(my_str1))[8:11])"
   ]
  },
  {
   "cell_type": "code",
   "execution_count": null,
   "metadata": {
    "colab": {},
    "colab_type": "code",
    "id": "403e-I3A3lCO"
   },
   "outputs": [],
   "source": [
    "#Indexing\n",
    "my_str = \"Although 8 that way may not be obvious at first unless you're Dutch\"\n",
    "#Write the code to get the output,instructions are mentioned below print statement. use indexing\n",
    "\n",
    "print()\n",
    "#output:- The first character in my_str is: A\n",
    "#Note:- Use positive indexing\n",
    "\n",
    "print()\n",
    "#output:- The first character in my_str is: h\n",
    "#Note:- Use len() function.\n",
    "\n",
    "print()\n",
    "#output:- The character at index 10 in my_str is: c\n",
    "#Note:- Use positive indexing\n",
    "\n",
    "print()\n",
    "#output:- The last character in my_str is: h\n",
    "#Note:- Use negative indexing.\n",
    "\n",
    "print()\n",
    "#output:- The last character in my_str is: h\n",
    "#Note:- Use len() function.\n",
    "\n",
    "print()\n",
    "#output:- The character in my_str is: 8\n",
    "#Note:- Use positive index"
   ]
  },
  {
   "cell_type": "code",
   "execution_count": 5,
   "metadata": {},
   "outputs": [
    {
     "name": "stdout",
     "output_type": "stream",
     "text": [
      "Solution : \n",
      "\t Indexing Operation in String value\n",
      "Value of variable 'my_str'                      :  Although 8 that way may not be obvious at first unless you're Dutch\n",
      "The first character in my_str using positive index is       :  A\n",
      "The first character in my_str using len function is         :  A\n",
      "The character at index 10 in my_str using positive index is :   \n",
      "The last character in my_str using negative index is        :  h\n",
      "The last character in my_str using len function is          :  h\n",
      "The character in my_str using positive index is             :  8\n"
     ]
    }
   ],
   "source": [
    "#Solution:\n",
    "#Indexing Operation in String value\n",
    "print(\"Solution : \")\n",
    "print(\"\\t Indexing Operation in String value\")\n",
    "\n",
    "#String variable declaration\n",
    "my_str = \"Although 8 that way may not be obvious at first unless you're Dutch\"\n",
    "print(\"Value of variable 'my_str'                      : \", my_str)\n",
    "\n",
    "#First character using positive index\n",
    "print(\"The first character in my_str using positive index is       : \", my_str[0])\n",
    "\n",
    "#First character using len function\n",
    "print(\"The first character in my_str using len function is         : \", my_str[-len(my_str)])\n",
    "\n",
    "#Character at index 10 using positive index\n",
    "print(\"The character at index 10 in my_str using positive index is : \", my_str[10])\n",
    "\n",
    "#Last character using negative indexing\n",
    "print(\"The last character in my_str using negative index is        : \", my_str[-1])\n",
    "\n",
    "#Last character using len function\n",
    "print(\"The last character in my_str using len function is          : \", my_str[len(my_str)-1])\n",
    "\n",
    "#Character in 8 using positive index\n",
    "print(\"The character in my_str using positive index is             : \", my_str[9])"
   ]
  },
  {
   "cell_type": "code",
   "execution_count": null,
   "metadata": {
    "colab": {},
    "colab_type": "code",
    "id": "NK_QdtsM3luu"
   },
   "outputs": [],
   "source": [
    "#Slicing\n",
    "my_str = \"Although that way may not be obvious at first unless you're Dutch.\"\n",
    "#Write the code to get the output,instructions are mentioned below print statement. use slicing\n",
    "print()\n",
    "#output:- You have sliced: Although that way may not be obvious at first unless you're Dutch.Without begin, end and step\n",
    "\n",
    "\n",
    "print()\n",
    "#output:- You have sliced: Although that way may not be obvious at first unless you're Dutch.with begin as 0 end using len and without step\n",
    "\n",
    "\n",
    "print()\n",
    "#output:- You have sliced: Although that way may not be obvious at first unless you're Dutch.without begin and end but using step\n",
    "\n",
    "\n",
    "print()\n",
    "#output:- You have sliced: Although that way may not be obvious at first unless you're Dutch.With begin, end and step\n",
    "\n",
    "\n",
    "print()\n",
    "#output:- You have sliced:   .with using begin and end using postive values and step as negative values.\n",
    "#Slicing command should print empty string.\n",
    "\n",
    "\n",
    "print()\n",
    "#output:- You have sliced: Atog htwymyntb biu tfrtuls o'eDth\n",
    "\n",
    "\n",
    "print()\n",
    "#output:- You have sliced: Ahgttam tebo  r lsorDc\n",
    "\n",
    "\n",
    "print()\n",
    "#output:- You have sliced: .hctuD er'uoy sselnu tsrif ta suoivbo eb ton yam yaw taht hguohtlA. Use only step\n",
    "\n",
    "\n",
    "print()\n",
    "#output:- You have sliced: .hctuD er'uoy sselnu tsrif ta suoivbo eb ton yam yaw taht hguohtlA. Use begin end and step.\n",
    "\n",
    "\n",
    "print()\n",
    "#output:- You have sliced: .cu ruysen si asovoe o a a athuhl. use only step\n",
    "\n",
    "\n",
    "print()\n",
    "#output:- You have sliced: .cu ruysen si asovoe o a a athuhl. use begin, end and step.\n",
    "\n",
    "\n",
    "print(my_str[10:17:-1])\n",
    "#What will be the output?\n",
    "\n",
    "\n",
    "print()\n",
    "#output:- You have sliced: yaw ta, Using begin, end and step.\n",
    "\n",
    "print()\n",
    "#output:- You have sliced: ess you. Using begin, end and step.\n"
   ]
  },
  {
   "cell_type": "code",
   "execution_count": 6,
   "metadata": {},
   "outputs": [
    {
     "name": "stdout",
     "output_type": "stream",
     "text": [
      "Solution : \n",
      "\t Slicing Operation in String value\n",
      "Value of variable 'my_str'                         :  Although that way may not be obvious at first unless you're Dutch.\n",
      "\n",
      "String slicing without begin, end and step\n",
      "Although that way may not be obvious at first unless you're Dutch.\n",
      "\n",
      "String slicing with begin as 0 end using len and without step\n",
      "Although that way may not be obvious at first unless you're Dutch.\n",
      "\n",
      "String slicing without begin and end but using step\n",
      "Although that way may not be obvious at first unless you're Dutch.\n",
      "\n",
      "String slicing with begin, end and step\n",
      "Although that way may not be obvious at first unless you're Dutch.\n",
      "\n",
      "String slicing with using begin and end using postive values and step as negative values\n",
      "\n",
      "\n",
      "String slicing for given string pattern\n",
      "Atog htwymyntb biu tfrtuls o'eDth\n",
      "\n",
      "String slicing for given string pattern\n",
      "Ahgttam tebo  r lsorDc\n",
      "\n",
      "String slicing for given string pattern with only step\n",
      ".hctuD er'uoy sselnu tsrif ta suoivbo eb ton yam yaw taht hguohtlA\n",
      "\n",
      "String slicing for given string pattern with only step\n",
      ".cu ruysen si asovoe o a a athuhl\n",
      "\n",
      "String slicing for given string pattern with begin, end and step\n",
      ".cu ruysen si asovoe o a a athuhl\n",
      "\n",
      "String slicing for given condition\n",
      "\n",
      "\n",
      "String slicing for given string pattern with begin, end and step\n",
      "yaw ta\n",
      "\n",
      "String slicing for given string pattern with begin, end and step\n",
      "ess you\n"
     ]
    }
   ],
   "source": [
    "#Solution:\n",
    "#Slicing Operation in String value\n",
    "print(\"Solution : \")\n",
    "print(\"\\t Slicing Operation in String value\")\n",
    "\n",
    "#String variable declaration\n",
    "my_str = \"Although that way may not be obvious at first unless you're Dutch.\"\n",
    "print(\"Value of variable 'my_str'                         : \", my_str)\n",
    "\n",
    "print()\n",
    "#Without begin, end and step\n",
    "print(\"String slicing without begin, end and step\")\n",
    "print(my_str[::])\n",
    "\n",
    "print()\n",
    "#With begin as 0 end using len and without step\n",
    "print(\"String slicing with begin as 0 end using len and without step\")\n",
    "print(my_str[0:len(my_str)])\n",
    "\n",
    "print()\n",
    "#Without begin and end but using step\n",
    "print(\"String slicing without begin and end but using step\")\n",
    "print(my_str[::1])\n",
    "\n",
    "print()\n",
    "#With begin, end and step\n",
    "print(\"String slicing with begin, end and step\")\n",
    "print(my_str[0:len(my_str):1])\n",
    "\n",
    "print()\n",
    "#With using begin and end using postive values and step as negative values\n",
    "print(\"String slicing with using begin and end using postive values and step as negative values\")\n",
    "print(my_str[0:len(my_str):-1])\n",
    "\n",
    "print()\n",
    "#Sliced given string pattern\n",
    "print(\"String slicing for given string pattern\")\n",
    "print(my_str[0:len(my_str):2])\n",
    "\n",
    "print()\n",
    "#Sliced given string pattern\n",
    "print(\"String slicing for given string pattern\")\n",
    "print(my_str[0:len(my_str):3])\n",
    "\n",
    "print()\n",
    "#Sliced given string pattern with only step\n",
    "print(\"String slicing for given string pattern with only step\")\n",
    "print(my_str[::-1])\n",
    "\n",
    "print()\n",
    "#Sliced given string pattern with only step\n",
    "print(\"String slicing for given string pattern with only step\")\n",
    "print(my_str[::-2])\n",
    "\n",
    "print()\n",
    "#Sliced given string pattern with begin, end and step\n",
    "print(\"String slicing for given string pattern with begin, end and step\")\n",
    "print(my_str[-1:-(len(my_str)+1):-2])\n",
    "\n",
    "print()\n",
    "#Sliced string for given condition\n",
    "print(\"String slicing for given condition\")\n",
    "print(my_str[10:17:-1])\n",
    "\n",
    "print()\n",
    "#Sliced given string pattern with begin, end and step\n",
    "print(\"String slicing for given string pattern with begin, end and step\")\n",
    "print(my_str[16:10:-1])\n",
    "\n",
    "print()\n",
    "#Sliced given string pattern with begin, end and step\n",
    "print(\"String slicing for given string pattern with begin, end and step\")\n",
    "print(my_str[-17:-10:1])"
   ]
  },
  {
   "cell_type": "code",
   "execution_count": null,
   "metadata": {
    "colab": {},
    "colab_type": "code",
    "id": "qUSYa5x-3n5j"
   },
   "outputs": [],
   "source": [
    "#Basic operation on string\n",
    "str1 = 'Learnbay'\n",
    "str2 = 'Python'\n",
    "\n",
    "#Write the code to get the output,instructions are mentioned below.\n",
    "#Output is: Learnbay Python\n",
    "#Error: TypeError: can only concatenate str (not \"int\") to str\n",
    "#Error: TypeError: can only concatenate str (not \"float\") to str\n",
    "\n",
    "#Find below Output\n",
    "#Output is: LearnbayLearnbayLearnbay\n",
    "#Error: TypeError: can't multiply sequence by non-int of type 'float'\n",
    "#Error: TypeError: can't multiply sequence by non-int of type 'str'"
   ]
  },
  {
   "cell_type": "code",
   "execution_count": 8,
   "metadata": {},
   "outputs": [
    {
     "name": "stdout",
     "output_type": "stream",
     "text": [
      "Solution : \n",
      "\t Basic operation on String\n",
      "Value of variable 'str1'                      :  Learnbay\n",
      "Value of variable 'str2'                      :  Python\n",
      "Cancatenation of given string values          :  Learnbay Python\n",
      "String Repetition of given string values      :  LearnbayLearnbayLearnbay\n"
     ]
    },
    {
     "ename": "TypeError",
     "evalue": "can only concatenate str (not \"int\") to str",
     "output_type": "error",
     "traceback": [
      "\u001b[1;31m---------------------------------------------------------------------------\u001b[0m",
      "\u001b[1;31mTypeError\u001b[0m                                 Traceback (most recent call last)",
      "\u001b[1;32m<ipython-input-8-125870b33531>\u001b[0m in \u001b[0;36m<module>\u001b[1;34m\u001b[0m\n\u001b[0;32m     19\u001b[0m \u001b[1;31m#TypeError: can only concatenate str (not \"int\") to str\u001b[0m\u001b[1;33m\u001b[0m\u001b[1;33m\u001b[0m\u001b[1;33m\u001b[0m\u001b[0m\n\u001b[0;32m     20\u001b[0m \u001b[0mstr\u001b[0m\u001b[1;33m=\u001b[0m\u001b[1;34m'Program'\u001b[0m\u001b[1;33m\u001b[0m\u001b[1;33m\u001b[0m\u001b[0m\n\u001b[1;32m---> 21\u001b[1;33m \u001b[0mprint\u001b[0m\u001b[1;33m(\u001b[0m\u001b[1;34m\"Cancatenation of given string and int values  : \"\u001b[0m\u001b[1;33m,\u001b[0m \u001b[0mstr\u001b[0m \u001b[1;33m+\u001b[0m \u001b[1;36m1\u001b[0m\u001b[1;33m)\u001b[0m\u001b[1;33m\u001b[0m\u001b[1;33m\u001b[0m\u001b[0m\n\u001b[0m\u001b[0;32m     22\u001b[0m \u001b[1;33m\u001b[0m\u001b[0m\n\u001b[0;32m     23\u001b[0m \u001b[1;31m#TypeError: can only concatenate str (not \"float\") to str\u001b[0m\u001b[1;33m\u001b[0m\u001b[1;33m\u001b[0m\u001b[1;33m\u001b[0m\u001b[0m\n",
      "\u001b[1;31mTypeError\u001b[0m: can only concatenate str (not \"int\") to str"
     ]
    }
   ],
   "source": [
    "#Solution:\n",
    "#Basic operation on String\n",
    "print(\"Solution : \")\n",
    "print(\"\\t Basic operation on String\")\n",
    "\n",
    "#String variable declaration\n",
    "str1 = 'Learnbay'\n",
    "print(\"Value of variable 'str1'                      : \", str1)\n",
    "str2 = 'Python'\n",
    "print(\"Value of variable 'str2'                      : \", str2)\n",
    "\n",
    "#Learnbay Python\n",
    "print(\"Cancatenation of given string values          : \", str1 + ' ' + str2)\n",
    "\n",
    "#String Repetition\n",
    "#Learnbay Python\n",
    "print(\"String Repetition of given string values      : \", str1 * 3)\n",
    "\n",
    "#TypeError: can only concatenate str (not \"int\") to str\n",
    "str='Program'\n",
    "print(\"Cancatenation of given string and int values  : \", str + 1)\n",
    "\n",
    "#TypeError: can only concatenate str (not \"float\") to str\n",
    "str='Program'\n",
    "print(\"Cancatenation of given string and int values  : \", str + 1.0)\n",
    "\n",
    "#TypeError: can't multiply sequence by non-int of type 'float'\n",
    "print(\"String Repetition of string and int values    : \", str * 1.0)\n",
    "\n",
    "#TypeError: can't multiply sequence by non-int of type 'str'\n",
    "print(\"String Repetition of string and string values : \", str * str)"
   ]
  },
  {
   "cell_type": "code",
   "execution_count": null,
   "metadata": {
    "colab": {},
    "colab_type": "code",
    "id": "gREffmnr3s-p"
   },
   "outputs": [],
   "source": [
    "#Find below Output\n",
    "str1 = 'Python'\n",
    "str2 = 'Python'\n",
    "str3 = 'Python$'\n",
    "str4 = 'Python$'\n",
    "\n",
    "#print True by using identity operator between str1 and str2\n",
    "#print False by using identity operator between str1 and str3\n",
    "#print False by using identity operator between str4 and str3\n",
    "#Check if P is available in str1 and print True by using membership operator\n",
    "#Check if $ is available in str3 and print True by using membership operator\n",
    "#Check if N is available in str3 and print False by using membership operator"
   ]
  },
  {
   "cell_type": "code",
   "execution_count": 11,
   "metadata": {},
   "outputs": [
    {
     "name": "stdout",
     "output_type": "stream",
     "text": [
      "Solution : \n",
      "\t Identity & Membership operator on String\n",
      "Value of variable 'str1'                       :  Python\n",
      "Value of variable 'str2'                       :  Python\n",
      "Value of variable 'str3'                       :  Python$\n",
      "Value of variable 'str4'                       :  Python$\n",
      "Identity operator on variables 'str1' & 'str2' : str1 is str2    =  True\n",
      "Identity operator on variables 'str1' & 'str3' : str1 is str3    =  False\n",
      "Identity operator on variables 'str4' & 'str3' : str4 is str3    =  False\n",
      "Membership operator on variable 'str1'         : 'P' in str1     =  True\n",
      "Membership operator on variable 'str3'         : '$' in str3     =  True\n",
      "Membership operator on variable 'str3'         : 'N' in str3     =  False\n"
     ]
    }
   ],
   "source": [
    "#Solution:\n",
    "#Identity & Membership operator on String\n",
    "print(\"Solution : \")\n",
    "print(\"\\t Identity & Membership operator on String\")\n",
    "\n",
    "#String variable declaration\n",
    "str1 = 'Python'\n",
    "print(\"Value of variable 'str1'                       : \", str1)\n",
    "str2 = 'Python'\n",
    "print(\"Value of variable 'str2'                       : \", str2)\n",
    "str3 = 'Python$'\n",
    "print(\"Value of variable 'str3'                       : \", str3)\n",
    "str4 = 'Python$'\n",
    "print(\"Value of variable 'str4'                       : \", str4)\n",
    "\n",
    "#Identity operator on declared string variables str1 and str2\n",
    "print(\"Identity operator on variables 'str1' & 'str2' : str1 is str2    = \", str1 is str2)\n",
    "\n",
    "#Identity operator on declared string variables str1 and str3\n",
    "print(\"Identity operator on variables 'str1' & 'str3' : str1 is str3    = \", str1 is str3)\n",
    "\n",
    "#Identity operator on declared string variables str4 and str3\n",
    "print(\"Identity operator on variables 'str4' & 'str3' : str4 is str3    = \", str4 is str3)\n",
    "\n",
    "#Membership operator on declared string variable str1\n",
    "print(\"Membership operator on variable 'str1'         : 'P' in str1     = \", 'P' in str1)\n",
    "\n",
    "#Membership operator on declared string variable str3\n",
    "print(\"Membership operator on variable 'str3'         : '$' in str3     = \", '$' in str3)\n",
    "\n",
    "#Membership operator on declared string variable str3\n",
    "print(\"Membership operator on variable 'str3'         : 'N' in str3     = \", 'N' in str3)"
   ]
  },
  {
   "cell_type": "code",
   "execution_count": null,
   "metadata": {
    "colab": {},
    "colab_type": "code",
    "id": "QNFjxDr73u2H"
   },
   "outputs": [],
   "source": [
    "#Complete the below code\n",
    "str1 = 'This is Python class'\n",
    "#write the code to replace 'Python' with 'Java' and you should get below error.\n",
    "#TypeError: 'str' object does not support item assignment."
   ]
  },
  {
   "cell_type": "code",
   "execution_count": 12,
   "metadata": {},
   "outputs": [
    {
     "name": "stdout",
     "output_type": "stream",
     "text": [
      "Solution : \n",
      "\t Replace operation on String\n",
      "Value of variable 'str1'           :  This is Python class\n",
      "Replace 'Python' with 'Java'       :  This is Java class\n",
      "\n",
      "Item Assignment with given String\n"
     ]
    },
    {
     "ename": "TypeError",
     "evalue": "'str' object does not support item assignment",
     "output_type": "error",
     "traceback": [
      "\u001b[1;31m---------------------------------------------------------------------------\u001b[0m",
      "\u001b[1;31mTypeError\u001b[0m                                 Traceback (most recent call last)",
      "\u001b[1;32m<ipython-input-12-d5127b8d3882>\u001b[0m in \u001b[0;36m<module>\u001b[1;34m\u001b[0m\n\u001b[0;32m     16\u001b[0m \u001b[1;32mfor\u001b[0m \u001b[0mi\u001b[0m \u001b[1;32min\u001b[0m \u001b[0mrange\u001b[0m\u001b[1;33m(\u001b[0m\u001b[0mlen\u001b[0m\u001b[1;33m(\u001b[0m\u001b[0mstr1\u001b[0m\u001b[1;33m)\u001b[0m\u001b[1;33m)\u001b[0m\u001b[1;33m:\u001b[0m\u001b[1;33m\u001b[0m\u001b[1;33m\u001b[0m\u001b[0m\n\u001b[0;32m     17\u001b[0m       \u001b[1;32mif\u001b[0m \u001b[0mstr1\u001b[0m\u001b[1;33m[\u001b[0m\u001b[0mi\u001b[0m\u001b[1;33m]\u001b[0m\u001b[1;33m==\u001b[0m\u001b[1;34m'P'\u001b[0m\u001b[1;33m:\u001b[0m\u001b[1;33m\u001b[0m\u001b[1;33m\u001b[0m\u001b[0m\n\u001b[1;32m---> 18\u001b[1;33m           \u001b[0mstr1\u001b[0m\u001b[1;33m[\u001b[0m\u001b[0mi\u001b[0m\u001b[1;33m]\u001b[0m\u001b[1;33m=\u001b[0m\u001b[1;34m''\u001b[0m\u001b[1;33m\u001b[0m\u001b[1;33m\u001b[0m\u001b[0m\n\u001b[0m",
      "\u001b[1;31mTypeError\u001b[0m: 'str' object does not support item assignment"
     ]
    }
   ],
   "source": [
    "#Solution:\n",
    "#Replace operation on String\n",
    "print(\"Solution : \")\n",
    "print(\"\\t Replace operation on String\")\n",
    "\n",
    "#String variable declaration\n",
    "str1 = 'This is Python class'\n",
    "print(\"Value of variable 'str1'           : \", str1)\n",
    "\n",
    "#Replace String with given String\n",
    "print(\"Replace 'Python' with 'Java'       : \", str1.replace('Python','Java'))\n",
    "\n",
    "print()\n",
    "#Item Assignment with given String\n",
    "print(\"Item Assignment with given String\")\n",
    "for i in range(len(str1)):\n",
    "      if str1[i]=='P':\n",
    "          str1[i]=''"
   ]
  },
  {
   "cell_type": "code",
   "execution_count": null,
   "metadata": {
    "colab": {},
    "colab_type": "code",
    "id": "-JgFbPmn3w3D"
   },
   "outputs": [],
   "source": [
    "str1 = 'A'\n",
    "str2 = 'A'\n",
    "#Compare str1 and str2 and print True using comparison operator\n",
    "#Compare str1 and str2 and print True using equality operator\n",
    "#Compare str1 and str2 and print False using equality operator\n",
    "#Compare str1 and str2 and print False using comparison operator"
   ]
  },
  {
   "cell_type": "code",
   "execution_count": 13,
   "metadata": {},
   "outputs": [
    {
     "name": "stdout",
     "output_type": "stream",
     "text": [
      "Solution : \n",
      "\t Comparison & Equality operator on String\n",
      "Value of variable 'str1'                       :  A\n",
      "Value of variable 'str2'                       :  A\n",
      "Comparison operator on variables 'str1' & 'str2' : str1 <= str2  =  True\n",
      "Equality operator on variables 'str1' & 'str2'   : str1 == str2  =  True\n",
      "Equality operator on variables 'str1' & 'str2'   : str1 != str2  =  False\n",
      "Comparison operator on variables 'str1' & 'str2' : str1 <  str2  =  False\n"
     ]
    }
   ],
   "source": [
    "#Solution:\n",
    "#Comparison & Equality operator on String\n",
    "print(\"Solution : \")\n",
    "print(\"\\t Comparison & Equality operator on String\")\n",
    "\n",
    "#String variable declaration\n",
    "str1 = 'A'\n",
    "print(\"Value of variable 'str1'                       : \", str1)\n",
    "str2 = 'A'\n",
    "print(\"Value of variable 'str2'                       : \", str2)\n",
    "\n",
    "#Comparison operator on declared string variables str1 and str2\n",
    "print(\"Comparison operator on variables 'str1' & 'str2' : str1 <= str2  = \", str1 <= str2)\n",
    "\n",
    "#Equality operator on declared string variables str1 and str2\n",
    "print(\"Equality operator on variables 'str1' & 'str2'   : str1 == str2  = \", str1 == str2)\n",
    "\n",
    "#Equality operator on declared string variables str1 and str2\n",
    "print(\"Equality operator on variables 'str1' & 'str2'   : str1 != str2  = \", str1 != str2)\n",
    "\n",
    "#Comparison operator on declared string variables str1 and str2\n",
    "print(\"Comparison operator on variables 'str1' & 'str2' : str1 <  str2  = \", str1 < str2)"
   ]
  },
  {
   "cell_type": "code",
   "execution_count": 14,
   "metadata": {
    "colab": {},
    "colab_type": "code",
    "id": "fJ46_L-53yhW"
   },
   "outputs": [],
   "source": [
    "str1 = 'A'\n",
    "str2 = 'a'\n",
    "#Compare str1 and str2 and print True using comparison operator\n",
    "#Compare str1 and str2 and print True using equality operator\n",
    "#Compare str1 and str2 and print False using equality operator\n",
    "#Compare str1 and str2 and print False using comparison operator"
   ]
  },
  {
   "cell_type": "code",
   "execution_count": 15,
   "metadata": {},
   "outputs": [
    {
     "name": "stdout",
     "output_type": "stream",
     "text": [
      "Solution : \n",
      "\t Comparison & Equality operator on String\n",
      "Value of variable 'str1'                       :  A\n",
      "Value of variable 'str2'                       :  a\n",
      "Comparison operator on variables 'str1' & 'str2' : str1 <= str2  =  True\n",
      "Equality operator on variables 'str1' & 'str2'   : str1 != str2  =  True\n",
      "Equality operator on variables 'str1' & 'str2'   : str1 == str2  =  False\n",
      "Comparison operator on variables 'str1' & 'str2' : str1 >  str2  =  False\n"
     ]
    }
   ],
   "source": [
    "#Solution:\n",
    "#Comparison & Equality operator on String\n",
    "print(\"Solution : \")\n",
    "print(\"\\t Comparison & Equality operator on String\")\n",
    "\n",
    "#String variable declaration\n",
    "str1 = 'A'\n",
    "print(\"Value of variable 'str1'                       : \", str1)\n",
    "str2 = 'a'\n",
    "print(\"Value of variable 'str2'                       : \", str2)\n",
    "\n",
    "#Comparison operator on declared string variables str1 and str2\n",
    "print(\"Comparison operator on variables 'str1' & 'str2' : str1 <= str2  = \", str1 <= str2)\n",
    "\n",
    "#Equality operator on declared string variables str1 and str2\n",
    "print(\"Equality operator on variables 'str1' & 'str2'   : str1 != str2  = \", str1 != str2)\n",
    "\n",
    "#Equality operator on declared string variables str1 and str2\n",
    "print(\"Equality operator on variables 'str1' & 'str2'   : str1 == str2  = \", str1 == str2)\n",
    "\n",
    "#Comparison operator on declared string variables str1 and str2\n",
    "print(\"Comparison operator on variables 'str1' & 'str2' : str1 >  str2  = \", str1 > str2)"
   ]
  },
  {
   "cell_type": "code",
   "execution_count": 16,
   "metadata": {
    "colab": {},
    "colab_type": "code",
    "id": "e-Lr9va330gi"
   },
   "outputs": [],
   "source": [
    "str1 = 'A'\n",
    "str2 = '65'\n",
    "#Compare str1 and str2 using comparison operator and it should give below error.\n",
    "#Error: TypeError: '>=' not supported between instances of 'str' and 'int'\n",
    "\n",
    "#Compare str1 and str2 and print True using equality operator\n",
    "#Compare str1 and str2 and print False using equality operator"
   ]
  },
  {
   "cell_type": "code",
   "execution_count": 17,
   "metadata": {},
   "outputs": [
    {
     "name": "stdout",
     "output_type": "stream",
     "text": [
      "Solution : \n",
      "\t Comparison & Equality operator on String\n",
      "Value of variable 'str1'                       :  A\n",
      "Value of variable 'str2'                       :  65\n",
      "Equality operator on variables 'str1' & 'str2'   : str1 != str2  =  True\n",
      "Equality operator on variables 'str1' & 'str2'   : str1 == str2  =  False\n"
     ]
    },
    {
     "ename": "TypeError",
     "evalue": "'>=' not supported between instances of 'str' and 'int'",
     "output_type": "error",
     "traceback": [
      "\u001b[1;31m---------------------------------------------------------------------------\u001b[0m",
      "\u001b[1;31mTypeError\u001b[0m                                 Traceback (most recent call last)",
      "\u001b[1;32m<ipython-input-17-bc5ddaaf2862>\u001b[0m in \u001b[0;36m<module>\u001b[1;34m\u001b[0m\n\u001b[0;32m     17\u001b[0m \u001b[1;33m\u001b[0m\u001b[0m\n\u001b[0;32m     18\u001b[0m \u001b[1;31m#Comparison operator on declared string variables str1 and str2\u001b[0m\u001b[1;33m\u001b[0m\u001b[1;33m\u001b[0m\u001b[1;33m\u001b[0m\u001b[0m\n\u001b[1;32m---> 19\u001b[1;33m \u001b[0mprint\u001b[0m\u001b[1;33m(\u001b[0m\u001b[1;34m\"Comparison operator on variables 'str1' & 65     : str1 >= 65    = \"\u001b[0m\u001b[1;33m,\u001b[0m \u001b[0mstr1\u001b[0m \u001b[1;33m>=\u001b[0m \u001b[1;36m65\u001b[0m\u001b[1;33m)\u001b[0m\u001b[1;33m\u001b[0m\u001b[1;33m\u001b[0m\u001b[0m\n\u001b[0m",
      "\u001b[1;31mTypeError\u001b[0m: '>=' not supported between instances of 'str' and 'int'"
     ]
    }
   ],
   "source": [
    "#Solution:\n",
    "#Comparison & Equality operator on String\n",
    "print(\"Solution : \")\n",
    "print(\"\\t Comparison & Equality operator on String\")\n",
    "\n",
    "#String variable declaration\n",
    "str1 = 'A'\n",
    "print(\"Value of variable 'str1'                       : \", str1)\n",
    "str2 = '65'\n",
    "print(\"Value of variable 'str2'                       : \", str2)\n",
    "\n",
    "#Equality operator on declared string variables str1 and str2\n",
    "print(\"Equality operator on variables 'str1' & 'str2'   : str1 != str2  = \", str1 != str2)\n",
    "\n",
    "#Equality operator on declared string variables str1 and str2\n",
    "print(\"Equality operator on variables 'str1' & 'str2'   : str1 == str2  = \", str1 == str2)\n",
    "\n",
    "#Comparison operator on declared string variables str1 and str2\n",
    "print(\"Comparison operator on variables 'str1' & 65     : str1 >= 65    = \", str1 >= 65)"
   ]
  },
  {
   "cell_type": "code",
   "execution_count": null,
   "metadata": {
    "colab": {},
    "colab_type": "code",
    "id": "JO04jmpN32Im"
   },
   "outputs": [],
   "source": [
    "str1 = 'Python'\n",
    "str2 = 'Python'\n",
    "#Compare str1 and str2 and print True using comparison operator\n",
    "#Compare str1 and str2 and print True using equality operator\n",
    "#Compare str1 and str2 and print False using equality operator\n",
    "#Compare str1 and str2 and print False using comparison operator"
   ]
  },
  {
   "cell_type": "code",
   "execution_count": 18,
   "metadata": {},
   "outputs": [
    {
     "name": "stdout",
     "output_type": "stream",
     "text": [
      "Solution : \n",
      "\t Comparison & Equality operator on String\n",
      "Value of variable 'str1'                       :  Python\n",
      "Value of variable 'str2'                       :  Python\n",
      "Comparison operator on variables 'str1' & 'str2' : str1 <= str2  =  True\n",
      "Equality operator on variables 'str1' & 'str2'   : str1 == str2  =  True\n",
      "Equality operator on variables 'str1' & 'str2'   : str1 != str2  =  False\n",
      "Comparison operator on variables 'str1' & 'str2' : str1 >  str2  =  False\n"
     ]
    }
   ],
   "source": [
    "#Solution:\n",
    "#Comparison & Equality operator on String\n",
    "print(\"Solution : \")\n",
    "print(\"\\t Comparison & Equality operator on String\")\n",
    "\n",
    "#String variable declaration\n",
    "str1 = 'Python'\n",
    "print(\"Value of variable 'str1'                       : \", str1)\n",
    "str2 = 'Python'\n",
    "print(\"Value of variable 'str2'                       : \", str2)\n",
    "\n",
    "#Comparison operator on declared string variables str1 and str2\n",
    "print(\"Comparison operator on variables 'str1' & 'str2' : str1 <= str2  = \", str1 <= str2)\n",
    "\n",
    "#Equality operator on declared string variables str1 and str2\n",
    "print(\"Equality operator on variables 'str1' & 'str2'   : str1 == str2  = \", str1 == str2)\n",
    "\n",
    "#Equality operator on declared string variables str1 and str2\n",
    "print(\"Equality operator on variables 'str1' & 'str2'   : str1 != str2  = \", str1 != str2)\n",
    "\n",
    "#Comparison operator on declared string variables str1 and str2\n",
    "print(\"Comparison operator on variables 'str1' & 'str2' : str1 >  str2  = \", str1 > str2)"
   ]
  },
  {
   "cell_type": "code",
   "execution_count": null,
   "metadata": {
    "colab": {},
    "colab_type": "code",
    "id": "nmVAYYC_35ip"
   },
   "outputs": [],
   "source": [
    "str1 = 'Python'\n",
    "str2 = 'python'\n",
    "#Compare str1 and str2 and print True using comparison operator\n",
    "#Compare str1 and str2 and print True using equality operator\n",
    "#Compare str1 and str2 and print False using equality operator\n",
    "#Compare str1 and str2 and print False using comparison operator"
   ]
  },
  {
   "cell_type": "code",
   "execution_count": 19,
   "metadata": {},
   "outputs": [
    {
     "name": "stdout",
     "output_type": "stream",
     "text": [
      "Solution : \n",
      "\t Comparison & Equality operator on String\n",
      "Value of variable 'str1'                       :  Python\n",
      "Value of variable 'str2'                       :  python\n",
      "Comparison operator on variables 'str1' & 'str2' : str1 <= str2  =  True\n",
      "Equality operator on variables 'str1' & 'str2'   : str1 != str2  =  True\n",
      "Equality operator on variables 'str1' & 'str2'   : str1 == str2  =  False\n",
      "Comparison operator on variables 'str1' & 'str2' : str1 >  str2  =  False\n"
     ]
    }
   ],
   "source": [
    "#Solution:\n",
    "#Comparison & Equality operator on String\n",
    "print(\"Solution : \")\n",
    "print(\"\\t Comparison & Equality operator on String\")\n",
    "\n",
    "#String variable declaration\n",
    "str1 = 'Python'\n",
    "print(\"Value of variable 'str1'                       : \", str1)\n",
    "str2 = 'python'\n",
    "print(\"Value of variable 'str2'                       : \", str2)\n",
    "\n",
    "#Comparison operator on declared string variables str1 and str2\n",
    "print(\"Comparison operator on variables 'str1' & 'str2' : str1 <= str2  = \", str1 <= str2)\n",
    "\n",
    "#Equality operator on declared string variables str1 and str2\n",
    "print(\"Equality operator on variables 'str1' & 'str2'   : str1 != str2  = \", str1 != str2)\n",
    "\n",
    "#Equality operator on declared string variables str1 and str2\n",
    "print(\"Equality operator on variables 'str1' & 'str2'   : str1 == str2  = \", str1 == str2)\n",
    "\n",
    "#Comparison operator on declared string variables str1 and str2\n",
    "print(\"Comparison operator on variables 'str1' & 'str2' : str1 >  str2  = \", str1 > str2)"
   ]
  },
  {
   "cell_type": "code",
   "execution_count": null,
   "metadata": {
    "colab": {},
    "colab_type": "code",
    "id": "7ulv5ith37OJ"
   },
   "outputs": [],
   "source": [
    "a = 'Python'\n",
    "b = ''\n",
    "\n",
    "#Apply logical opereators (and, or & not) on above string values and observe the output.\n",
    "print()\n",
    "print()\n",
    "print()\n",
    "print()\n",
    "print()"
   ]
  },
  {
   "cell_type": "code",
   "execution_count": 20,
   "metadata": {},
   "outputs": [
    {
     "name": "stdout",
     "output_type": "stream",
     "text": [
      "Solution : \n",
      "\t Logical Operator on String\n",
      "Value of variable 'str1'    :  Python\n",
      "Value of variable 'str2'    :  \n",
      "'and' Operator on string values\n",
      "Reason : Below operations follows the funtional definition 'A and B returns A if A is False else B'. \n",
      " \t According to this, 'and' operator evaluates first condition/value, if it is False it will return False without evalauting the second condition/value. If first condition is True, then it will evaluate the second condtion/value then the returns the result.\n",
      "str1 and str2 :  \n",
      "\n",
      "'or' Operator on string values\n",
      "Reason : Below operations follows the funtional definition 'A or B returns A if A is True else B'. \n",
      " \t According to this, 'or' operator evaluates first condition/value, if it is True it will return True without evalauting the second condition/value. If first condition is False, then it will evaluate the second condtion/value then the returns the result.\n",
      "str1 or str2  :  Python\n",
      "\n",
      "'not' Operator on string values\n",
      "Reason : Below operations follows the funtional definition 'not A returns False if A is True else True'. \n",
      " \t According to this, 'not' operator evaluates the condition/value, if it results True it will return False and if it results False, it will return True.\n",
      "not str1     :  False\n",
      "not str2     :  True\n"
     ]
    }
   ],
   "source": [
    "#Solution :    \n",
    "print(\"Solution : \")\n",
    "print(\"\\t Logical Operator on String\")\n",
    "\n",
    "#String variable declaration\n",
    "str1 = 'Python'\n",
    "print(\"Value of variable 'str1'    : \", str1)\n",
    "str2 = ''\n",
    "print(\"Value of variable 'str2'    : \", str2)\n",
    "\n",
    "#and Operator on string values\n",
    "print(\"'and' Operator on string values\")\n",
    "print(\"Reason : Below operations follows the funtional definition 'A and B returns A if A is False else B'. \\n \\t According to this, 'and' operator evaluates first condition/value, if it is False it will return False without evalauting the second condition/value. If first condition is True, then it will evaluate the second condtion/value then the returns the result.\")\n",
    "print(\"str1 and str2 : \", str1 and str2)\n",
    "\n",
    "print()\n",
    "#or Operator on string values\n",
    "print(\"'or' Operator on string values\")\n",
    "print(\"Reason : Below operations follows the funtional definition 'A or B returns A if A is True else B'. \\n \\t According to this, 'or' operator evaluates first condition/value, if it is True it will return True without evalauting the second condition/value. If first condition is False, then it will evaluate the second condtion/value then the returns the result.\")\n",
    "print(\"str1 or str2  : \", str1 or str2)\n",
    "\n",
    "print()\n",
    "#not Operator on string values\n",
    "print(\"'not' Operator on string values\")\n",
    "print(\"Reason : Below operations follows the funtional definition 'not A returns False if A is True else True'. \\n \\t According to this, 'not' operator evaluates the condition/value, if it results True it will return False and if it results False, it will return True.\")\n",
    "print(\"not str1     : \", not str1)\n",
    "print(\"not str2     : \", not str2)"
   ]
  },
  {
   "cell_type": "code",
   "execution_count": null,
   "metadata": {
    "colab": {},
    "colab_type": "code",
    "id": "Yg_gsZBL383n"
   },
   "outputs": [],
   "source": [
    "a = ''\n",
    "b = ''\n",
    "\n",
    "#Apply logical opereators (and, or & not) on above string values and observe the output.\n",
    "print()\n",
    "print()\n",
    "print()"
   ]
  },
  {
   "cell_type": "code",
   "execution_count": 21,
   "metadata": {},
   "outputs": [
    {
     "name": "stdout",
     "output_type": "stream",
     "text": [
      "Solution : \n",
      "\t Logical Operator on String\n",
      "Value of variable 'str1'    :  \n",
      "Value of variable 'str2'    :  \n",
      "'and' Operator on string values\n",
      "Reason : Below operations follows the funtional definition 'A and B returns A if A is False else B'. \n",
      " \t According to this, 'and' operator evaluates first condition/value, if it is False it will return False without evalauting the second condition/value. If first condition is True, then it will evaluate the second condtion/value then the returns the result.\n",
      "str1 and str2 :  \n",
      "\n",
      "'or' Operator on string values\n",
      "Reason : Below operations follows the funtional definition 'A or B returns A if A is True else B'. \n",
      " \t According to this, 'or' operator evaluates first condition/value, if it is True it will return True without evalauting the second condition/value. If first condition is False, then it will evaluate the second condtion/value then the returns the result.\n",
      "str1 or str2  :  \n",
      "\n",
      "'not' Operator on string values\n",
      "Reason : Below operations follows the funtional definition 'not A returns False if A is True else True'. \n",
      " \t According to this, 'not' operator evaluates the condition/value, if it results True it will return False and if it results False, it will return True.\n",
      "not str1     :  True\n",
      "not str2     :  True\n"
     ]
    }
   ],
   "source": [
    "#Solution :    \n",
    "print(\"Solution : \")\n",
    "print(\"\\t Logical Operator on String\")\n",
    "\n",
    "#String variable declaration\n",
    "str1 = ''\n",
    "print(\"Value of variable 'str1'    : \", str1)\n",
    "str2 = ''\n",
    "print(\"Value of variable 'str2'    : \", str2)\n",
    "\n",
    "#and Operator on string values\n",
    "print(\"'and' Operator on string values\")\n",
    "print(\"Reason : Below operations follows the funtional definition 'A and B returns A if A is False else B'. \\n \\t According to this, 'and' operator evaluates first condition/value, if it is False it will return False without evalauting the second condition/value. If first condition is True, then it will evaluate the second condtion/value then the returns the result.\")\n",
    "print(\"str1 and str2 : \", str1 and str2)\n",
    "\n",
    "print()\n",
    "#or Operator on string values\n",
    "print(\"'or' Operator on string values\")\n",
    "print(\"Reason : Below operations follows the funtional definition 'A or B returns A if A is True else B'. \\n \\t According to this, 'or' operator evaluates first condition/value, if it is True it will return True without evalauting the second condition/value. If first condition is False, then it will evaluate the second condtion/value then the returns the result.\")\n",
    "print(\"str1 or str2  : \", str1 or str2)\n",
    "\n",
    "print()\n",
    "#not Operator on string values\n",
    "print(\"'not' Operator on string values\")\n",
    "print(\"Reason : Below operations follows the funtional definition 'not A returns False if A is True else True'. \\n \\t According to this, 'not' operator evaluates the condition/value, if it results True it will return False and if it results False, it will return True.\")\n",
    "print(\"not str1     : \", not str1)\n",
    "print(\"not str2     : \", not str2)"
   ]
  },
  {
   "cell_type": "code",
   "execution_count": null,
   "metadata": {
    "colab": {},
    "colab_type": "code",
    "id": "cIWkP9Hf3-q5"
   },
   "outputs": [],
   "source": [
    "a = 'Python'\n",
    "b = 'learnbay'\n",
    "\n",
    "#Apply logical opereators (and, or & not) on above string values and observe the output.\n",
    "print()\n",
    "print()\n",
    "print()"
   ]
  },
  {
   "cell_type": "code",
   "execution_count": 22,
   "metadata": {},
   "outputs": [
    {
     "name": "stdout",
     "output_type": "stream",
     "text": [
      "Solution : \n",
      "\t Logical Operator on String\n",
      "Value of variable 'a'    :  Python\n",
      "Value of variable 'b'    :  learnbay\n",
      "'and' Operator on string values\n",
      "Reason : Below operations follows the funtional definition 'A and B returns A if A is False else B'. \n",
      " \t According to this, 'and' operator evaluates first condition/value, if it is False it will return False without evalauting the second condition/value. If first condition is True, then it will evaluate the second condtion/value then the returns the result.\n",
      "a and b :  learnbay\n",
      "\n",
      "'or' Operator on string values\n",
      "Reason : Below operations follows the funtional definition 'A or B returns A if A is True else B'. \n",
      " \t According to this, 'or' operator evaluates first condition/value, if it is True it will return True without evalauting the second condition/value. If first condition is False, then it will evaluate the second condtion/value then the returns the result.\n",
      "a or b  :  Python\n",
      "\n",
      "'not' Operator on string values\n",
      "Reason : Below operations follows the funtional definition 'not A returns False if A is True else True'. \n",
      " \t According to this, 'not' operator evaluates the condition/value, if it results True it will return False and if it results False, it will return True.\n",
      "not a     :  False\n",
      "not b     :  False\n"
     ]
    }
   ],
   "source": [
    "#Solution :    \n",
    "print(\"Solution : \")\n",
    "print(\"\\t Logical Operator on String\")\n",
    "\n",
    "#String variable declaration\n",
    "a = 'Python'\n",
    "print(\"Value of variable 'a'    : \", a)\n",
    "b = 'learnbay'\n",
    "print(\"Value of variable 'b'    : \", b)\n",
    "\n",
    "#and Operator on string values\n",
    "print(\"'and' Operator on string values\")\n",
    "print(\"Reason : Below operations follows the funtional definition 'A and B returns A if A is False else B'. \\n \\t According to this, 'and' operator evaluates first condition/value, if it is False it will return False without evalauting the second condition/value. If first condition is True, then it will evaluate the second condtion/value then the returns the result.\")\n",
    "print(\"a and b : \", a and b)\n",
    "\n",
    "print()\n",
    "#or Operator on string values\n",
    "print(\"'or' Operator on string values\")\n",
    "print(\"Reason : Below operations follows the funtional definition 'A or B returns A if A is True else B'. \\n \\t According to this, 'or' operator evaluates first condition/value, if it is True it will return True without evalauting the second condition/value. If first condition is False, then it will evaluate the second condtion/value then the returns the result.\")\n",
    "print(\"a or b  : \", a or b)\n",
    "\n",
    "print()\n",
    "#not Operator on string values\n",
    "print(\"'not' Operator on string values\")\n",
    "print(\"Reason : Below operations follows the funtional definition 'not A returns False if A is True else True'. \\n \\t According to this, 'not' operator evaluates the condition/value, if it results True it will return False and if it results False, it will return True.\")\n",
    "print(\"not a     : \", not a)\n",
    "print(\"not b     : \", not b)"
   ]
  },
  {
   "cell_type": "code",
   "execution_count": null,
   "metadata": {
    "colab": {},
    "colab_type": "code",
    "id": "Y0Ot_E704AX5"
   },
   "outputs": [],
   "source": [
    "my_str = \"Although 8 that way may not be obvious at first unless you're Dutch\"\n",
    "\n",
    "#Write the code to get the total count of 't' in above string. Use find() and index() method.\n",
    "print()\n",
    "print()\n",
    "\n",
    "#Write the code to get the index of '8' in my_str. Use find() and index() method.\n",
    "print()\n",
    "print()\n",
    "\n",
    "#What will be the output of below code?\n",
    "print(my_str.find('the'))\n",
    "print(my_str.index('the'))\n",
    "print(my_str.find('t', 9, 15))\n",
    "print(my_str.rfind('u'))\n",
    "print(my_str.rindex('u'))"
   ]
  },
  {
   "cell_type": "code",
   "execution_count": 36,
   "metadata": {},
   "outputs": [
    {
     "name": "stdout",
     "output_type": "stream",
     "text": [
      "Solution : \n",
      "\t find,index,rfind,rindex operations on String\n",
      "Value of variable 'my_str'  :  Although 8 that way may not be obvious at first unless you're Dutch\n",
      "\n",
      "a. Total count of 't' in the given string using find()\n",
      "Total count of 't' in the given string using find()  :  7\n",
      "\n",
      "b. Total count of 't' in the given string using index()\n",
      "Total count of 't' in the given string using index() :  7\n",
      "\n",
      "c. Output of below code:\n",
      "Given string does not contain 'the', so this will return          -1\n",
      "Given string contains 't' within the index range 9 and 15 is      11\n",
      "Given string contains 'u' from right side as first occurrence is  63\n",
      "Given string contains 'u' from right side as first occurrence is  63\n"
     ]
    },
    {
     "ename": "ValueError",
     "evalue": "substring not found",
     "output_type": "error",
     "traceback": [
      "\u001b[1;31m---------------------------------------------------------------------------\u001b[0m",
      "\u001b[1;31mValueError\u001b[0m                                Traceback (most recent call last)",
      "\u001b[1;32m<ipython-input-36-3ba61bd6df88>\u001b[0m in \u001b[0;36m<module>\u001b[1;34m\u001b[0m\n\u001b[0;32m     42\u001b[0m \u001b[0mprint\u001b[0m\u001b[1;33m(\u001b[0m\u001b[1;34m\"Given string contains 'u' from right side as first occurrence is \"\u001b[0m\u001b[1;33m,\u001b[0m \u001b[0mmy_str\u001b[0m\u001b[1;33m.\u001b[0m\u001b[0mrfind\u001b[0m\u001b[1;33m(\u001b[0m\u001b[1;34m'u'\u001b[0m\u001b[1;33m)\u001b[0m\u001b[1;33m)\u001b[0m\u001b[1;33m\u001b[0m\u001b[1;33m\u001b[0m\u001b[0m\n\u001b[0;32m     43\u001b[0m \u001b[0mprint\u001b[0m\u001b[1;33m(\u001b[0m\u001b[1;34m\"Given string contains 'u' from right side as first occurrence is \"\u001b[0m\u001b[1;33m,\u001b[0m \u001b[0mmy_str\u001b[0m\u001b[1;33m.\u001b[0m\u001b[0mrindex\u001b[0m\u001b[1;33m(\u001b[0m\u001b[1;34m'u'\u001b[0m\u001b[1;33m)\u001b[0m\u001b[1;33m)\u001b[0m\u001b[1;33m\u001b[0m\u001b[1;33m\u001b[0m\u001b[0m\n\u001b[1;32m---> 44\u001b[1;33m \u001b[0mprint\u001b[0m\u001b[1;33m(\u001b[0m\u001b[1;34m\"Given string does not contain 'the', so this will return error   \"\u001b[0m\u001b[1;33m,\u001b[0m \u001b[0mmy_str\u001b[0m\u001b[1;33m.\u001b[0m\u001b[0mindex\u001b[0m\u001b[1;33m(\u001b[0m\u001b[1;34m'the'\u001b[0m\u001b[1;33m)\u001b[0m\u001b[1;33m)\u001b[0m\u001b[1;33m\u001b[0m\u001b[1;33m\u001b[0m\u001b[0m\n\u001b[0m",
      "\u001b[1;31mValueError\u001b[0m: substring not found"
     ]
    }
   ],
   "source": [
    "#Solution :    \n",
    "print(\"Solution : \")\n",
    "print(\"\\t find,index,rfind,rindex operations on String\")\n",
    "\n",
    "#String variable declaration\n",
    "my_str = \"Although 8 that way may not be obvious at first unless you're Dutch\"\n",
    "print(\"Value of variable 'my_str'  : \", my_str)\n",
    "\n",
    "#Total count of 't' in the given string\n",
    "print()\n",
    "print(\"a. Total count of 't' in the given string using find()\")\n",
    "\n",
    "ind=-1\n",
    "t_count=0\n",
    "while True :\n",
    "    ind = my_str.find('t', ind+1)\n",
    "    if(ind == -1) :\n",
    "        break\n",
    "    else :\n",
    "        t_count+=1\n",
    "print(\"Total count of 't' in the given string using find()  : \", t_count)\n",
    "\n",
    "print()\n",
    "print(\"b. Total count of 't' in the given string using index()\")\n",
    "ind=-1\n",
    "t_count1=0\n",
    "while True :\n",
    "    try :\n",
    "        ind = my_str.index('t', ind+1)\n",
    "    except ValueError :\n",
    "        break\n",
    "    else :\n",
    "        t_count1+=1\n",
    "print(\"Total count of 't' in the given string using index() : \", t_count1)\n",
    "      \n",
    "\n",
    "# Output of below code:\n",
    "print()\n",
    "print(\"c. Output of below code:\")\n",
    "print(\"Given string does not contain 'the', so this will return         \", my_str.find('the'))\n",
    "print(\"Given string contains 't' within the index range 9 and 15 is     \", my_str.find('t', 9, 15))\n",
    "print(\"Given string contains 'u' from right side as first occurrence is \", my_str.rfind('u'))\n",
    "print(\"Given string contains 'u' from right side as first occurrence is \", my_str.rindex('u'))\n",
    "print(\"Given string does not contain 'the', so this will return error   \", my_str.index('the'))"
   ]
  },
  {
   "cell_type": "code",
   "execution_count": null,
   "metadata": {
    "colab": {},
    "colab_type": "code",
    "id": "Gommq59Q4CMi"
   },
   "outputs": [],
   "source": [
    "#W A P which applies strip() method if any string, which will be taken from user, starts and ends with space, or applies \n",
    "#rrstrip() method if that string only ends with space or applies lstrip() method if that string only starts with a space.\n",
    "\n",
    "#For example:-\n",
    "#input:- '    Python   '\n",
    "#output:- 'Python'\n",
    "\n",
    "#input:- '    Python'\n",
    "#output:- 'Python'\n",
    "\n",
    "#input:- 'Python   '\n",
    "#output:- 'Python'"
   ]
  },
  {
   "cell_type": "code",
   "execution_count": 42,
   "metadata": {},
   "outputs": [
    {
     "name": "stdout",
     "output_type": "stream",
     "text": [
      "Solution : \n",
      "\t Strip methods on String\n",
      "Enter the string                              :        This is Python class       \n",
      "Value of variable 'str1'                      :        This is Python class       \n",
      "Applying strip() method for the given string  :  This is Python class\n"
     ]
    }
   ],
   "source": [
    "#Solution :    \n",
    "print(\"Solution : \")\n",
    "print(\"\\t Strip methods on String\")\n",
    "\n",
    "#String variable declaration\n",
    "str1 = input(\"Enter the string                              : \")\n",
    "print(\"Value of variable 'str1'                      :\", str1)\n",
    "\n",
    "#Strip methods on String\n",
    "if(str1.startswith(\" \") and str1.endswith(\" \")) :\n",
    "    print(\"Applying strip() method for the given string  : \", str1.strip())\n",
    "elif(str1.endswith(\" \")) :\n",
    "    print(\"Applying rstrip() method for the given string : \", str1.rstrip())\n",
    "elif(str1.startswith(\" \")) :\n",
    "    print(\"Applying lstrip() method for the given string : \", str1.lstrip())\n",
    "else :\n",
    "    print(\"Given string not started or ended with spaces\")"
   ]
  },
  {
   "cell_type": "code",
   "execution_count": null,
   "metadata": {
    "colab": {},
    "colab_type": "code",
    "id": "9IUy-cpS4Dtt"
   },
   "outputs": [],
   "source": [
    "my_str = \"Although 8 that way may not be obvious at first unless you're Dutch\"\n",
    "\n",
    "#Write the code to convert all alphabets in my_str into upper case.\n",
    "print()\n",
    "\n",
    "#Write the code to convert all alphabets in my_str into lower case.\n",
    "print()\n",
    "\n",
    "#Write the code to swap the cases of all alphabets in my_str.(lower to upper and upper to lower)\n",
    "print()"
   ]
  },
  {
   "cell_type": "code",
   "execution_count": 44,
   "metadata": {},
   "outputs": [
    {
     "name": "stdout",
     "output_type": "stream",
     "text": [
      "Solution : \n",
      "\t Case methods on String\n",
      "Value of variable 'str1'                :  Although 8 that way may not be obvious at first unless you're Dutch\n",
      "All alphabets in my_str into upper case :  ALTHOUGH 8 THAT WAY MAY NOT BE OBVIOUS AT FIRST UNLESS YOU'RE DUTCH\n",
      "All alphabets in my_str into lower case :  although 8 that way may not be obvious at first unless you're dutch\n",
      "All alphabets in my_str into swap case  :  aLTHOUGH 8 THAT WAY MAY NOT BE OBVIOUS AT FIRST UNLESS YOU'RE dUTCH\n"
     ]
    }
   ],
   "source": [
    "#Solution :    \n",
    "print(\"Solution : \")\n",
    "print(\"\\t Case methods on String\")\n",
    "\n",
    "#String variable declaration\n",
    "my_str = \"Although 8 that way may not be obvious at first unless you're Dutch\"\n",
    "print(\"Value of variable 'str1'                : \", my_str)\n",
    "\n",
    "#Case methods on String\n",
    "#Convert all alphabets in my_str into upper case\n",
    "print(\"All alphabets in my_str into upper case : \", my_str.upper())\n",
    "\n",
    "#Convert all alphabets in my_str into lower case\n",
    "print(\"All alphabets in my_str into lower case : \", my_str.lower())\n",
    "\n",
    "#Convert all alphabets in my_str into swap case\n",
    "print(\"All alphabets in my_str into swap case  : \", my_str.swapcase())"
   ]
  },
  {
   "cell_type": "code",
   "execution_count": null,
   "metadata": {
    "colab": {},
    "colab_type": "code",
    "id": "-BjS-z674HKW"
   },
   "outputs": [],
   "source": [
    "#Write the code which takes one string from user and if it starts with small case letter then convert it to corresponding \n",
    "#capital letter otherwise if starts with capital letters then convert first character of every word in that string into capital."
   ]
  },
  {
   "cell_type": "code",
   "execution_count": 46,
   "metadata": {},
   "outputs": [
    {
     "name": "stdout",
     "output_type": "stream",
     "text": [
      "Solution : \n",
      "\t Case methods on String\n",
      "Enter the string : This is Python class\n",
      "Value of variable 'my_str'                         :  This is Python class\n",
      "Applying title() method for the given string       :  This Is Python Class\n"
     ]
    }
   ],
   "source": [
    "#Solution :    \n",
    "print(\"Solution : \")\n",
    "print(\"\\t Case methods on String\")\n",
    "\n",
    "#String variable declaration\n",
    "my_str = input(\"Enter the string : \")\n",
    "print(\"Value of variable 'my_str'                         : \", my_str)\n",
    "\n",
    "#Case methods on String\n",
    "if(my_str[0].islower()) :\n",
    "    print(\"Applying capitalize() method for the given string  : \", my_str.capitalize())\n",
    "elif(my_str[0].isupper()) :\n",
    "    print(\"Applying title() method for the given string       : \", my_str.title())"
   ]
  },
  {
   "cell_type": "code",
   "execution_count": null,
   "metadata": {
    "colab": {},
    "colab_type": "code",
    "id": "-MCuDy5J4JQS"
   },
   "outputs": [],
   "source": [
    "#Take a string from user and check if it is:-\n",
    "#     1. alphanumeric\n",
    "#     2. alphabets\n",
    "#     3. digit\n",
    "#     4. all letters are in lower case\n",
    "#     5. all letters are in upper case\n",
    "#     6. in title case\n",
    "#     7. a space character\n",
    "#     8. numeric\n",
    "#     9. all number elements in string are decimal"
   ]
  },
  {
   "cell_type": "code",
   "execution_count": 48,
   "metadata": {},
   "outputs": [
    {
     "name": "stdout",
     "output_type": "stream",
     "text": [
      "Solution : \n",
      "\t Validation methods on String\n",
      "Enter the string : Python\n",
      "Value of variable 'my_str'                             :  Python\n",
      "Validating isalnum() method for the given string       :  True\n",
      "Validating isalpha() method for the given string       :  True\n",
      "Validating isdigit() method for the given string       :  False\n",
      "Validating islower() method for the given string       :  False\n",
      "Validating isupper() method for the given string       :  False\n",
      "Validating istitle() method for the given string       :  True\n",
      "Validating isspace() method for the given string       :  False\n",
      "Validating isnumeric() method for the given string     :  False\n",
      "Validating isdecimal() method for the given string     :  False\n"
     ]
    }
   ],
   "source": [
    "#Solution :    \n",
    "print(\"Solution : \")\n",
    "print(\"\\t Validation methods on String\")\n",
    "\n",
    "#String variable declaration\n",
    "my_str = input(\"Enter the string : \")\n",
    "print(\"Value of variable 'my_str'                             : \", my_str)\n",
    "\n",
    "#Validation methods on String\n",
    "print(\"Validating isalnum() method for the given string       : \", my_str.isalnum())\n",
    "print(\"Validating isalpha() method for the given string       : \", my_str.isalpha())\n",
    "print(\"Validating isdigit() method for the given string       : \", my_str.isdigit())\n",
    "print(\"Validating islower() method for the given string       : \", my_str.islower())\n",
    "print(\"Validating isupper() method for the given string       : \", my_str.isupper())\n",
    "print(\"Validating istitle() method for the given string       : \", my_str.istitle())\n",
    "print(\"Validating isspace() method for the given string       : \", my_str.isspace())\n",
    "print(\"Validating isnumeric() method for the given string     : \", my_str.isnumeric())\n",
    "print(\"Validating isdecimal() method for the given string     : \", my_str.isdecimal())"
   ]
  },
  {
   "cell_type": "code",
   "execution_count": null,
   "metadata": {
    "colab": {},
    "colab_type": "code",
    "id": "tiTN-4ik4KAG"
   },
   "outputs": [],
   "source": [
    "#W A P which takes a string as an input and prints True if the string is valid identifier else returns False.\n",
    "#Sample Input:- 'abc', 'abc1', 'ab1c', '1abc', 'abc$', '_abc', 'if'"
   ]
  },
  {
   "cell_type": "code",
   "execution_count": 50,
   "metadata": {},
   "outputs": [
    {
     "name": "stdout",
     "output_type": "stream",
     "text": [
      "Solution : \n",
      "\t Validation method isidentifier() on String\n",
      "Enter the string : abc\n",
      "Value of variable 'my_str'                             :  abc\n",
      "Validating isidentifier() method for the given string  :  True\n"
     ]
    }
   ],
   "source": [
    "#Solution :    \n",
    "print(\"Solution : \")\n",
    "print(\"\\t Validation method isidentifier() on String\")\n",
    "\n",
    "#String variable declaration\n",
    "my_str = input(\"Enter the string : \")\n",
    "print(\"Value of variable 'my_str'                             : \", my_str)\n",
    "\n",
    "#Validation method on String\n",
    "print(\"Validating isidentifier() method for the given string  : \", my_str.isidentifier())"
   ]
  },
  {
   "cell_type": "code",
   "execution_count": 38,
   "metadata": {
    "colab": {},
    "colab_type": "code",
    "id": "tAMkSIN84MPe"
   },
   "outputs": [],
   "source": [
    "#What will be output of below code?\n",
    "s = chr(65) + chr(97)\n",
    "print(s.isprintable())\n",
    "\n",
    "s = chr(27) + chr(97)\n",
    "print(s.isprintable())\n",
    "\n",
    "s = '\\n'\n",
    "print(s.isprintable())\n",
    "\n",
    "s = ''\n",
    "print(s.isprintable())"
   ]
  },
  {
   "cell_type": "code",
   "execution_count": 51,
   "metadata": {},
   "outputs": [
    {
     "name": "stdout",
     "output_type": "stream",
     "text": [
      "Solution : \n",
      "\t Validation method isprintable() on String\n",
      "\n",
      "Solution A : \n",
      "Character with ASCII value 65                         :  A\n",
      "Character with ASCII value 97                         :  a\n",
      "Both are printable character, so isprintable() methods will return True\n",
      "Validating isprintable() method for the given string  :  True\n",
      "\n",
      "Solution B : \n",
      "Character with ASCII value 27                         :  \u001b\n",
      "Character with ASCII value 97                         :  a\n",
      "Character with ASCII value 27 is non printable, so isprintable() methods will return False\n",
      "Validating isprintable() method for the given string  :  False\n",
      "\n",
      "Solution C : \n",
      "Escape sequence are non printable characters, so isprintable() methods will return False\n",
      "Validating isprintable() method for the given string  :  False\n",
      "\n",
      "Solution D : \n",
      "Empty String is printable character, so isprintable() methods will return True\n",
      "Validating isprintable() method for the given string  :  True\n"
     ]
    }
   ],
   "source": [
    "#Solution :    \n",
    "print(\"Solution : \")\n",
    "print(\"\\t Validation method isprintable() on String\")\n",
    "\n",
    "print()\n",
    "print(\"Solution A : \")\n",
    "s = chr(65) + chr(97)\n",
    "print(\"Character with ASCII value 65                         : \", chr(65))\n",
    "print(\"Character with ASCII value 97                         : \", chr(97))\n",
    "print(\"Both are printable character, so isprintable() methods will return True\")\n",
    "print(\"Validating isprintable() method for the given string  : \", s.isprintable())\n",
    "\n",
    "print()\n",
    "print(\"Solution B : \")\n",
    "s = chr(27) + chr(97)\n",
    "print(\"Character with ASCII value 27                         : \", chr(27))\n",
    "print(\"Character with ASCII value 97                         : \", chr(97))\n",
    "print(\"Character with ASCII value 27 is non printable, so isprintable() methods will return False\")\n",
    "print(\"Validating isprintable() method for the given string  : \", s.isprintable())\n",
    "\n",
    "print()\n",
    "print(\"Solution C : \")\n",
    "s = '\\n'\n",
    "print(\"Escape sequence are non printable characters, so isprintable() methods will return False\")\n",
    "print(\"Validating isprintable() method for the given string  : \", s.isprintable())\n",
    "\n",
    "\n",
    "print()\n",
    "print(\"Solution D : \")\n",
    "s = ''\n",
    "print(\"Empty String is printable character, so isprintable() methods will return True\")\n",
    "print(\"Validating isprintable() method for the given string  : \", s.isprintable())"
   ]
  },
  {
   "cell_type": "code",
   "execution_count": 53,
   "metadata": {
    "colab": {},
    "colab_type": "code",
    "id": "pU9Os0mD4Pk1"
   },
   "outputs": [],
   "source": [
    "# #What will be output of below code?\n",
    "my_string = '  '\n",
    "print(my_string.isascii())\n",
    "\n",
    "my_string = 'Studytonight'\n",
    "print(my_string.isascii())\n",
    "\n",
    "my_string = 'Study tonight'\n",
    "print(my_string.isascii())\n",
    "\n",
    "my_string = 'Studytonight@123'\n",
    "print(my_string.isascii())\n",
    "\n",
    "my_string = '°'\n",
    "print(my_string.isascii())\n",
    "\n",
    "my_string = 'ö'\n",
    "print(my_string.isascii())"
   ]
  },
  {
   "cell_type": "code",
   "execution_count": 52,
   "metadata": {},
   "outputs": [
    {
     "name": "stdout",
     "output_type": "stream",
     "text": [
      "Solution : \n",
      "\t Validation method isascii() on String\n",
      "\n",
      "Solution A : \n",
      "All charcters in my_string has ASCII values, so isascii() methods will return True\n",
      "Validating isascii() method for the given string  :  True\n",
      "\n",
      "Solution B : \n",
      "All charcters in my_string has ASCII values, so isascii() methods will return True\n",
      "Validating isascii() method for the given string  :  True\n",
      "\n",
      "Solution C : \n",
      "All charcters in my_string has ASCII values, so isascii() methods will return True\n",
      "Validating isascii() method for the given string  :  True\n",
      "\n",
      "Solution D : \n",
      "All charcters in my_string has ASCII values, so isascii() methods will return True\n",
      "Validating isascii() method for the given string  :  True\n",
      "\n",
      "Solution E : \n",
      "my_string have non ASCII character, so isascii() methods will return False\n",
      "Validating isascii() method for the given string  :  False\n",
      "\n",
      "Solution F : \n",
      "my_string have non ASCII character, so isascii() methods will return False\n",
      "Validating isascii() method for the given string  :  False\n"
     ]
    }
   ],
   "source": [
    "#Solution :    \n",
    "print(\"Solution : \")\n",
    "print(\"\\t Validation method isascii() on String\")\n",
    "\n",
    "print()\n",
    "print(\"Solution A : \")\n",
    "my_string = '  '\n",
    "print(\"All charcters in my_string has ASCII values, so isascii() methods will return True\")\n",
    "print(\"Validating isascii() method for the given string  : \", my_string.isascii())\n",
    "\n",
    "print()\n",
    "print(\"Solution B : \")\n",
    "my_string = 'Studytonight'\n",
    "print(\"All charcters in my_string has ASCII values, so isascii() methods will return True\")\n",
    "print(\"Validating isascii() method for the given string  : \", my_string.isascii())\n",
    "\n",
    "print()\n",
    "print(\"Solution C : \")\n",
    "my_string = 'Study tonight'\n",
    "print(\"All charcters in my_string has ASCII values, so isascii() methods will return True\")\n",
    "print(\"Validating isascii() method for the given string  : \", my_string.isascii())\n",
    "\n",
    "print()\n",
    "print(\"Solution D : \")\n",
    "my_string = 'Studytonight@123'\n",
    "print(\"All charcters in my_string has ASCII values, so isascii() methods will return True\")\n",
    "print(\"Validating isascii() method for the given string  : \", my_string.isascii())\n",
    "\n",
    "print()\n",
    "print(\"Solution E : \")\n",
    "my_string = '°'\n",
    "print(\"my_string have non ASCII character, so isascii() methods will return False\")\n",
    "print(\"Validating isascii() method for the given string  : \", my_string.isascii())\n",
    "\n",
    "print()\n",
    "print(\"Solution F : \")\n",
    "my_string = 'ö'\n",
    "print(\"my_string have non ASCII character, so isascii() methods will return False\")\n",
    "print(\"Validating isascii() method for the given string  : \", my_string.isascii())"
   ]
  },
  {
   "cell_type": "code",
   "execution_count": 57,
   "metadata": {
    "colab": {},
    "colab_type": "code",
    "id": "VsLV8FF74QTB"
   },
   "outputs": [],
   "source": [
    "#What will be the output of below code?\n",
    "firstString = \"der Fluß\"\n",
    "secondString = \"der Fluss\"\n",
    "\n",
    "if firstString.casefold() == secondString.casefold():\n",
    "    print('The strings are equal.')\n",
    "else:\n",
    "    print('The strings are not equal.')"
   ]
  },
  {
   "cell_type": "code",
   "execution_count": 53,
   "metadata": {},
   "outputs": [
    {
     "name": "stdout",
     "output_type": "stream",
     "text": [
      "Solution : \n",
      "\t String method casefold() on String\n",
      "Solution : \n",
      "Value of variable 'firstString'                     :  der Fluß\n",
      "Value of variable 'secondString'                    :  der Fluss\n",
      "Case fold method strictly coverts the given string into lower letter(also ß to ss). Therefore the given strings are equal.\n",
      "Validating casefold() method for the given strings  : \n",
      "The strings are equal.\n"
     ]
    }
   ],
   "source": [
    "#Solution :    \n",
    "print(\"Solution : \")\n",
    "print(\"\\t String method casefold() on String\")\n",
    "print(\"Solution : \")\n",
    "\n",
    "#String variable declaration\n",
    "firstString = \"der Fluß\"\n",
    "print(\"Value of variable 'firstString'                     : \", firstString)\n",
    "secondString = \"der Fluss\"\n",
    "print(\"Value of variable 'secondString'                    : \", secondString)\n",
    "\n",
    "#String method casefold() on String\n",
    "print(\"Case fold method strictly coverts the given string into lower letter(also ß to ss). Therefore the given strings are equal.\")\n",
    "print(\"Validating casefold() method for the given strings  : \")\n",
    "if firstString.casefold() == secondString.casefold():\n",
    "    print('The strings are equal.')\n",
    "else:\n",
    "    print('The strings are not equal.')"
   ]
  },
  {
   "cell_type": "code",
   "execution_count": null,
   "metadata": {
    "colab": {},
    "colab_type": "code",
    "id": "1m0U7jLa4Wjf"
   },
   "outputs": [],
   "source": [
    "#Write the code to get below output\n",
    "#O/P 1:- python** (using ljust method)\n",
    "\n",
    "#Write the code to get below output\n",
    "#O/P 1:- **python (using rjust method)\n",
    "\n",
    "#Write the code to get below output\n",
    "#O/P 1:- **python** (using rjust method)"
   ]
  },
  {
   "cell_type": "code",
   "execution_count": 54,
   "metadata": {},
   "outputs": [
    {
     "name": "stdout",
     "output_type": "stream",
     "text": [
      "Solution : \n",
      "\t String method ljust(), rjust() and center() on String\n",
      "Solution : \n",
      "Value of variable 'var1'                      :  python\n",
      "Applying ljust() method for the given string  :  python**\n",
      "Applying rjust() method for the given string  :  **python\n",
      "Applying center() method for the given string :  **python**\n"
     ]
    }
   ],
   "source": [
    "#Solution :    \n",
    "print(\"Solution : \")\n",
    "print(\"\\t String method ljust(), rjust() and center() on String\")\n",
    "print(\"Solution : \")\n",
    "\n",
    "#String variable declaration\n",
    "var1 = \"python\"\n",
    "print(\"Value of variable 'var1'                      : \", var1)\n",
    "\n",
    "#String method ljust(), rjust() and center() on String\n",
    "print(\"Applying ljust() method for the given string  : \", var1.ljust(8,'*'))\n",
    "print(\"Applying rjust() method for the given string  : \", var1.rjust(8,'*'))\n",
    "print(\"Applying center() method for the given string : \", var1.center(10,'*'))"
   ]
  },
  {
   "cell_type": "code",
   "execution_count": null,
   "metadata": {
    "colab": {},
    "colab_type": "code",
    "id": "cRVkvW6s4YKK"
   },
   "outputs": [],
   "source": [
    "#Write a Python program to find the length of the my_str:-\n",
    "\n",
    "#Input:- 'Write a Python program to find the length of the my_str'\n",
    "#Output:- 55"
   ]
  },
  {
   "cell_type": "code",
   "execution_count": 55,
   "metadata": {},
   "outputs": [
    {
     "name": "stdout",
     "output_type": "stream",
     "text": [
      "Solution : \n",
      "\t Length method on String\n",
      "Solution : \n",
      "Value of variable 'var1'                    :  Write a Python program to find the length of the my_str\n",
      "Applying len() method for the given string  :  55\n"
     ]
    }
   ],
   "source": [
    "#Solution :    \n",
    "print(\"Solution : \")\n",
    "print(\"\\t Length method on String\")\n",
    "print(\"Solution : \")\n",
    "\n",
    "#String variable declaration\n",
    "var1 = 'Write a Python program to find the length of the my_str'\n",
    "print(\"Value of variable 'var1'                    : \", var1)\n",
    "\n",
    "#Length method on String\n",
    "print(\"Applying len() method for the given string  : \", len(var1))"
   ]
  },
  {
   "cell_type": "code",
   "execution_count": null,
   "metadata": {
    "colab": {},
    "colab_type": "code",
    "id": "SjABWI284Zuz"
   },
   "outputs": [],
   "source": [
    "#Write a Python program to find the total number of times letter 'p' is appeared in the below string:-\n",
    "    \n",
    "#Input:- 'peter piper picked a peck of pickled peppers.'\n",
    "#Output:- 9"
   ]
  },
  {
   "cell_type": "code",
   "execution_count": 56,
   "metadata": {},
   "outputs": [
    {
     "name": "stdout",
     "output_type": "stream",
     "text": [
      "Solution : \n",
      "\t Count of given character in the string\n",
      "Solution : \n",
      "Value of variable 'var1'                      :  peter piper picked a peck of pickled peppers.\n",
      "Applying count() method for the given string  :  9\n"
     ]
    }
   ],
   "source": [
    "#Solution :    \n",
    "print(\"Solution : \")\n",
    "print(\"\\t Count of given character in the string\")\n",
    "print(\"Solution : \")\n",
    "\n",
    "#String variable declaration\n",
    "var1 = 'peter piper picked a peck of pickled peppers.'\n",
    "print(\"Value of variable 'var1'                      : \", var1)\n",
    "\n",
    "#Count of given character in the string\n",
    "print(\"Applying count() method for the given string  : \", var1.count('p'))"
   ]
  },
  {
   "cell_type": "code",
   "execution_count": null,
   "metadata": {
    "colab": {},
    "colab_type": "code",
    "id": "-iZtqbEo4bQp"
   },
   "outputs": [],
   "source": [
    "#Write a Python Program, to print all the indexes of all occurences of letter 'p' appeared in the string:-\n",
    "    \n",
    "#Input:- 'peter piper picked a peck of pickled peppers.'\n",
    "#Output:- \n",
    "# 0\n",
    "# 6\n",
    "# 8\n",
    "# 12\n",
    "# 21\n",
    "# 29\n",
    "# 37\n",
    "# 39\n",
    "# 40"
   ]
  },
  {
   "cell_type": "code",
   "execution_count": 57,
   "metadata": {},
   "outputs": [
    {
     "name": "stdout",
     "output_type": "stream",
     "text": [
      "Solution : \n",
      "\t Find all the indexes of all occurences of letter 'p' in the given string\n",
      "Solution : \n",
      "Value of variable 'var1'                         :  peter piper picked a peck of pickled peppers.\n",
      "List comprehension\n",
      "All the indexes of all occurences of letter 'p'  : \n",
      "0\n",
      "6\n",
      "8\n",
      "12\n",
      "21\n",
      "29\n",
      "37\n",
      "39\n",
      "40\n"
     ]
    }
   ],
   "source": [
    "#Solution :    \n",
    "print(\"Solution : \")\n",
    "print(\"\\t Find all the indexes of all occurences of letter 'p' in the given string\")\n",
    "print(\"Solution : \")\n",
    "\n",
    "#String variable declaration\n",
    "var1 = 'peter piper picked a peck of pickled peppers.'\n",
    "print(\"Value of variable 'var1'                         : \", var1)\n",
    "\n",
    "#All the indexes of all occurences of letter 'p'\n",
    "print(\"List comprehension\")\n",
    "print(\"All the indexes of all occurences of letter 'p'  : \")\n",
    "index_range=[i for i in range(len(var1)) if var1.startswith('p', i)]\n",
    "for i in range(len(index_range)) :\n",
    "    print(index_range[i])"
   ]
  },
  {
   "cell_type": "code",
   "execution_count": 91,
   "metadata": {
    "colab": {},
    "colab_type": "code",
    "id": "_A8Eu8f84daM"
   },
   "outputs": [],
   "source": [
    "#Write a python program to find below output:-\n",
    "\n",
    "#Input:- 'peter piper picked a peck of pickled peppers.'\n",
    "#Output:- ['peter', 'piper', 'picked', 'a', 'peck', 'of', 'pickled', 'peppers.']"
   ]
  },
  {
   "cell_type": "code",
   "execution_count": 58,
   "metadata": {},
   "outputs": [
    {
     "name": "stdout",
     "output_type": "stream",
     "text": [
      "Solution : \n",
      "\t Split in the given string\n",
      "Solution : \n",
      "Value of variable 'var1'                         :  peter piper picked a peck of pickled peppers.\n",
      "Split in the given string                        : \n",
      "['peter', 'piper', 'picked', 'a', 'peck', 'of', 'pickled', 'peppers.']\n"
     ]
    }
   ],
   "source": [
    "#Solution :    \n",
    "print(\"Solution : \")\n",
    "print(\"\\t Split in the given string\")\n",
    "print(\"Solution : \")\n",
    "\n",
    "#String variable declaration\n",
    "var1 = 'peter piper picked a peck of pickled peppers.'\n",
    "print(\"Value of variable 'var1'                         : \", var1)\n",
    "\n",
    "#Split in the given string\n",
    "print(\"Split in the given string                        : \")\n",
    "print(var1.split())"
   ]
  },
  {
   "cell_type": "code",
   "execution_count": null,
   "metadata": {
    "colab": {},
    "colab_type": "code",
    "id": "juh7tQuL4fNc"
   },
   "outputs": [],
   "source": [
    "#Write a python program to find below output:-\n",
    "\n",
    "#Input:- 'peter piper picked a peck of pickled peppers.'\n",
    "#Output:- 'peppers. pickled of peck a picked piper peter'"
   ]
  },
  {
   "cell_type": "code",
   "execution_count": 61,
   "metadata": {},
   "outputs": [
    {
     "name": "stdout",
     "output_type": "stream",
     "text": [
      "Solution : \n",
      "\t Split in the given string\n",
      "Solution : \n",
      "Value of variable 'var1'                         :  peter piper picked a peck of pickled peppers.\n",
      "Split in the given string                        :  peppers. pickled of peck a picked piper peter\n"
     ]
    }
   ],
   "source": [
    "#Solution :    \n",
    "print(\"Solution : \")\n",
    "print(\"\\t Split in the given string\")\n",
    "print(\"Solution : \")\n",
    "\n",
    "#String variable declaration\n",
    "var1 = 'peter piper picked a peck of pickled peppers.'\n",
    "print(\"Value of variable 'var1'                         : \", var1)\n",
    "\n",
    "#Split in the given string\n",
    "print(\"Split in the given string                        : \", ' '.join(var1.split()[::-1]))"
   ]
  },
  {
   "cell_type": "code",
   "execution_count": null,
   "metadata": {
    "colab": {},
    "colab_type": "code",
    "id": "aaHQYz194fW7"
   },
   "outputs": [],
   "source": [
    "#Write a python program to find below output:-\n",
    "\n",
    "#Input:- 'peter piper picked a peck of pickled peppers.'\n",
    "#Output:- '.sreppep delkcip fo kcep a dekcip repip retep'"
   ]
  },
  {
   "cell_type": "code",
   "execution_count": 62,
   "metadata": {},
   "outputs": [
    {
     "name": "stdout",
     "output_type": "stream",
     "text": [
      "Solution : \n",
      "\t Split in the given string\n",
      "Solution : \n",
      "Value of variable 'var1'                         :  peter piper picked a peck of pickled peppers.\n",
      "Split in the given string                        : \n",
      ".sreppep delkcip fo kcep a dekcip repip retep\n"
     ]
    }
   ],
   "source": [
    "#Solution :    \n",
    "print(\"Solution : \")\n",
    "print(\"\\t Split in the given string\")\n",
    "print(\"Solution : \")\n",
    "\n",
    "#String variable declaration\n",
    "var1 = 'peter piper picked a peck of pickled peppers.'\n",
    "print(\"Value of variable 'var1'                         : \", var1)\n",
    "\n",
    "#Split in the given string\n",
    "print(\"Split in the given string                        : \")\n",
    "word_list=[i[::-1] for i in var1.split()]\n",
    "word_list.reverse()\n",
    "print(\" \".join(word_list))"
   ]
  },
  {
   "cell_type": "code",
   "execution_count": null,
   "metadata": {
    "colab": {},
    "colab_type": "code",
    "id": "LSgj9glC4feI"
   },
   "outputs": [],
   "source": [
    "#Write a python program to find below output:-\n",
    "\n",
    "#Input:- 'peter piper picked a peck of pickled peppers.'\n",
    "#Output:- 'retep repip dekcip a kcep fo delkcip .sreppep'"
   ]
  },
  {
   "cell_type": "code",
   "execution_count": 63,
   "metadata": {},
   "outputs": [
    {
     "name": "stdout",
     "output_type": "stream",
     "text": [
      "Solution : \n",
      "\t Split in the given string\n",
      "Solution : \n",
      "Value of variable 'var1'                         :  peter piper picked a peck of pickled peppers.\n",
      "Split in the given string                        : \n",
      "retep repip dekcip a kcep fo delkcip .sreppep\n"
     ]
    }
   ],
   "source": [
    "#Solution :    \n",
    "print(\"Solution : \")\n",
    "print(\"\\t Split in the given string\")\n",
    "print(\"Solution : \")\n",
    "\n",
    "#String variable declaration\n",
    "var1 = 'peter piper picked a peck of pickled peppers.'\n",
    "print(\"Value of variable 'var1'                         : \", var1)\n",
    "\n",
    "#Split in the given string\n",
    "print(\"Split in the given string                        : \")\n",
    "print(' '.join([i[::-1] for i in var1.split()]))"
   ]
  },
  {
   "cell_type": "code",
   "execution_count": null,
   "metadata": {
    "colab": {},
    "colab_type": "code",
    "id": "WUxPAkY94foo"
   },
   "outputs": [],
   "source": [
    "#Write a python program to find below output:-\n",
    "\n",
    "#Input:- 'peter piper picked a peck of pickled peppers.'\n",
    "#Output:- 'Peter Piper Picked A Peck Of Pickled Peppers.'"
   ]
  },
  {
   "cell_type": "code",
   "execution_count": 64,
   "metadata": {},
   "outputs": [
    {
     "name": "stdout",
     "output_type": "stream",
     "text": [
      "Solution : \n",
      "\t String method title() on String\n",
      "Solution : \n",
      "Value of variable 'var1'                     :  peter piper picked a peck of pickled peppers.\n",
      "Applying title() method for the given string :  Peter Piper Picked A Peck Of Pickled Peppers.\n"
     ]
    }
   ],
   "source": [
    "#Solution :    \n",
    "print(\"Solution : \")\n",
    "print(\"\\t String method title() on String\")\n",
    "print(\"Solution : \")\n",
    "\n",
    "#String variable declaration\n",
    "var1 = 'peter piper picked a peck of pickled peppers.'\n",
    "print(\"Value of variable 'var1'                     : \", var1)\n",
    "\n",
    "#String method capitalize() on String\n",
    "print(\"Applying title() method for the given string : \", var1.title())"
   ]
  },
  {
   "cell_type": "code",
   "execution_count": null,
   "metadata": {
    "colab": {},
    "colab_type": "code",
    "id": "IT1NSPxA4mww"
   },
   "outputs": [],
   "source": [
    "#Write a python program to find below output:-\n",
    "\n",
    "#Input:- 'Peter Piper Picked A Peck Of Pickled Peppers.'\n",
    "#Output:- 'Peter piper picked a peck of pickled peppers.'"
   ]
  },
  {
   "cell_type": "code",
   "execution_count": 65,
   "metadata": {},
   "outputs": [
    {
     "name": "stdout",
     "output_type": "stream",
     "text": [
      "Solution : \n",
      "\t String method capitalize() on String\n",
      "Solution : \n",
      "Value of variable 'var1'                          :  Peter Piper Picked A Peck Of Pickled Peppers.\n",
      "Applying capitalize() method for the given string :  Peter piper picked a peck of pickled peppers.\n"
     ]
    }
   ],
   "source": [
    "#Solution :    \n",
    "print(\"Solution : \")\n",
    "print(\"\\t String method capitalize() on String\")\n",
    "print(\"Solution : \")\n",
    "\n",
    "#String variable declaration\n",
    "var1 = 'Peter Piper Picked A Peck Of Pickled Peppers.'\n",
    "print(\"Value of variable 'var1'                          : \", var1)\n",
    "\n",
    "#String method capitalize() on String\n",
    "print(\"Applying capitalize() method for the given string : \", var1.capitalize())"
   ]
  },
  {
   "cell_type": "code",
   "execution_count": null,
   "metadata": {
    "colab": {},
    "colab_type": "code",
    "id": "3Gg65vSc4m3C"
   },
   "outputs": [],
   "source": [
    "#Write a python program to implement index method. If sub_str is found in my_str then it will print the index\n",
    "# of first occurrence of first character of matching string in my_str:-\n",
    "\n",
    "#Input:- my_str = 'Peter Piper Picked A Peck Of Pickled Peppers.', sub_str = 'Pickl'\n",
    "#Output:- 29"
   ]
  },
  {
   "cell_type": "code",
   "execution_count": 66,
   "metadata": {},
   "outputs": [
    {
     "name": "stdout",
     "output_type": "stream",
     "text": [
      "Solution : \n",
      "\t String method index() on String\n",
      "Solution : \n",
      "Value of variable 'var1'                      :  Peter Piper Picked A Peck Of Pickled Peppers.\n",
      "Value of variable 'sub_str'                   :  Pickl\n",
      "Applying index() method for the given string  :  29\n"
     ]
    }
   ],
   "source": [
    "#Solution :    \n",
    "print(\"Solution : \")\n",
    "print(\"\\t String method index() on String\")\n",
    "print(\"Solution : \")\n",
    "\n",
    "#String variable declaration\n",
    "var1 = 'Peter Piper Picked A Peck Of Pickled Peppers.'\n",
    "print(\"Value of variable 'var1'                      : \", var1)\n",
    "sub_str = 'Pickl'\n",
    "print(\"Value of variable 'sub_str'                   : \", sub_str)\n",
    "\n",
    "#String method index() on String\n",
    "print(\"Applying index() method for the given string  : \", var1.index(sub_str))"
   ]
  },
  {
   "cell_type": "code",
   "execution_count": null,
   "metadata": {
    "colab": {},
    "colab_type": "code",
    "id": "iFRhp_JI4m6k"
   },
   "outputs": [],
   "source": [
    "#Write a python program to implement replace method. If sub_str is found in my_str then it will replace the first \n",
    "#occurrence of sub_str with new_str else it will will print sub_str not found:-\n",
    "\n",
    "#Input:- my_str = 'Peter Piper Picked A Peck Of Pickled Peppers.', sub_str = 'Peck', new_str = 'Pack'\n",
    "#Output:- 'Peter Piper Picked A Pack Of Pickled Peppers.'"
   ]
  },
  {
   "cell_type": "code",
   "execution_count": 67,
   "metadata": {},
   "outputs": [
    {
     "name": "stdout",
     "output_type": "stream",
     "text": [
      "Solution : \n",
      "\t String method replace() on String\n",
      "Solution : \n",
      "Value of variable 'var1'                        :  Peter Piper Picked A Peck Of Pickled Peppers.\n",
      "Value of variable 'sub_str'                     :  Peck\n",
      "Value of variable 'new_str'                     :  Pack\n",
      "Applying replace() method for the given string  :  Peter Piper Picked A Pack Of Pickled Peppers.\n"
     ]
    }
   ],
   "source": [
    "#Solution :    \n",
    "print(\"Solution : \")\n",
    "print(\"\\t String method replace() on String\")\n",
    "print(\"Solution : \")\n",
    "\n",
    "#String variable declaration\n",
    "var1 = 'Peter Piper Picked A Peck Of Pickled Peppers.'\n",
    "print(\"Value of variable 'var1'                        : \", var1)\n",
    "sub_str = 'Peck'\n",
    "print(\"Value of variable 'sub_str'                     : \", sub_str)\n",
    "new_str = 'Pack'\n",
    "print(\"Value of variable 'new_str'                     : \", new_str)\n",
    "\n",
    "#String method replace() on String\n",
    "print(\"Applying replace() method for the given string  : \", var1.replace(sub_str,new_str))"
   ]
  },
  {
   "cell_type": "code",
   "execution_count": null,
   "metadata": {
    "colab": {},
    "colab_type": "code",
    "id": "dQ9YhBBc4m9V"
   },
   "outputs": [],
   "source": [
    "#Write a python program to find below output (implements rjust and ljust):-\n",
    "\n",
    "#Input:- 'Peter Piper Picked A Peck Of Pickled Peppers.', sub_str = 'Peck', \n",
    "#Output:- '*********************Peck********************'"
   ]
  },
  {
   "cell_type": "code",
   "execution_count": 71,
   "metadata": {},
   "outputs": [
    {
     "name": "stdout",
     "output_type": "stream",
     "text": [
      "Solution : \n",
      "\t String method ljust() and rjust() on String\n",
      "Solution : \n",
      "Value of variable 'var1'                      :  Peter Piper Picked A Peck Of Pickled Peppers.\n",
      "Value of variable 'sub_str'                   :  Peck\n",
      "Applying ljust() method for the given string  :  *****************Peck************************\n"
     ]
    }
   ],
   "source": [
    "#Solution :    \n",
    "print(\"Solution : \")\n",
    "print(\"\\t String method ljust() and rjust() on String\")\n",
    "print(\"Solution : \")\n",
    "\n",
    "#String variable declaration\n",
    "var1 = 'Peter Piper Picked A Peck Of Pickled Peppers.'\n",
    "print(\"Value of variable 'var1'                      : \", var1)\n",
    "sub_str = 'Peck'\n",
    "print(\"Value of variable 'sub_str'                   : \", sub_str)\n",
    "\n",
    "#String method ljust() and rjust() on String\n",
    "print(\"Applying ljust() method for the given string  : \", sub_str.rjust(var1.find(sub_str),'*').ljust(len(var1),'*'))"
   ]
  }
 ],
 "metadata": {
  "colab": {
   "collapsed_sections": [],
   "name": "String_Assignment.ipynb",
   "provenance": []
  },
  "kernelspec": {
   "display_name": "Python 3",
   "language": "python",
   "name": "python3"
  },
  "language_info": {
   "codemirror_mode": {
    "name": "ipython",
    "version": 3
   },
   "file_extension": ".py",
   "mimetype": "text/x-python",
   "name": "python",
   "nbconvert_exporter": "python",
   "pygments_lexer": "ipython3",
   "version": "3.8.3"
  }
 },
 "nbformat": 4,
 "nbformat_minor": 1
}
