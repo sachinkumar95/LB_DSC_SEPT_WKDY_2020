{
 "cells": [
  {
   "cell_type": "code",
   "execution_count": 12,
   "metadata": {},
   "outputs": [
    {
     "name": "stdout",
     "output_type": "stream",
     "text": [
      "[10, 12, 14, 16, 18]\n"
     ]
    }
   ],
   "source": [
    "def is_even(num):\n",
    "    return True if num % 2 == 0 else False\n",
    "\n",
    "seq = [10,11,12,13,14,15,16,17,18,19]\n",
    "\n",
    "def filter_num(is_even, seq):\n",
    "    out = []\n",
    "    for i in seq:\n",
    "        out.append(i) if \n",
    "    return out\n",
    "\n",
    "print(filter_num(is_even,seq))"
   ]
  }
 ],
 "metadata": {
  "kernelspec": {
   "display_name": "Python 3",
   "language": "python",
   "name": "python3"
  },
  "language_info": {
   "codemirror_mode": {
    "name": "ipython",
    "version": 3
   },
   "file_extension": ".py",
   "mimetype": "text/x-python",
   "name": "python",
   "nbconvert_exporter": "python",
   "pygments_lexer": "ipython3",
   "version": "3.8.3"
  }
 },
 "nbformat": 4,
 "nbformat_minor": 4
}
