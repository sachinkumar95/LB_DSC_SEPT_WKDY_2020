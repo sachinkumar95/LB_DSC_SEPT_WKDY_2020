{
 "cells": [
  {
   "cell_type": "code",
   "execution_count": 1,
   "metadata": {},
   "outputs": [
    {
     "name": "stdout",
     "output_type": "stream",
     "text": [
      "Email: test@email.com\n",
      "Street: testStreet\n",
      "City: testCity\n",
      "State: testState\n",
      "Pin: 10011\n",
      "Name: test\n",
      "Mob: 100100100\n"
     ]
    }
   ],
   "source": [
    "# contact_info(name, mob) - print(name, mob)\n",
    "\n",
    "# adress_info(street,city, state, pin, **kwvars):- contact_info(kwvars), print(street,city, state, pin,)\n",
    "    \n",
    "# email(email, **kwargs) - adress_info(kwargs) print(email)\n",
    "\n",
    "def contact_info(name, mob):\n",
    "    print(f'Name: {name}')\n",
    "    print(f'Mob: {mob}')\n",
    "\n",
    "def address_info(street, city, state, pin, **kwargs):\n",
    "    print(f'Street: {street}')\n",
    "    print(f'City: {city}')\n",
    "    print(f'State: {state}')\n",
    "    print(f'Pin: {pin}')\n",
    "    \n",
    "    contact_info(kwargs['name'], kwargs['mob'])\n",
    "\n",
    "def email(email, **kwargs):\n",
    "    print(f'Email: {email}')\n",
    "    \n",
    "    address_info(kwargs['street'],kwargs['city'],kwargs['state'],kwargs['pin'], name=kwargs['name'], mob=kwargs['mob'])\n",
    "    \n",
    "\n",
    "email('test@email.com', street='testStreet', city='testCity', state='testState', pin=10011, name='test', mob=100100100)\n",
    "    "
   ]
  }
 ],
 "metadata": {
  "kernelspec": {
   "display_name": "Python 3",
   "language": "python",
   "name": "python3"
  },
  "language_info": {
   "codemirror_mode": {
    "name": "ipython",
    "version": 3
   },
   "file_extension": ".py",
   "mimetype": "text/x-python",
   "name": "python",
   "nbconvert_exporter": "python",
   "pygments_lexer": "ipython3",
   "version": "3.8.3"
  }
 },
 "nbformat": 4,
 "nbformat_minor": 4
}
