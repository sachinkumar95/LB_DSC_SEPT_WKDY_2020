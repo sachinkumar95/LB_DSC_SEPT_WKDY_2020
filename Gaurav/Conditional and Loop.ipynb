{
 "cells": [
  {
   "cell_type": "code",
   "execution_count": 2,
   "metadata": {},
   "outputs": [
    {
     "name": "stdout",
     "output_type": "stream",
     "text": [
      "Enter first Number: 10\n",
      "Enter second Number: 30\n",
      "Enter third Number: 20\n",
      "The max number is : 30\n"
     ]
    }
   ],
   "source": [
    "# FInd the max number\n",
    "\n",
    "a = int(input('Enter first Number: '))\n",
    "b = int(input('Enter second Number: '))\n",
    "c = int(input('Enter third Number: '))\n",
    "\n",
    "if a > b and a > c:\n",
    "    print('The max number is : {}'.format(a))\n",
    "elif b > c:\n",
    "    print('The max number is : {}'.format(b))\n",
    "else:\n",
    "    print('The max number is : {}'.format(c))"
   ]
  },
  {
   "cell_type": "code",
   "execution_count": null,
   "metadata": {},
   "outputs": [],
   "source": [
    "# Design a Calsulator"
   ]
  },
  {
   "cell_type": "code",
   "execution_count": 12,
   "metadata": {},
   "outputs": [
    {
     "name": "stdout",
     "output_type": "stream",
     "text": [
      "Enter first Number: 10\n",
      "Enter second Number: 5\n",
      "Choices: \n",
      "1. Add\n",
      "2. Sub\n",
      "3. Mul\n",
      "4. Div\n",
      "Enter the choice: 7\n",
      "choice is not valid.\n"
     ]
    }
   ],
   "source": [
    "a = int(input('Enter first Number: '))\n",
    "b = int(input('Enter second Number: '))\n",
    "print('Choices: \\n1. Add\\n2. Sub\\n3. Mul\\n4. Div')\n",
    "\n",
    "choice = int(input('Enter the choice: '))\n",
    "if (choice == 1):\n",
    "    print(f'Add: {a+b}')\n",
    "elif(choice == 2):\n",
    "    print(f'Sub: {a-b}')\n",
    "elif(choice==3):\n",
    "    print(f'Mul: {a*b}')\n",
    "elif(choice==4):\n",
    "    if(b > 0):\n",
    "        print(f'Div: {a/b}')\n",
    "    else:\n",
    "        print('Cant devide by 0')\n",
    "else:\n",
    "    print('choice is not valid.')"
   ]
  },
  {
   "cell_type": "code",
   "execution_count": 26,
   "metadata": {},
   "outputs": [
    {
     "name": "stdout",
     "output_type": "stream",
     "text": [
      "Enter any year: 1600\n",
      "Leap Year\n"
     ]
    }
   ],
   "source": [
    "# Leap Year\n",
    "\n",
    "year = int(input('Enter any year: '))\n",
    "\n",
    "if year % 4 == 0:\n",
    "    if year % 100 == 0:\n",
    "        if year % 400 == 0:\n",
    "            print('Leap Year')\n",
    "        else:\n",
    "            print('Not a leap year')\n",
    "    else:\n",
    "        print('Leap Year')\n",
    "else:\n",
    "    print('Not a leap year')"
   ]
  },
  {
   "cell_type": "code",
   "execution_count": null,
   "metadata": {},
   "outputs": [],
   "source": [
    "# Palindrome\n",
    "\n",
    "num = int(input('Enter a  number: '))\n",
    "newNum = 0\n",
    "\n",
    "while num > 0:\n",
    "    "
   ]
  },
  {
   "cell_type": "code",
   "execution_count": 42,
   "metadata": {},
   "outputs": [
    {
     "name": "stdout",
     "output_type": "stream",
     "text": [
      "['peter', 'piper', 'picked', 'a', 'peck', 'of', 'pickled', 'peppers.']\n"
     ]
    }
   ],
   "source": [
    "#Input:- 'peter piper picked a peck of pickled peppers.'\n",
    "#Output:- ['peter', 'piper', 'picked', 'a', 'peck', 'of', 'pickled', 'peppers']\n",
    "\n",
    "\n",
    "my_str = 'peter piper picked a peck of pickled peppers.'\n",
    "new_str = ''\n",
    "my_lst = []\n",
    "\n",
    "for i in my_str:\n",
    "    if(i == ' '):\n",
    "        my_lst.append(new_str)\n",
    "        new_str = ''\n",
    "    else:\n",
    "        new_str += i\n",
    "my_lst.append(new_str)   \n",
    "print(my_lst)"
   ]
  },
  {
   "cell_type": "code",
   "execution_count": 50,
   "metadata": {},
   "outputs": [
    {
     "name": "stdout",
     "output_type": "stream",
     "text": [
      "peppers. pickled of peck a picked piper peter \n"
     ]
    }
   ],
   "source": [
    "#Input:- 'peter piper picked a peck of pickled peppers.'\n",
    "#Output:- 'peppers. pickled of peck a picked piper peter'\n",
    "\n",
    "mmy_str = 'peter piper picked a peck of pickled peppers.'\n",
    "new_str = ''\n",
    "my_lst = []\n",
    "\n",
    "for i in my_str:\n",
    "    if(i == ' '):\n",
    "        my_lst.append(new_str)\n",
    "        new_str = ''\n",
    "    else:\n",
    "        new_str += i\n",
    "my_lst.append(new_str)   \n",
    "new_str = ''\n",
    "for element in my_lst[::-1]:\n",
    "    new_str += element+' '\n",
    "\n",
    "print(new_str)"
   ]
  },
  {
   "cell_type": "code",
   "execution_count": null,
   "metadata": {},
   "outputs": [],
   "source": []
  }
 ],
 "metadata": {
  "kernelspec": {
   "display_name": "Python 3",
   "language": "python",
   "name": "python3"
  },
  "language_info": {
   "codemirror_mode": {
    "name": "ipython",
    "version": 3
   },
   "file_extension": ".py",
   "mimetype": "text/x-python",
   "name": "python",
   "nbconvert_exporter": "python",
   "pygments_lexer": "ipython3",
   "version": "3.8.3"
  }
 },
 "nbformat": 4,
 "nbformat_minor": 4
}
