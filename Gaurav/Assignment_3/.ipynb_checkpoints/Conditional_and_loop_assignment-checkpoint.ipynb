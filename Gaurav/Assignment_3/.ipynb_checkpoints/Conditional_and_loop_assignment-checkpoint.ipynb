{
 "cells": [
  {
   "cell_type": "markdown",
   "metadata": {
    "colab_type": "text",
    "id": "wNRNTbrsc53d"
   },
   "source": [
    "# If - elif - else statement"
   ]
  },
  {
   "cell_type": "code",
   "execution_count": 4,
   "metadata": {
    "colab": {},
    "colab_type": "code",
    "id": "MiPfTnBycxNa"
   },
   "outputs": [
    {
     "name": "stdout",
     "output_type": "stream",
     "text": [
      "Enter a number from 0 to 9: 10\n",
      "the number is outside of the range\n"
     ]
    }
   ],
   "source": [
    "#W. A P. which takes one number from 0 to 9 from the user and prints it in the word. And if the word is not from 0 to 9 then\n",
    "#it should print that number is outside of the range and program should exit.\n",
    "# For exapmple:- \n",
    "# input = 1\n",
    "# output = one\n",
    "\n",
    "word_dict = {0:'zero', 1:'one', 2:'two', 3:'three', 4:'four', 5:'five', 6:'six', 7:'seven', 8:'eight', 9:'nine'}\n",
    "\n",
    "def number_to_word(input_number):\n",
    "    if 0 <= input_number <= 9:\n",
    "        return word_dict[input_number]\n",
    "    else:\n",
    "        return 'The number is outside of the range'\n",
    "    \n",
    "input_number = int(input('Enter a number from 0 to 9: '))\n",
    "print(number_to_word(input_number))"
   ]
  },
  {
   "cell_type": "code",
   "execution_count": 14,
   "metadata": {
    "colab": {},
    "colab_type": "code",
    "id": "vEMNOv9zdA39"
   },
   "outputs": [
    {
     "name": "stdout",
     "output_type": "stream",
     "text": [
      "\n",
      "     The Python Calculator\n",
      "     ---------------------\n",
      "\n",
      "     Please select any one operation from below:-\n",
      "         * To add enter 1\n",
      "         * to subtract enter 2\n",
      "         * To multiply enter 3\n",
      "         * To divide enter 4\n",
      "         * To divide and find quotient enter 5\n",
      "         * To divide and find remainder enter 6\n",
      "         * To divide and find num1 to the power of num2 enter 7\n",
      "         * To Come out of the program enter 8\n",
      "Enter Your choice: 1\n",
      "Enter first number: 12\n",
      "Enter second number: 13\n",
      "Sum of 12 and 13 is: 25\n",
      "\n",
      "     The Python Calculator\n",
      "     ---------------------\n",
      "\n",
      "     Please select any one operation from below:-\n",
      "         * To add enter 1\n",
      "         * to subtract enter 2\n",
      "         * To multiply enter 3\n",
      "         * To divide enter 4\n",
      "         * To divide and find quotient enter 5\n",
      "         * To divide and find remainder enter 6\n",
      "         * To divide and find num1 to the power of num2 enter 7\n",
      "         * To Come out of the program enter 8\n",
      "Enter Your choice: 8\n",
      "Good Bye\n"
     ]
    }
   ],
   "source": [
    "#W. A P. to implement calculator but the operation to be done and two numbers will be taken as input from user:-\n",
    "#Operation console should show below:-\n",
    "#     Please select any one operation from below:-\n",
    "#         * To add enter 1\n",
    "#         * to subtract enter 2\n",
    "#         * To multiply enter 3\n",
    "#         * To divide enter 4\n",
    "#         * To divide and find quotient enter 5\n",
    "#         * To divide and find remainder enter 6\n",
    "#         * To divide and find num1 to the power of num2 enter 7\n",
    "#         * To Come out of the program enter 8\n",
    "\n",
    "def input_from_user():\n",
    "    first_num = int(input('Enter first number: '))\n",
    "    second_num = int(input('Enter second number: '))\n",
    "    return first_num, second_num\n",
    "\n",
    "while True:\n",
    "    print('\\n     The Python Calculator')\n",
    "    print('     ---------------------\\n')\n",
    "    print('''     Please select any one operation from below:-\n",
    "         * To add enter 1\n",
    "         * to subtract enter 2\n",
    "         * To multiply enter 3\n",
    "         * To divide enter 4\n",
    "         * To divide and find quotient enter 5\n",
    "         * To divide and find remainder enter 6\n",
    "         * To divide and find num1 to the power of num2 enter 7\n",
    "         * To Come out of the program enter 8''')\n",
    "    \n",
    "    choice = int(input('Enter Your choice: '))\n",
    "    if choice == 1:\n",
    "        a,b = input_from_user()\n",
    "        print(f'Sum of {a} and {b} is: {a+b}')\n",
    "    elif choice == 2:\n",
    "        a,b = input_from_user()\n",
    "        print(f'Difference of {a} and {b} is: {a-b}')\n",
    "    elif choice == 3:\n",
    "        a,b = input_from_user()\n",
    "        print(f'Product of {a} and {b} is: {a*b}')\n",
    "    elif choice == 4:\n",
    "        a,b = input_from_user()\n",
    "        if b != 0 :\n",
    "            print(f'Division of {a} and {b} is: {a/b}')\n",
    "        else:\n",
    "            print('Can not devide a number by 0')\n",
    "    elif choice == 5:\n",
    "        a,b = input_from_user()\n",
    "        print(f'Quotient of {a} and {b} is: {a//b}')\n",
    "    elif choice == 6:\n",
    "        a,b = input_from_user()\n",
    "        print(f'Remainder of {a} and {b} is: {a%b}')\n",
    "    elif choice == 7:\n",
    "        a,b = input_from_user()\n",
    "        print(f'{a} to the power of {b} is: {a**b}')\n",
    "    elif choice == 8:\n",
    "        print('Good Bye')\n",
    "        break\n",
    "    else:\n",
    "        print('Invalid choice. Please try again')\n",
    "\n",
    "\n"
   ]
  },
  {
   "cell_type": "code",
   "execution_count": 27,
   "metadata": {
    "colab": {},
    "colab_type": "code",
    "id": "1e2gwYLqdC1s"
   },
   "outputs": [
    {
     "name": "stdout",
     "output_type": "stream",
     "text": [
      "enter a year: 1900\n",
      "Non-leap Year\n"
     ]
    }
   ],
   "source": [
    "#W A P to check whether a year entered by user is an leap year or not?\n",
    "#Check with below input:-\n",
    "    #leap year:- 2012, 1968, 2004, 1200, 1600,2400\n",
    "    #Non-lear year:- 1971, 2006, 1700,1800,1900\n",
    "    \n",
    "def is_leap_year(year):\n",
    "    if year % 4 == 0:\n",
    "        if year % 100 == 0:\n",
    "            if year % 400 == 0:\n",
    "                print('Leap Year')\n",
    "            else:\n",
    "                print('Non-leap Year')\n",
    "        else:\n",
    "            print('Leap Year')\n",
    "    else:\n",
    "            print('Non-leap Year')\n",
    "            \n",
    "year = int(input(\"enter a year: \"))\n",
    "is_leap_year(year)"
   ]
  },
  {
   "cell_type": "code",
   "execution_count": 30,
   "metadata": {
    "colab": {},
    "colab_type": "code",
    "id": "_tpXv1EtdEre"
   },
   "outputs": [
    {
     "name": "stdout",
     "output_type": "stream",
     "text": [
      "Enter a number: 11\n",
      "It is an odd number\n"
     ]
    }
   ],
   "source": [
    "#W A P which takes one number from the user and checks whether it is an even or odd number?, If it even then prints number is \n",
    "#even number else prints that number is odd number.\n",
    "\n",
    "num = int(input('Enter a number: '))\n",
    "\n",
    "if num % 2 == 0:\n",
    "    print(\"It is an even number.\")\n",
    "else:\n",
    "    print(\"It is an odd number\")\n"
   ]
  },
  {
   "cell_type": "code",
   "execution_count": 35,
   "metadata": {
    "colab": {},
    "colab_type": "code",
    "id": "Q1HumymCdG6i"
   },
   "outputs": [
    {
     "name": "stdout",
     "output_type": "stream",
     "text": [
      "Enter first number: 12\n",
      "Enter second number: 12\n",
      "num1 is equla to num2\n",
      "num1 is equal to num2\n"
     ]
    }
   ],
   "source": [
    "#W A P which takes two numbers from the user and prints below output:-\n",
    "#     1. num1 is greater than num2 if num1 is greater than num2\n",
    "#     2. num1 is smaller than num2 if num1 is smaller than num2\n",
    "#     3. num1 is equal to num2 if num1 and num2 are equal\n",
    "\n",
    "#Note:- 1. Do this problem using if - else \n",
    "#       2. Do this using ternary operator\n",
    "\n",
    "num1 = int(input('Enter first number: '))\n",
    "num2 = int(input('Enter second number: '))\n",
    "\n",
    "if num1 == num2:\n",
    "    print ('num1 is equla to num2')\n",
    "elif num1 > num2:\n",
    "    print('num1 is grater than num2')\n",
    "else:\n",
    "    print('num2 is grater than num2')\n",
    "\n",
    "\n",
    "print('num1 is equal to num2' if num1 == num2 else 'num1 is grater than num 2' if num1 > num2 else 'num2 is grater than num1')\n"
   ]
  },
  {
   "cell_type": "code",
   "execution_count": null,
   "metadata": {
    "colab": {},
    "colab_type": "code",
    "id": "LR6TVB-DdOPf"
   },
   "outputs": [],
   "source": [
    "#W A P which takes three numbers from the user and prints below output:-\n",
    "#     1. num1 is greater than num2 and num3 if num1 is greater than num2 and num3\n",
    "#     2. num2 is greater than num1 and num3 if num2 is greater than num1 and num3\n",
    "#     3. num3 is greater than num1 and num2 if num3 is greater than num1 and num2\n",
    "\n",
    "#Note:- 1. Do this problem using if - elif - else \n",
    "#       2. Do this using ternary operator\n",
    "\n",
    "# a = a if a>b else b\n",
    "expr if cond1 else expr2 if cond2 else expr3\n"
   ]
  },
  {
   "cell_type": "markdown",
   "metadata": {
    "colab_type": "text",
    "id": "IoOLQMUGdSox"
   },
   "source": [
    "# Loops - for loop, while loop"
   ]
  },
  {
   "cell_type": "code",
   "execution_count": 38,
   "metadata": {
    "colab": {},
    "colab_type": "code",
    "id": "9K23Uld8dQfA"
   },
   "outputs": [
    {
     "name": "stdout",
     "output_type": "stream",
     "text": [
      "Enter a string: this is true\n",
      "12\n"
     ]
    }
   ],
   "source": [
    "#Write a Python program to find the length of the my_str using loop:-\n",
    "\n",
    "#Input:- 'Write a Python program to find the length of the my_str'\n",
    "#Output:- 55\n",
    "\n",
    "def find_length(string):\n",
    "    length = 0\n",
    "    for i in string:\n",
    "        length += 1\n",
    "    return length\n",
    "\n",
    "string = input('Enter a string: ')\n",
    "print(find_length(string))"
   ]
  },
  {
   "cell_type": "code",
   "execution_count": 39,
   "metadata": {
    "colab": {},
    "colab_type": "code",
    "id": "bp6AcqTsdYxy"
   },
   "outputs": [
    {
     "name": "stdout",
     "output_type": "stream",
     "text": [
      "9\n"
     ]
    }
   ],
   "source": [
    "#Write a Python program to find the total number of times letter 'p' is appeared in the below string using loop:-\n",
    "    \n",
    "#Input:- 'peter piper picked a peck of pickled peppers.\\n'\n",
    "#Output:- 9\n",
    "\n",
    "def count_occurance(input_str, letter):\n",
    "    count = 0\n",
    "    for i in input_str:\n",
    "        if i == letter:\n",
    "            count += 1\n",
    "    return count\n",
    "\n",
    "input_str = 'peter piper picked a peck of pickled peppers.\\n'\n",
    "print(count_occurance(input_str, 'p'))"
   ]
  },
  {
   "cell_type": "code",
   "execution_count": 49,
   "metadata": {
    "colab": {},
    "colab_type": "code",
    "id": "xvxSBhTJdav1"
   },
   "outputs": [
    {
     "name": "stdout",
     "output_type": "stream",
     "text": [
      "0\n",
      "6\n",
      "8\n",
      "12\n",
      "21\n",
      "29\n",
      "37\n",
      "39\n",
      "40\n"
     ]
    }
   ],
   "source": [
    "#Write a Python Program, to print all the indexes of all occurences of letter 'p' appeared in the string using loop:-\n",
    "    \n",
    "#Input:- 'peter piper picked a peck of pickled peppers.'\n",
    "#Output:- \n",
    "# 0\n",
    "# 6\n",
    "# 8\n",
    "# 12\n",
    "# 21\n",
    "# 29\n",
    "# 37\n",
    "# 39\n",
    "# 40\n",
    "\n",
    "input_str = 'peter piper picked a peck of pickled peppers.'\n",
    "current_index = -1\n",
    "new_index = 0\n",
    "while new_index >= 0 :\n",
    "    new_index = input_str.find('p',current_index + 1)\n",
    "    if new_index >= 0:\n",
    "        print(new_index)\n",
    "    current_index = new_index"
   ]
  },
  {
   "cell_type": "code",
   "execution_count": 51,
   "metadata": {
    "colab": {},
    "colab_type": "code",
    "id": "79L_feMadbmw"
   },
   "outputs": [
    {
     "name": "stdout",
     "output_type": "stream",
     "text": [
      "['peter', 'piper', 'picked', 'a', 'peck', 'of', 'pickled', 'peppers.']\n"
     ]
    }
   ],
   "source": [
    "#Write a python program to find below output using loop:-\n",
    "\n",
    "#Input:- 'peter piper picked a peck of pickled peppers.'\n",
    "#Output:- ['peter', 'piper', 'picked', 'a', 'peck', 'of', 'pickled', 'peppers']\n",
    "\n",
    "input_string = 'peter piper picked a peck of pickled peppers.'\n",
    "output_list = []\n",
    "new_str = ''\n",
    "for i in range(len(input_string)):\n",
    "    if input_string[i] == ' ':\n",
    "        output_list.append(new_str)\n",
    "        new_str = ''\n",
    "    else:\n",
    "        new_str += input_string[i]\n",
    "output_list.append(new_str)\n",
    "\n",
    "print(output_list)"
   ]
  },
  {
   "cell_type": "code",
   "execution_count": 73,
   "metadata": {
    "colab": {},
    "colab_type": "code",
    "id": "vzs5AJ53deVS"
   },
   "outputs": [
    {
     "name": "stdout",
     "output_type": "stream",
     "text": [
      "peppers. pickled of peck a picked piper peter \n"
     ]
    }
   ],
   "source": [
    "#Write a python program to find below output using loop:-\n",
    "\n",
    "#Input:- 'peter piper picked a peck of pickled peppers.'\n",
    "#Output:- 'peppers pickled of peck a picked piper peter'\n",
    "\n",
    "input_string = 'peter piper picked a peck of pickled peppers.'\n",
    "output_list = []\n",
    "new_str = ''\n",
    "for i in range(len(input_string)):\n",
    "    if input_string[i] == ' ':\n",
    "        output_list.append(new_str)\n",
    "        new_str = ''\n",
    "    else:\n",
    "        new_str += input_string[i]\n",
    "output_list.append(new_str)\n",
    "new_str = ''\n",
    "\n",
    "for i in range(-1,-len(output_list)-1,-1):\n",
    "    new_str += output_list[i] + ' '\n",
    "\n",
    "print(new_str)"
   ]
  },
  {
   "cell_type": "code",
   "execution_count": 61,
   "metadata": {
    "colab": {},
    "colab_type": "code",
    "id": "i-HP7DrCdhwS"
   },
   "outputs": [
    {
     "name": "stdout",
     "output_type": "stream",
     "text": [
      ".sreppep delkcip fo kcep a dekcip repip retep\n"
     ]
    }
   ],
   "source": [
    "#Write a python program to find below output using loop:-\n",
    "\n",
    "#Input:- 'peter piper picked a peck of pickled peppers.'\n",
    "#Output:- '.sreppep delkcip fo kcep a dekcip repip retep'\n",
    "\n",
    "input_str = 'peter piper picked a peck of pickled peppers.'\n",
    "new_string = ''\n",
    "for i in range(len(input_str)-1,-1,-1):\n",
    "    new_string += input_str[i]\n",
    "print(new_string)"
   ]
  },
  {
   "cell_type": "code",
   "execution_count": 78,
   "metadata": {
    "colab": {},
    "colab_type": "code",
    "id": "3rt6p0ytdkq0"
   },
   "outputs": [
    {
     "name": "stdout",
     "output_type": "stream",
     "text": [
      "retep repip dekcip a kcep fo delkcip .sreppep\n"
     ]
    }
   ],
   "source": [
    "#Write a python program to find below output using loop:-\n",
    "\n",
    "#Input:- 'peter piper picked a peck of pickled peppers.'\n",
    "#Output:- 'retep repip dekcip a kcep fo delkcip sreppep'\n",
    "\n",
    "input_str = 'peter piper picked a peck of pickled peppers.'\n",
    "\n",
    "output_list = []\n",
    "new_str = ''\n",
    "for i in range(len(input_string)):\n",
    "    if input_string[i] == ' ':\n",
    "        output_list.append(new_str)\n",
    "        new_str = ''\n",
    "    else:\n",
    "        new_str = input_string[i] + new_str\n",
    "output_list.append(new_str)\n",
    "\n",
    "print(' '.join(output_list))\n"
   ]
  },
  {
   "cell_type": "code",
   "execution_count": 82,
   "metadata": {
    "colab": {},
    "colab_type": "code",
    "id": "HdlAWgT2dnKO"
   },
   "outputs": [
    {
     "name": "stdout",
     "output_type": "stream",
     "text": [
      "Peter Piper Picked A Peck Of Pickled Peppers.\n"
     ]
    }
   ],
   "source": [
    "#Write a python program to find below output using loop:-\n",
    "\n",
    "#Input:- 'peter piper picked a peck of pickled peppers.'\n",
    "#Output:- 'Peter Piper Picked A Peck Of Pickled Peppers'\n",
    "\n",
    "input_str = 'peter piper picked a peck of pickled peppers.'\n",
    "output_str = ''\n",
    "\n",
    "for i in range(len(input_str)):\n",
    "    if i == 0 or input_str[i-1] == ' ':\n",
    "        output_str += input_str[i].upper()\n",
    "    else:\n",
    "        output_str += input_str[i]\n",
    "        \n",
    "print(output_str)"
   ]
  },
  {
   "cell_type": "code",
   "execution_count": 84,
   "metadata": {
    "colab": {},
    "colab_type": "code",
    "id": "OthUuacodrNl"
   },
   "outputs": [
    {
     "name": "stdout",
     "output_type": "stream",
     "text": [
      "Peter piper picked a peck of pickled peppers.\n"
     ]
    }
   ],
   "source": [
    "#Write a python program to find below output using loop:-\n",
    "\n",
    "#Input:- 'Peter Piper Picked A Peck Of Pickled Peppers.'\n",
    "#Output:- 'Peter piper picked a peck of pickled peppers'\n",
    "\n",
    "input_str = 'Peter Piper Picked A Peck Of Pickled Peppers.'\n",
    "out_str = ''\n",
    "\n",
    "for i in range(len(input_str)):\n",
    "    if i == 0 or input_str.islower():\n",
    "        out_str += input_str[i]\n",
    "    else:\n",
    "        out_str += input_str[i].lower()\n",
    "        \n",
    "print(out_str)"
   ]
  },
  {
   "cell_type": "code",
   "execution_count": 98,
   "metadata": {
    "colab": {
     "base_uri": "https://localhost:8080/",
     "height": 34
    },
    "colab_type": "code",
    "id": "scmDJE-ldsI9",
    "outputId": "4b1d1979-9f4a-4bc6-c505-b88b1bbd4d5d"
   },
   "outputs": [
    {
     "name": "stdout",
     "output_type": "stream",
     "text": [
      "29\n"
     ]
    }
   ],
   "source": [
    "#Write a python program to implement index method using loop. If sub_str is found in my_str then it will print the index\n",
    "# of first occurrence of first character of matching string in my_str:-\n",
    "\n",
    "#Input:- my_str = 'Peter Piper Picked A Peck Of Pickled Peppers.', sub_str = 'Pickl'\n",
    "#Output:- 29\n",
    "\n",
    "my_str = 'Peter Piper Picked A Peck Of Pickled Peppers.'\n",
    "sub_str = 'Pickl'\n",
    "sub_str_len = len(sub_str)\n",
    "index = -1\n",
    "\n",
    "for i in range(len(my_str)):\n",
    "    if my_str[i:i+sub_str_len] == sub_str:\n",
    "        index = i\n",
    "    \n",
    "if index > -1:\n",
    "    print(index)\n",
    "else:\n",
    "    print('substring not found')\n",
    "    \n"
   ]
  },
  {
   "cell_type": "code",
   "execution_count": 109,
   "metadata": {
    "colab": {},
    "colab_type": "code",
    "id": "Kq_fwdb_dvYE"
   },
   "outputs": [
    {
     "name": "stdout",
     "output_type": "stream",
     "text": [
      "Peter Piper Picked A Pack Of Pickled Peppers.\n"
     ]
    }
   ],
   "source": [
    "#Write a python program to implement replace method using loop. If sub_str is found in my_str then it will replace the first \n",
    "#occurrence of sub_str with new_str else it will will print sub_str not found:-\n",
    "\n",
    "#Input:- my_str = 'Peter Piper Picked A Peck Of Pickled Peppers.', sub_str = 'Peck', new_str = 'Pack'\n",
    "#Output:- 'Peter Piper Picked A Pack Of Pickled Peppers.'\n",
    "\n",
    "my_str = 'Peter Piper Picked A Peck Of Pickled Peppers.'\n",
    "sub_str = 'Peck'\n",
    "new_str = 'Pack'\n",
    "sub_str_len = len(sub_str)\n",
    "index = -1\n",
    "\n",
    "for i in range(len(my_str)):\n",
    "    if my_str[i:i+sub_str_len] == sub_str:\n",
    "        index = i\n",
    "        break\n",
    "\n",
    "if index > -1:\n",
    "    out_str = my_str[0:index] + new_str + my_str[index+sub_str_len::]\n",
    "    print(out_str)\n",
    "else:\n",
    "    print('substring not found')\n"
   ]
  },
  {
   "cell_type": "code",
   "execution_count": 110,
   "metadata": {
    "colab": {},
    "colab_type": "code",
    "id": "4Qes5D0cdyd1"
   },
   "outputs": [
    {
     "name": "stdout",
     "output_type": "stream",
     "text": [
      "**********************Peck********************\n"
     ]
    }
   ],
   "source": [
    "#Write a python program to find below output (implements rjust and ljust) using loop:-\n",
    "\n",
    "#Input:- 'Peter Piper Picked A Peck Of Pickled Peppers.', sub_str = 'Peck', \n",
    "#Output:- '*********************Peck********************'\n",
    "\n",
    "my_str = 'Peter Piper Picked A Peck Of Pickled Peppers.'\n",
    "sub_str = 'Peck'\n",
    "new_str = ''\n",
    "sub_str_len = len(sub_str)\n",
    "index = -1\n",
    "\n",
    "while index <= len(my_str)-1:\n",
    "    if my_str[index:index+sub_str_len] == sub_str:\n",
    "        new_str += sub_str\n",
    "        index = index+sub_str_len\n",
    "    else:\n",
    "        new_str += '*'\n",
    "        index += 1\n",
    "        \n",
    "print(new_str)\n"
   ]
  },
  {
   "cell_type": "code",
   "execution_count": 120,
   "metadata": {
    "colab": {},
    "colab_type": "code",
    "id": "DsOrb07Od0lR"
   },
   "outputs": [
    {
     "name": "stdout",
     "output_type": "stream",
     "text": [
      "['This', 'is', 'Python class']\n"
     ]
    }
   ],
   "source": [
    "#Write a python program to find below output using loop:-\n",
    "\n",
    "#Input:- 'This is Python class', sep = 'is', \n",
    "#Output:- ['This', 'is', 'Python class']\n",
    "\n",
    "my_str = 'This is Python class'\n",
    "sep = 'is'\n",
    "sep_len = len(sep)\n",
    "index = 0\n",
    "start = 0\n",
    "my_list = []\n",
    "\n",
    "while index <= len(my_str)-1:\n",
    "    if my_str[index:index+sep_len] == sep:\n",
    "        my_list.append((my_str[start:index+sep_len+1]).strip())\n",
    "        index = index+sep_len\n",
    "        start = index\n",
    "    else:\n",
    "        index += 1\n",
    "\n",
    "my_list.append((my_str[start:]).strip())\n",
    "print(my_list)"
   ]
  },
  {
   "cell_type": "code",
   "execution_count": 140,
   "metadata": {
    "colab": {},
    "colab_type": "code",
    "id": "jRnBVufmd2Ay"
   },
   "outputs": [
    {
     "name": "stdout",
     "output_type": "stream",
     "text": [
      "R{vjqp\n",
      "Rwvfql\n",
      "R{vfml\n"
     ]
    }
   ],
   "source": [
    "#Write a python program which takes one input string from user and encode it in below format:-\n",
    "\n",
    "# 1. #Input:- 'Python'\n",
    "       #Output:- 'R{vjqp'\n",
    "    \n",
    "    # 2. #Input:- 'Python'\n",
    "       #Output:- 'Rwvfql'\n",
    "        \n",
    "    # 3. #Input:- 'Python'\n",
    "       #Output:- 'R{vkfml'\n",
    "\n",
    "inp = 'Python'\n",
    "\n",
    "out1 = ''\n",
    "out2 = ''\n",
    "out3 = ''\n",
    "\n",
    "for char in inp:\n",
    "    out1 += chr(ord(char)+2)\n",
    "    \n",
    "for i in range(len(inp)):\n",
    "    if i % 2 == 0:\n",
    "        out2 += chr(ord(inp[i])+2)\n",
    "    else:\n",
    "        out2 += chr(ord(inp[i])-2)\n",
    "                \n",
    "for i in range(len(inp)):\n",
    "    if i < 3:\n",
    "        out3 += chr(ord(inp[i])+2)\n",
    "    else:\n",
    "        out3 += chr(ord(inp[i])-2)\n",
    "\n",
    "print(out1)\n",
    "print(out2)\n",
    "print(out3)"
   ]
  }
 ],
 "metadata": {
  "colab": {
   "name": "Conditional_and_loop_assignment.ipynb",
   "provenance": []
  },
  "kernelspec": {
   "display_name": "Python 3",
   "language": "python",
   "name": "python3"
  },
  "language_info": {
   "codemirror_mode": {
    "name": "ipython",
    "version": 3
   },
   "file_extension": ".py",
   "mimetype": "text/x-python",
   "name": "python",
   "nbconvert_exporter": "python",
   "pygments_lexer": "ipython3",
   "version": "3.8.3"
  }
 },
 "nbformat": 4,
 "nbformat_minor": 1
}
