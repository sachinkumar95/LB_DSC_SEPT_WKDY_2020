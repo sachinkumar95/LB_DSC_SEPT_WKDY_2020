{
 "cells": [
  {
   "cell_type": "code",
   "execution_count": 1,
   "metadata": {
    "colab": {},
    "colab_type": "code",
    "id": "dlrMB-Qy2taV"
   },
   "outputs": [
    {
     "name": "stdout",
     "output_type": "stream",
     "text": [
      "<class 'float'> 4404437520\n"
     ]
    }
   ],
   "source": [
    "#Declare a float value and store it in a variable. \n",
    "\n",
    "my_variable=2.666\n",
    "\n",
    "\n",
    "\n",
    "#Check the type and print the id of the same.\n",
    "\n",
    "print(type(my_variable) , id(my_variable))\n"
   ]
  },
  {
   "cell_type": "code",
   "execution_count": 21,
   "metadata": {
    "colab": {},
    "colab_type": "code",
    "id": "IL4fVDHg2wbI"
   },
   "outputs": [
    {
     "name": "stdout",
     "output_type": "stream",
     "text": [
      "20.4\n",
      "4.299999999999999\n",
      "99.4175\n",
      "1.5341614906832297\n",
      "4.299999999999999\n",
      "1.0\n",
      "613647555.6760186\n"
     ]
    }
   ],
   "source": [
    "#Arithmatic Operations on float\n",
    "\n",
    "\n",
    "#Take two different float values.\n",
    "#Store them in two different variables.\n",
    "num1=12.35\n",
    "num2=8.05\n",
    "\n",
    "#Do below operations on them:-\n",
    "\n",
    "\n",
    "    #Find sum of both numbers\n",
    "x=num1+num2\n",
    "print(x)\n",
    "    \n",
    "\n",
    "    #Find differce between them\n",
    "y=num1-num2\n",
    "print(y)\n",
    "    \n",
    "    \n",
    "    #Find the product of both numbers.\n",
    "z=num1*num2\n",
    "print(z)\n",
    "    \n",
    "\n",
    "    #Find value after dividing first num with second number\n",
    "div=num1/num2\n",
    "print(div)\n",
    "\n",
    "    #Find the remainder after dividing first number with second number\n",
    "Remainder=num1%num2\n",
    "print(Remainder)\n",
    "\n",
    "    #Find the quotient after dividing first number with second number\n",
    "quotient=num1//num2\n",
    "print(quotient)\n",
    "\n",
    "    #Find the result of first num to the power of second number.\n",
    "power=num1**num2\n",
    "print(power)"
   ]
  },
  {
   "cell_type": "code",
   "execution_count": 30,
   "metadata": {
    "colab": {},
    "colab_type": "code",
    "id": "atCFaH6c2492"
   },
   "outputs": [
    {
     "name": "stdout",
     "output_type": "stream",
     "text": [
      "False\n",
      "True\n",
      "False\n",
      "True\n"
     ]
    }
   ],
   "source": [
    "#Comparison Operators on float\n",
    "#Take two different float values.\n",
    "#Store them in two different variables.\n",
    "num3=10.50\n",
    "num4=15.25\n",
    "#Do below operations on them:-\n",
    "    #Compare these two numbers with below operator:-\n",
    "        #Greater than, '>'\n",
    "a=num3>num4\n",
    "print(a)\n",
    "\n",
    "        #Smaller than, '<'\n",
    "\n",
    "b=num3<num4\n",
    "print(b)\n",
    "\n",
    "        #Greater than or equal to, '>='\n",
    "c=num3>=num4\n",
    "print(c)\n",
    "\n",
    "        #Less than or equal to, '<='\n",
    "d=num3<=num4\n",
    "print(d)\n",
    "\n",
    "#Observe their output(return type should be boolean)\n",
    "\n",
    "\n",
    "\n",
    "\n",
    "\n",
    "\n",
    "\n",
    "\n"
   ]
  },
  {
   "cell_type": "code",
   "execution_count": 31,
   "metadata": {
    "colab": {},
    "colab_type": "code",
    "id": "agi3U3863A5i"
   },
   "outputs": [
    {
     "name": "stdout",
     "output_type": "stream",
     "text": [
      "False\n",
      "True\n"
     ]
    }
   ],
   "source": [
    "#Equality Operator\n",
    "#Take two different float values.\n",
    "#Store them in two different variables.\n",
    "num5=13.89\n",
    "num6=23.67\n",
    "#Equuate them using equality operator (==, !=)\n",
    "e=num5==num6\n",
    "print(e)\n",
    "\n",
    "f=num5!=num6\n",
    "print(f)\n",
    "#Observe the output(return type should be boolean)\n",
    "\n",
    "\n",
    "\n",
    "\n",
    "\n",
    "\n"
   ]
  },
  {
   "cell_type": "code",
   "execution_count": 2,
   "metadata": {
    "colab": {},
    "colab_type": "code",
    "id": "3HLlgaEt3EnJ"
   },
   "outputs": [
    {
     "name": "stdout",
     "output_type": "stream",
     "text": [
      "20.3\n",
      "0.0\n",
      "0.0\n",
      "0.0\n",
      "10.2\n",
      "20.3\n",
      "20.3\n",
      "0.0\n",
      "False\n",
      "True\n"
     ]
    }
   ],
   "source": [
    "#Logical operators\n",
    "#Observe the output of below code\n",
    "#Cross check the output manually\n",
    "\n",
    "print(10.20 and 20.30)       #both are true and second value taken >Output is 20.3\n",
    "print(0.0 and 20.30)         #First is false so first value taken->Output is 0.0\n",
    "print(20.30 and 0.0)         #Goes to till second and second value is false so second is taken>Output is 0.0\n",
    "print(0.0 and 0.0)           #First is false so first value is taken->Output is 0.0\n",
    "\n",
    "print(10.20 or 20.30)        #First is True so first value is taken>Output is 10.2\n",
    "print(0.0 or 20.30)          #Goes to till second and second is true second value is taken->Output is 20.3\n",
    "print(20.30 or 0.0)          #First is True so first value is taken->Output is 20.3\n",
    "print(0.0 or 0.0)            #Goes to till second and secod is also false and second value is taken>Output is 0.0\n",
    "\n",
    "print(not 10.20)             #-Not of true is false->Output is False\n",
    "print(not 0.0)               #Not of false is True>Output is True"
   ]
  },
  {
   "cell_type": "code",
   "execution_count": 5,
   "metadata": {
    "colab": {},
    "colab_type": "code",
    "id": "7YdyRNtk3UZd"
   },
   "outputs": [
    {
     "name": "stdout",
     "output_type": "stream",
     "text": [
      "False\n",
      "True\n",
      "4404884432\n",
      "4404886000\n"
     ]
    }
   ],
   "source": [
    "#What is the output of expression inside print statement. Cross check before running the program.\n",
    "a = 10.20\n",
    "b = 10.20\n",
    "print(a is b)          #True or False? True 10.20<256\n",
    "print(a is not b)      #True or False? False\n",
    "\n",
    "print(id(a))\n",
    "print(id(b))\n",
    "\n",
    "# Why the Id of float values are different when the same value is assigned to two different variables\n",
    "# ex: a = 10.5 b=10.5. but id will be same if I assign the variable having float i.e. a=c then both a anc c's\n",
    "# Id are same\n"
   ]
  },
  {
   "cell_type": "code",
   "execution_count": null,
   "metadata": {
    "colab": {},
    "colab_type": "code",
    "id": "iTvnIMLd3VLW"
   },
   "outputs": [],
   "source": [
    "#Bitwise operation is not applicable between instances of float.\n",
    "## Why the Id of float values are different when the same value is assigned to two different variables\n",
    "## ex: a = 10.5 b=10.5. but id will be same if I assign the variable having float i.e. a=c then both a anc c's\n",
    "## Id are same\n",
    "#Object reusability concept is not applicable on float values."
   ]
  },
  {
   "cell_type": "code",
   "execution_count": 6,
   "metadata": {
    "colab": {},
    "colab_type": "code",
    "id": "29AVJHpx3YUo"
   },
   "outputs": [
    {
     "name": "stdout",
     "output_type": "stream",
     "text": [
      "True\n",
      "True\n",
      "True\n",
      "True\n",
      "True\n",
      "True\n"
     ]
    }
   ],
   "source": [
    "#Membership operation\n",
    "#in, not in are two membership operators and it returns boolean value\n",
    "\n",
    "print('2.7' in 'Python2.7.8')              #True\n",
    "print(10.20 in [10,10.20,10+20j,'Python']) #True\n",
    "print(10.20 in (10,10.20,10+20j,'Python')) # True\n",
    "print(20.30 in {1,20.30,30+40j})           # True\n",
    "print(2.3 in {1:100, 2.3:200, 30+40j:300}) # True\n",
    "print(10 in range(20))                     # True"
   ]
  },
  {
   "cell_type": "code",
   "execution_count": null,
   "metadata": {},
   "outputs": [],
   "source": []
  }
 ],
 "metadata": {
  "colab": {
   "name": "float_assignment.ipynb",
   "provenance": []
  },
  "kernelspec": {
   "display_name": "Python 3",
   "language": "python",
   "name": "python3"
  },
  "language_info": {
   "codemirror_mode": {
    "name": "ipython",
    "version": 3
   },
   "file_extension": ".py",
   "mimetype": "text/x-python",
   "name": "python",
   "nbconvert_exporter": "python",
   "pygments_lexer": "ipython3",
   "version": "3.7.6"
  }
 },
 "nbformat": 4,
 "nbformat_minor": 1
}
