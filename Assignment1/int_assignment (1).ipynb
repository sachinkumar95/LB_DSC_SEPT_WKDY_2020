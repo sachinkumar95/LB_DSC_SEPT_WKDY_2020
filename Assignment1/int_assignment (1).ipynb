{
 "cells": [
  {
   "cell_type": "code",
   "execution_count": 1,
   "metadata": {
    "colab": {},
    "colab_type": "code",
    "id": "8A5Jw5NR1iEI"
   },
   "outputs": [
    {
     "name": "stdout",
     "output_type": "stream",
     "text": [
      "<class 'int'> 4312570720\n"
     ]
    }
   ],
   "source": [
    "#Declare an int value and store it in a variable. \n",
    "\n",
    "x=56\n",
    "\n",
    "#Check the type and print the id of the same.\n",
    "print(type(x), id(x))\n"
   ]
  },
  {
   "cell_type": "code",
   "execution_count": 3,
   "metadata": {
    "colab": {},
    "colab_type": "code",
    "id": "0YU8LFTn1rAX"
   },
   "outputs": [
    {
     "name": "stdout",
     "output_type": "stream",
     "text": [
      "4312570208\n",
      "4312570208\n",
      "4353014448\n",
      "4353014768\n"
     ]
    }
   ],
   "source": [
    "#Take one int value between 0 - 256.\n",
    "#Assign it to two different variables.\n",
    "a=40\n",
    "b=40\n",
    "print(id(a))\n",
    "print(id(b))\n",
    "#Check the id of both the variables. It should come same. Check why?\n",
    "# Since integer in range -5 to 256 follow object reusability concept. Python will allocate the same memory address in this scenario.\n",
    "\n",
    "\n",
    "\n",
    "#Take one int value either less than -5 or greater than 256.\n",
    "#Assign it to two different variables.\n",
    "c=500\n",
    "d=500\n",
    "print(id(c))\n",
    "print(id(d))\n",
    "#Check the id of both the variables. It should come different.Check why?\n",
    "#Since integer does not fall in range -5 to 256, so it does not follow object reusability concept.\n",
    "\n",
    "\n"
   ]
  },
  {
   "cell_type": "code",
   "execution_count": 4,
   "metadata": {
    "colab": {},
    "colab_type": "code",
    "id": "YzEIG0ZZ1tSK"
   },
   "outputs": [
    {
     "name": "stdout",
     "output_type": "stream",
     "text": [
      "370\n",
      "130\n",
      "30000\n",
      "2.0833333333333335\n",
      "10\n",
      "2\n",
      "565979942426669522969319955680486986292658199883696136848913430620968832412052819671220715747559881215872027456054864353492670804579578458515243255533277988433837890625000000000000000000000000000000000000000000000000000000000000000000000000000000000000000000000000000000000000000000000000\n"
     ]
    }
   ],
   "source": [
    "#Arithmatic Operations on integers\n",
    "#Take two different intger values.\n",
    "#Store them in two different variables.\n",
    "e=250\n",
    "f=120\n",
    "#Do below operations on them:-\n",
    "    #Find sum of both numbers\n",
    "g=e+f\n",
    "print(g)\n",
    "    #Find differce between them\n",
    "h=e-f\n",
    "print(h)\n",
    "    #Find the product of both numbers.\n",
    "i=e*f\n",
    "print(i)\n",
    "    #Find value after dividing first num with second number\n",
    "div=e/f\n",
    "print(div)\n",
    "    #Find the remainder after dividing first number with second number\n",
    "remainder=e%f\n",
    "print(remainder)\n",
    "    #Find the quotient after dividing first number with second number\n",
    "quotient=e//f\n",
    "print(quotient)\n",
    "    #Find the result of first num to the power of second number.\n",
    "power=e**f\n",
    "print(power)"
   ]
  },
  {
   "cell_type": "code",
   "execution_count": 5,
   "metadata": {
    "colab": {},
    "colab_type": "code",
    "id": "GGM7CdzA1wGn"
   },
   "outputs": [
    {
     "name": "stdout",
     "output_type": "stream",
     "text": [
      "False\n",
      "True\n",
      "False\n",
      "True\n"
     ]
    }
   ],
   "source": [
    "#Comparison Operators on integers\n",
    "#Take two different intger values.\n",
    "j=80\n",
    "k=100\n",
    "#Store them in two different variables.\n",
    "#Do below operations on them:-\n",
    "    #Compare se two numbers with below operator:-\n",
    "        #Greater than, '>'\n",
    "l=j>k\n",
    "print(l)\n",
    "        #Smaller than, '<'\n",
    "m=j<k\n",
    "print(m)\n",
    "        #Greater than or equal to, '>='\n",
    "n=j>=k\n",
    "print(n)\n",
    "        #Less than or equal to, '<='\n",
    "o=j<=k\n",
    "print(o)\n",
    "#Observe their output(return type should be boolean)"
   ]
  },
  {
   "cell_type": "code",
   "execution_count": 6,
   "metadata": {
    "colab": {},
    "colab_type": "code",
    "id": "9x904sUE1y9t"
   },
   "outputs": [
    {
     "name": "stdout",
     "output_type": "stream",
     "text": [
      "False\n",
      "True\n"
     ]
    }
   ],
   "source": [
    "#Equality Operator\n",
    "#Take two different intger values.\n",
    "p=40\n",
    "q=45\n",
    "#Store them in two different variables.\n",
    "#Equuate them using equality operator (==, !=)\n",
    "r=p==q\n",
    "print(r)\n",
    "\n",
    "s=p!=q\n",
    "print(s)\n",
    "#Observe the output(return type should be boolean)"
   ]
  },
  {
   "cell_type": "code",
   "execution_count": 7,
   "metadata": {
    "colab": {},
    "colab_type": "code",
    "id": "JmQFHUwc11S-"
   },
   "outputs": [
    {
     "name": "stdout",
     "output_type": "stream",
     "text": [
      "20\n",
      "0\n",
      "0\n",
      "0\n",
      "10\n",
      "20\n",
      "20\n",
      "0\n",
      "False\n",
      "True\n"
     ]
    }
   ],
   "source": [
    "#Logical operators\n",
    "#Observe the output of below code\n",
    "#Cross check the output manually\n",
    "\n",
    "print(10 and 20)       #----------------------------------------->Output is 20\n",
    "print(0 and 20)        #----------------------------------------->Output is 0\n",
    "print(20 and 0)        #----------------------------------------->Output is 0\n",
    "print(0 and 0)         #----------------------------------------->Output is 0\n",
    "\n",
    "print(10 or 20)        #----------------------------------------->Output is 10\n",
    "print(0 or 20)         #----------------------------------------->Output is 20\n",
    "print(20 or 0)         #----------------------------------------->Output is 20\n",
    "print(0 or 0)          #----------------------------------------->Output is 0\n",
    "\n",
    "print(not 10)          #----------------------------------------->Output is False\n",
    "print(not 0)           #----------------------------------------->Output is True"
   ]
  },
  {
   "cell_type": "code",
   "execution_count": 8,
   "metadata": {
    "colab": {},
    "colab_type": "code",
    "id": "-0tvoulX14Hi"
   },
   "outputs": [
    {
     "name": "stdout",
     "output_type": "stream",
     "text": [
      "0\n",
      "30\n",
      "30\n",
      "-11\n",
      "40\n",
      "2\n"
     ]
    }
   ],
   "source": [
    "#Bitwise Operators\n",
    "#Do below operations on the values provided below:-\n",
    "    #Bitwise and(&) -----------------------------------------> 10, 20   -------> Output is 0\n",
    "print(10&20)\n",
    "    #Bitwise or(|)  -----------------------------------------> 10, 20   -------> Output is 30\n",
    "print(10|20)\n",
    "    #Bitwise(^)     -----------------------------------------> 10, 20   -------> Output is 30\n",
    "print(10^20)\n",
    "    #Bitwise negation(~) ------------------------------------> 10       -------> Output is -11\n",
    "print(~10)\n",
    "    #Bitwise left shift  ------------------------------------> 10,2     -------> Output is 40\n",
    "print(10<<2)\n",
    "    #Bitwise right shift ------------------------------------> 10,2     -------> Output is 2\n",
    "print(10>>2)\n",
    "#Cross check the output manually"
   ]
  },
  {
   "cell_type": "code",
   "execution_count": 9,
   "metadata": {
    "colab": {},
    "colab_type": "code",
    "id": "YCcx-Qx016hg"
   },
   "outputs": [
    {
     "name": "stdout",
     "output_type": "stream",
     "text": [
      "True\n",
      "False\n",
      "False\n",
      "True\n"
     ]
    }
   ],
   "source": [
    "#What is the output of expression inside print statement. Cross check before running the program.\n",
    "a = 10\n",
    "b = 10\n",
    "print(a is b)          #True\n",
    "print(a is not b)      #False\n",
    "\n",
    "a = 1000\n",
    "b = 1000\n",
    "print(a is b)          #False\n",
    "print(a is not b)      #True"
   ]
  },
  {
   "cell_type": "code",
   "execution_count": 10,
   "metadata": {
    "colab": {},
    "colab_type": "code",
    "id": "Un2To3XN1_Il"
   },
   "outputs": [
    {
     "name": "stdout",
     "output_type": "stream",
     "text": [
      "20\n"
     ]
    }
   ],
   "source": [
    "#What is the output of expression inside print statement. Cross check before running the program.\n",
    "print(10+(10*32)//2**5&20+(~(-10))<<2)\n",
    "#20"
   ]
  },
  {
   "cell_type": "code",
   "execution_count": 11,
   "metadata": {
    "colab": {},
    "colab_type": "code",
    "id": "kGRb5RMd1_1I"
   },
   "outputs": [
    {
     "name": "stdout",
     "output_type": "stream",
     "text": [
      "True\n",
      "True\n",
      "True\n",
      "True\n",
      "True\n",
      "True\n"
     ]
    }
   ],
   "source": [
    "#Membership operation\n",
    "#in, not in are two membership operators and it returns boolean value\n",
    "\n",
    "print('2' in 'Python2.7.8')#true\n",
    "print(10 in [10,10.20,10+20j,'Python'])#true\n",
    "print(10 in (10,10.20,10+20j,'Python'))#true\n",
    "print(2 in {1,2,3})#true\n",
    "print(3 in {1:100, 2:200, 3:300})#true\n",
    "print(10 in range(20))#true"
   ]
  },
  {
   "cell_type": "code",
   "execution_count": 17,
   "metadata": {
    "colab": {},
    "colab_type": "code",
    "id": "Es7iSvL92B9W"
   },
   "outputs": [
    {
     "name": "stdout",
     "output_type": "stream",
     "text": [
      "60\n",
      "500\n",
      "64664\n",
      "0b10011010010100\n",
      "0o23224\n",
      "0x2694\n"
     ]
    }
   ],
   "source": [
    "#An integer can be represented in binary, octal or hexadecimal form.\n",
    "#Declare one binary, one octal and one hexadecimal value and store them in three different variables.\n",
    "t=print(0b00111100)\n",
    "u=print(0o764)\n",
    "v=print(0xfc98)\n",
    "#Convert 9876 to its binary, octal and hexadecimal equivalent and print their corresponding value.\n",
    "print(bin(9876))\n",
    "print(oct(9876))\n",
    "print(hex(9876))"
   ]
  },
  {
   "cell_type": "code",
   "execution_count": 12,
   "metadata": {
    "colab": {},
    "colab_type": "code",
    "id": "Hm0r03lH2E0i"
   },
   "outputs": [
    {
     "name": "stdout",
     "output_type": "stream",
     "text": [
      "80\n",
      "3870\n",
      "64222\n",
      "0b1010000\n",
      "0o7436\n",
      "0xfade\n",
      "0b1010000\n",
      "0b1111101011011110\n",
      "0o175336\n",
      "0o7436\n",
      "0x50\n",
      "0xfade\n"
     ]
    }
   ],
   "source": [
    "#What will be the outut of following:-\n",
    "a = 0b1010000\n",
    "print(a) #80\n",
    "\n",
    "b = 0o7436\n",
    "print(b) #3870\n",
    "\n",
    "c = 0xfade\n",
    "print(c) #64222\n",
    "\n",
    "print(bin(80)) #0b1010000\n",
    "\n",
    "print(oct(3870)) #0o7436\n",
    "\n",
    "print(hex(64222)) #0xfade\n",
    "\n",
    "print(bin(0b1010000)) #0b1010000\n",
    "\n",
    "print(bin(0xfade)) #0b1111101011011110\n",
    "\n",
    "print(oct(0xfade)) #0o175336\n",
    "\n",
    "print(oct(0o7436)) #0o7436\n",
    "\n",
    "print(hex(0b1010000)) #0x50\n",
    "\n",
    "print(hex(0xfade)) #0xfade"
   ]
  },
  {
   "cell_type": "code",
   "execution_count": null,
   "metadata": {},
   "outputs": [],
   "source": []
  }
 ],
 "metadata": {
  "colab": {
   "name": "int_assignment.ipynb",
   "provenance": []
  },
  "kernelspec": {
   "display_name": "Python 3",
   "language": "python",
   "name": "python3"
  },
  "language_info": {
   "codemirror_mode": {
    "name": "ipython",
    "version": 3
   },
   "file_extension": ".py",
   "mimetype": "text/x-python",
   "name": "python",
   "nbconvert_exporter": "python",
   "pygments_lexer": "ipython3",
   "version": "3.8.3"
  }
 },
 "nbformat": 4,
 "nbformat_minor": 1
}
