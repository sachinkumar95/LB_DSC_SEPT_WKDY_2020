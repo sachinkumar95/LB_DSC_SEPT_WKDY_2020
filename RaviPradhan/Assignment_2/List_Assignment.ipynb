{
 "cells": [
  {
   "cell_type": "markdown",
   "metadata": {},
   "source": [
    "# List Assignment"
   ]
  },
  {
   "cell_type": "markdown",
   "metadata": {},
   "source": [
    "## 1 - Write a Python program to find the sum of all elements in a list using loop.\n",
    "\n",
    "    Input:- [10,20,30,40]\n",
    "    Output:- 100"
   ]
  },
  {
   "cell_type": "code",
   "execution_count": 37,
   "metadata": {},
   "outputs": [
    {
     "name": "stdout",
     "output_type": "stream",
     "text": [
      "Sum of '[10, 20, 30, 40]' is: 100 \n",
      "\n",
      "Sum of the numbers in the list '[10, 20, 30, 40]' is:\n",
      "100\n"
     ]
    }
   ],
   "source": [
    "lst = [10,20,30,40]\n",
    "\n",
    "print (f\"Sum of '{lst}' is: {sum(lst)} \\n\")\n",
    "\n",
    "add = 0\n",
    "\n",
    "for x in range(len(lst)):\n",
    "    add = add + lst[x]\n",
    "else:\n",
    "    print (f\"Sum of the numbers in the list '{lst}' is:\")\n",
    "\n",
    "print (add)"
   ]
  },
  {
   "cell_type": "markdown",
   "metadata": {},
   "source": [
    "## 2 - Write a Python program to find the multiplication of all elements in a list using loop.\n",
    "\n",
    "    Input:- [10,20,30,40]\n",
    "    Output:- 240000"
   ]
  },
  {
   "cell_type": "code",
   "execution_count": 39,
   "metadata": {},
   "outputs": [
    {
     "name": "stdout",
     "output_type": "stream",
     "text": [
      "Product of the numbers in the list '[10, 20, 30, 40]' is: 240000\n"
     ]
    }
   ],
   "source": [
    "lst = [10,20,30,40]\n",
    "\n",
    "mul = 1\n",
    "\n",
    "for x in range(len(lst)):\n",
    "    mul = mul * lst[x]\n",
    "\n",
    "print (f\"Product of the numbers in the list '{lst}' is: {mul}\")"
   ]
  },
  {
   "cell_type": "markdown",
   "metadata": {},
   "source": [
    "## 3 - Write a Python program to find the largest number from a list using loop.\n",
    "\n",
    "    Input:- [10,100,2321, 1,200,2]\n",
    "    Output:- 2321"
   ]
  },
  {
   "cell_type": "code",
   "execution_count": 31,
   "metadata": {},
   "outputs": [
    {
     "name": "stdout",
     "output_type": "stream",
     "text": [
      "Max of [10, 100, 2321, 1, 200, 2] would be:  2321 \n",
      "\n",
      "Max of numbers in [10, 100, 2321, 1, 200, 2] using loop is 2321\n"
     ]
    }
   ],
   "source": [
    "lst = [10, 100, 2321, 1, 200, 2]\n",
    "\n",
    "print (f'Max of {lst} would be: ', max(lst), '\\n')\n",
    "\n",
    "firstNum = lst[0]\n",
    "\n",
    "for x in lst:\n",
    "    if x > firstNum:\n",
    "        firstNum = x\n",
    "\n",
    "print (f'Max of numbers in {lst} using loop is {firstNum}')"
   ]
  },
  {
   "cell_type": "markdown",
   "metadata": {},
   "source": [
    "## 4 - Write a Python program to find the smallest number from a list using loop.\n",
    "\n",
    "    Input:- [10,100,2321, 1,200,2]\n",
    "    Output:- 1"
   ]
  },
  {
   "cell_type": "code",
   "execution_count": 32,
   "metadata": {},
   "outputs": [
    {
     "name": "stdout",
     "output_type": "stream",
     "text": [
      "Min of [10, 100, 2321, 1, 200, 2] would be:  1 \n",
      "\n",
      "Smallest number in [10, 100, 2321, 1, 200, 2] using loop is 1\n"
     ]
    }
   ],
   "source": [
    "lst = [10, 100, 2321, 1, 200, 2]\n",
    "\n",
    "print (f'Min of {lst} would be: ', min(lst), '\\n')\n",
    "\n",
    "firstNum = lst[0]\n",
    "\n",
    "for x in lst:\n",
    "    if x < firstNum:\n",
    "        firstNum = x\n",
    "\n",
    "print (f'Smallest number in {lst} using loop is {firstNum}')"
   ]
  },
  {
   "cell_type": "markdown",
   "metadata": {},
   "source": [
    "## 5 - Write a Python program to count the number of strings having length more than 2 and are palindrome in a list using loop.\n",
    "\n",
    "    Input:- ['ab', 'abc', 'aba', 'xyz', '1991']\n",
    "    Output:- 2"
   ]
  },
  {
   "cell_type": "code",
   "execution_count": 36,
   "metadata": {},
   "outputs": [
    {
     "name": "stdout",
     "output_type": "stream",
     "text": [
      "Number of palindromes in '['ab', 'abc', 'aba', 'xyz', '1991']' is/are: 2\n"
     ]
    }
   ],
   "source": [
    "lst = ['ab', 'abc', 'aba', 'xyz', '1991']\n",
    "\n",
    "count = 0\n",
    "\n",
    "for char in lst:\n",
    "    if char == char[::-1]:\n",
    "        count += 1\n",
    "print (f\"Number of palindromes in '{lst}' is/are: {count}\")"
   ]
  },
  {
   "cell_type": "markdown",
   "metadata": {},
   "source": [
    "# 6 - Write a Python program to sort a list in ascending order using loop.\n",
    "\n",
    "    Input:- [100,10,1,298,65,483,49876,2,80,9,9213]\n",
    "    Output:- [1,2,9,10,65,80,100,298,483,9213,49876]"
   ]
  },
  {
   "cell_type": "code",
   "execution_count": 6,
   "metadata": {},
   "outputs": [
    {
     "name": "stdout",
     "output_type": "stream",
     "text": [
      "The sorted list in ascending order using sort method is [1, 2, 9, 10, 65, 80, 100, 298, 483, 9213, 49876]\n",
      "The sorted list in ascending order using nested for loop is [1, 2, 9, 10, 65, 80, 100, 298, 483, 9213, 49876]\n",
      "The sorted list in ascending order using for & while loop is [1, 2, 9, 10, 65, 80, 100, 298, 483, 9213, 49876]\n"
     ]
    }
   ],
   "source": [
    "lst = [100, 10, 1, 298, 65, 483, 49876, 2, 80, 9, 9213]\n",
    "\n",
    "lst.sort()\n",
    "print(f'The sorted list in ascending order using sort method is {lst}')\n",
    "\n",
    "t = 0\n",
    "\n",
    "for i in range(0, len(lst)):\n",
    "    for j in range (i+1, len(lst)):\n",
    "        if lst[i] > lst[j]:\n",
    "            t = lst[i]\n",
    "            lst[i] = lst[j]\n",
    "            lst[j] = t\n",
    "print(f'The sorted list in ascending order using nested for loop is {lst}')\n",
    "\n",
    "for j in range(len(lst)):\n",
    "    swapped = False\n",
    "    i = 0\n",
    "    while i<len(lst)-1:\n",
    "        if lst[i]>lst[i+1]:\n",
    "            lst[i],lst[i+1] = lst[i+1],lst[i]\n",
    "            swapped = True\n",
    "        i = i+1\n",
    "    if swapped == False:\n",
    "        break\n",
    "print (f'The sorted list in ascending order using for & while loop is {lst}')\n"
   ]
  },
  {
   "cell_type": "markdown",
   "metadata": {},
   "source": [
    "# 7 - Write a Python program to get a sorted list in increasing order of last element in each tuple in a given list using loop.\n",
    "\n",
    "    Input:- [(5,4),(9,1),(2,3),(5,9),(7,6),(5,5)]\n",
    "    output:- [(9,1),(2,3),(5,4),(5,5),(7,6),(5,9)]"
   ]
  },
  {
   "cell_type": "code",
   "execution_count": 7,
   "metadata": {},
   "outputs": [
    {
     "name": "stdout",
     "output_type": "stream",
     "text": [
      "The sorted list in ascending order is [(9, 1), (2, 3), (5, 4), (5, 5), (7, 6), (5, 9)]\n",
      "The sorted list in ascending order using nested for loop is [(9, 1), (2, 3), (5, 4), (5, 5), (7, 6), (5, 9)]\n"
     ]
    }
   ],
   "source": [
    "tplst = [(5,4),(9,1),(2,3),(5,9),(7,6),(5,5)]\n",
    "\n",
    "tplst.sort(key = lambda x: x[1])\n",
    "print(f'The sorted list in ascending order is {tplst}')\n",
    "\n",
    "# tplst.sort(key = lambda x: x[1], reverse = True)          # In descending order (NOT Part of this question)\n",
    "# print(f'The sorted list in ascending order is {tplst}')\n",
    "\n",
    "\n",
    "# Using loop\n",
    "    \n",
    "new_tplst = []\n",
    "for i in range(0, len(tplst)):\n",
    "    for j in range (0, len(tplst)-1):\n",
    "        if tplst[j][1] > tplst[j+1][1]:\n",
    "            new_tplst = tplst[j][1]\n",
    "            tplst[j][1] = tplst[j+1][1]\n",
    "            tplst[j+1][1] = new_tplst\n",
    "print(f'The sorted list in ascending order using nested for loop is {tplst}')"
   ]
  },
  {
   "cell_type": "markdown",
   "metadata": {},
   "source": [
    "# 8 - Write a Python program to remove duplicate element from a list using loop.\n",
    "\n",
    "    Input:- [10,1,11,1,29,876,768,10,11,1,92,29,876]\n",
    "    Output:- [10,1,11,29,876,768,92]"
   ]
  },
  {
   "cell_type": "code",
   "execution_count": 22,
   "metadata": {},
   "outputs": [
    {
     "name": "stdout",
     "output_type": "stream",
     "text": [
      "[768, 1, 10, 11, 876, 92, 29]\n",
      "[10, 1, 11, 29, 876, 768, 92]\n"
     ]
    }
   ],
   "source": [
    "lst = [10,1,11,1,29,876,768,10,11,1,92,29,876]\n",
    "\n",
    "# using set\n",
    "\n",
    "a = list(set(lst))\n",
    "print(a)\n",
    "\n",
    "\n",
    "# using loop\n",
    "\n",
    "un_lst = []\n",
    "for i in lst:\n",
    "    if i not in un_lst:\n",
    "        un_lst.append(i)\n",
    "print (un_lst)"
   ]
  },
  {
   "cell_type": "markdown",
   "metadata": {},
   "source": [
    "# 9 - Write a Python program to check a list is empty or not? - (CONFUSION)\n",
    "\n",
    "    Input:- []\n",
    "    Output:- List is empty\n",
    "\n",
    "    Input:- [10,20,30]\n",
    "    Output:- List is not empty"
   ]
  },
  {
   "cell_type": "code",
   "execution_count": 35,
   "metadata": {},
   "outputs": [
    {
     "name": "stdout",
     "output_type": "stream",
     "text": [
      "Enter a list: \t[]\n",
      "The list is empty.\n"
     ]
    }
   ],
   "source": [
    "lst = eval(input('Enter a list: \\t'))\n",
    "\n",
    "if lst == []:\n",
    "    print ('The list is empty.')\n",
    "elif lst != []:\n",
    "    print (f'The input list is not an empty list.')\n",
    "else:                                                      # CONFUSION (NOT WORKING)\n",
    "    print ('The enetered input is not a list.')\n"
   ]
  },
  {
   "cell_type": "code",
   "execution_count": null,
   "metadata": {},
   "outputs": [],
   "source": [
    "lst.index()"
   ]
  },
  {
   "cell_type": "markdown",
   "metadata": {},
   "source": [
    "# 10 - Write a Python program to copy a list using loop.\n",
    "\n",
    "    inp_lst = [10,10.20,10+20j, 'Python', [10,20], (10,20)]\n",
    "    out_lst = [10,10.20,10+20j, 'Python', [10,20], (10,20)]"
   ]
  },
  {
   "cell_type": "code",
   "execution_count": 46,
   "metadata": {},
   "outputs": [
    {
     "name": "stdout",
     "output_type": "stream",
     "text": [
      "Output List: [10, 10.2, (10+20j), 'Python', [10, 20], (10, 20)]\n"
     ]
    }
   ],
   "source": [
    "inp_lst = [10,10.20,10+20j, 'Python', [10,20], (10,20)]\n",
    "\n",
    "copy_lst = []\n",
    "\n",
    "for i in range(len(inp_lst)):\n",
    "    copy_lst.append(inp_lst[i])\n",
    "    \n",
    "print('Output List:', copy_lst)"
   ]
  },
  {
   "cell_type": "markdown",
   "metadata": {},
   "source": [
    "# 11 - Write a Python program to find the list of words that are longer than or equal to 4 from a given string.\n",
    "\n",
    "    Input:- 'How much wood would a woodchuck chuck if a woodchuck could chuck wood'\n",
    "    Output:- ['much', 'wood', 'would', 'woodchuck', 'chuck', 'could', 'could']\n",
    "    \n",
    "    Note:- Duplicate should be avoided."
   ]
  },
  {
   "cell_type": "code",
   "execution_count": 45,
   "metadata": {},
   "outputs": [
    {
     "name": "stdout",
     "output_type": "stream",
     "text": [
      "much\n",
      "wood\n",
      "would\n",
      "woodchuck\n",
      "chuck\n",
      "could\n"
     ]
    }
   ],
   "source": [
    "str = 'How much wood would a woodchuck chuck if a woodchuck could chuck wood'\n",
    "\n",
    "lst_str = list(str.split())\n",
    "\n",
    "uniquelst_str = []\n",
    "for i in lst_str:\n",
    "    if i not in uniquelst_str:\n",
    "        uniquelst_str.append(i)\n",
    "\n",
    "for i in uniquelst_str:\n",
    "    if len(i) >= 4:\n",
    "        print(i)\n",
    "    "
   ]
  },
  {
   "cell_type": "markdown",
   "metadata": {},
   "source": [
    "# 12 - Write a Python program which takes two list as input and returns True if they have at least 3 common elements.\n",
    "\n",
    "    inp_lst1 = [10,20,'Python', 10.20, 10+20j, [10,20,30], (10,20,30)]\n",
    "    inp_lst2 = [(10,20,30),1,20+3j,100.2, 10+20j, [10,20,30],'Python']\n",
    "    Output:- True"
   ]
  },
  {
   "cell_type": "code",
   "execution_count": 52,
   "metadata": {},
   "outputs": [
    {
     "name": "stdout",
     "output_type": "stream",
     "text": [
      "True\n"
     ]
    }
   ],
   "source": [
    "inp_lst1 = [10,20,'Python', 10.20, 10+20j, [10,20,30], (10,20,30)]\n",
    "inp_lst2 = [(10,20,30),1,20+3j,100.2, 10+20j, [10,20,30],'Python']\n",
    "\n",
    "count = 0\n",
    "for i in range(len(inp_lst1)):\n",
    "    for j in range(len(inp_lst1)):\n",
    "        if inp_lst1[i] == inp_lst2[j]:\n",
    "            count += 1\n",
    "        else:\n",
    "            continue\n",
    "    if count == 3:\n",
    "        print(True)"
   ]
  },
  {
   "cell_type": "markdown",
   "metadata": {},
   "source": [
    "# 13 - Write a Python program to create a 4X4 2D matrix with below elements using loop and list comprehension both.\n",
    "\n",
    "    Output:- [[0,0,0,0],[0,1,2,3],[0,2,4,6],[0,3,6,9]]"
   ]
  },
  {
   "cell_type": "code",
   "execution_count": 60,
   "metadata": {},
   "outputs": [
    {
     "name": "stdout",
     "output_type": "stream",
     "text": [
      "[[0, 0, 0, 0], [0, 1, 2, 3], [0, 2, 4, 6], [0, 3, 6, 9]]\n"
     ]
    }
   ],
   "source": [
    "print ([[i*j for j in range(4)] for i in range (4)])"
   ]
  },
  {
   "cell_type": "markdown",
   "metadata": {},
   "source": [
    "# 14 - Write a Python program to create a 3X4X6 3D matrix wiith below elements using loop\n",
    "\n",
    "    Output:- \n",
    "    [\n",
    "        [[0,0,0,0,0,0],[0,0,0,0,0,0],[0,0,0,0,0,0],[0,0,0,0,0,0]],\n",
    "        [[0,0,0,0,0,0],[1,1,1,1,1,1],[2,2,2,2,2,2],[3,3,3,3,3,3]],\n",
    "        [[0,0,0,0,0,0],[2,2,2,2,2,2],[4,4,4,4,4,4],[6,6,6,6,6,6]]\n",
    "    ]"
   ]
  },
  {
   "cell_type": "code",
   "execution_count": 59,
   "metadata": {},
   "outputs": [
    {
     "data": {
      "text/plain": [
       "[[[0, 0, 0, 0, 0, 0],\n",
       "  [0, 0, 0, 0, 0, 0],\n",
       "  [0, 0, 0, 0, 0, 0],\n",
       "  [0, 0, 0, 0, 0, 0]],\n",
       " [[0, 0, 0, 0, 0, 0],\n",
       "  [1, 1, 1, 1, 1, 1],\n",
       "  [2, 2, 2, 2, 2, 2],\n",
       "  [3, 3, 3, 3, 3, 3]],\n",
       " [[0, 0, 0, 0, 0, 0],\n",
       "  [2, 2, 2, 2, 2, 2],\n",
       "  [4, 4, 4, 4, 4, 4],\n",
       "  [6, 6, 6, 6, 6, 6]]]"
      ]
     },
     "execution_count": 59,
     "metadata": {},
     "output_type": "execute_result"
    }
   ],
   "source": [
    "[[[i*j for k in range(6)] for j in range(4)] for i in range (3)]"
   ]
  },
  {
   "cell_type": "markdown",
   "metadata": {},
   "source": [
    "# 15 - Write a Python program which takes a list of numbers as input and prints a new list after removing even numbers from it.\n",
    "\n",
    "    Input:- [10,21,22,98,87,45,33,1,2,100]\n",
    "    Output:- [21,87,45,33,1]"
   ]
  },
  {
   "cell_type": "code",
   "execution_count": 59,
   "metadata": {},
   "outputs": [
    {
     "name": "stdout",
     "output_type": "stream",
     "text": [
      "[21, 87, 45, 33, 1]\n"
     ]
    }
   ],
   "source": [
    "lst = [10,21,22,98,87,45,33,1,2,100]\n",
    "\n",
    "odd_lst = []\n",
    "\n",
    "for i in lst:\n",
    "    if i % 2 == 1:\n",
    "        odd_lst.append(i)\n",
    "    else:\n",
    "        continue\n",
    "print (odd_lst)"
   ]
  },
  {
   "cell_type": "markdown",
   "metadata": {},
   "source": [
    "# 16 - Write a Python program which takes a list from the user and prints it after reshuffling the elements of the list.\n",
    "\n",
    "    Input:- [10,21,22,98,87,45,33,1,2,100]\n",
    "    Output:- [1,87,21,10,33,2,100,45,98,22] (It may be any randon list but with same elements)"
   ]
  },
  {
   "cell_type": "code",
   "execution_count": 63,
   "metadata": {},
   "outputs": [
    {
     "name": "stdout",
     "output_type": "stream",
     "text": [
      "[2, 1, 22, 45, 87, 21, 33, 100, 98, 10]\n"
     ]
    }
   ],
   "source": [
    "input_lst = [10,21,22,98,87,45,33,1,2,100]\n",
    "\n",
    "import random\n",
    "random.shuffle(input_lst)\n",
    "print(input_lst)"
   ]
  }
 ],
 "metadata": {
  "kernelspec": {
   "display_name": "Python 3",
   "language": "python",
   "name": "python3"
  },
  "language_info": {
   "codemirror_mode": {
    "name": "ipython",
    "version": 3
   },
   "file_extension": ".py",
   "mimetype": "text/x-python",
   "name": "python",
   "nbconvert_exporter": "python",
   "pygments_lexer": "ipython3",
   "version": "3.8.3"
  }
 },
 "nbformat": 4,
 "nbformat_minor": 4
}
