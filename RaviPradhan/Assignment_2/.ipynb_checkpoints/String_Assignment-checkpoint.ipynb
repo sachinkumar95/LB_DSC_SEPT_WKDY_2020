{
 "cells": [
  {
   "cell_type": "markdown",
   "metadata": {},
   "source": [
    "# String Assignment"
   ]
  },
  {
   "cell_type": "markdown",
   "metadata": {},
   "source": [
    "# 1 - Declare a string and store it in a variable. \n",
    "\n",
    "    Check the type and print the id of the same."
   ]
  },
  {
   "cell_type": "code",
   "execution_count": 2,
   "metadata": {},
   "outputs": [
    {
     "name": "stdout",
     "output_type": "stream",
     "text": [
      "<class 'str'> \n",
      "\n",
      " Location Id of string \"I am learning Python.\" is 2542374169296\n"
     ]
    }
   ],
   "source": [
    "str1 = 'I am learning Python.'\n",
    "print (type(str1), '\\n\\n', f'Location Id of string \"{str1}\" is', id(str1))"
   ]
  },
  {
   "cell_type": "markdown",
   "metadata": {},
   "source": [
    "# 2 - Which are valid/invalid strings"
   ]
  },
  {
   "cell_type": "code",
   "execution_count": null,
   "metadata": {},
   "outputs": [],
   "source": [
    "1. 'This is Python class'\n",
    "#                valid string\n",
    "\n",
    "2. \"This is Python class\"\n",
    "#                valid string\n",
    "\n",
    "3. '''This is Python class'''\n",
    "#                valid string\n",
    "\n",
    "4. \"\"\"This is Python class\"\"\"\n",
    "#                valid string\n",
    "\n",
    "5. 'This is Python's class'\n",
    "#                invalid string\n",
    "\n",
    "6. \"Learnbay provides \"Java\", \"Python\" classes\"\n",
    "#                invalid string\n",
    "\n",
    "7. \"Learnbay provides 'Java', 'Python' classes\"\n",
    "#                valid string\n",
    "\n",
    "8. \"This is Python's class\"\n",
    "#                valid string\n",
    "\n",
    "9. \"\"\"Learnbay provides \"Java\", \"Python\" classes\"\"\"\n",
    "#                valid string\n",
    "\n",
    "10. '''Learnbay provides \"Java\", \"Python\" classes'''\n",
    "#                valid string\n",
    "\n",
    "11. '''Learnbay provides\n",
    "\"Java\", \"Python\" \n",
    "classes'''\n",
    "#                valid string\n",
    "\n",
    "12. 'This is\n",
    "Python \n",
    "class'\n",
    "#                invalid string"
   ]
  },
  {
   "cell_type": "markdown",
   "metadata": {},
   "source": [
    "# 3 - Write the code to get the output mentioned below print statement\n",
    "\n",
    "    my_str = \"Although that way may not be obvious at first unless you're Dutch.\"\n",
    "    my_str1 = \"Although that way may not be obvious at first unless you're Dutch.\"\n",
    "\n",
    "    print()\n",
    "    #output:- The length of my_str is 66\n",
    "\n",
    "    print()\n",
    "    #output:- id of my_str and my_str1 is same? - True\n",
    "\n",
    "    print()\n",
    "    #output:- Type of my_str is: str"
   ]
  },
  {
   "cell_type": "code",
   "execution_count": 11,
   "metadata": {},
   "outputs": [
    {
     "name": "stdout",
     "output_type": "stream",
     "text": [
      "The length of \"Although that way may not be obvious at first unless you're Dutch.\" is: 66\n"
     ]
    }
   ],
   "source": [
    "my_str = \"Although that way may not be obvious at first unless you're Dutch.\"\n",
    "my_str1 = \"Although that way may not be obvious at first unless you're Dutch.\"\n",
    "\n",
    "print(f'The length of \"{my_str}\" is:', len(my_str))"
   ]
  },
  {
   "cell_type": "code",
   "execution_count": 9,
   "metadata": {},
   "outputs": [
    {
     "name": "stdout",
     "output_type": "stream",
     "text": [
      "Id of \"Although that way may not be obvious at first unless you're Dutch.\" and \"Although that way may not be obvious at first unless you're Dutch.\" is same? \n",
      " False\n"
     ]
    }
   ],
   "source": [
    "my_str = \"Although that way may not be obvious at first unless you're Dutch.\"\n",
    "my_str1 = \"Although that way may not be obvious at first unless you're Dutch.\"\n",
    "\n",
    "print(f'Id of \"{my_str}\" and \"{my_str1}\" is same? \\n', my_str is my_str1)    # False (As space object is not reusable)"
   ]
  },
  {
   "cell_type": "code",
   "execution_count": 16,
   "metadata": {},
   "outputs": [
    {
     "name": "stdout",
     "output_type": "stream",
     "text": [
      "Type of Although that way may not be obvious at first unless you're Dutch. is: str\n"
     ]
    }
   ],
   "source": [
    "my_str = \"Although that way may not be obvious at first unless you're Dutch.\"\n",
    "my_str1 = \"Although that way may not be obvious at first unless you're Dutch.\"\n",
    "\n",
    "print(f'Type of {my_str} is:', str(type(my_str))[8:11])     ######"
   ]
  },
  {
   "cell_type": "markdown",
   "metadata": {},
   "source": [
    "# 4 - Indexing\n",
    "\n",
    "    my_str = \"Although 8 that way may not be obvious at first unless you're Dutch\"\n",
    "    #Write the code to get the output,instructions are mentioned below print statement. use indexing\n",
    "\n",
    "    print()\n",
    "    #output:- The first character in my_str is: A\n",
    "    #Note:- Use positive indexing\n",
    "\n",
    "    print()\n",
    "    #output:- The first character in my_str is: h\n",
    "    #Note:- Use len() function.\n",
    "\n",
    "    print()\n",
    "    #output:- The character at index 10 in my_str is: c\n",
    "    #Note:- Use positive indexing\n",
    "\n",
    "    print()\n",
    "    #output:- The last character in my_str is: h\n",
    "    #Note:- Use negative indexing.\n",
    "\n",
    "    print()\n",
    "    #output:- The last character in my_str is: h\n",
    "    #Note:- Use len() function.\n",
    "\n",
    "    print()\n",
    "    #output:- The character in my_str is: 8\n",
    "    #Note:- Use positive index"
   ]
  },
  {
   "cell_type": "code",
   "execution_count": 40,
   "metadata": {},
   "outputs": [
    {
     "name": "stdout",
     "output_type": "stream",
     "text": [
      "The first character in \"Although 8 that way may not be obvious at first unless you're Dutch\" is: 'A' \n",
      "\n",
      "The first character in \"Although 8 that way may not be obvious at first unless you're Dutch\" is: 'A' \n",
      "\n",
      "The character at index 10 in \"Although 8 that way may not be obvious at first unless you're Dutch\" is: ' ' \n",
      "\n",
      "The last character in \"Although 8 that way may not be obvious at first unless you're Dutch\" is: 'h' \n",
      "\n",
      "The last character in \"Although 8 that way may not be obvious at first unless you're Dutch\" is: 'h' \n",
      "\n",
      "The 10th character in \"Although 8 that way may not be obvious at first unless you're Dutch\" is: '8'\n"
     ]
    }
   ],
   "source": [
    "# Using positive indexing\n",
    "\n",
    "my_str = \"Although 8 that way may not be obvious at first unless you're Dutch\"\n",
    "\n",
    "print(f\"\"\"The first character in \"{my_str}\" is: '{my_str[0]}'\"\"\", '\\n')\n",
    "\n",
    "# Using len() function\n",
    "\n",
    "print(f\"\"\"The first character in \"{my_str}\" is: '{my_str[-len(my_str)]}'\"\"\", '\\n')\n",
    "\n",
    "# Using positive indexing\n",
    "\n",
    "print(f\"\"\"The character at index 10 in \"{my_str}\" is: '{my_str[10]}'\"\"\", '\\n')\n",
    "\n",
    "# Using negative indexing\n",
    "\n",
    "print(f\"\"\"The last character in \"{my_str}\" is: '{my_str[-1]}'\"\"\", '\\n')\n",
    "\n",
    "# Using len() function\n",
    "\n",
    "print(f\"\"\"The last character in \"{my_str}\" is: '{my_str[len(my_str)-1]}'\"\"\", '\\n')\n",
    "\n",
    "# Using positive indexing\n",
    "\n",
    "print(f\"\"\"The 10th character in \"{my_str}\" is: '{my_str[9]}'\"\"\")"
   ]
  },
  {
   "cell_type": "markdown",
   "metadata": {},
   "source": [
    "# 5 - Slicing\n",
    "\n",
    "    my_str = \"Although that way may not be obvious at first unless you're Dutch.\"\n",
    "\n",
    "    Write the code to get the output,instructions are mentioned below print statement. use slicing"
   ]
  },
  {
   "cell_type": "code",
   "execution_count": 18,
   "metadata": {},
   "outputs": [
    {
     "name": "stdout",
     "output_type": "stream",
     "text": [
      "You have sliced: Although that way may not be obvious at first unless you're Dutch. \n",
      "\n",
      "You have sliced: Although that way may not be obvious at first unless you're Dutch. \n",
      "\n",
      "You have sliced: Although that way may not be obvious at first unless you're Dutch. \n",
      "\n",
      "You have sliced: Although that way may not be obvious at first unless you're Dutch. \n",
      "\n",
      "You have sliced:  \n",
      "\n",
      "You have sliced: Atog htwymyntb biu tfrtuls o'eDth \n",
      "\n",
      "You have sliced: Ahgttam tebo  r lsorDc \n",
      "\n",
      "You have sliced: .hctuD er'uoy sselnu tsrif ta suoivbo eb ton yam yaw taht hguohtlA \n",
      "\n",
      "You have sliced: .hctuD er'uoy sselnu tsrif ta suoivbo eb ton yam yaw taht hguohtlA \n",
      "\n",
      "You have sliced: .cu ruysen si asovoe o a a athuhl \n",
      "\n",
      "You have sliced: .cu ruysen si asovoe o a a athuhl \n",
      "\n",
      "You have : \n",
      "You have sliced:  yaw ta \n",
      "\n",
      "You have sliced: ess you.\n"
     ]
    }
   ],
   "source": [
    "my_str = \"Although that way may not be obvious at first unless you're Dutch.\"\n",
    "\n",
    "# Without begin, end and step\n",
    "# output:- You have sliced: Although that way may not be obvious at first unless you're Dutch.\n",
    "print ('You have sliced:', my_str[::], '\\n')\n",
    "\n",
    "# with begin as 0 end using len and without step\n",
    "# output:- You have sliced: Although that way may not be obvious at first unless you're Dutch.\n",
    "print ('You have sliced:', my_str[0:len(my_str)], '\\n')\n",
    "\n",
    "# without begin and end but using step\n",
    "# output:- You have sliced: Although that way may not be obvious at first unless you're Dutch.\n",
    "print ('You have sliced:', my_str[:len(my_str)], '\\n')\n",
    "\n",
    "# With begin, end and step\n",
    "# output:- You have sliced: Although that way may not be obvious at first unless you're Dutch.\n",
    "print ('You have sliced:', my_str[0:len(my_str):1], '\\n')\n",
    "\n",
    "# with using begin and end using postive values and step as negative values.\n",
    "#output:- You have sliced: \n",
    "print ('You have sliced:', my_str[0:len(my_str):-1], '\\n')\n",
    "\n",
    "# output:- You have sliced: Atog htwymyntb biu tfrtuls o'eDth\n",
    "print ('You have sliced:', my_str[::2], '\\n')\n",
    "\n",
    "#output:- You have sliced: Ahgttam tebo  r lsorDc\n",
    "print ('You have sliced:', my_str[::3], '\\n')\n",
    "\n",
    "# Use only step\n",
    "# output:- You have sliced: .hctuD er'uoy sselnu tsrif ta suoivbo eb ton yam yaw taht hguohtlA.\n",
    "print ('You have sliced:', my_str[::-1], '\\n')\n",
    "\n",
    "# Use begin end and step.\n",
    "# output:- You have sliced: .hctuD er'uoy sselnu tsrif ta suoivbo eb ton yam yaw taht hguohtlA.\n",
    "print ('You have sliced:', my_str[len(my_str):-(len(my_str)+1):-1], '\\n')\n",
    "\n",
    "# use only step\n",
    "# output:- You have sliced: .cu ruysen si asovoe o a a athuhl.\n",
    "print ('You have sliced:', my_str[::-2], '\\n')\n",
    "\n",
    "# use begin, end and step.\n",
    "# output:- You have sliced: .cu ruysen si asovoe o a a athuhl.\n",
    "print ('You have sliced:', my_str[len(my_str):-(len(my_str)+1):-2], '\\n')\n",
    "\n",
    "# What will be the output?\n",
    "print('You have :', my_str[10:17:-1])\n",
    "# Output:- '' empty string; as start to end is in positive direction however step is in opposite direction\n",
    "\n",
    "# Using begin, end and step.\n",
    "# output:- You have sliced: yaw ta,\n",
    "print ('You have sliced:', my_str[17:10:-1], '\\n')\n",
    "\n",
    "# Using begin, end and step.\n",
    "# output:- You have sliced: ess you.\n",
    "print (f'You have sliced: {my_str[-17:-10:1]}.')"
   ]
  },
  {
   "cell_type": "markdown",
   "metadata": {},
   "source": [
    "# 6 - Basic operation on string\n",
    "\n",
    "    str1 = 'Learnbay'\n",
    "    str2 = 'Python'\n",
    "\n",
    "    Write the code to get the output,instructions are mentioned below.\n",
    "    Output is: Learnbay Python\n",
    "\n",
    "        Error: TypeError: can only concatenate str (not \"int\") to str\n",
    "\n",
    "        Error: TypeError: can only concatenate str (not \"float\") to str\n",
    "\n",
    "\n",
    "    Find below Output\n",
    "    Output is: LearnbayLearnbayLearnbay\n",
    "\n",
    "        Error: TypeError: can't multiply sequence by non-int of type 'float'\n",
    "\n",
    "        Error: TypeError: can't multiply sequence by non-int of type 'str'"
   ]
  },
  {
   "cell_type": "code",
   "execution_count": 19,
   "metadata": {},
   "outputs": [
    {
     "name": "stdout",
     "output_type": "stream",
     "text": [
      "Learnbay Python\n",
      "Learnbay Python\n"
     ]
    }
   ],
   "source": [
    "# Write the code to get the output,instructions are mentioned below.\n",
    "# Output is: Learnbay Python\n",
    "\n",
    "str1 = 'Learnbay'\n",
    "str2 = 'Python'\n",
    "\n",
    "print (str1 + ' ' + str2)\n",
    "\n",
    "print (str1, str2)"
   ]
  },
  {
   "cell_type": "code",
   "execution_count": 83,
   "metadata": {},
   "outputs": [
    {
     "ename": "TypeError",
     "evalue": "can only concatenate str (not \"int\") to str",
     "output_type": "error",
     "traceback": [
      "\u001b[1;31m---------------------------------------------------------------------------\u001b[0m",
      "\u001b[1;31mTypeError\u001b[0m                                 Traceback (most recent call last)",
      "\u001b[1;32m<ipython-input-83-b2403414273a>\u001b[0m in \u001b[0;36m<module>\u001b[1;34m\u001b[0m\n\u001b[0;32m      4\u001b[0m \u001b[0mstr2\u001b[0m \u001b[1;33m=\u001b[0m \u001b[1;34m'Python'\u001b[0m\u001b[1;33m\u001b[0m\u001b[1;33m\u001b[0m\u001b[0m\n\u001b[0;32m      5\u001b[0m \u001b[1;33m\u001b[0m\u001b[0m\n\u001b[1;32m----> 6\u001b[1;33m \u001b[0mprint\u001b[0m \u001b[1;33m(\u001b[0m\u001b[0mstr1\u001b[0m \u001b[1;33m+\u001b[0m \u001b[1;36m10\u001b[0m\u001b[1;33m)\u001b[0m\u001b[1;33m\u001b[0m\u001b[1;33m\u001b[0m\u001b[0m\n\u001b[0m",
      "\u001b[1;31mTypeError\u001b[0m: can only concatenate str (not \"int\") to str"
     ]
    }
   ],
   "source": [
    "#Error: TypeError: can only concatenate str (not \"int\") to str\n",
    "\n",
    "str1 = 'Learnbay'\n",
    "str2 = 'Python'\n",
    "\n",
    "print (str1 + 10)"
   ]
  },
  {
   "cell_type": "code",
   "execution_count": 84,
   "metadata": {},
   "outputs": [
    {
     "ename": "TypeError",
     "evalue": "can only concatenate str (not \"float\") to str",
     "output_type": "error",
     "traceback": [
      "\u001b[1;31m---------------------------------------------------------------------------\u001b[0m",
      "\u001b[1;31mTypeError\u001b[0m                                 Traceback (most recent call last)",
      "\u001b[1;32m<ipython-input-84-9ab30a46fb8f>\u001b[0m in \u001b[0;36m<module>\u001b[1;34m\u001b[0m\n\u001b[0;32m      4\u001b[0m \u001b[0mstr2\u001b[0m \u001b[1;33m=\u001b[0m \u001b[1;34m'Python'\u001b[0m\u001b[1;33m\u001b[0m\u001b[1;33m\u001b[0m\u001b[0m\n\u001b[0;32m      5\u001b[0m \u001b[1;33m\u001b[0m\u001b[0m\n\u001b[1;32m----> 6\u001b[1;33m \u001b[0mprint\u001b[0m \u001b[1;33m(\u001b[0m\u001b[0mstr1\u001b[0m \u001b[1;33m+\u001b[0m \u001b[1;36m10.10\u001b[0m\u001b[1;33m)\u001b[0m\u001b[1;33m\u001b[0m\u001b[1;33m\u001b[0m\u001b[0m\n\u001b[0m",
      "\u001b[1;31mTypeError\u001b[0m: can only concatenate str (not \"float\") to str"
     ]
    }
   ],
   "source": [
    "#Error: TypeError: can only concatenate str (not \"float\") to str\n",
    "\n",
    "str1 = 'Learnbay'\n",
    "str2 = 'Python'\n",
    "\n",
    "print (str1 + 10.10)"
   ]
  },
  {
   "cell_type": "code",
   "execution_count": 85,
   "metadata": {},
   "outputs": [
    {
     "name": "stdout",
     "output_type": "stream",
     "text": [
      "LearnbayLearnbayLearnbay\n"
     ]
    }
   ],
   "source": [
    "# Find below Output\n",
    "# Output is: LearnbayLearnbayLearnbay\n",
    "\n",
    "str1 = 'Learnbay'\n",
    "str2 = 'Python'\n",
    "\n",
    "print (str1 * 3)"
   ]
  },
  {
   "cell_type": "code",
   "execution_count": 86,
   "metadata": {},
   "outputs": [
    {
     "ename": "TypeError",
     "evalue": "can't multiply sequence by non-int of type 'float'",
     "output_type": "error",
     "traceback": [
      "\u001b[1;31m---------------------------------------------------------------------------\u001b[0m",
      "\u001b[1;31mTypeError\u001b[0m                                 Traceback (most recent call last)",
      "\u001b[1;32m<ipython-input-86-7ebe40820a26>\u001b[0m in \u001b[0;36m<module>\u001b[1;34m\u001b[0m\n\u001b[0;32m      4\u001b[0m \u001b[0mstr2\u001b[0m \u001b[1;33m=\u001b[0m \u001b[1;34m'Python'\u001b[0m\u001b[1;33m\u001b[0m\u001b[1;33m\u001b[0m\u001b[0m\n\u001b[0;32m      5\u001b[0m \u001b[1;33m\u001b[0m\u001b[0m\n\u001b[1;32m----> 6\u001b[1;33m \u001b[0mprint\u001b[0m \u001b[1;33m(\u001b[0m\u001b[0mstr1\u001b[0m \u001b[1;33m*\u001b[0m \u001b[1;36m3.0\u001b[0m\u001b[1;33m)\u001b[0m\u001b[1;33m\u001b[0m\u001b[1;33m\u001b[0m\u001b[0m\n\u001b[0m",
      "\u001b[1;31mTypeError\u001b[0m: can't multiply sequence by non-int of type 'float'"
     ]
    }
   ],
   "source": [
    "#Error: TypeError: can't multiply sequence by non-int of type 'float'\n",
    "\n",
    "str1 = 'Learnbay'\n",
    "str2 = 'Python'\n",
    "\n",
    "print (str1 * 3.0)"
   ]
  },
  {
   "cell_type": "code",
   "execution_count": 87,
   "metadata": {},
   "outputs": [
    {
     "ename": "TypeError",
     "evalue": "can't multiply sequence by non-int of type 'str'",
     "output_type": "error",
     "traceback": [
      "\u001b[1;31m---------------------------------------------------------------------------\u001b[0m",
      "\u001b[1;31mTypeError\u001b[0m                                 Traceback (most recent call last)",
      "\u001b[1;32m<ipython-input-87-6c8f66426d8a>\u001b[0m in \u001b[0;36m<module>\u001b[1;34m\u001b[0m\n\u001b[0;32m      4\u001b[0m \u001b[0mstr2\u001b[0m \u001b[1;33m=\u001b[0m \u001b[1;34m'Python'\u001b[0m\u001b[1;33m\u001b[0m\u001b[1;33m\u001b[0m\u001b[0m\n\u001b[0;32m      5\u001b[0m \u001b[1;33m\u001b[0m\u001b[0m\n\u001b[1;32m----> 6\u001b[1;33m \u001b[0mprint\u001b[0m \u001b[1;33m(\u001b[0m\u001b[0mstr1\u001b[0m \u001b[1;33m*\u001b[0m \u001b[0mstr2\u001b[0m\u001b[1;33m)\u001b[0m\u001b[1;33m\u001b[0m\u001b[1;33m\u001b[0m\u001b[0m\n\u001b[0m",
      "\u001b[1;31mTypeError\u001b[0m: can't multiply sequence by non-int of type 'str'"
     ]
    }
   ],
   "source": [
    "#Error: TypeError: can't multiply sequence by non-int of type 'str'\n",
    "\n",
    "str1 = 'Learnbay'\n",
    "str2 = 'Python'\n",
    "\n",
    "print (str1 * str2)"
   ]
  },
  {
   "cell_type": "markdown",
   "metadata": {},
   "source": [
    "# 7 - Find below Output\n",
    "\n",
    "    print True by using identity operator between str1 and str2\n",
    "    print False by using identity operator between str1 and str3\n",
    "    print False by using identity operator between str4 and str3\n",
    "    Check if P is available in str1 and print True by using membership operator\n",
    "    Check if $ is available in str3 and print True by using membership operator\n",
    "    Check if N is available in str3 and print False by using membership operator"
   ]
  },
  {
   "cell_type": "code",
   "execution_count": 95,
   "metadata": {},
   "outputs": [
    {
     "name": "stdout",
     "output_type": "stream",
     "text": [
      "Is Id of str1 and str2 same: True \n",
      "\n",
      "Is Id of str1 and str3 same: False \n",
      "\n",
      "Is Id of str4 and str3 same: False \n",
      "\n",
      "\n",
      "Is \"P\" is available in \"Python\": True \n",
      "\n",
      "Is \"$\" is available in \"Python$\" True \n",
      "\n",
      "Is \"N\" is available in \"Python$\": False\n"
     ]
    }
   ],
   "source": [
    "str1 = 'Python'\n",
    "str2 = 'Python'\n",
    "str3 = 'Python$'\n",
    "str4 = 'Python$'\n",
    "\n",
    "# print True by using identity operator between str1 and str2\n",
    "print (f'Is Id of str1 and str2 same: {str1 is str2} \\n')\n",
    "\n",
    "# print False by using identity operator between str1 and str3\n",
    "print (f'Is Id of str1 and str3 same: {str1 is str3} \\n')\n",
    "\n",
    "# print False by using identity operator between str4 and str3\n",
    "print (f'Is Id of str4 and str3 same: {str4 is str3} \\n\\n')                    # '$' does not follow object reusability\n",
    "\n",
    "# Check if P is available in str1 and print True by using membership operator\n",
    "print (f'Is \"P\" is available in \"{str1}\":', 'P' in str1, '\\n')\n",
    "\n",
    "# Check if $ is available in str3 and print True by using membership operator\n",
    "print (f'Is \"$\" is available in \"{str3}\"', '$' in str3, '\\n')\n",
    "\n",
    "# Check if N is available in str3 and print False by using membership operator\n",
    "print (f'Is \"N\" is available in \"{str3}\":', 'N' in str3)                       # Case sensitive"
   ]
  },
  {
   "cell_type": "markdown",
   "metadata": {},
   "source": [
    "# 8 - Complete the below code\n",
    "\n",
    "    str1 = 'This is Python class'\n",
    "\n",
    "    write the code to replace 'Python' with 'Java' and you should get below error.\n",
    "    TypeError: 'str' object does not support item assignment.\n"
   ]
  },
  {
   "cell_type": "code",
   "execution_count": 5,
   "metadata": {},
   "outputs": [
    {
     "name": "stdout",
     "output_type": "stream",
     "text": [
      "This is Java class\n"
     ]
    }
   ],
   "source": [
    "str1 = 'This is Python class'\n",
    "\n",
    "a = str1.replace ('Python', 'Java')    # replace method\n",
    "print(a)"
   ]
  },
  {
   "cell_type": "code",
   "execution_count": 20,
   "metadata": {},
   "outputs": [
    {
     "ename": "TypeError",
     "evalue": "'str' object does not support item assignment",
     "output_type": "error",
     "traceback": [
      "\u001b[1;31m---------------------------------------------------------------------------\u001b[0m",
      "\u001b[1;31mTypeError\u001b[0m                                 Traceback (most recent call last)",
      "\u001b[1;32m<ipython-input-20-f65b0a530836>\u001b[0m in \u001b[0;36m<module>\u001b[1;34m\u001b[0m\n\u001b[0;32m      1\u001b[0m \u001b[0mstr1\u001b[0m \u001b[1;33m=\u001b[0m \u001b[1;34m'This is Python class'\u001b[0m\u001b[1;33m\u001b[0m\u001b[1;33m\u001b[0m\u001b[0m\n\u001b[0;32m      2\u001b[0m \u001b[1;33m\u001b[0m\u001b[0m\n\u001b[1;32m----> 3\u001b[1;33m \u001b[0mstr1\u001b[0m\u001b[1;33m[\u001b[0m\u001b[1;36m8\u001b[0m\u001b[1;33m:\u001b[0m\u001b[1;36m14\u001b[0m\u001b[1;33m]\u001b[0m \u001b[1;33m=\u001b[0m \u001b[1;34m'Java'\u001b[0m                 \u001b[1;31m# item assignment\u001b[0m\u001b[1;33m\u001b[0m\u001b[1;33m\u001b[0m\u001b[0m\n\u001b[0m\u001b[0;32m      4\u001b[0m \u001b[0mprint\u001b[0m\u001b[1;33m(\u001b[0m\u001b[0mstr1\u001b[0m\u001b[1;33m)\u001b[0m\u001b[1;33m\u001b[0m\u001b[1;33m\u001b[0m\u001b[0m\n",
      "\u001b[1;31mTypeError\u001b[0m: 'str' object does not support item assignment"
     ]
    }
   ],
   "source": [
    "str1 = 'This is Python class'\n",
    "\n",
    "str1[8:14] = 'Java'                 # item assignment\n",
    "print(str1)"
   ]
  },
  {
   "cell_type": "markdown",
   "metadata": {},
   "source": [
    "# 9.1 - Comparison and Equality operator\n",
    "\n",
    "    str1 = 'A'\n",
    "    str2 = 'A'"
   ]
  },
  {
   "cell_type": "code",
   "execution_count": 13,
   "metadata": {},
   "outputs": [
    {
     "name": "stdout",
     "output_type": "stream",
     "text": [
      "Is \"A\" and \"A\" same?    True\n",
      "Is \"A\" and \"A\" same?    True\n",
      "Is \"A\" not same as \"A\"?    False\n",
      "Does alphabet \"A\" comes after alphabet \"A\" in ASCII characters?    False\n"
     ]
    }
   ],
   "source": [
    "str1 = 'A'\n",
    "str2 = 'A'\n",
    "\n",
    "# Compare str1 and str2 and print True using comparison operator\n",
    "print (f'Is \"{str1}\" and \"{str2}\" same?    {str1 >= str2}')\n",
    "\n",
    "#Compare str1 and str2 and print True using equality operator\n",
    "print (f'Is \"{str1}\" and \"{str2}\" same?    {str1 == str2}')\n",
    "\n",
    "#Compare str1 and str2 and print False using equality operator\n",
    "print (f'Is \"{str1}\" not same as \"{str2}\"?    {str1 != str2}')\n",
    "\n",
    "#Compare str1 and str2 and print False using comparison operator\n",
    "print (f'Does alphabet \"{str1}\" comes after alphabet \"{str2}\" in ASCII characters?    {str1 > str2}')"
   ]
  },
  {
   "cell_type": "markdown",
   "metadata": {},
   "source": [
    "# 9.2 - Comparison and Equality operator\n",
    "\n",
    "    str1 = 'A'\n",
    "    str2 = 'a'"
   ]
  },
  {
   "cell_type": "code",
   "execution_count": 31,
   "metadata": {},
   "outputs": [
    {
     "name": "stdout",
     "output_type": "stream",
     "text": [
      "Is \"A\" and \"a\" same?       False\n",
      "Is \"A\" and \"a\" same?       False\n",
      "Is \"A\" not same as \"a\"?    True\n",
      "Does alphabet \"A\" comes after alphabet \"a\" in ASCII characters?    False\n"
     ]
    }
   ],
   "source": [
    "str1 = 'A'\n",
    "str2 = 'a'\n",
    "\n",
    "#Compare str1 and str2 and print True using comparison operator\n",
    "print (f'Is \"{str1}\" and \"{str2}\" same?       {str1 >= str2}')\n",
    "\n",
    "#Compare str1 and str2 and print True using equality operator\n",
    "print (f'Is \"{str1}\" and \"{str2}\" same?       {str1 == str2}')\n",
    "\n",
    "#Compare str1 and str2 and print False using equality operator\n",
    "print (f'Is \"{str1}\" not same as \"{str2}\"?    {str1 != str2}')\n",
    "\n",
    "#Compare str1 and str2 and print False using comparison operator\n",
    "print (f'Does alphabet \"{str1}\" comes after alphabet \"{str2}\" in ASCII characters?    {str1 > str2}')"
   ]
  },
  {
   "cell_type": "markdown",
   "metadata": {},
   "source": [
    "# 9.3 - Comparison and Equality operator\n",
    "\n",
    "    str1 = 'A'\n",
    "    str2 = '65'"
   ]
  },
  {
   "cell_type": "code",
   "execution_count": 22,
   "metadata": {},
   "outputs": [
    {
     "ename": "TypeError",
     "evalue": "'>=' not supported between instances of 'str' and 'int'",
     "output_type": "error",
     "traceback": [
      "\u001b[1;31m---------------------------------------------------------------------------\u001b[0m",
      "\u001b[1;31mTypeError\u001b[0m                                 Traceback (most recent call last)",
      "\u001b[1;32m<ipython-input-22-1588ede23164>\u001b[0m in \u001b[0;36m<module>\u001b[1;34m\u001b[0m\n\u001b[0;32m      3\u001b[0m \u001b[1;33m\u001b[0m\u001b[0m\n\u001b[0;32m      4\u001b[0m \u001b[1;31m# Compare str1 and str2 using comparison operator and it should give below error.\u001b[0m\u001b[1;33m\u001b[0m\u001b[1;33m\u001b[0m\u001b[1;33m\u001b[0m\u001b[0m\n\u001b[1;32m----> 5\u001b[1;33m \u001b[0mprint\u001b[0m \u001b[1;33m(\u001b[0m\u001b[1;34mf'Is \"{str1}\" and \"{str2}\" same?    {str1 >= str2}'\u001b[0m\u001b[1;33m)\u001b[0m\u001b[1;33m\u001b[0m\u001b[1;33m\u001b[0m\u001b[0m\n\u001b[0m\u001b[0;32m      6\u001b[0m \u001b[1;33m\u001b[0m\u001b[0m\n\u001b[0;32m      7\u001b[0m \u001b[1;33m\u001b[0m\u001b[0m\n",
      "\u001b[1;31mTypeError\u001b[0m: '>=' not supported between instances of 'str' and 'int'"
     ]
    }
   ],
   "source": [
    "str1 = 'A'\n",
    "str2 = 65\n",
    "\n",
    "# Compare str1 and str2 using comparison operator and it should give below error.\n",
    "print (f'Is \"{str1}\" and \"{str2}\" same?    {str1 >= str2}')\n",
    "\n",
    "\n",
    "# Error: TypeError: '>=' not supported between instances of 'str' and 'int'"
   ]
  },
  {
   "cell_type": "code",
   "execution_count": 30,
   "metadata": {},
   "outputs": [
    {
     "name": "stdout",
     "output_type": "stream",
     "text": [
      "Is \"A\" not same as \"65\"?    True\n",
      "Is \"A\" same as \"65\"?        False\n"
     ]
    }
   ],
   "source": [
    "str1 = 'A'\n",
    "str2 = 65\n",
    "\n",
    "\n",
    "# Compare str1 and str2 and print True using equality operator\n",
    "print (f'Is \"{str1}\" not same as \"{str2}\"?    {str1 != str2}')\n",
    "\n",
    "# Compare str1 and str2 and print False using equality operator\n",
    "print (f'Is \"{str1}\" same as \"{str2}\"?        {str1 == str2}')"
   ]
  },
  {
   "cell_type": "markdown",
   "metadata": {},
   "source": [
    "# 9.4 - Comparison and Equality operator\n",
    "\n",
    "    str1 = 'Python'\n",
    "    str2 = 'Python'"
   ]
  },
  {
   "cell_type": "code",
   "execution_count": 29,
   "metadata": {},
   "outputs": [
    {
     "name": "stdout",
     "output_type": "stream",
     "text": [
      "Is \"Python\" and \"Python\" same?    True\n",
      "Is \"Python\" same as \"Python\"?     True\n",
      "Is \"Python\" same as \"Python\"?     False\n",
      "Is \"Python\" and \"Python\" same?    False\n"
     ]
    }
   ],
   "source": [
    "str1 = 'Python'\n",
    "str2 = 'Python'\n",
    "\n",
    "#Compare str1 and str2 and print True using comparison operator\n",
    "print (f'Is \"{str1}\" and \"{str2}\" same?    {str1 >= str2}')\n",
    "\n",
    "#Compare str1 and str2 and print True using equality operator\n",
    "print (f'Is \"{str1}\" same as \"{str2}\"?     {str1 == str2}')\n",
    "\n",
    "#Compare str1 and str2 and print False using equality operator\n",
    "print (f'Is \"{str1}\" same as \"{str2}\"?     {str1 != str2}')\n",
    "\n",
    "#Compare str1 and str2 and print False using comparison operator\n",
    "print (f'Is \"{str1}\" and \"{str2}\" same?    {str1 > str2}')"
   ]
  },
  {
   "cell_type": "markdown",
   "metadata": {},
   "source": [
    "# 9.5 - Comparison and Equality operator\n",
    "\n",
    "    str1 = 'Python'\n",
    "    str2 = 'python'"
   ]
  },
  {
   "cell_type": "code",
   "execution_count": 35,
   "metadata": {},
   "outputs": [
    {
     "name": "stdout",
     "output_type": "stream",
     "text": [
      "Is \"Python\" less than \"python\"?       True\n",
      "Is \"Python\" not same as \"python\"?     True\n",
      "Is \"Python\" same as \"python\"?         False\n",
      "Is \"Python\" greater than \"python\"?    False\n"
     ]
    }
   ],
   "source": [
    "str1 = 'Python'\n",
    "str2 = 'python'\n",
    "\n",
    "#Compare str1 and str2 and print True using comparison operator\n",
    "print (f'Is \"{str1}\" less than \"{str2}\"?       {str1 < str2}')\n",
    "\n",
    "#Compare str1 and str2 and print True using equality operator\n",
    "print (f'Is \"{str1}\" not same as \"{str2}\"?     {str1 != str2}')\n",
    "\n",
    "#Compare str1 and str2 and print False using equality operator\n",
    "print (f'Is \"{str1}\" same as \"{str2}\"?         {str1 == str2}')\n",
    "\n",
    "#Compare str1 and str2 and print False using comparison operator\n",
    "print (f'Is \"{str1}\" greater than \"{str2}\"?    {str1 > str2}')"
   ]
  },
  {
   "cell_type": "markdown",
   "metadata": {},
   "source": [
    "# 10.1 - Logical operators\n",
    "\n",
    "    a = 'Python'\n",
    "    b = ''"
   ]
  },
  {
   "cell_type": "code",
   "execution_count": 43,
   "metadata": {},
   "outputs": [
    {
     "name": "stdout",
     "output_type": "stream",
     "text": [
      "\n",
      "Python\n",
      "False\n",
      "True\n"
     ]
    }
   ],
   "source": [
    "a = 'Python'\n",
    "b = ''\n",
    "\n",
    "#Apply logical opereators (and, or & not) on above string values and observe the output.\n",
    "\n",
    "# and operator\n",
    "# if the 1st expression is False -> o/p = 1st expression --> else o/p = 2nd expression\n",
    "print(a and b)                                                                            # Output -> ''\n",
    "\n",
    "# or operator\n",
    "# if the 1st expression is True -> o/p = 1st expression --> else o/p = 2nd expression\n",
    "print(a or b)                                                                             # Output -> Python\n",
    "\n",
    "# or operator\n",
    "# if the expression is True -> o/p = False\n",
    "print(not a)                                                                              # Output -> False\n",
    "\n",
    "# or operator\n",
    "# if the expression is False -> o/p = True\n",
    "print(not b)                                                                              # Output -> True"
   ]
  },
  {
   "cell_type": "markdown",
   "metadata": {},
   "source": [
    "# 10.2 - Logical operators\n",
    "\n",
    "    a = ''\n",
    "    b = ''"
   ]
  },
  {
   "cell_type": "code",
   "execution_count": 42,
   "metadata": {},
   "outputs": [
    {
     "name": "stdout",
     "output_type": "stream",
     "text": [
      "\n",
      "\n",
      "True\n",
      "True\n"
     ]
    }
   ],
   "source": [
    "a = ''\n",
    "b = ''\n",
    "\n",
    "#Apply logical opereators (and, or & not) on above string values and observe the output.\n",
    "\n",
    "# and operator\n",
    "# if the 1st expression is False -> o/p = 1st expression --> else o/p = 2nd expression\n",
    "print(a and b)                                                                            # Output -> ''\n",
    "\n",
    "# or operator\n",
    "# if the 1st expression is True -> o/p = 1st expression --> else o/p = 2nd expression\n",
    "print(a or b)                                                                             # Output -> ''\n",
    "\n",
    "# or operator\n",
    "# if the expression is True -> o/p = False\n",
    "print(not a)                                                                              # Output -> True\n",
    "\n",
    "# or operator\n",
    "# if the expression is False -> o/p = True\n",
    "print(not b)                                                                              # Output -> True"
   ]
  },
  {
   "cell_type": "markdown",
   "metadata": {},
   "source": [
    "# 10.3 - Logical operators\n",
    "\n",
    "    a = 'Python'\n",
    "    b = 'learnbay'"
   ]
  },
  {
   "cell_type": "code",
   "execution_count": 41,
   "metadata": {},
   "outputs": [
    {
     "name": "stdout",
     "output_type": "stream",
     "text": [
      "learnbay\n",
      "Python\n",
      "False\n",
      "False\n"
     ]
    }
   ],
   "source": [
    "a = 'Python'\n",
    "b = 'learnbay'\n",
    "\n",
    "#Apply logical opereators (and, or & not) on above string values and observe the output.\n",
    "\n",
    "# and operator\n",
    "# if the 1st expression is False -> o/p = 1st expression --> else o/p = 2nd expression\n",
    "print(a and b)                                                                            # Output -> learnbay\n",
    "\n",
    "# or operator\n",
    "# if the 1st expression is True -> o/p = 1st expression --> else o/p = 2nd expression\n",
    "print(a or b)                                                                             # Output -> Python\n",
    "\n",
    "# or operator\n",
    "# if the expression is True -> o/p = False\n",
    "print(not a)                                                                              # Output -> False\n",
    "\n",
    "# or operator\n",
    "# if the expression is False -> o/p = True\n",
    "print(not b)                                                                              # Output -> False"
   ]
  },
  {
   "cell_type": "markdown",
   "metadata": {},
   "source": [
    "# 11 - find and index method\n",
    "\n",
    "    my_str = \"Although 8 that way may not be obvious at first unless you're Dutch\"\n",
    "\n",
    "### Write the code to get the total count of 't' in above string. Use find() and index() method. -> CONFUSED\n",
    "    print()\n",
    "    print()\n",
    "\n",
    "    #Write the code to get the index of '8' in my_str. Use find() and index() method.\n",
    "    print()\n",
    "    print()\n",
    "\n",
    "    #What will be the output of below code?\n",
    "    print(my_str.find('the'))\n",
    "\n",
    "\n",
    "    print(my_str.index('the'))\n",
    "\n",
    "\n",
    "    print(my_str.find('t', 9, 15))\n",
    "\n",
    "\n",
    "    print(my_str.rfind('u'))\n",
    "\n",
    "\n",
    "    print(my_str.rindex('u'))"
   ]
  },
  {
   "cell_type": "code",
   "execution_count": 63,
   "metadata": {},
   "outputs": [
    {
     "name": "stdout",
     "output_type": "stream",
     "text": [
      "\n",
      "\n",
      "9\n",
      "9\n"
     ]
    }
   ],
   "source": [
    "my_str = \"Although 8 that way may not be obvious at first unless you're Dutch\"\n",
    "\n",
    "# Write the code to get the total count of 't' in above string. Use find() and index() method.\n",
    "print()\n",
    "print()\n",
    "\n",
    "# Write the code to get the index of '8' in my_str. Use find() and index() method.\n",
    "print(my_str.find('8'))      # index of 1st occurence of 't'\n",
    "print(my_str.index('8'))     # index of 1st occurence of 't'"
   ]
  },
  {
   "cell_type": "code",
   "execution_count": 51,
   "metadata": {},
   "outputs": [
    {
     "name": "stdout",
     "output_type": "stream",
     "text": [
      "-1\n"
     ]
    }
   ],
   "source": [
    "# What will be the output of below code?\n",
    "\n",
    "my_str = \"Although 8 that way may not be obvious at first unless you're Dutch\"\n",
    "\n",
    "print(my_str.find('the'))                 # string 'the' does not exist in my_str  -> find method returns -1"
   ]
  },
  {
   "cell_type": "code",
   "execution_count": 52,
   "metadata": {},
   "outputs": [
    {
     "ename": "ValueError",
     "evalue": "substring not found",
     "output_type": "error",
     "traceback": [
      "\u001b[1;31m---------------------------------------------------------------------------\u001b[0m",
      "\u001b[1;31mValueError\u001b[0m                                Traceback (most recent call last)",
      "\u001b[1;32m<ipython-input-52-2916a0516b89>\u001b[0m in \u001b[0;36m<module>\u001b[1;34m\u001b[0m\n\u001b[0;32m      1\u001b[0m \u001b[0mmy_str\u001b[0m \u001b[1;33m=\u001b[0m \u001b[1;34m\"Although 8 that way may not be obvious at first unless you're Dutch\"\u001b[0m\u001b[1;33m\u001b[0m\u001b[1;33m\u001b[0m\u001b[0m\n\u001b[0;32m      2\u001b[0m \u001b[1;33m\u001b[0m\u001b[0m\n\u001b[1;32m----> 3\u001b[1;33m \u001b[0mprint\u001b[0m\u001b[1;33m(\u001b[0m\u001b[0mmy_str\u001b[0m\u001b[1;33m.\u001b[0m\u001b[0mindex\u001b[0m\u001b[1;33m(\u001b[0m\u001b[1;34m'the'\u001b[0m\u001b[1;33m)\u001b[0m\u001b[1;33m)\u001b[0m                 \u001b[1;31m# string 'the' does not exist in my_str  -> value error\u001b[0m\u001b[1;33m\u001b[0m\u001b[1;33m\u001b[0m\u001b[0m\n\u001b[0m\u001b[0;32m      4\u001b[0m \u001b[1;33m\u001b[0m\u001b[0m\n",
      "\u001b[1;31mValueError\u001b[0m: substring not found"
     ]
    }
   ],
   "source": [
    "my_str = \"Although 8 that way may not be obvious at first unless you're Dutch\"\n",
    "\n",
    "print(my_str.index('the'))                 # string 'the' does not exist in my_str  -> index method returns value error"
   ]
  },
  {
   "cell_type": "code",
   "execution_count": 62,
   "metadata": {},
   "outputs": [
    {
     "name": "stdout",
     "output_type": "stream",
     "text": [
      "11\n"
     ]
    }
   ],
   "source": [
    "my_str = \"Although 8 that way may not be obvious at first unless you're Dutch\"\n",
    "\n",
    "# finds 't' in between index 9 and 14 and returns the index of 1st occurence of 't'\n",
    "print(my_str.find('t', 9, 15))                 # index of 1st occurence of 't' in between index 9 and 14 is 11"
   ]
  },
  {
   "cell_type": "code",
   "execution_count": 60,
   "metadata": {},
   "outputs": [
    {
     "name": "stdout",
     "output_type": "stream",
     "text": [
      "63\n"
     ]
    }
   ],
   "source": [
    "my_str = \"Although 8 that way may not be obvious at first unless you're Dutch\"\n",
    "\n",
    "# print(len(my_str)) # = 67\n",
    "\n",
    "# length of the string is 67 - indexing is done from 0 to 66\n",
    "# rfind will check the string from right to left and return the index of 1st occurence of u from right\n",
    "print(my_str.rfind('u'))                 # 66 - 3 = 63\n"
   ]
  },
  {
   "cell_type": "code",
   "execution_count": 61,
   "metadata": {},
   "outputs": [
    {
     "name": "stdout",
     "output_type": "stream",
     "text": [
      "63\n"
     ]
    }
   ],
   "source": [
    "my_str = \"Although 8 that way may not be obvious at first unless you're Dutch\"\n",
    "\n",
    "# print(len(my_str)) # = 67\n",
    "\n",
    "# length of the string is 67 - indexing is done from 0 to 66\n",
    "# rindex will check the string from right to left and return the index of 1st occurence of u from right\n",
    "print(my_str.rindex('u'))                 # 66 - 3 = 63"
   ]
  },
  {
   "cell_type": "markdown",
   "metadata": {},
   "source": [
    "# 12 - Write a program which applies strip() method if any string, which will be taken from user, starts and ends with space, or applies \n",
    "\n",
    "    rrstrip() method if that string only ends with space or applies lstrip() method if that string only starts with a space.\n",
    "\n",
    "    #For example:-\n",
    "    #input:- '    Python   '\n",
    "    #output:- 'Python'\n",
    "\n",
    "    #input:- '    Python'\n",
    "    #output:- 'Python'\n",
    "\n",
    "    #input:- 'Python   '\n",
    "    #output:- 'Python'"
   ]
  },
  {
   "cell_type": "code",
   "execution_count": null,
   "metadata": {},
   "outputs": [],
   "source": []
  },
  {
   "cell_type": "code",
   "execution_count": 65,
   "metadata": {},
   "outputs": [
    {
     "name": "stdout",
     "output_type": "stream",
     "text": [
      "Python\n",
      "Python\n",
      "Python\n"
     ]
    }
   ],
   "source": [
    "input = '    Python   '    # output:- 'Python'\n",
    "print (input.strip())\n",
    "\n",
    "input = '    Python'       # output:- 'Python'\n",
    "print (input.lstrip())\n",
    "\n",
    "input = 'Python   '        # output:- 'Python'\n",
    "print (input.rstrip())"
   ]
  },
  {
   "cell_type": "markdown",
   "metadata": {},
   "source": [
    "# 13 - Upper, Lower"
   ]
  },
  {
   "cell_type": "code",
   "execution_count": 66,
   "metadata": {},
   "outputs": [
    {
     "name": "stdout",
     "output_type": "stream",
     "text": [
      "ALTHOUGH 8 THAT WAY MAY NOT BE OBVIOUS AT FIRST UNLESS YOU'RE DUTCH\n",
      "although 8 that way may not be obvious at first unless you're dutch\n",
      "aLTHOUGH 8 THAT WAY MAY NOT BE OBVIOUS AT FIRST UNLESS YOU'RE dUTCH\n"
     ]
    }
   ],
   "source": [
    "my_str = \"Although 8 that way may not be obvious at first unless you're Dutch\"\n",
    "\n",
    "#Write the code to convert all alphabets in my_str into upper case.\n",
    "print(my_str.upper())\n",
    "\n",
    "#Write the code to convert all alphabets in my_str into lower case.\n",
    "print(my_str.lower())\n",
    "\n",
    "#Write the code to swap the cases of all alphabets in my_str.(lower to upper and upper to lower)\n",
    "print(my_str.swapcase())"
   ]
  },
  {
   "cell_type": "markdown",
   "metadata": {},
   "source": [
    "# 14 - Write the code which takes one string from user and \n",
    "\n",
    "    if it starts with small case letter then convert it to corresponding capital letter\n",
    "    otherwise if starts with capital letters then convert first character of every word in that string into capital."
   ]
  },
  {
   "cell_type": "code",
   "execution_count": null,
   "metadata": {},
   "outputs": [],
   "source": []
  },
  {
   "cell_type": "code",
   "execution_count": 10,
   "metadata": {},
   "outputs": [
    {
     "name": "stdout",
     "output_type": "stream",
     "text": [
      "Enter a string: if it starts with small case letter then convert it to corresponding capital letter.\n",
      "\n",
      "If it starts with small case letter then convert it to corresponding capital letter.\n"
     ]
    }
   ],
   "source": [
    "str1 = input ('Enter a string: ')\n",
    "f = str1[0]\n",
    "print()\n",
    "if ord(f) >= 97 and ord(f) <= 122:\n",
    "    print(str1.capitalize())\n",
    "elif ord(f) >= 65 and ord(f) <= 90:\n",
    "    print(str1.title())\n",
    "else:\n",
    "    print('XXXX The 1st letter in your input is not an alphabet XXXX')"
   ]
  },
  {
   "cell_type": "code",
   "execution_count": 12,
   "metadata": {},
   "outputs": [
    {
     "name": "stdout",
     "output_type": "stream",
     "text": [
      "Enter a string: \n",
      "Otherwise if starts with capital letters then convert first character of every word in that string into capital.\n",
      "\n",
      "Otherwise If Starts With Capital Letters Then Convert First Character Of Every Word In That String Into Capital.\n"
     ]
    }
   ],
   "source": [
    "str1 = input ('Enter a string: \\n')\n",
    "f = str1[0]\n",
    "print()\n",
    "if ord(f) >= 97 and ord(f) <= 122:\n",
    "    print(str1.capitalize())\n",
    "elif ord(f) >= 65 and ord(f) <= 90:\n",
    "    print(str1.title())\n",
    "else:\n",
    "    print('XXXX The 1st letter in your input is not an alphabet XXXX')"
   ]
  },
  {
   "cell_type": "markdown",
   "metadata": {},
   "source": [
    "# 15 - Take a string from user and check if it is:-\n",
    "    1. alphanumeric\n",
    "    2. alphabets\n",
    "    3. digit\n",
    "    4. all letters are in lower case\n",
    "    5. all letters are in upper case\n",
    "    6. in title case\n",
    "    7. a space character\n",
    "    8. numeric\n",
    "    9. all number elements in string are decimal"
   ]
  },
  {
   "cell_type": "code",
   "execution_count": 2,
   "metadata": {},
   "outputs": [
    {
     "name": "stdout",
     "output_type": "stream",
     "text": [
      "Enter a string: Astring0fNumbers123456789\n"
     ]
    },
    {
     "data": {
      "text/plain": [
       "True"
      ]
     },
     "execution_count": 2,
     "metadata": {},
     "output_type": "execute_result"
    }
   ],
   "source": [
    "# check if it is alphanumeric\n",
    "\n",
    "str1 = input ('Enter a string: ')\n",
    "\n",
    "str1.isalnum()"
   ]
  },
  {
   "cell_type": "code",
   "execution_count": 1,
   "metadata": {},
   "outputs": [
    {
     "name": "stdout",
     "output_type": "stream",
     "text": [
      "Enter a string: AnALPHAstring\n"
     ]
    },
    {
     "data": {
      "text/plain": [
       "True"
      ]
     },
     "execution_count": 1,
     "metadata": {},
     "output_type": "execute_result"
    }
   ],
   "source": [
    "# check if it is alphabets\n",
    "\n",
    "str1 = input ('Enter a string: ')\n",
    "\n",
    "str1.isalpha()"
   ]
  },
  {
   "cell_type": "code",
   "execution_count": 1,
   "metadata": {},
   "outputs": [
    {
     "name": "stdout",
     "output_type": "stream",
     "text": [
      "Enter a string: 123\n"
     ]
    },
    {
     "data": {
      "text/plain": [
       "True"
      ]
     },
     "execution_count": 1,
     "metadata": {},
     "output_type": "execute_result"
    }
   ],
   "source": [
    "# check if it is digit\n",
    "\n",
    "str1 = input ('Enter a string: ')\n",
    "\n",
    "str1.isdigit()"
   ]
  },
  {
   "cell_type": "code",
   "execution_count": 2,
   "metadata": {},
   "outputs": [
    {
     "name": "stdout",
     "output_type": "stream",
     "text": [
      "Enter a string: if it is all letters are in lower case\n"
     ]
    },
    {
     "data": {
      "text/plain": [
       "True"
      ]
     },
     "execution_count": 2,
     "metadata": {},
     "output_type": "execute_result"
    }
   ],
   "source": [
    "# check if it is all letters are in lower case\n",
    "\n",
    "str1 = input ('Enter a string: ')\n",
    "\n",
    "str1.islower()"
   ]
  },
  {
   "cell_type": "code",
   "execution_count": 1,
   "metadata": {},
   "outputs": [
    {
     "name": "stdout",
     "output_type": "stream",
     "text": [
      "Enter a string: IF ALL LETTERS ARE CAPITAL\n"
     ]
    },
    {
     "data": {
      "text/plain": [
       "True"
      ]
     },
     "execution_count": 1,
     "metadata": {},
     "output_type": "execute_result"
    }
   ],
   "source": [
    "# check if it is all letters are in upper case\n",
    "\n",
    "str1 = input ('Enter a string: ')\n",
    "\n",
    "str1.isupper()"
   ]
  },
  {
   "cell_type": "code",
   "execution_count": 2,
   "metadata": {},
   "outputs": [
    {
     "name": "stdout",
     "output_type": "stream",
     "text": [
      "Enter a string: If Character Of Each Word Is Capital\n"
     ]
    },
    {
     "data": {
      "text/plain": [
       "True"
      ]
     },
     "execution_count": 2,
     "metadata": {},
     "output_type": "execute_result"
    }
   ],
   "source": [
    "# check if it is in title case\n",
    "\n",
    "str1 = input ('Enter a string: ')\n",
    "\n",
    "str1.istitle()"
   ]
  },
  {
   "cell_type": "code",
   "execution_count": 3,
   "metadata": {},
   "outputs": [
    {
     "name": "stdout",
     "output_type": "stream",
     "text": [
      "Enter a string:         \n"
     ]
    },
    {
     "data": {
      "text/plain": [
       "True"
      ]
     },
     "execution_count": 3,
     "metadata": {},
     "output_type": "execute_result"
    }
   ],
   "source": [
    "# check if it is a space character\n",
    "\n",
    "str1 = input ('Enter a string: ')\n",
    "\n",
    "str1.isspace()"
   ]
  },
  {
   "cell_type": "code",
   "execution_count": 7,
   "metadata": {},
   "outputs": [
    {
     "name": "stdout",
     "output_type": "stream",
     "text": [
      "Enter a string: \\u00BC\n"
     ]
    },
    {
     "data": {
      "text/plain": [
       "False"
      ]
     },
     "execution_count": 7,
     "metadata": {},
     "output_type": "execute_result"
    }
   ],
   "source": [
    "# check if it is numeric\n",
    "\n",
    "str1 = input ('Enter a string: ')\n",
    "\n",
    "str1.isnumeric()"
   ]
  },
  {
   "cell_type": "code",
   "execution_count": 9,
   "metadata": {},
   "outputs": [
    {
     "name": "stdout",
     "output_type": "stream",
     "text": [
      "Enter a string: 424534\n"
     ]
    },
    {
     "data": {
      "text/plain": [
       "True"
      ]
     },
     "execution_count": 9,
     "metadata": {},
     "output_type": "execute_result"
    }
   ],
   "source": [
    "# check if it is all number elements in string are decimal\n",
    "\n",
    "str1 = input ('Enter a string: ')\n",
    "\n",
    "str1.isdecimal()"
   ]
  },
  {
   "cell_type": "markdown",
   "metadata": {},
   "source": [
    "# 16 - Write a program which takes a string as an input and prints True if the string is valid identifier else returns False.\n",
    "\n",
    "    Sample Input:- 'abc', 'abc1', 'ab1c', '1abc', 'abc$', '_abc', 'if'"
   ]
  },
  {
   "cell_type": "code",
   "execution_count": 13,
   "metadata": {},
   "outputs": [
    {
     "name": "stdout",
     "output_type": "stream",
     "text": [
      "Enter an identifier and check if it is valid identifier or not: abc\n",
      "\n",
      "Is \"abc\" a valid identifier?    True\n"
     ]
    }
   ],
   "source": [
    "identifier = input ('Enter an identifier and check if it is valid identifier or not: ')\n",
    "\n",
    "print()\n",
    "\n",
    "print(f'Is \"{identifier}\" a valid identifier?    {identifier.isidentifier()}')"
   ]
  },
  {
   "cell_type": "code",
   "execution_count": 14,
   "metadata": {},
   "outputs": [
    {
     "name": "stdout",
     "output_type": "stream",
     "text": [
      "Is \"abc\" a valid identifier?    True\n",
      "Is \"abc1\" a valid identifier?   True\n",
      "Is \"ab1c\" a valid identifier?   True\n",
      "Is \"1abc\" a valid identifier?   False\n",
      "Is \"abc$\" a valid identifier?   False\n",
      "Is \"_abc\" a valid identifier?   True\n",
      "Is \"if\" a valid identifier?     True\n"
     ]
    }
   ],
   "source": [
    "# Sample Input:- 'abc', 'abc1', 'ab1c', '1abc', 'abc$', '_abc', 'if'\n",
    "\n",
    "in1 = 'abc'\n",
    "in2 = 'abc1'\n",
    "in3 = 'ab1c'\n",
    "in4 = '1abc'\n",
    "in5 = 'abc$'\n",
    "in6 = '_abc'\n",
    "in7 = 'if'\n",
    "\n",
    "print(f'Is \"{in1}\" a valid identifier?    {in1.isidentifier()}')\n",
    "print(f'Is \"{in2}\" a valid identifier?   {in2.isidentifier()}')\n",
    "print(f'Is \"{in3}\" a valid identifier?   {in3.isidentifier()}')\n",
    "print(f'Is \"{in4}\" a valid identifier?   {in4.isidentifier()}')\n",
    "print(f'Is \"{in5}\" a valid identifier?   {in5.isidentifier()}')\n",
    "print(f'Is \"{in6}\" a valid identifier?   {in6.isidentifier()}')\n",
    "print(f'Is \"{in7}\" a valid identifier?     {in7.isidentifier()}')"
   ]
  },
  {
   "cell_type": "markdown",
   "metadata": {},
   "source": [
    "# 17 - What will be output of below code?"
   ]
  },
  {
   "cell_type": "code",
   "execution_count": 23,
   "metadata": {},
   "outputs": [
    {
     "name": "stdout",
     "output_type": "stream",
     "text": [
      "True\n",
      "False\n",
      "False\n",
      "True\n"
     ]
    }
   ],
   "source": [
    "s = chr(65) + chr(97)        # s= A + a = Aa\n",
    "print(s.isprintable())       # True\n",
    "\n",
    "s = chr(27) + chr(97)        # s = '\\x1b' + a = '\\x1ba'      (CONFUSION - what is '\\x1b')\n",
    "print(s.isprintable())       # False\n",
    "\n",
    "s = '\\n'                     # s = new line\n",
    "print(s.isprintable())       # False\n",
    "\n",
    "s = ''                       # s = empty string\n",
    "print(s.isprintable())       # True"
   ]
  },
  {
   "cell_type": "markdown",
   "metadata": {},
   "source": [
    "# 18 - What will be output of below code?\n",
    "\n",
    "    ASCII contains 127 symbols containing\n",
    "        None\n",
    "        All alphabets (in small and caps)\n",
    "        Space character\n",
    "        Numbers (0-9)\n",
    "        special characters\n",
    "    \n",
    "    and more..."
   ]
  },
  {
   "cell_type": "code",
   "execution_count": 24,
   "metadata": {},
   "outputs": [
    {
     "name": "stdout",
     "output_type": "stream",
     "text": [
      "True\n",
      "True\n",
      "True\n",
      "True\n",
      "False\n",
      "False\n"
     ]
    }
   ],
   "source": [
    "my_string = '  '\n",
    "print(my_string.isascii())               # True: ASCII includes space character\n",
    "\n",
    "my_string = 'Studytonight'\n",
    "print(my_string.isascii())               # True: ASCII includes alpbabets lower as well as capital\n",
    "\n",
    "my_string = 'Study tonight'\n",
    "print(my_string.isascii())               # True: ASCII includes alpbabets lower as well as capital and space character\n",
    "\n",
    "my_string = 'Studytonight@123'\n",
    "print(my_string.isascii())               # True: ASCII includes special characters\n",
    "\n",
    "my_string = '°'\n",
    "print(my_string.isascii())               # False: ASCII does not includes degree symbol\n",
    "\n",
    "my_string = 'ö'\n",
    "print(my_string.isascii())               # False: ASCII does not includes any extended alphabet than the usual alphabets"
   ]
  },
  {
   "cell_type": "markdown",
   "metadata": {},
   "source": [
    "# 19 - What will be the output of below code?"
   ]
  },
  {
   "cell_type": "code",
   "execution_count": 25,
   "metadata": {},
   "outputs": [
    {
     "name": "stdout",
     "output_type": "stream",
     "text": [
      "The strings are equal.\n"
     ]
    }
   ],
   "source": [
    "firstString = \"der Fluß\"\n",
    "secondString = \"der Fluss\"\n",
    "\n",
    "if firstString.casefold() == secondString.casefold():         # True: casefold is more aggressive than lower - ß is ss\n",
    "    print('The strings are equal.')                           # as casefold is applied both the strings are equal\n",
    "else:\n",
    "    print('The strings are not equal.')                       # This won't be printed"
   ]
  },
  {
   "cell_type": "markdown",
   "metadata": {},
   "source": [
    "# 20 - Write the code to get below output\n",
    "\n",
    "    ljust\n",
    "            string.ljust(width, fillchar=' ')           -> default fill character is space\n",
    "\n",
    "        Returns a left-justified string of length width.\n",
    "        Padding is done using the specified fill character (default is a space).\n",
    "\n",
    "\n",
    "    rjust\n",
    "            string.rjust(width, fillchar=' ')           -> default fill character is space\n",
    "\n",
    "        Return a right-justified string of length width.\n",
    "        Padding is done using the specified fill character (default is a space).\n",
    "\n",
    "\n",
    "    center\n",
    "            string.center(width, fillchar=' ', /)       -> default fill character is space\n",
    "\n",
    "        Return a centered string of length width.\n",
    "        Padding is done using the specified fill character (default is a space)."
   ]
  },
  {
   "cell_type": "code",
   "execution_count": 52,
   "metadata": {},
   "outputs": [
    {
     "name": "stdout",
     "output_type": "stream",
     "text": [
      "python**\n"
     ]
    }
   ],
   "source": [
    "#O/P 1:- python** (using ljust method)\n",
    "\n",
    "string = 'python'\n",
    "\n",
    "print(string.ljust(8,'*'))"
   ]
  },
  {
   "cell_type": "code",
   "execution_count": 53,
   "metadata": {},
   "outputs": [
    {
     "name": "stdout",
     "output_type": "stream",
     "text": [
      "**python\n"
     ]
    }
   ],
   "source": [
    "#O/P 1:- **python (using rjust method)\n",
    "\n",
    "string = 'python'\n",
    "print(string.rjust(8,'*'))"
   ]
  },
  {
   "cell_type": "code",
   "execution_count": 54,
   "metadata": {},
   "outputs": [
    {
     "name": "stdout",
     "output_type": "stream",
     "text": [
      "**python**\n"
     ]
    }
   ],
   "source": [
    "#O/P 1:- **python** (using rjust method)\n",
    "\n",
    "string = 'python'\n",
    "print(string.center(10,'*'))"
   ]
  },
  {
   "cell_type": "markdown",
   "metadata": {},
   "source": [
    "# 21 - Write a Python program to find the length of the my_str:-\n",
    "\n",
    "    Input:- 'Write a Python program to find the length of the my_str'\n",
    "    Output:- 55"
   ]
  },
  {
   "cell_type": "code",
   "execution_count": 55,
   "metadata": {},
   "outputs": [
    {
     "name": "stdout",
     "output_type": "stream",
     "text": [
      "55\n"
     ]
    }
   ],
   "source": [
    "InputString = 'Write a Python program to find the length of the my_str'\n",
    "\n",
    "print(len(InputString))"
   ]
  },
  {
   "cell_type": "markdown",
   "metadata": {},
   "source": [
    "# 22 - Write a Python program to find the total number of times letter 'p' is appeared in the below string:-\n",
    "    \n",
    "    Input:- 'peter piper picked a peck of pickled peppers.'\n",
    "    Output:- 9"
   ]
  },
  {
   "cell_type": "code",
   "execution_count": 58,
   "metadata": {},
   "outputs": [
    {
     "name": "stdout",
     "output_type": "stream",
     "text": [
      "9\n"
     ]
    }
   ],
   "source": [
    "InputString = 'peter piper picked a peck of pickled peppers.'\n",
    "\n",
    "print(InputString.count('p'))"
   ]
  },
  {
   "cell_type": "markdown",
   "metadata": {},
   "source": [
    "# 23 - Write a Python Program, to print all the indexes of all occurences of letter 'p' appeared in the string:-\n",
    "    \n",
    "    Input:- 'peter piper picked a peck of pickled peppers.'\n",
    "    Output:- \n",
    "    0\n",
    "    6\n",
    "    8\n",
    "    12\n",
    "    21\n",
    "    29\n",
    "    37\n",
    "    39\n",
    "    40"
   ]
  },
  {
   "cell_type": "code",
   "execution_count": 85,
   "metadata": {},
   "outputs": [
    {
     "name": "stdout",
     "output_type": "stream",
     "text": [
      "0\n",
      "6\n",
      "8\n",
      "12\n",
      "21\n",
      "29\n",
      "37\n",
      "39\n",
      "40\n"
     ]
    }
   ],
   "source": [
    "InputString = 'peter piper picked a peck of pickled peppers.'\n",
    "\n",
    "sn = 0\n",
    "for i in InputString:\n",
    "    if sn <= len(InputString) and InputString[sn] == 'p':\n",
    "                print(InputString.find('p',sn,len(InputString)))\n",
    "    sn += 1"
   ]
  },
  {
   "cell_type": "markdown",
   "metadata": {},
   "source": [
    "# 24 - Write a python program to find below output:-\n",
    "\n",
    "    Input:- 'peter piper picked a peck of pickled peppers.'\n",
    "    Output:- ['peter', 'piper', 'picked', 'a', 'peck', 'of', 'pickled', 'peppers.']"
   ]
  },
  {
   "cell_type": "code",
   "execution_count": 91,
   "metadata": {},
   "outputs": [
    {
     "name": "stdout",
     "output_type": "stream",
     "text": [
      "['peter', 'piper', 'picked', 'a', 'peck', 'of', 'pickled', 'peppers.']\n"
     ]
    }
   ],
   "source": [
    "InputString = 'peter piper picked a peck of pickled peppers.'\n",
    "\n",
    "print (InputString.split())"
   ]
  },
  {
   "cell_type": "markdown",
   "metadata": {},
   "source": [
    "# 25 - Write a python program to find below output:-\n",
    "\n",
    "    Input:- 'peter piper picked a peck of pickled peppers.'\n",
    "    Output:- 'peppers. pickled of peck a picked piper peter'"
   ]
  },
  {
   "cell_type": "code",
   "execution_count": 100,
   "metadata": {},
   "outputs": [
    {
     "name": "stdout",
     "output_type": "stream",
     "text": [
      "peppers. pickled of peck a picked piper peter\n"
     ]
    }
   ],
   "source": [
    "InputString = 'peter piper picked a peck of pickled peppers.'\n",
    "\n",
    "print (' '.join(InputString.split() [::-1]))"
   ]
  },
  {
   "cell_type": "markdown",
   "metadata": {},
   "source": [
    "# 26 -  Write a python program to find below output:-\n",
    "\n",
    "    Input:- 'peter piper picked a peck of pickled peppers.'\n",
    "    Output:- '.sreppep delkcip fo kcep a dekcip repip retep'"
   ]
  },
  {
   "cell_type": "code",
   "execution_count": 107,
   "metadata": {},
   "outputs": [
    {
     "name": "stdout",
     "output_type": "stream",
     "text": [
      ".sreppep delkcip fo kcep a dekcip repip retep\n"
     ]
    }
   ],
   "source": [
    "InputString = 'peter piper picked a peck of pickled peppers.'\n",
    "\n",
    "print (InputString[::-1])"
   ]
  },
  {
   "cell_type": "markdown",
   "metadata": {},
   "source": [
    "# 27 - Write a python program to find below output:-\n",
    "\n",
    "    Input:- 'peter piper picked a peck of pickled peppers.'\n",
    "    Output:- 'retep repip dekcip a kcep fo delkcip .sreppep'"
   ]
  },
  {
   "cell_type": "code",
   "execution_count": 110,
   "metadata": {},
   "outputs": [
    {
     "name": "stdout",
     "output_type": "stream",
     "text": [
      "retep repip dekcip a kcep fo delkcip .sreppep\n"
     ]
    }
   ],
   "source": [
    "InputString = 'peter piper picked a peck of pickled peppers.'\n",
    "\n",
    "rev = InputString[::-1]\n",
    "\n",
    "print (' '.join(rev.split() [::-1]))"
   ]
  },
  {
   "cell_type": "markdown",
   "metadata": {},
   "source": [
    "# 28 - Write a python program to find below output:-\n",
    "\n",
    "    Input:- 'peter piper picked a peck of pickled peppers.'\n",
    "    Output:- 'Peter Piper Picked A Peck Of Pickled Peppers.'"
   ]
  },
  {
   "cell_type": "code",
   "execution_count": 111,
   "metadata": {},
   "outputs": [
    {
     "name": "stdout",
     "output_type": "stream",
     "text": [
      "Peter Piper Picked A Peck Of Pickled Peppers.\n"
     ]
    }
   ],
   "source": [
    "InputString = 'peter piper picked a peck of pickled peppers.'\n",
    "\n",
    "print (InputString.title())"
   ]
  },
  {
   "cell_type": "markdown",
   "metadata": {},
   "source": [
    "# 29 - Write a python program to find below output:-\n",
    "\n",
    "    Input:- 'Peter Piper Picked A Peck Of Pickled Peppers.'\n",
    "    Output:- 'Peter piper picked a peck of pickled peppers.'"
   ]
  },
  {
   "cell_type": "code",
   "execution_count": 112,
   "metadata": {},
   "outputs": [
    {
     "name": "stdout",
     "output_type": "stream",
     "text": [
      "Peter piper picked a peck of pickled peppers.\n"
     ]
    }
   ],
   "source": [
    "InputString = 'Peter Piper Picked A Peck Of Pickled Peppers.'\n",
    "\n",
    "print (InputString.capitalize())"
   ]
  },
  {
   "cell_type": "markdown",
   "metadata": {},
   "source": [
    "# 30 - Write a python program to implement index method.\n",
    "\n",
    "    If sub_str is found in my_str \n",
    "    then it will print the index of first occurrence of first character of matching string in my_str:-\n",
    "\n",
    "    Input:- my_str = 'Peter Piper Picked A Peck Of Pickled Peppers.', sub_str = 'Pickl'\n",
    "    Output:- 29"
   ]
  },
  {
   "cell_type": "code",
   "execution_count": 113,
   "metadata": {},
   "outputs": [
    {
     "name": "stdout",
     "output_type": "stream",
     "text": [
      "29\n"
     ]
    }
   ],
   "source": [
    "my_str = 'Peter Piper Picked A Peck Of Pickled Peppers.'\n",
    "sub_str = 'Pickl'\n",
    "\n",
    "print (my_str.index(sub_str))"
   ]
  },
  {
   "cell_type": "markdown",
   "metadata": {},
   "source": [
    "# 31 - Write a python program to implement replace method.\n",
    "\n",
    "    If sub_str is found in my_str\n",
    "    then it will replace the first occurrence of sub_str with new_str else it will will print sub_str not found:-\n",
    "\n",
    "    Input:- my_str = 'Peter Piper Picked A Peck Of Pickled Peppers.', sub_str = 'Peck', new_str = 'Pack'\n",
    "    Output:- 'Peter Piper Picked A Pack Of Pickled Peppers.'"
   ]
  },
  {
   "cell_type": "code",
   "execution_count": 114,
   "metadata": {},
   "outputs": [
    {
     "name": "stdout",
     "output_type": "stream",
     "text": [
      "Peter Piper Picked A Pack Of Pickled Peppers.\n"
     ]
    }
   ],
   "source": [
    "my_str = 'Peter Piper Picked A Peck Of Pickled Peppers.'\n",
    "sub_str = 'Peck'\n",
    "new_str = 'Pack'\n",
    "\n",
    "print (my_str.replace(sub_str, new_str))"
   ]
  },
  {
   "cell_type": "markdown",
   "metadata": {},
   "source": [
    "# 32 - Write a python program to find below output (implements rjust and ljust):-\n",
    "\n",
    "    Input:- 'Peter Piper Picked A Peck Of Pickled Peppers.', sub_str = 'Peck', \n",
    "    Output:- '*********************Peck********************'"
   ]
  },
  {
   "cell_type": "code",
   "execution_count": 22,
   "metadata": {},
   "outputs": [
    {
     "name": "stdout",
     "output_type": "stream",
     "text": [
      "*********************Peck********************\n",
      "*****************Peck************************\n"
     ]
    }
   ],
   "source": [
    "Input = 'Peter Piper Picked A Peck Of Pickled Peppers.'\n",
    "sub_str = 'Peck'\n",
    "\n",
    "print (sub_str.center(45, '*'))\n",
    "\n",
    "print(sub_str.rjust(Input.find(sub_str),'*').ljust(len(Input),'*'))\n"
   ]
  },
  {
   "cell_type": "code",
   "execution_count": null,
   "metadata": {},
   "outputs": [],
   "source": []
  }
 ],
 "metadata": {
  "kernelspec": {
   "display_name": "Python 3",
   "language": "python",
   "name": "python3"
  },
  "language_info": {
   "codemirror_mode": {
    "name": "ipython",
    "version": 3
   },
   "file_extension": ".py",
   "mimetype": "text/x-python",
   "name": "python",
   "nbconvert_exporter": "python",
   "pygments_lexer": "ipython3",
   "version": "3.8.3"
  }
 },
 "nbformat": 4,
 "nbformat_minor": 4
}
