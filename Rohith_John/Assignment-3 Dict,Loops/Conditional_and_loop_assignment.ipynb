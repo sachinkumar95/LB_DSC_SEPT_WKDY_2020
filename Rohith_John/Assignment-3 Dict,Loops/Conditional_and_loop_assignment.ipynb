{
 "cells": [
  {
   "cell_type": "markdown",
   "metadata": {
    "colab_type": "text",
    "id": "wNRNTbrsc53d"
   },
   "source": [
    "# If - elif - else statement"
   ]
  },
  {
   "cell_type": "code",
   "execution_count": 22,
   "metadata": {
    "colab": {},
    "colab_type": "code",
    "id": "MiPfTnBycxNa"
   },
   "outputs": [
    {
     "name": "stdout",
     "output_type": "stream",
     "text": [
      "enter a number within range of 0-9 10\n",
      "number is outside of the range\n"
     ]
    }
   ],
   "source": [
    "#W. A P. which takes one number from 0 to 9 from the user and prints it in the word. And if the word is not from 0 to 9 then\n",
    "#it should print that number is outside of the range and program should exit.\n",
    "# For exapmple:- \n",
    "# input = 1\n",
    "# output = one\n",
    "\n",
    "number=input(\"enter a number within range of 0-9 \")\n",
    "\n",
    "\n",
    "if number=='1':\n",
    "     print(\"one\")\n",
    "elif number=='2':\n",
    "    print(\"Two\")\n",
    "elif number=='3':\n",
    "    print(\"Three\")    \n",
    "elif number=='4':\n",
    "    print(\"Four\")        \n",
    "elif number=='5':\n",
    "    print(\"five\")\n",
    "elif number=='6':\n",
    "    print(\"six\")    \n",
    "elif number=='7':\n",
    "    print(\"seven\")    \n",
    "elif number=='8':\n",
    "    print(\"eight\")    \n",
    "elif number=='9':\n",
    "    print(\"Nine\")    \n",
    " \n",
    "else:\n",
    "    print(\"number is outside of the range\")\n",
    "\n",
    "\n",
    "\n"
   ]
  },
  {
   "cell_type": "code",
   "execution_count": 1,
   "metadata": {
    "colab": {},
    "colab_type": "code",
    "id": "vEMNOv9zdA39"
   },
   "outputs": [
    {
     "name": "stdout",
     "output_type": "stream",
     "text": [
      "Enter the number10\n",
      "Enter the number5\n",
      "enter the operation\n",
      "\n",
      "        * To add enter 1\n",
      "        * to subtract enter 2\n",
      "        * To multiply enter 3\n",
      "        * To divide enter 4\n",
      "        * To divide and find quotient enter 5\n",
      "        * To divide and find remainder enter 6\n",
      "        * To divide and find num1 to the power of num2 enter 7\n",
      "        * To Come out of the program enter 8\n",
      "        \n",
      "        5\n",
      "2\n"
     ]
    }
   ],
   "source": [
    "#W. A P. to implement calculator but the operation to be done and two numbers will be taken as input from user:-\n",
    "#Operation console should show below:-\n",
    "#     Please select any one operation from below:-\n",
    "#         * To add enter 1\n",
    "#         * to subtract enter 2\n",
    "#         * To multiply enter 3\n",
    "#         * To divide enter 4\n",
    "#         * To divide and find quotient enter 5\n",
    "#         * To divide and find remainder enter 6\n",
    "#         * To divide and find num1 to the power of num2 enter 7\n",
    "#         * To Come out of the program enter 8\n",
    "\n",
    "\n",
    "import sys\n",
    "\n",
    "n1=int(input(\"Enter the number\"))\n",
    "n2=int(input(\"Enter the number\"))\n",
    "\n",
    "operation=input('''enter the operation\n",
    "\n",
    "        * To add enter 1\n",
    "        * to subtract enter 2\n",
    "        * To multiply enter 3\n",
    "        * To divide enter 4\n",
    "        * To divide and find quotient enter 5\n",
    "        * To divide and find remainder enter 6\n",
    "        * To divide and find num1 to the power of num2 enter 7\n",
    "        * To Come out of the program enter 8\n",
    "        \n",
    "        ''')\n",
    "\n",
    "if operation=='1':\n",
    "    print(n1+n2)\n",
    "elif operation=='2':\n",
    "    print(n1-n2)\n",
    "elif operation=='3':\n",
    "    print(n1*n2)    \n",
    "elif operation=='4':\n",
    "    print(n1/n2)    \n",
    "elif operation=='5':\n",
    "    print(n1//n2)    \n",
    "elif operation=='6':\n",
    "    print(n1%n2)    \n",
    "elif operation=='7':\n",
    "    print(n1**n2)\n",
    "elif operation=='8':\n",
    "      quit()\n",
    "\n",
    "\n"
   ]
  },
  {
   "cell_type": "code",
   "execution_count": 9,
   "metadata": {
    "colab": {},
    "colab_type": "code",
    "id": "1e2gwYLqdC1s"
   },
   "outputs": [
    {
     "name": "stdout",
     "output_type": "stream",
     "text": [
      "Enter the year1800\n",
      "divisible by 4\n",
      "divisible by 100\n",
      "not divisible by 400\n",
      "not a leap year\n"
     ]
    }
   ],
   "source": [
    "#W A P to check whether a year entered by user is an leap year or not?\n",
    "#Check with below input:-\n",
    "    #leap year:- 2012, 1968, 2004, 1200, 1600,2400\n",
    "    #Non-lear year:- 1971, 2006, 1700,1800,1900\n",
    "    \n",
    "year=int(input(\"Enter the year\"))\n",
    "\n",
    "if year%4==0:\n",
    "    print(\"divisible by 4\")\n",
    "    if year%100==0:\n",
    "        print(\"divisible by 100\")\n",
    "        if year%400==0:\n",
    "            print(\"divisible by 400\")\n",
    "            print(\"leap year\")\n",
    "        \n",
    "        else:\n",
    "            print(\"not divisible by 400\")\n",
    "            print(\"not a leap year\")\n",
    "            \n",
    "    else:\n",
    "        print(\"not divisible by 100\")\n",
    "        print(\"leap year\")\n",
    "\n",
    "else:\n",
    "    print(\"not divisible by 4\")\n",
    "    print(\"not a leap year\")\n",
    "\n",
    "\n",
    "\n",
    "\n",
    "\n",
    "\n",
    "\n",
    "\n",
    "    \n",
    "    "
   ]
  },
  {
   "cell_type": "code",
   "execution_count": 2,
   "metadata": {
    "colab": {},
    "colab_type": "code",
    "id": "_tpXv1EtdEre"
   },
   "outputs": [
    {
     "name": "stdout",
     "output_type": "stream",
     "text": [
      "enter the no 4\n",
      "even no\n"
     ]
    }
   ],
   "source": [
    "#W A P which takes one number from the user and checks whether it is an even or odd number?, If it even then prints number is \n",
    "#even number else prints that number is odd number.\n",
    "\n",
    "n=int(input(\"enter the no \"))\n",
    "\n",
    "if n%2==0:\n",
    "    print(\"even no\")\n",
    "    \n",
    "else:\n",
    "    print(\"odd no\")\n",
    "\n",
    "\n",
    "\n",
    "\n",
    "\n",
    "\n"
   ]
  },
  {
   "cell_type": "code",
   "execution_count": 6,
   "metadata": {
    "colab": {},
    "colab_type": "code",
    "id": "Q1HumymCdG6i"
   },
   "outputs": [
    {
     "name": "stdout",
     "output_type": "stream",
     "text": [
      "enter the num110\n",
      "enter the num25\n",
      "num1 is greater than num2 \n"
     ]
    }
   ],
   "source": [
    "#W A P which takes two numbers from the user and prints below output:-\n",
    "#     1. num1 is greater than num2 if num1 is greater than num2\n",
    "#     2. num1 is smaller than num2 if num1 is smaller than num2\n",
    "#     3. num1 is equal to num2 if num1 and num2 are equal\n",
    "\n",
    "#Note:- 1. Do this problem using if - else \n",
    "#       2. Do this using ternary operator\n",
    "\n",
    "\n",
    "num1=int(input(\"enter the num1\"))\n",
    "num2=int(input(\"enter the num2\"))\n",
    "\n",
    "if num1>num2:\n",
    "    print(\"num1 is greater than num2 \")\n",
    "    \n",
    "elif num1==num2:\n",
    "    print(\"num1 is equal to num2\")\n",
    "else:\n",
    "    print(\"num1 is smaller than num2 \")\n",
    "    \n",
    "    \n",
    "    \n",
    "\n",
    "\n",
    "\n"
   ]
  },
  {
   "cell_type": "code",
   "execution_count": 5,
   "metadata": {},
   "outputs": [
    {
     "name": "stdout",
     "output_type": "stream",
     "text": [
      "enter the num120\n",
      "enter the num220\n",
      "num1 is equal to num2\n"
     ]
    }
   ],
   "source": [
    "#Above program using ternary operator\n",
    "\n",
    "\n",
    "num1=int(input(\"enter the num1\"))\n",
    "num2=int(input(\"enter the num2\"))\n",
    "\n",
    "\n",
    "\n",
    "print('num1 is greater than num2' if num1>num2 else 'num2 is greater' if num1<num2 else 'num1 is equal to num2')\n",
    "\n",
    "\n",
    "\n",
    "\n",
    "\n",
    "\n",
    "\n"
   ]
  },
  {
   "cell_type": "code",
   "execution_count": 15,
   "metadata": {
    "colab": {},
    "colab_type": "code",
    "id": "LR6TVB-DdOPf"
   },
   "outputs": [
    {
     "name": "stdout",
     "output_type": "stream",
     "text": [
      "enter the num1 10\n",
      "enter the num2 30\n",
      "enter the num3 20\n",
      "num2 is greater\n"
     ]
    }
   ],
   "source": [
    "#W A P which takes three numbers from the user and prints below output:-\n",
    "#     1. num1 is greater than num2 and num3 if num1 is greater than num2 and num3\n",
    "#     2. num2 is greater than num1 and num3 if num2 is greater than num1 and num3\n",
    "#     3. num3 is greater than num1 and num2 if num3 is greater than num1 and num2\n",
    "\n",
    "#Note:- 1. Do this problem using if - elif - else \n",
    "#       2. Do this using ternary operator\n",
    "\n",
    "# a = a if a>b else b\n",
    "# expr if cond1 else expr2 if cond2 else expr3\n",
    "\n",
    "\n",
    "num1=int(input(\"enter the num1 \"))\n",
    "num2=int(input(\"enter the num2 \"))\n",
    "num3=int(input(\"enter the num3 \"))\n",
    "\n",
    "\n",
    "print('num1 is greater than num2' if num1>num2 and num1>num3 else 'num2 is greater' if num2>num1 and num2 >num3 else 'num3 is greater')\n",
    "\n",
    "\n",
    "\n",
    "\n",
    "\n"
   ]
  },
  {
   "cell_type": "code",
   "execution_count": 19,
   "metadata": {},
   "outputs": [
    {
     "name": "stdout",
     "output_type": "stream",
     "text": [
      "enter the num1 80\n",
      "enter the num2 50\n",
      "enter the num3 60\n",
      "num1 is greater than num2\n"
     ]
    }
   ],
   "source": [
    "#above problem using if else\n",
    "\n",
    "num1=int(input(\"enter the num1 \"))\n",
    "num2=int(input(\"enter the num2 \"))\n",
    "num3=int(input(\"enter the num3 \"))\n",
    "\n",
    "if num1>num2 and num1>num3 :\n",
    "    print('num1 is greater than num2' )\n",
    "    \n",
    "elif  num2>num1 and num2 >num3:\n",
    "      print('num2 is greater' )\n",
    "        \n",
    "else:\n",
    "    print(\"num3 is greater\")\n",
    "    \n",
    "    \n",
    "   \n",
    "    \n",
    "    \n",
    "\n"
   ]
  },
  {
   "cell_type": "markdown",
   "metadata": {
    "colab_type": "text",
    "id": "IoOLQMUGdSox"
   },
   "source": [
    "# Loops - for loop, while loop"
   ]
  },
  {
   "cell_type": "code",
   "execution_count": 20,
   "metadata": {
    "colab": {},
    "colab_type": "code",
    "id": "9K23Uld8dQfA"
   },
   "outputs": [
    {
     "name": "stdout",
     "output_type": "stream",
     "text": [
      "55\n"
     ]
    }
   ],
   "source": [
    "#Write a Python program to find the length of the my_str using loop:-\n",
    "\n",
    "#Input:- 'Write a Python program to find the length of the my_str'\n",
    "#Output:- 55\n",
    "\n",
    "\n",
    "my_str='Write a Python program to find the length of the my_str'\n",
    "\n",
    "count=0 \n",
    "for i in my_str:\n",
    "    count+=1\n",
    "\n",
    "print(count)\n",
    "\n"
   ]
  },
  {
   "cell_type": "code",
   "execution_count": 23,
   "metadata": {
    "colab": {},
    "colab_type": "code",
    "id": "bp6AcqTsdYxy"
   },
   "outputs": [
    {
     "name": "stdout",
     "output_type": "stream",
     "text": [
      "9\n"
     ]
    }
   ],
   "source": [
    "#Write a Python program to find the total number of times letter 'p' is appeared in the below string using loop:-\n",
    "    \n",
    "#Input:- 'peter piper picked a peck of pickled peppers.\\n'\n",
    "#Output:- 9\n",
    "\n",
    "my_str= 'peter piper picked a peck of pickled peppers.\\n'\n",
    "count=0\n",
    "for i in my_str:\n",
    "    if i=='p':\n",
    "     count+=1\n",
    "\n",
    "print(count)"
   ]
  },
  {
   "cell_type": "code",
   "execution_count": 36,
   "metadata": {
    "colab": {},
    "colab_type": "code",
    "id": "xvxSBhTJdav1"
   },
   "outputs": [
    {
     "name": "stdout",
     "output_type": "stream",
     "text": [
      "0\n",
      "6\n",
      "8\n",
      "12\n",
      "21\n",
      "29\n",
      "37\n",
      "39\n",
      "40\n"
     ]
    }
   ],
   "source": [
    "#Write a Python Program, to print all the indexes of all occurences of letter 'p' appeared in the string using loop:-\n",
    "    \n",
    "#Input:- 'peter piper picked a peck of pickled peppers.'\n",
    "#Output:- \n",
    "# 0\n",
    "# 6\n",
    "# 8\n",
    "# 12\n",
    "# 21\n",
    "# 29\n",
    "# 37\n",
    "# 39\n",
    "# 40\n",
    "\n",
    "\n",
    "my_str= 'peter piper picked a peck of pickled peppers.'\n",
    "\n",
    "\n",
    "\n",
    "for i in range(len(my_str)):\n",
    "    \n",
    "    if my_str[i]=='p':\n",
    "        print(i)\n",
    "    "
   ]
  },
  {
   "cell_type": "code",
   "execution_count": 9,
   "metadata": {
    "colab": {},
    "colab_type": "code",
    "id": "79L_feMadbmw"
   },
   "outputs": [
    {
     "name": "stdout",
     "output_type": "stream",
     "text": [
      "[' peter', 'piper', 'picked', 'a', 'peck', 'of', 'pickled', 'peppers.']\n"
     ]
    }
   ],
   "source": [
    "#Write a python program to find below output using loop:-\n",
    "\n",
    "#Input:- 'peter piper picked a peck of pickled peppers.'\n",
    "#Output:- ['peter', 'piper', 'picked', 'a', 'peck', 'of', 'pickled', 'peppers.']\n",
    "\n",
    "\n",
    "my_str='peter piper picked a peck of pickled peppers.'\n",
    "new_list=[]\n",
    "s=' '\n",
    "for i in range(len(my_str)):\n",
    "    \n",
    "    \n",
    "    \n",
    "    if i==len(my_str)-1:\n",
    "        s=s+my_str[i]\n",
    "        new_list.append(s)\n",
    "    \n",
    "    elif my_str[i]!=' ':\n",
    "        s=s+my_str[i]\n",
    "        \n",
    "\n",
    "        \n",
    "    elif my_str[i]==' ':\n",
    "        new_list.append(s)\n",
    "        s=''\n",
    "    \n",
    "print(new_list)    \n",
    "\n",
    "\n"
   ]
  },
  {
   "cell_type": "code",
   "execution_count": 42,
   "metadata": {
    "colab": {},
    "colab_type": "code",
    "id": "vzs5AJ53deVS"
   },
   "outputs": [
    {
     "name": "stdout",
     "output_type": "stream",
     "text": [
      "['peter', 'piper', 'picked', 'a', 'peck', 'of', 'pickled', 'peppers.']\n",
      "['peppers.', 'pickled', 'of', 'peck', 'a', 'picked', 'piper', 'peter']\n"
     ]
    }
   ],
   "source": [
    "#Write a python program to find below output using loop:-\n",
    "\n",
    "#Input:- 'peter piper picked a peck of pickled peppers.'\n",
    "#Output:- 'peppers pickled of peck a picked piper peter'\n",
    "\n",
    "\n",
    "my_str='peter piper picked a peck of pickled peppers.'\n",
    "\n",
    "l=my_str.split()\n",
    "new_list=[]\n",
    "\n",
    "print(l)\n",
    "\n",
    "i=len(l)-1\n",
    "\n",
    "\n",
    "while i>=0:\n",
    "    \n",
    "       \n",
    "    new_list.append(l[i])\n",
    "    i=i-1\n",
    "\n",
    "print(new_list)\n",
    "\n",
    "\n"
   ]
  },
  {
   "cell_type": "code",
   "execution_count": 45,
   "metadata": {
    "colab": {},
    "colab_type": "code",
    "id": "i-HP7DrCdhwS"
   },
   "outputs": [
    {
     "name": "stdout",
     "output_type": "stream",
     "text": [
      " .sreppep delkcip fo kcep a dekcip repip retep\n"
     ]
    }
   ],
   "source": [
    "#Write a python program to find below output using loop:-\n",
    "\n",
    "#Input:- 'peter piper picked a peck of pickled peppers.'\n",
    "#Output:- '.sreppep delkcip fo kcep a dekcip repip retep'\n",
    "\n",
    "\n",
    "\n",
    "my_str='peter piper picked a peck of pickled peppers.'\n",
    "new_str=' '\n",
    "\n",
    "i=len(my_str)-1\n",
    "\n",
    "while i>=0:\n",
    "    new_str=new_str+my_str[i]\n",
    "    i-=1\n",
    "    \n",
    "print(new_str)\n",
    "\n"
   ]
  },
  {
   "cell_type": "code",
   "execution_count": 6,
   "metadata": {
    "colab": {},
    "colab_type": "code",
    "id": "3rt6p0ytdkq0"
   },
   "outputs": [
    {
     "name": "stdout",
     "output_type": "stream",
     "text": [
      " retep repip dekcip a kcep fo delkcip .sreppep \n"
     ]
    }
   ],
   "source": [
    "#Write a python program to find below output using loop:-\n",
    "\n",
    "#Input:- 'peter piper picked a peck of pickled peppers.'\n",
    "#Output:- 'retep repip dekcip a kcep fo delkcip sreppep'\n",
    "\n",
    "\n",
    "my_str='peter piper picked a peck of pickled peppers.'\n",
    "sub=' '\n",
    "new_str=' '\n",
    "\n",
    "for i in my_str:\n",
    "    \n",
    "    if i!=' ':\n",
    "        sub+=i\n",
    "        \n",
    "    \n",
    "    else:\n",
    "        new_str+=sub[::-1]\n",
    "        sub=' '\n",
    "\n",
    "new_str+=sub[::-1]\n",
    "\n",
    "print(new_str)\n",
    "\n",
    "\n",
    "\n"
   ]
  },
  {
   "cell_type": "code",
   "execution_count": 43,
   "metadata": {
    "colab": {},
    "colab_type": "code",
    "id": "HdlAWgT2dnKO"
   },
   "outputs": [
    {
     "name": "stdout",
     "output_type": "stream",
     "text": [
      " Peter Piper Picked A Peck Of Pickled Peppers. \n"
     ]
    }
   ],
   "source": [
    "#Write a python program to find below output using loop:-\n",
    "\n",
    "#Input:- 'peter piper picked a peck of pickled peppers.'\n",
    "#Output:- 'Peter Piper Picked A Peck Of Pickled Peppers'\n",
    "\n",
    "\n",
    "# my_str='peter piper picked a peck of pickled peppers.'\n",
    "\n",
    "# new_str=' '\n",
    "# for i in range(0,len(my_str)-1):\n",
    "    \n",
    "#     if i==0:\n",
    "#         new_str=my_str[i].upper()\n",
    "#         new_str+=my_str[i+1]\n",
    "        \n",
    "#     elif my_str[i]==' ':\n",
    "           \n",
    "#         new_str+= my_str[i+1].upper()\n",
    "#     else:\n",
    "#         new_str+=my_str[i+1]\n",
    "    \n",
    "        \n",
    "# print(new_str)        \n",
    "        \n",
    "    \n",
    "# or\n",
    "\n",
    "\n",
    "my_str='peter piper picked a peck of pickled peppers.'\n",
    "s=' '\n",
    "\n",
    "l=my_str.split()\n",
    "\n",
    "\n",
    "for i in range(0,len(l)):\n",
    "    \n",
    "    for j in range(len(l[i])):\n",
    "        \n",
    "        if j==0:\n",
    "            s=s+l[i][j].upper()\n",
    "        else:          \n",
    "            s=s+l[i][j]\n",
    "            \n",
    "    s=s+' '\n",
    "    \n",
    "    \n",
    "print(s)\n",
    "        \n",
    "\n",
    "\n",
    "\n",
    "\n",
    "\n"
   ]
  },
  {
   "cell_type": "code",
   "execution_count": 44,
   "metadata": {
    "colab": {},
    "colab_type": "code",
    "id": "OthUuacodrNl"
   },
   "outputs": [
    {
     "name": "stdout",
     "output_type": "stream",
     "text": [
      "peter piper picked a peck of pickled peppers.\n"
     ]
    }
   ],
   "source": [
    "#Write a python program to find below output using loop:-\n",
    "\n",
    "#Input:- 'Peter Piper Picked A Peck Of Pickled Peppers.'\n",
    "#Output:- 'Peter piper picked a peck of pickled peppers'\n",
    "\n",
    "\n",
    "my_str = 'Peter Piper Picked A Peck Of Pickled Peppers.'\n",
    "my_str1 = ''\n",
    "for i in range (0,len(my_str)-1):\n",
    "    if i ==0:\n",
    "        my_str1=my_str[0].lower()\n",
    "    if my_str[i] == ' ':\n",
    "        my_str1+=my_str[i+1].lower()\n",
    "    else:\n",
    "        my_str1+=my_str[i+1]\n",
    "print(my_str1)\n",
    "\n",
    "\n",
    "\n",
    "\n",
    "\n"
   ]
  },
  {
   "cell_type": "code",
   "execution_count": 65,
   "metadata": {
    "colab": {
     "base_uri": "https://localhost:8080/",
     "height": 34
    },
    "colab_type": "code",
    "id": "scmDJE-ldsI9",
    "outputId": "4b1d1979-9f4a-4bc6-c505-b88b1bbd4d5d"
   },
   "outputs": [
    {
     "name": "stdout",
     "output_type": "stream",
     "text": [
      "29\n"
     ]
    }
   ],
   "source": [
    "#Write a python program to implement index method using loop. If sub_str is found in my_str then it will print the index\n",
    "# of first occurrence of first character of matching string in my_str:-\n",
    "\n",
    "#Input:- my_str = 'Peter Piper Picked A Peck Of Pickled Peppers.', sub_str = 'Pickl'\n",
    "#Output:- 29\n",
    "\n",
    "my_str = 'Peter Piper Picked A Peck Of Pickled Peppers.'\n",
    "sub_str = 'Pickl'\n",
    "sub = 0\n",
    "ind=0\n",
    "if sub_str in my_str:\n",
    "    \n",
    "    for i in range(len(my_str),0,-1):\n",
    "        \n",
    "        sub=my_str[0:i]\n",
    "       \n",
    "        if sub_str in sub:\n",
    "            continue\n",
    "             \n",
    "        else:\n",
    "         \n",
    "            ind=len(sub)-len(sub_str)+1\n",
    "            break\n",
    "\n",
    "print(ind)\n",
    "\n",
    "\n",
    "\n",
    "\n"
   ]
  },
  {
   "cell_type": "code",
   "execution_count": 82,
   "metadata": {
    "colab": {},
    "colab_type": "code",
    "id": "Kq_fwdb_dvYE"
   },
   "outputs": [
    {
     "name": "stdout",
     "output_type": "stream",
     "text": [
      "['Peter', 'Piper', 'Picked', 'A', 'Peck', 'Of', 'Pickled', 'Peppers.']\n",
      "Peter Piper Picked A Pack Of Pickled Peppers.\n"
     ]
    }
   ],
   "source": [
    "#Write a python program to implement replace method using loop. If sub_str is found in my_str then it will replace the first \n",
    "#occurrence of sub_str with new_str else it will will print sub_str not found:-\n",
    "\n",
    "#Input:- my_str = 'Peter Piper Picked A Peck Of Pickled Peppers.', sub_str = 'Peck', new_str = 'Pack'\n",
    "#Output:- 'Peter Piper Picked A Pack Of Pickled Peppers.'\n",
    "\n",
    "\n",
    "my_str='Peter Piper Picked A Peck Of Pickled Peppers.'\n",
    "\n",
    "sub_str = 'Peck'\n",
    "new_str = 'Pack'\n",
    "\n",
    "lst=my_str.split()\n",
    "print(lst)\n",
    "\n",
    "if sub_str in lst:\n",
    "              \n",
    "        for i in range(len(lst)):\n",
    "            if lst[i]==sub_str:\n",
    "                lst[i]=new_str\n",
    "               \n",
    "else:\n",
    "    print('sub_str not found')\n",
    "s=' '.join(lst)\n",
    "print(s)\n"
   ]
  },
  {
   "cell_type": "code",
   "execution_count": 116,
   "metadata": {
    "colab": {},
    "colab_type": "code",
    "id": "4Qes5D0cdyd1"
   },
   "outputs": [
    {
     "name": "stdout",
     "output_type": "stream",
     "text": [
      "Peter Piper Picked A Peck Of Pickled Peppers.\n",
      "*********************Peck********************\n"
     ]
    }
   ],
   "source": [
    "#Write a python program to find below output (implements rjust and ljust) using loop:-\n",
    "\n",
    "#Input:- 'Peter Piper Picked A Peck Of Pickled Peppers.', sub_str = 'Peck', \n",
    "#Output:- '*********************Peck********************'\n",
    "\n",
    "my_str = 'Peter Piper Picked A Peck Of Pickled Peppers.'\n",
    "sub_str = 'Peck'\n",
    "newstr=' '\n",
    "if sub_str in my_str:\n",
    "    \n",
    "    for i in range(len(my_str),0,-1):\n",
    "        \n",
    "        sub=my_str[0:i]\n",
    "       \n",
    "        if sub_str in sub:\n",
    "            continue\n",
    "             \n",
    "        else:\n",
    "         \n",
    "            ind=len(sub)-len(sub_str)+1\n",
    "            break\n",
    "\n",
    "newstr='*'*ind+sub_str+'*'*(len(my_str)-ind-len(sub_str))\n",
    "\n",
    "print(my_str)\n",
    "print(newstr)\n",
    "\n"
   ]
  },
  {
   "cell_type": "code",
   "execution_count": 117,
   "metadata": {
    "colab": {},
    "colab_type": "code",
    "id": "DsOrb07Od0lR"
   },
   "outputs": [
    {
     "name": "stdout",
     "output_type": "stream",
     "text": [
      "['This', 'is', 'Python class']\n"
     ]
    }
   ],
   "source": [
    "#Write a python program to find below output using loop:-\n",
    "\n",
    "#Input:- 'This is Python class', sep = 'is', \n",
    "#Output:- ['This', 'is', 'Python class']\n",
    "\n",
    "my_str = 'This is Python class'\n",
    "sep = 'is'\n",
    "lst =[]\n",
    "for i in range (0,len(my_str)):\n",
    "    sub = my_str[i:len(my_str)]\n",
    "    if sep in sub:\n",
    "        continue\n",
    "    else:\n",
    "        ind = len(sub)-len(sep)-i-1\n",
    "        break \n",
    "lst.append(my_str[0:ind].strip())\n",
    "lst.append(sep)\n",
    "lst.append(my_str[ind+len(sep):len(my_str)].strip())\n",
    "print(lst)"
   ]
  },
  {
   "cell_type": "code",
   "execution_count": null,
   "metadata": {
    "colab": {},
    "colab_type": "code",
    "id": "jRnBVufmd2Ay"
   },
   "outputs": [],
   "source": [
    "#Write a python program which takes one input string from user and encode it in below format:-\n",
    "    # 1. #Input:- 'Python'\n",
    "       #Output:- 'R{vjqp'\n",
    "        \n",
    "        \n",
    "        \n",
    "        \n",
    "        \n",
    "\n",
    "    # 2. #Input:- 'Python'\n",
    "       #Output:- 'Rwvfql'\n",
    "        \n",
    "        \n",
    "        \n",
    "        \n",
    "        \n",
    "    # 3. #Input:- 'Python'\n",
    "       #Output:- 'R{vkfml'\n",
    "\n"
   ]
  }
 ],
 "metadata": {
  "colab": {
   "name": "Conditional_and_loop_assignment.ipynb",
   "provenance": []
  },
  "kernelspec": {
   "display_name": "Python 3",
   "language": "python",
   "name": "python3"
  },
  "language_info": {
   "codemirror_mode": {
    "name": "ipython",
    "version": 3
   },
   "file_extension": ".py",
   "mimetype": "text/x-python",
   "name": "python",
   "nbconvert_exporter": "python",
   "pygments_lexer": "ipython3",
   "version": "3.7.6"
  }
 },
 "nbformat": 4,
 "nbformat_minor": 1
}
